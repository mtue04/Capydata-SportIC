{
 "cells": [
  {
   "cell_type": "code",
   "execution_count": 1,
   "metadata": {
    "_cell_guid": "b1076dfc-b9ad-4769-8c92-a6c4dae69d19",
    "_uuid": "8f2839f25d086af736a60e9eeb907d3b93b6e0e5",
    "execution": {
     "iopub.execute_input": "2025-04-29T13:47:52.875174Z",
     "iopub.status.busy": "2025-04-29T13:47:52.874854Z",
     "iopub.status.idle": "2025-04-29T13:47:57.467766Z",
     "shell.execute_reply": "2025-04-29T13:47:57.466863Z",
     "shell.execute_reply.started": "2025-04-29T13:47:52.875147Z"
    },
    "trusted": true
   },
   "outputs": [],
   "source": [
    "# This Python 3 environment comes with many helpful analytics libraries installed\n",
    "# It is defined by the kaggle/python Docker image: https://github.com/kaggle/docker-python\n",
    "# For example, here's several helpful packages to load\n",
    "\n",
    "import numpy as np # linear algebra\n",
    "import pandas as pd # data processing, CSV file I/O (e.g. pd.read_csv)\n",
    "\n",
    "# Input data files are available in the read-only \"../input/\" directory\n",
    "# For example, running this (by clicking run or pressing Shift+Enter) will list all files under the input directory\n",
    "\n",
    "import os\n",
    "for dirname, _, filenames in os.walk('/kaggle/input'):\n",
    "    for filename in filenames:\n",
    "        os.path.join(dirname, filename)\n",
    "\n",
    "# You can write up to 20GB to the current directory (/kaggle/working/) that gets preserved as output when you create a version using \"Save & Run All\" \n",
    "# You can also write temporary files to /kaggle/temp/, but they won't be saved outside of the current session"
   ]
  },
  {
   "cell_type": "markdown",
   "metadata": {},
   "source": [
    "## Import libraries and data"
   ]
  },
  {
   "cell_type": "code",
   "execution_count": 2,
   "metadata": {
    "execution": {
     "iopub.execute_input": "2025-04-29T13:47:57.468974Z",
     "iopub.status.busy": "2025-04-29T13:47:57.468513Z",
     "iopub.status.idle": "2025-04-29T13:49:27.374689Z",
     "shell.execute_reply": "2025-04-29T13:49:27.372869Z",
     "shell.execute_reply.started": "2025-04-29T13:47:57.468946Z"
    },
    "trusted": true
   },
   "outputs": [
    {
     "name": "stdout",
     "output_type": "stream",
     "text": [
      "Collecting bert-score\n",
      "  Downloading bert_score-0.3.13-py3-none-any.whl.metadata (15 kB)\n",
      "Requirement already satisfied: torch>=1.0.0 in /usr/local/lib/python3.11/dist-packages (from bert-score) (2.5.1+cu124)\n",
      "Requirement already satisfied: pandas>=1.0.1 in /usr/local/lib/python3.11/dist-packages (from bert-score) (2.2.3)\n",
      "Requirement already satisfied: transformers>=3.0.0 in /usr/local/lib/python3.11/dist-packages (from bert-score) (4.51.1)\n",
      "Requirement already satisfied: numpy in /usr/local/lib/python3.11/dist-packages (from bert-score) (1.26.4)\n",
      "Requirement already satisfied: requests in /usr/local/lib/python3.11/dist-packages (from bert-score) (2.32.3)\n",
      "Requirement already satisfied: tqdm>=4.31.1 in /usr/local/lib/python3.11/dist-packages (from bert-score) (4.67.1)\n",
      "Requirement already satisfied: matplotlib in /usr/local/lib/python3.11/dist-packages (from bert-score) (3.7.5)\n",
      "Requirement already satisfied: packaging>=20.9 in /usr/local/lib/python3.11/dist-packages (from bert-score) (24.2)\n",
      "Requirement already satisfied: python-dateutil>=2.8.2 in /usr/local/lib/python3.11/dist-packages (from pandas>=1.0.1->bert-score) (2.9.0.post0)\n",
      "Requirement already satisfied: pytz>=2020.1 in /usr/local/lib/python3.11/dist-packages (from pandas>=1.0.1->bert-score) (2025.2)\n",
      "Requirement already satisfied: tzdata>=2022.7 in /usr/local/lib/python3.11/dist-packages (from pandas>=1.0.1->bert-score) (2025.2)\n",
      "Requirement already satisfied: mkl_fft in /usr/local/lib/python3.11/dist-packages (from numpy->bert-score) (1.3.8)\n",
      "Requirement already satisfied: mkl_random in /usr/local/lib/python3.11/dist-packages (from numpy->bert-score) (1.2.4)\n",
      "Requirement already satisfied: mkl_umath in /usr/local/lib/python3.11/dist-packages (from numpy->bert-score) (0.1.1)\n",
      "Requirement already satisfied: mkl in /usr/local/lib/python3.11/dist-packages (from numpy->bert-score) (2025.1.0)\n",
      "Requirement already satisfied: tbb4py in /usr/local/lib/python3.11/dist-packages (from numpy->bert-score) (2022.1.0)\n",
      "Requirement already satisfied: mkl-service in /usr/local/lib/python3.11/dist-packages (from numpy->bert-score) (2.4.1)\n",
      "Requirement already satisfied: filelock in /usr/local/lib/python3.11/dist-packages (from torch>=1.0.0->bert-score) (3.18.0)\n",
      "Requirement already satisfied: typing-extensions>=4.8.0 in /usr/local/lib/python3.11/dist-packages (from torch>=1.0.0->bert-score) (4.13.1)\n",
      "Requirement already satisfied: networkx in /usr/local/lib/python3.11/dist-packages (from torch>=1.0.0->bert-score) (3.4.2)\n",
      "Requirement already satisfied: jinja2 in /usr/local/lib/python3.11/dist-packages (from torch>=1.0.0->bert-score) (3.1.6)\n",
      "Requirement already satisfied: fsspec in /usr/local/lib/python3.11/dist-packages (from torch>=1.0.0->bert-score) (2025.3.2)\n",
      "Requirement already satisfied: nvidia-cuda-nvrtc-cu12==12.4.127 in /usr/local/lib/python3.11/dist-packages (from torch>=1.0.0->bert-score) (12.4.127)\n",
      "Requirement already satisfied: nvidia-cuda-runtime-cu12==12.4.127 in /usr/local/lib/python3.11/dist-packages (from torch>=1.0.0->bert-score) (12.4.127)\n",
      "Requirement already satisfied: nvidia-cuda-cupti-cu12==12.4.127 in /usr/local/lib/python3.11/dist-packages (from torch>=1.0.0->bert-score) (12.4.127)\n",
      "Collecting nvidia-cudnn-cu12==9.1.0.70 (from torch>=1.0.0->bert-score)\n",
      "  Downloading nvidia_cudnn_cu12-9.1.0.70-py3-none-manylinux2014_x86_64.whl.metadata (1.6 kB)\n",
      "Collecting nvidia-cublas-cu12==12.4.5.8 (from torch>=1.0.0->bert-score)\n",
      "  Downloading nvidia_cublas_cu12-12.4.5.8-py3-none-manylinux2014_x86_64.whl.metadata (1.5 kB)\n",
      "Collecting nvidia-cufft-cu12==11.2.1.3 (from torch>=1.0.0->bert-score)\n",
      "  Downloading nvidia_cufft_cu12-11.2.1.3-py3-none-manylinux2014_x86_64.whl.metadata (1.5 kB)\n",
      "Collecting nvidia-curand-cu12==10.3.5.147 (from torch>=1.0.0->bert-score)\n",
      "  Downloading nvidia_curand_cu12-10.3.5.147-py3-none-manylinux2014_x86_64.whl.metadata (1.5 kB)\n",
      "Collecting nvidia-cusolver-cu12==11.6.1.9 (from torch>=1.0.0->bert-score)\n",
      "  Downloading nvidia_cusolver_cu12-11.6.1.9-py3-none-manylinux2014_x86_64.whl.metadata (1.6 kB)\n",
      "Collecting nvidia-cusparse-cu12==12.3.1.170 (from torch>=1.0.0->bert-score)\n",
      "  Downloading nvidia_cusparse_cu12-12.3.1.170-py3-none-manylinux2014_x86_64.whl.metadata (1.6 kB)\n",
      "Requirement already satisfied: nvidia-nccl-cu12==2.21.5 in /usr/local/lib/python3.11/dist-packages (from torch>=1.0.0->bert-score) (2.21.5)\n",
      "Requirement already satisfied: nvidia-nvtx-cu12==12.4.127 in /usr/local/lib/python3.11/dist-packages (from torch>=1.0.0->bert-score) (12.4.127)\n",
      "Collecting nvidia-nvjitlink-cu12==12.4.127 (from torch>=1.0.0->bert-score)\n",
      "  Downloading nvidia_nvjitlink_cu12-12.4.127-py3-none-manylinux2014_x86_64.whl.metadata (1.5 kB)\n",
      "Requirement already satisfied: triton==3.1.0 in /usr/local/lib/python3.11/dist-packages (from torch>=1.0.0->bert-score) (3.1.0)\n",
      "Requirement already satisfied: sympy==1.13.1 in /usr/local/lib/python3.11/dist-packages (from torch>=1.0.0->bert-score) (1.13.1)\n",
      "Requirement already satisfied: mpmath<1.4,>=1.1.0 in /usr/local/lib/python3.11/dist-packages (from sympy==1.13.1->torch>=1.0.0->bert-score) (1.3.0)\n",
      "Requirement already satisfied: huggingface-hub<1.0,>=0.30.0 in /usr/local/lib/python3.11/dist-packages (from transformers>=3.0.0->bert-score) (0.30.2)\n",
      "Requirement already satisfied: pyyaml>=5.1 in /usr/local/lib/python3.11/dist-packages (from transformers>=3.0.0->bert-score) (6.0.2)\n",
      "Requirement already satisfied: regex!=2019.12.17 in /usr/local/lib/python3.11/dist-packages (from transformers>=3.0.0->bert-score) (2024.11.6)\n",
      "Requirement already satisfied: tokenizers<0.22,>=0.21 in /usr/local/lib/python3.11/dist-packages (from transformers>=3.0.0->bert-score) (0.21.0)\n",
      "Requirement already satisfied: safetensors>=0.4.3 in /usr/local/lib/python3.11/dist-packages (from transformers>=3.0.0->bert-score) (0.5.2)\n",
      "Requirement already satisfied: contourpy>=1.0.1 in /usr/local/lib/python3.11/dist-packages (from matplotlib->bert-score) (1.3.1)\n",
      "Requirement already satisfied: cycler>=0.10 in /usr/local/lib/python3.11/dist-packages (from matplotlib->bert-score) (0.12.1)\n",
      "Requirement already satisfied: fonttools>=4.22.0 in /usr/local/lib/python3.11/dist-packages (from matplotlib->bert-score) (4.56.0)\n",
      "Requirement already satisfied: kiwisolver>=1.0.1 in /usr/local/lib/python3.11/dist-packages (from matplotlib->bert-score) (1.4.8)\n",
      "Requirement already satisfied: pillow>=6.2.0 in /usr/local/lib/python3.11/dist-packages (from matplotlib->bert-score) (11.1.0)\n",
      "Requirement already satisfied: pyparsing>=2.3.1 in /usr/local/lib/python3.11/dist-packages (from matplotlib->bert-score) (3.2.1)\n",
      "Requirement already satisfied: charset-normalizer<4,>=2 in /usr/local/lib/python3.11/dist-packages (from requests->bert-score) (3.4.1)\n",
      "Requirement already satisfied: idna<4,>=2.5 in /usr/local/lib/python3.11/dist-packages (from requests->bert-score) (3.10)\n",
      "Requirement already satisfied: urllib3<3,>=1.21.1 in /usr/local/lib/python3.11/dist-packages (from requests->bert-score) (2.3.0)\n",
      "Requirement already satisfied: certifi>=2017.4.17 in /usr/local/lib/python3.11/dist-packages (from requests->bert-score) (2025.1.31)\n",
      "Requirement already satisfied: six>=1.5 in /usr/local/lib/python3.11/dist-packages (from python-dateutil>=2.8.2->pandas>=1.0.1->bert-score) (1.17.0)\n",
      "Requirement already satisfied: MarkupSafe>=2.0 in /usr/local/lib/python3.11/dist-packages (from jinja2->torch>=1.0.0->bert-score) (3.0.2)\n",
      "Requirement already satisfied: intel-openmp<2026,>=2024 in /usr/local/lib/python3.11/dist-packages (from mkl->numpy->bert-score) (2024.2.0)\n",
      "Requirement already satisfied: tbb==2022.* in /usr/local/lib/python3.11/dist-packages (from mkl->numpy->bert-score) (2022.1.0)\n",
      "Requirement already satisfied: tcmlib==1.* in /usr/local/lib/python3.11/dist-packages (from tbb==2022.*->mkl->numpy->bert-score) (1.2.0)\n",
      "Requirement already satisfied: intel-cmplr-lib-rt in /usr/local/lib/python3.11/dist-packages (from mkl_umath->numpy->bert-score) (2024.2.0)\n",
      "Requirement already satisfied: intel-cmplr-lib-ur==2024.2.0 in /usr/local/lib/python3.11/dist-packages (from intel-openmp<2026,>=2024->mkl->numpy->bert-score) (2024.2.0)\n",
      "Downloading bert_score-0.3.13-py3-none-any.whl (61 kB)\n",
      "\u001b[2K   \u001b[90m━━━━━━━━━━━━━━━━━━━━━━━━━━━━━━━━━━━━━━━━\u001b[0m \u001b[32m61.1/61.1 kB\u001b[0m \u001b[31m1.7 MB/s\u001b[0m eta \u001b[36m0:00:00\u001b[0m\n",
      "\u001b[?25hDownloading nvidia_cublas_cu12-12.4.5.8-py3-none-manylinux2014_x86_64.whl (363.4 MB)\n",
      "\u001b[2K   \u001b[90m━━━━━━━━━━━━━━━━━━━━━━━━━━━━━━━━━━━━━━━━\u001b[0m \u001b[32m363.4/363.4 MB\u001b[0m \u001b[31m4.1 MB/s\u001b[0m eta \u001b[36m0:00:00\u001b[0m0:00:01\u001b[0m00:01\u001b[0m\n",
      "\u001b[?25hDownloading nvidia_cudnn_cu12-9.1.0.70-py3-none-manylinux2014_x86_64.whl (664.8 MB)\n",
      "\u001b[2K   \u001b[90m━━━━━━━━━━━━━━━━━━━━━━━━━━━━━━━━━━━━━━━━\u001b[0m \u001b[32m664.8/664.8 MB\u001b[0m \u001b[31m2.3 MB/s\u001b[0m eta \u001b[36m0:00:00\u001b[0m0:00:01\u001b[0m00:01\u001b[0m\n",
      "\u001b[?25hDownloading nvidia_cufft_cu12-11.2.1.3-py3-none-manylinux2014_x86_64.whl (211.5 MB)\n",
      "\u001b[2K   \u001b[90m━━━━━━━━━━━━━━━━━━━━━━━━━━━━━━━━━━━━━━━━\u001b[0m \u001b[32m211.5/211.5 MB\u001b[0m \u001b[31m7.2 MB/s\u001b[0m eta \u001b[36m0:00:00\u001b[0m0:00:01\u001b[0m00:01\u001b[0m\n",
      "\u001b[?25hDownloading nvidia_curand_cu12-10.3.5.147-py3-none-manylinux2014_x86_64.whl (56.3 MB)\n",
      "\u001b[2K   \u001b[90m━━━━━━━━━━━━━━━━━━━━━━━━━━━━━━━━━━━━━━━━\u001b[0m \u001b[32m56.3/56.3 MB\u001b[0m \u001b[31m18.2 MB/s\u001b[0m eta \u001b[36m0:00:00\u001b[0m:00:01\u001b[0m00:01\u001b[0m\n",
      "\u001b[?25hDownloading nvidia_cusolver_cu12-11.6.1.9-py3-none-manylinux2014_x86_64.whl (127.9 MB)\n",
      "\u001b[2K   \u001b[90m━━━━━━━━━━━━━━━━━━━━━━━━━━━━━━━━━━━━━━━━\u001b[0m \u001b[32m127.9/127.9 MB\u001b[0m \u001b[31m12.3 MB/s\u001b[0m eta \u001b[36m0:00:00\u001b[0m:00:01\u001b[0m00:01\u001b[0m\n",
      "\u001b[?25hDownloading nvidia_cusparse_cu12-12.3.1.170-py3-none-manylinux2014_x86_64.whl (207.5 MB)\n",
      "\u001b[2K   \u001b[90m━━━━━━━━━━━━━━━━━━━━━━━━━━━━━━━━━━━━━━━━\u001b[0m \u001b[32m207.5/207.5 MB\u001b[0m \u001b[31m7.6 MB/s\u001b[0m eta \u001b[36m0:00:00\u001b[0m0:00:01\u001b[0m00:01\u001b[0m\n",
      "\u001b[?25hDownloading nvidia_nvjitlink_cu12-12.4.127-py3-none-manylinux2014_x86_64.whl (21.1 MB)\n",
      "\u001b[2K   \u001b[90m━━━━━━━━━━━━━━━━━━━━━━━━━━━━━━━━━━━━━━━━\u001b[0m \u001b[32m21.1/21.1 MB\u001b[0m \u001b[31m8.1 MB/s\u001b[0m eta \u001b[36m0:00:00\u001b[0m0:00:01\u001b[0m00:01\u001b[0m\n",
      "\u001b[?25hInstalling collected packages: nvidia-nvjitlink-cu12, nvidia-curand-cu12, nvidia-cufft-cu12, nvidia-cublas-cu12, nvidia-cusparse-cu12, nvidia-cudnn-cu12, nvidia-cusolver-cu12, bert-score\n",
      "  Attempting uninstall: nvidia-nvjitlink-cu12\n",
      "    Found existing installation: nvidia-nvjitlink-cu12 12.8.93\n",
      "    Uninstalling nvidia-nvjitlink-cu12-12.8.93:\n",
      "      Successfully uninstalled nvidia-nvjitlink-cu12-12.8.93\n",
      "  Attempting uninstall: nvidia-curand-cu12\n",
      "    Found existing installation: nvidia-curand-cu12 10.3.9.90\n",
      "    Uninstalling nvidia-curand-cu12-10.3.9.90:\n",
      "      Successfully uninstalled nvidia-curand-cu12-10.3.9.90\n",
      "  Attempting uninstall: nvidia-cufft-cu12\n",
      "    Found existing installation: nvidia-cufft-cu12 11.3.3.83\n",
      "    Uninstalling nvidia-cufft-cu12-11.3.3.83:\n",
      "      Successfully uninstalled nvidia-cufft-cu12-11.3.3.83\n",
      "  Attempting uninstall: nvidia-cublas-cu12\n",
      "    Found existing installation: nvidia-cublas-cu12 12.8.4.1\n",
      "    Uninstalling nvidia-cublas-cu12-12.8.4.1:\n",
      "      Successfully uninstalled nvidia-cublas-cu12-12.8.4.1\n",
      "  Attempting uninstall: nvidia-cusparse-cu12\n",
      "    Found existing installation: nvidia-cusparse-cu12 12.5.8.93\n",
      "    Uninstalling nvidia-cusparse-cu12-12.5.8.93:\n",
      "      Successfully uninstalled nvidia-cusparse-cu12-12.5.8.93\n",
      "  Attempting uninstall: nvidia-cudnn-cu12\n",
      "    Found existing installation: nvidia-cudnn-cu12 9.3.0.75\n",
      "    Uninstalling nvidia-cudnn-cu12-9.3.0.75:\n",
      "      Successfully uninstalled nvidia-cudnn-cu12-9.3.0.75\n",
      "  Attempting uninstall: nvidia-cusolver-cu12\n",
      "    Found existing installation: nvidia-cusolver-cu12 11.7.3.90\n",
      "    Uninstalling nvidia-cusolver-cu12-11.7.3.90:\n",
      "      Successfully uninstalled nvidia-cusolver-cu12-11.7.3.90\n",
      "\u001b[31mERROR: pip's dependency resolver does not currently take into account all the packages that are installed. This behaviour is the source of the following dependency conflicts.\n",
      "pylibcugraph-cu12 24.12.0 requires pylibraft-cu12==24.12.*, but you have pylibraft-cu12 25.2.0 which is incompatible.\n",
      "pylibcugraph-cu12 24.12.0 requires rmm-cu12==24.12.*, but you have rmm-cu12 25.2.0 which is incompatible.\u001b[0m\u001b[31m\n",
      "\u001b[0mSuccessfully installed bert-score-0.3.13 nvidia-cublas-cu12-12.4.5.8 nvidia-cudnn-cu12-9.1.0.70 nvidia-cufft-cu12-11.2.1.3 nvidia-curand-cu12-10.3.5.147 nvidia-cusolver-cu12-11.6.1.9 nvidia-cusparse-cu12-12.3.1.170 nvidia-nvjitlink-cu12-12.4.127\n"
     ]
    }
   ],
   "source": [
    "!pip install bert-score"
   ]
  },
  {
   "cell_type": "code",
   "execution_count": 3,
   "metadata": {
    "execution": {
     "iopub.execute_input": "2025-04-29T13:49:27.378634Z",
     "iopub.status.busy": "2025-04-29T13:49:27.378267Z",
     "iopub.status.idle": "2025-04-29T13:49:38.037767Z",
     "shell.execute_reply": "2025-04-29T13:49:38.036637Z",
     "shell.execute_reply.started": "2025-04-29T13:49:27.378605Z"
    },
    "trusted": true
   },
   "outputs": [
    {
     "name": "stdout",
     "output_type": "stream",
     "text": [
      "Collecting rouge_score\n",
      "  Downloading rouge_score-0.1.2.tar.gz (17 kB)\n",
      "  Preparing metadata (setup.py) ... \u001b[?25l\u001b[?25hdone\n",
      "Requirement already satisfied: absl-py in /usr/local/lib/python3.11/dist-packages (from rouge_score) (1.4.0)\n",
      "Requirement already satisfied: nltk in /usr/local/lib/python3.11/dist-packages (from rouge_score) (3.9.1)\n",
      "Requirement already satisfied: numpy in /usr/local/lib/python3.11/dist-packages (from rouge_score) (1.26.4)\n",
      "Requirement already satisfied: six>=1.14.0 in /usr/local/lib/python3.11/dist-packages (from rouge_score) (1.17.0)\n",
      "Requirement already satisfied: click in /usr/local/lib/python3.11/dist-packages (from nltk->rouge_score) (8.1.8)\n",
      "Requirement already satisfied: joblib in /usr/local/lib/python3.11/dist-packages (from nltk->rouge_score) (1.4.2)\n",
      "Requirement already satisfied: regex>=2021.8.3 in /usr/local/lib/python3.11/dist-packages (from nltk->rouge_score) (2024.11.6)\n",
      "Requirement already satisfied: tqdm in /usr/local/lib/python3.11/dist-packages (from nltk->rouge_score) (4.67.1)\n",
      "Requirement already satisfied: mkl_fft in /usr/local/lib/python3.11/dist-packages (from numpy->rouge_score) (1.3.8)\n",
      "Requirement already satisfied: mkl_random in /usr/local/lib/python3.11/dist-packages (from numpy->rouge_score) (1.2.4)\n",
      "Requirement already satisfied: mkl_umath in /usr/local/lib/python3.11/dist-packages (from numpy->rouge_score) (0.1.1)\n",
      "Requirement already satisfied: mkl in /usr/local/lib/python3.11/dist-packages (from numpy->rouge_score) (2025.1.0)\n",
      "Requirement already satisfied: tbb4py in /usr/local/lib/python3.11/dist-packages (from numpy->rouge_score) (2022.1.0)\n",
      "Requirement already satisfied: mkl-service in /usr/local/lib/python3.11/dist-packages (from numpy->rouge_score) (2.4.1)\n",
      "Requirement already satisfied: intel-openmp<2026,>=2024 in /usr/local/lib/python3.11/dist-packages (from mkl->numpy->rouge_score) (2024.2.0)\n",
      "Requirement already satisfied: tbb==2022.* in /usr/local/lib/python3.11/dist-packages (from mkl->numpy->rouge_score) (2022.1.0)\n",
      "Requirement already satisfied: tcmlib==1.* in /usr/local/lib/python3.11/dist-packages (from tbb==2022.*->mkl->numpy->rouge_score) (1.2.0)\n",
      "Requirement already satisfied: intel-cmplr-lib-rt in /usr/local/lib/python3.11/dist-packages (from mkl_umath->numpy->rouge_score) (2024.2.0)\n",
      "Requirement already satisfied: intel-cmplr-lib-ur==2024.2.0 in /usr/local/lib/python3.11/dist-packages (from intel-openmp<2026,>=2024->mkl->numpy->rouge_score) (2024.2.0)\n",
      "Building wheels for collected packages: rouge_score\n",
      "  Building wheel for rouge_score (setup.py) ... \u001b[?25l\u001b[?25hdone\n",
      "  Created wheel for rouge_score: filename=rouge_score-0.1.2-py3-none-any.whl size=24935 sha256=c21f024f7c65a1dbd91e66d2ec985cdb1c9ebfa81487bbee1dbe617f94b80ab9\n",
      "  Stored in directory: /root/.cache/pip/wheels/1e/19/43/8a442dc83660ca25e163e1bd1f89919284ab0d0c1475475148\n",
      "Successfully built rouge_score\n",
      "Installing collected packages: rouge_score\n",
      "Successfully installed rouge_score-0.1.2\n"
     ]
    }
   ],
   "source": [
    "!pip install rouge_score"
   ]
  },
  {
   "cell_type": "code",
   "execution_count": 4,
   "metadata": {
    "execution": {
     "iopub.execute_input": "2025-04-29T13:49:38.039984Z",
     "iopub.status.busy": "2025-04-29T13:49:38.039658Z",
     "iopub.status.idle": "2025-04-29T13:50:20.129198Z",
     "shell.execute_reply": "2025-04-29T13:50:20.128177Z",
     "shell.execute_reply.started": "2025-04-29T13:49:38.039950Z"
    },
    "trusted": true
   },
   "outputs": [
    {
     "name": "stderr",
     "output_type": "stream",
     "text": [
      "2025-04-29 13:49:55.341059: E external/local_xla/xla/stream_executor/cuda/cuda_fft.cc:477] Unable to register cuFFT factory: Attempting to register factory for plugin cuFFT when one has already been registered\n",
      "WARNING: All log messages before absl::InitializeLog() is called are written to STDERR\n",
      "E0000 00:00:1745934595.605587      31 cuda_dnn.cc:8310] Unable to register cuDNN factory: Attempting to register factory for plugin cuDNN when one has already been registered\n",
      "E0000 00:00:1745934595.680128      31 cuda_blas.cc:1418] Unable to register cuBLAS factory: Attempting to register factory for plugin cuBLAS when one has already been registered\n"
     ]
    }
   ],
   "source": [
    "# Import libraries\n",
    "import os\n",
    "import torch\n",
    "import torch.nn as nn\n",
    "import torchvision.transforms as transforms\n",
    "import torchvision.models as models\n",
    "from torch.utils.data import Dataset, DataLoader\n",
    "from PIL import Image\n",
    "import json\n",
    "from torch.nn.utils.rnn import pad_sequence\n",
    "import matplotlib.pyplot as plt\n",
    "import numpy as np\n",
    "from tqdm import tqdm\n",
    "from sentence_transformers import SentenceTransformer\n",
    "from nltk.translate.bleu_score import sentence_bleu, SmoothingFunction\n",
    "from rouge_score import rouge_scorer\n",
    "from bert_score import score as bert_score\n",
    "from transformers import AutoModel, AutoTokenizer"
   ]
  },
  {
   "cell_type": "code",
   "execution_count": 6,
   "metadata": {
    "execution": {
     "iopub.execute_input": "2025-04-29T13:52:27.316019Z",
     "iopub.status.busy": "2025-04-29T13:52:27.315583Z",
     "iopub.status.idle": "2025-04-29T13:52:29.156631Z",
     "shell.execute_reply": "2025-04-29T13:52:29.155650Z",
     "shell.execute_reply.started": "2025-04-29T13:52:27.315992Z"
    },
    "trusted": true
   },
   "outputs": [],
   "source": [
    "# Load AITeamVN/Vietnamese_Embedding\n",
    "embed_model = SentenceTransformer(\"AITeamVN/Vietnamese_Embedding\")\n",
    "\n",
    "# load annotation\n",
    "vocab_dir = \"/kaggle/input/capydata-ic/data/vocab\"\n",
    "with open(os.path.join(vocab_dir, \"vocab.json\"), \"r\", encoding=\"utf-8\") as f:\n",
    "    vocab = json.load(f)\n",
    "    vocab = {k: int(v) for k, v in vocab.items()}\n",
    "with open(os.path.join(vocab_dir, \"idx_to_word.json\"), \"r\", encoding=\"utf-8\") as f:\n",
    "    idx_to_word = json.load(f)\n",
    "    idx_to_word = {int(k): v for k, v in idx_to_word.items()}\n",
    "    inv_vocab = idx_to_word"
   ]
  },
  {
   "cell_type": "markdown",
   "metadata": {},
   "source": [
    "## Define functions/classes"
   ]
  },
  {
   "cell_type": "code",
   "execution_count": 7,
   "metadata": {
    "execution": {
     "iopub.execute_input": "2025-04-29T13:52:36.286108Z",
     "iopub.status.busy": "2025-04-29T13:52:36.285439Z",
     "iopub.status.idle": "2025-04-29T13:52:36.295959Z",
     "shell.execute_reply": "2025-04-29T13:52:36.295096Z",
     "shell.execute_reply.started": "2025-04-29T13:52:36.286056Z"
    },
    "trusted": true
   },
   "outputs": [],
   "source": [
    "# Define functions/classes\n",
    "class ImageCaptionDataset(Dataset):\n",
    "    def __init__(self, image_dir, captions_file, vocab, transform=None):\n",
    "        self.image_dir = image_dir\n",
    "        self.vocab = vocab\n",
    "        self.transform = transform\n",
    "        self.data = []\n",
    "        with open(captions_file, 'r', encoding='utf-8') as f:\n",
    "            for line in f:\n",
    "                img_name, caption = line.strip().split('\\t')\n",
    "                tokens = caption.strip().split()\n",
    "                self.data.append((img_name, tokens))\n",
    "\n",
    "    def __len__(self):\n",
    "        return len(self.data)\n",
    "\n",
    "    def __getitem__(self, idx):\n",
    "        img_name, tokens = self.data[idx]\n",
    "        image_path = os.path.join(self.image_dir, img_name)\n",
    "        image = Image.open(image_path).convert(\"RGB\")\n",
    "        if self.transform:\n",
    "            image = self.transform(image)\n",
    "        caption = [self.vocab['<s>']] + [self.vocab.get(token, self.vocab['<unk>']) for token in tokens] + [self.vocab['</s>']]\n",
    "        return image, torch.tensor(caption), img_name, tokens\n",
    "\n",
    "def collate_fn(batch):\n",
    "    images, captions, img_names, raw_tokens = zip(*batch)\n",
    "    images = torch.stack(images)\n",
    "    captions = pad_sequence(captions, batch_first=True, padding_value=vocab['<pad>'])\n",
    "    return images, captions, img_names, raw_tokens"
   ]
  },
  {
   "cell_type": "code",
   "execution_count": 8,
   "metadata": {
    "execution": {
     "iopub.execute_input": "2025-04-29T13:52:38.596486Z",
     "iopub.status.busy": "2025-04-29T13:52:38.596164Z",
     "iopub.status.idle": "2025-04-29T13:52:38.628812Z",
     "shell.execute_reply": "2025-04-29T13:52:38.627765Z",
     "shell.execute_reply.started": "2025-04-29T13:52:38.596455Z"
    },
    "trusted": true
   },
   "outputs": [],
   "source": [
    "# Encoder CNN\n",
    "class EncoderCNN(nn.Module):\n",
    "    def __init__(self, encoded_size=256):\n",
    "        super().__init__()\n",
    "        resnet = models.resnet50(weights=models.ResNet50_Weights.IMAGENET1K_V1)\n",
    "        # Unfreeze last 2 layers for fine-tuning\n",
    "        for param in resnet.parameters():\n",
    "            param.requires_grad = False\n",
    "            \n",
    "        modules = list(resnet.children())\n",
    "        # Unfreeze parameters in the last two layers\n",
    "        for layer in modules[-2:]:\n",
    "            for param in layer.parameters():\n",
    "                param.requires_grad = True\n",
    "                \n",
    "        # Remove the last FC layer\n",
    "        self.resnet = nn.Sequential(*modules[:-2])\n",
    "        self.fc = nn.Linear(2048, encoded_size)\n",
    "        self.bn = nn.BatchNorm1d(encoded_size)\n",
    "        self.adaptive_pool = nn.AdaptiveAvgPool2d((1, 1))\n",
    "\n",
    "    def forward(self, images):\n",
    "        features = self.resnet(images)\n",
    "        features = self.adaptive_pool(features)\n",
    "        features = features.view(features.size(0), -1)\n",
    "        features = self.fc(features)\n",
    "        features = self.bn(features)\n",
    "        return features\n",
    "\n",
    "# Attention mechanism\n",
    "class Attention(nn.Module):\n",
    "    def __init__(self, encoder_dim, decoder_dim, attention_dim):\n",
    "        super().__init__()\n",
    "        self.encoder_att = nn.Linear(encoder_dim, attention_dim)\n",
    "        self.decoder_att = nn.Linear(decoder_dim, attention_dim)\n",
    "        self.full_att = nn.Linear(attention_dim, 1)\n",
    "\n",
    "    def forward(self, encoder_out, decoder_hidden):\n",
    "        att1 = self.encoder_att(encoder_out)\n",
    "        att2 = self.decoder_att(decoder_hidden).unsqueeze(1)\n",
    "        att = self.full_att(torch.tanh(att1 + att2)).squeeze(2)\n",
    "        alpha = torch.softmax(att, dim=1)\n",
    "        context = (encoder_out * alpha.unsqueeze(2)).sum(dim=1)\n",
    "        return context, alpha\n",
    "\n",
    "# Decoder RNN\n",
    "class DecoderRNN(nn.Module):\n",
    "    def __init__(self, embed_size, hidden_size, vocab_size, encoder_dim=256, attention_dim=256):\n",
    "        super().__init__()\n",
    "        self.attention = Attention(encoder_dim, hidden_size, attention_dim)\n",
    "        self.embedding = nn.Embedding(vocab_size, embed_size)\n",
    "        self.lstm = nn.LSTMCell(embed_size + encoder_dim, hidden_size)\n",
    "        self.fc = nn.Linear(hidden_size, vocab_size)\n",
    "        self.dropoutOthers = nn.Dropout(0.6)\n",
    "        self.dropoutLSTM = nn.Dropout(0.6)\n",
    "        self.hidden_size = hidden_size\n",
    "\n",
    "    def forward(self, encoder_out, captions, teacher_forcing_ratio=0.5):\n",
    "        batch_size = encoder_out.size(0)\n",
    "        vocab_size = self.fc.out_features\n",
    "        embeddings = self.embedding(captions)\n",
    "        embeddings = self.dropoutLSTM(embeddings)\n",
    "        h, c = torch.zeros(batch_size, self.hidden_size).to(encoder_out.device), torch.zeros(batch_size, self.hidden_size).to(encoder_out.device)\n",
    "        outputs = torch.zeros(batch_size, captions.size(1), vocab_size).to(encoder_out.device)\n",
    "        \n",
    "        for t in range(captions.size(1)):\n",
    "            context, _ = self.attention(encoder_out.unsqueeze(1), h)\n",
    "            input_lstm = torch.cat([embeddings[:, t], context], dim=1)\n",
    "            input_lstm = self.dropoutLSTM(input_lstm)\n",
    "            h, c = self.lstm(input_lstm, (h, c))\n",
    "            h = self.dropoutOthers(h)\n",
    "            outputs[:, t] = self.fc(h)\n",
    "        return outputs\n",
    "\n",
    "# Combined Model\n",
    "class ImageCaptionModel(nn.Module):\n",
    "    def __init__(self, encoded_size=256, embed_size=256, hidden_size=512, vocab_size=len(vocab), attention_dim=256):\n",
    "        super().__init__()\n",
    "        self.encoder = EncoderCNN(encoded_size=encoded_size)\n",
    "        self.decoder = DecoderRNN(embed_size=embed_size, hidden_size=hidden_size, vocab_size=vocab_size, \n",
    "                                 encoder_dim=encoded_size, attention_dim=attention_dim)\n",
    "        # Load AITeamVN/Vietnamese_Embedding embeddings\n",
    "        pretrained_embeds = self.get_vietnamese_embeddings(vocab, embed_size)\n",
    "        self.decoder.embedding.weight.data = pretrained_embeds\n",
    "        self.decoder.embedding.weight.requires_grad = True\n",
    "\n",
    "    def get_vietnamese_embeddings(self, vocab, embed_size):\n",
    "        embeddings = np.zeros((len(vocab), embed_size))\n",
    "        for word, idx in vocab.items():\n",
    "            # Encode single token\n",
    "            embed = embed_model.encode([word])[0]\n",
    "            embeddings[idx] = embed[:embed_size]  # Truncate to embed_size\n",
    "        return torch.tensor(embeddings, dtype=torch.float32)\n",
    "\n",
    "    def forward(self, images, captions, teacher_forcing_ratio=0.5):\n",
    "        features = self.encoder(images)\n",
    "        outputs = self.decoder(features, captions, teacher_forcing_ratio)\n",
    "        return outputs\n",
    "\n",
    "    @torch.no_grad()\n",
    "    def generate_caption(self, image, vocab, idx_to_word, max_length=20, beam_width=5):\n",
    "        self.eval()\n",
    "        image = image.unsqueeze(0).to(image.device)\n",
    "        features = self.encoder(image).unsqueeze(1)\n",
    "        sequences = [[[], 0.0, [features, None]]]\n",
    "        for _ in range(max_length):\n",
    "            all_candidates = []\n",
    "            for seq, score, state in sequences:\n",
    "                if len(seq) > 0 and seq[-1] == vocab[\"</s>\"]:\n",
    "                    all_candidates.append([seq, score, state])\n",
    "                    continue\n",
    "                if len(seq) == 0:\n",
    "                    token = torch.tensor([[vocab[\"<s>\"]]], device=image.device)\n",
    "                else:\n",
    "                    token = torch.tensor([[seq[-1]]], device=image.device)\n",
    "                embed = self.decoder.embedding(token)\n",
    "                context, _ = self.decoder.attention(state[0], state[1][0] if state[1] else torch.zeros(1, self.decoder.hidden_size).to(image.device))\n",
    "                input_lstm = torch.cat([embed.squeeze(1), context], dim=1)\n",
    "                if state[1] is None:\n",
    "                    h, c = self.decoder.lstm(input_lstm)\n",
    "                else:\n",
    "                    h, c = self.decoder.lstm(input_lstm, state[1])\n",
    "                output = self.decoder.fc(h)\n",
    "                output = torch.softmax(output, dim=-1)\n",
    "                top_probs, top_indices = output.topk(beam_width)\n",
    "                for i in range(beam_width):\n",
    "                    next_seq = seq + [top_indices[0, i].item()]\n",
    "                    next_score = score + torch.log(top_probs[0, i]).item() - 0.1 * next_seq.count(top_indices[0, i].item())  # Repetition penalty\n",
    "                    all_candidates.append([next_seq, next_score, [features, (h, c)]])\n",
    "            sequences = sorted(all_candidates, key=lambda x: x[1], reverse=True)[:beam_width]\n",
    "        captions = []\n",
    "        for seq, score, _ in sequences:\n",
    "            caption = [idx_to_word.get(idx, \"<unk>\") for idx in seq if idx not in [vocab[\"<s>\"], vocab[\"</s>\"]]]\n",
    "            captions.append(\" \".join(caption))\n",
    "        return captions\n",
    "\n",
    "# Early stopping\n",
    "class EarlyStopping:\n",
    "    def __init__(self, patience=5):\n",
    "        self.patience = patience\n",
    "        self.counter = 0\n",
    "        self.best_loss = float('inf')\n",
    "        self.early_stop = False\n",
    "\n",
    "    def __call__(self, val_loss, model, model_path='best_base_resnet50_lstm.pth'):\n",
    "        if val_loss < self.best_loss:\n",
    "            self.best_loss = val_loss\n",
    "            self.counter = 0\n",
    "            torch.save(model.state_dict(), model_path)\n",
    "        else:\n",
    "            self.counter += 1\n",
    "            if self.counter >= self.patience:\n",
    "                self.early_stop = True"
   ]
  },
  {
   "cell_type": "markdown",
   "metadata": {},
   "source": [
    "## Evaluation"
   ]
  },
  {
   "cell_type": "code",
   "execution_count": 9,
   "metadata": {
    "execution": {
     "iopub.execute_input": "2025-04-29T13:52:41.970472Z",
     "iopub.status.busy": "2025-04-29T13:52:41.970162Z",
     "iopub.status.idle": "2025-04-29T13:57:11.412842Z",
     "shell.execute_reply": "2025-04-29T13:57:11.411451Z",
     "shell.execute_reply.started": "2025-04-29T13:52:41.970450Z"
    },
    "trusted": true
   },
   "outputs": [
    {
     "name": "stderr",
     "output_type": "stream",
     "text": [
      "Downloading: \"https://download.pytorch.org/models/resnet50-0676ba61.pth\" to /root/.cache/torch/hub/checkpoints/resnet50-0676ba61.pth\n",
      "100%|██████████| 97.8M/97.8M [00:00<00:00, 164MB/s] \n"
     ]
    },
    {
     "data": {
      "application/vnd.jupyter.widget-view+json": {
       "model_id": "056fc5c7f59847e299d9bcc9c7613d69",
       "version_major": 2,
       "version_minor": 0
      },
      "text/plain": [
       "Batches:   0%|          | 0/1 [00:00<?, ?it/s]"
      ]
     },
     "metadata": {},
     "output_type": "display_data"
    },
    {
     "data": {
      "application/vnd.jupyter.widget-view+json": {
       "model_id": "1cb076f78cf04964b4584faa08a7716f",
       "version_major": 2,
       "version_minor": 0
      },
      "text/plain": [
       "Batches:   0%|          | 0/1 [00:00<?, ?it/s]"
      ]
     },
     "metadata": {},
     "output_type": "display_data"
    },
    {
     "data": {
      "application/vnd.jupyter.widget-view+json": {
       "model_id": "6ceca25813ff488faec036b68eedaef0",
       "version_major": 2,
       "version_minor": 0
      },
      "text/plain": [
       "Batches:   0%|          | 0/1 [00:00<?, ?it/s]"
      ]
     },
     "metadata": {},
     "output_type": "display_data"
    },
    {
     "data": {
      "application/vnd.jupyter.widget-view+json": {
       "model_id": "167de1b59d524b52973719f704f5cf52",
       "version_major": 2,
       "version_minor": 0
      },
      "text/plain": [
       "Batches:   0%|          | 0/1 [00:00<?, ?it/s]"
      ]
     },
     "metadata": {},
     "output_type": "display_data"
    },
    {
     "data": {
      "application/vnd.jupyter.widget-view+json": {
       "model_id": "779c1dfe959c44c7958d7edbff28f7e7",
       "version_major": 2,
       "version_minor": 0
      },
      "text/plain": [
       "Batches:   0%|          | 0/1 [00:00<?, ?it/s]"
      ]
     },
     "metadata": {},
     "output_type": "display_data"
    },
    {
     "data": {
      "application/vnd.jupyter.widget-view+json": {
       "model_id": "507cdce0bf664ce186d8529f7b5ade2c",
       "version_major": 2,
       "version_minor": 0
      },
      "text/plain": [
       "Batches:   0%|          | 0/1 [00:00<?, ?it/s]"
      ]
     },
     "metadata": {},
     "output_type": "display_data"
    },
    {
     "data": {
      "application/vnd.jupyter.widget-view+json": {
       "model_id": "d0736b1569a84584952fa4e4109585de",
       "version_major": 2,
       "version_minor": 0
      },
      "text/plain": [
       "Batches:   0%|          | 0/1 [00:00<?, ?it/s]"
      ]
     },
     "metadata": {},
     "output_type": "display_data"
    },
    {
     "data": {
      "application/vnd.jupyter.widget-view+json": {
       "model_id": "7237004881c3437682d2f1cf223cfc58",
       "version_major": 2,
       "version_minor": 0
      },
      "text/plain": [
       "Batches:   0%|          | 0/1 [00:00<?, ?it/s]"
      ]
     },
     "metadata": {},
     "output_type": "display_data"
    },
    {
     "data": {
      "application/vnd.jupyter.widget-view+json": {
       "model_id": "91beec4621be49158af12bed1c21d2ac",
       "version_major": 2,
       "version_minor": 0
      },
      "text/plain": [
       "Batches:   0%|          | 0/1 [00:00<?, ?it/s]"
      ]
     },
     "metadata": {},
     "output_type": "display_data"
    },
    {
     "data": {
      "application/vnd.jupyter.widget-view+json": {
       "model_id": "a7f37a25a52a4a5daef4caea8afee8d9",
       "version_major": 2,
       "version_minor": 0
      },
      "text/plain": [
       "Batches:   0%|          | 0/1 [00:00<?, ?it/s]"
      ]
     },
     "metadata": {},
     "output_type": "display_data"
    },
    {
     "data": {
      "application/vnd.jupyter.widget-view+json": {
       "model_id": "04c4a7b12c954e32803d2da38d73f14b",
       "version_major": 2,
       "version_minor": 0
      },
      "text/plain": [
       "Batches:   0%|          | 0/1 [00:00<?, ?it/s]"
      ]
     },
     "metadata": {},
     "output_type": "display_data"
    },
    {
     "data": {
      "application/vnd.jupyter.widget-view+json": {
       "model_id": "fb13b2fa21754ac68da8bb27e25d4b66",
       "version_major": 2,
       "version_minor": 0
      },
      "text/plain": [
       "Batches:   0%|          | 0/1 [00:00<?, ?it/s]"
      ]
     },
     "metadata": {},
     "output_type": "display_data"
    },
    {
     "data": {
      "application/vnd.jupyter.widget-view+json": {
       "model_id": "70ef8dc6420b48fc8a39bad767474ef7",
       "version_major": 2,
       "version_minor": 0
      },
      "text/plain": [
       "Batches:   0%|          | 0/1 [00:00<?, ?it/s]"
      ]
     },
     "metadata": {},
     "output_type": "display_data"
    },
    {
     "data": {
      "application/vnd.jupyter.widget-view+json": {
       "model_id": "36bc57ce00e04784b412dd1892c5cb07",
       "version_major": 2,
       "version_minor": 0
      },
      "text/plain": [
       "Batches:   0%|          | 0/1 [00:00<?, ?it/s]"
      ]
     },
     "metadata": {},
     "output_type": "display_data"
    },
    {
     "data": {
      "application/vnd.jupyter.widget-view+json": {
       "model_id": "332e4c8fd074442fb7013b49fca68907",
       "version_major": 2,
       "version_minor": 0
      },
      "text/plain": [
       "Batches:   0%|          | 0/1 [00:00<?, ?it/s]"
      ]
     },
     "metadata": {},
     "output_type": "display_data"
    },
    {
     "data": {
      "application/vnd.jupyter.widget-view+json": {
       "model_id": "71249a409bdf4da392ee0b62ad91ac36",
       "version_major": 2,
       "version_minor": 0
      },
      "text/plain": [
       "Batches:   0%|          | 0/1 [00:00<?, ?it/s]"
      ]
     },
     "metadata": {},
     "output_type": "display_data"
    },
    {
     "data": {
      "application/vnd.jupyter.widget-view+json": {
       "model_id": "f83af48bca504457ba900e0725db70b1",
       "version_major": 2,
       "version_minor": 0
      },
      "text/plain": [
       "Batches:   0%|          | 0/1 [00:00<?, ?it/s]"
      ]
     },
     "metadata": {},
     "output_type": "display_data"
    },
    {
     "data": {
      "application/vnd.jupyter.widget-view+json": {
       "model_id": "1b675f818b4541e2830bc3f5f3b04854",
       "version_major": 2,
       "version_minor": 0
      },
      "text/plain": [
       "Batches:   0%|          | 0/1 [00:00<?, ?it/s]"
      ]
     },
     "metadata": {},
     "output_type": "display_data"
    },
    {
     "data": {
      "application/vnd.jupyter.widget-view+json": {
       "model_id": "3c3fffd0fd7840bbb7541f84a54131ba",
       "version_major": 2,
       "version_minor": 0
      },
      "text/plain": [
       "Batches:   0%|          | 0/1 [00:00<?, ?it/s]"
      ]
     },
     "metadata": {},
     "output_type": "display_data"
    },
    {
     "data": {
      "application/vnd.jupyter.widget-view+json": {
       "model_id": "ee896cfd23284e849ab82d9982b06957",
       "version_major": 2,
       "version_minor": 0
      },
      "text/plain": [
       "Batches:   0%|          | 0/1 [00:00<?, ?it/s]"
      ]
     },
     "metadata": {},
     "output_type": "display_data"
    },
    {
     "data": {
      "application/vnd.jupyter.widget-view+json": {
       "model_id": "49939796bdbf4a4bb08a7bad6568d091",
       "version_major": 2,
       "version_minor": 0
      },
      "text/plain": [
       "Batches:   0%|          | 0/1 [00:00<?, ?it/s]"
      ]
     },
     "metadata": {},
     "output_type": "display_data"
    },
    {
     "data": {
      "application/vnd.jupyter.widget-view+json": {
       "model_id": "1a29b7769dd1409bb1210e4ba0f20c05",
       "version_major": 2,
       "version_minor": 0
      },
      "text/plain": [
       "Batches:   0%|          | 0/1 [00:00<?, ?it/s]"
      ]
     },
     "metadata": {},
     "output_type": "display_data"
    },
    {
     "data": {
      "application/vnd.jupyter.widget-view+json": {
       "model_id": "135d64719c5945ba948b5d73ab7bea48",
       "version_major": 2,
       "version_minor": 0
      },
      "text/plain": [
       "Batches:   0%|          | 0/1 [00:00<?, ?it/s]"
      ]
     },
     "metadata": {},
     "output_type": "display_data"
    },
    {
     "data": {
      "application/vnd.jupyter.widget-view+json": {
       "model_id": "dc82961f77b44184b7bd982311503a47",
       "version_major": 2,
       "version_minor": 0
      },
      "text/plain": [
       "Batches:   0%|          | 0/1 [00:00<?, ?it/s]"
      ]
     },
     "metadata": {},
     "output_type": "display_data"
    },
    {
     "data": {
      "application/vnd.jupyter.widget-view+json": {
       "model_id": "cf82a9b1aa9343fb9bf519467ef341bf",
       "version_major": 2,
       "version_minor": 0
      },
      "text/plain": [
       "Batches:   0%|          | 0/1 [00:00<?, ?it/s]"
      ]
     },
     "metadata": {},
     "output_type": "display_data"
    },
    {
     "data": {
      "application/vnd.jupyter.widget-view+json": {
       "model_id": "6ff43b4c0f7743a68d8c9566c38c6df7",
       "version_major": 2,
       "version_minor": 0
      },
      "text/plain": [
       "Batches:   0%|          | 0/1 [00:00<?, ?it/s]"
      ]
     },
     "metadata": {},
     "output_type": "display_data"
    },
    {
     "data": {
      "application/vnd.jupyter.widget-view+json": {
       "model_id": "5a28643f29284637a75953c99196e40d",
       "version_major": 2,
       "version_minor": 0
      },
      "text/plain": [
       "Batches:   0%|          | 0/1 [00:00<?, ?it/s]"
      ]
     },
     "metadata": {},
     "output_type": "display_data"
    },
    {
     "data": {
      "application/vnd.jupyter.widget-view+json": {
       "model_id": "1d5d0dc9f55a420f8e7f319ce47e5668",
       "version_major": 2,
       "version_minor": 0
      },
      "text/plain": [
       "Batches:   0%|          | 0/1 [00:00<?, ?it/s]"
      ]
     },
     "metadata": {},
     "output_type": "display_data"
    },
    {
     "data": {
      "application/vnd.jupyter.widget-view+json": {
       "model_id": "b8ecee816e3d40d9a9112b45c0d2363f",
       "version_major": 2,
       "version_minor": 0
      },
      "text/plain": [
       "Batches:   0%|          | 0/1 [00:00<?, ?it/s]"
      ]
     },
     "metadata": {},
     "output_type": "display_data"
    },
    {
     "data": {
      "application/vnd.jupyter.widget-view+json": {
       "model_id": "aecb25dd424f4475905cf0eae0eec00f",
       "version_major": 2,
       "version_minor": 0
      },
      "text/plain": [
       "Batches:   0%|          | 0/1 [00:00<?, ?it/s]"
      ]
     },
     "metadata": {},
     "output_type": "display_data"
    },
    {
     "data": {
      "application/vnd.jupyter.widget-view+json": {
       "model_id": "3f581ac434834a0da37a68be75b0e51f",
       "version_major": 2,
       "version_minor": 0
      },
      "text/plain": [
       "Batches:   0%|          | 0/1 [00:00<?, ?it/s]"
      ]
     },
     "metadata": {},
     "output_type": "display_data"
    },
    {
     "data": {
      "application/vnd.jupyter.widget-view+json": {
       "model_id": "a64d7e44d18d4930a3b8dc876610ef3d",
       "version_major": 2,
       "version_minor": 0
      },
      "text/plain": [
       "Batches:   0%|          | 0/1 [00:00<?, ?it/s]"
      ]
     },
     "metadata": {},
     "output_type": "display_data"
    },
    {
     "data": {
      "application/vnd.jupyter.widget-view+json": {
       "model_id": "f7cf5504a99e4ea7837727fc0aac27d7",
       "version_major": 2,
       "version_minor": 0
      },
      "text/plain": [
       "Batches:   0%|          | 0/1 [00:00<?, ?it/s]"
      ]
     },
     "metadata": {},
     "output_type": "display_data"
    },
    {
     "data": {
      "application/vnd.jupyter.widget-view+json": {
       "model_id": "55024a23ce0b494db46c556d91d23a2b",
       "version_major": 2,
       "version_minor": 0
      },
      "text/plain": [
       "Batches:   0%|          | 0/1 [00:00<?, ?it/s]"
      ]
     },
     "metadata": {},
     "output_type": "display_data"
    },
    {
     "data": {
      "application/vnd.jupyter.widget-view+json": {
       "model_id": "3ab0d70a839a4e1891ed9cf142bc5032",
       "version_major": 2,
       "version_minor": 0
      },
      "text/plain": [
       "Batches:   0%|          | 0/1 [00:00<?, ?it/s]"
      ]
     },
     "metadata": {},
     "output_type": "display_data"
    },
    {
     "data": {
      "application/vnd.jupyter.widget-view+json": {
       "model_id": "8e6bf6de6abe49418a366b53c69a7504",
       "version_major": 2,
       "version_minor": 0
      },
      "text/plain": [
       "Batches:   0%|          | 0/1 [00:00<?, ?it/s]"
      ]
     },
     "metadata": {},
     "output_type": "display_data"
    },
    {
     "data": {
      "application/vnd.jupyter.widget-view+json": {
       "model_id": "2f9ce4b7e7344320a680b8d43d20bbd2",
       "version_major": 2,
       "version_minor": 0
      },
      "text/plain": [
       "Batches:   0%|          | 0/1 [00:00<?, ?it/s]"
      ]
     },
     "metadata": {},
     "output_type": "display_data"
    },
    {
     "data": {
      "application/vnd.jupyter.widget-view+json": {
       "model_id": "adef5767cb4848e5acee84e3687e508f",
       "version_major": 2,
       "version_minor": 0
      },
      "text/plain": [
       "Batches:   0%|          | 0/1 [00:00<?, ?it/s]"
      ]
     },
     "metadata": {},
     "output_type": "display_data"
    },
    {
     "data": {
      "application/vnd.jupyter.widget-view+json": {
       "model_id": "b778fe00a68b422cb5d9a7e0e6dfdef1",
       "version_major": 2,
       "version_minor": 0
      },
      "text/plain": [
       "Batches:   0%|          | 0/1 [00:00<?, ?it/s]"
      ]
     },
     "metadata": {},
     "output_type": "display_data"
    },
    {
     "data": {
      "application/vnd.jupyter.widget-view+json": {
       "model_id": "4dd964efb9604c0ebeb9c30e05de52e6",
       "version_major": 2,
       "version_minor": 0
      },
      "text/plain": [
       "Batches:   0%|          | 0/1 [00:00<?, ?it/s]"
      ]
     },
     "metadata": {},
     "output_type": "display_data"
    },
    {
     "data": {
      "application/vnd.jupyter.widget-view+json": {
       "model_id": "5a1077f0d66f4693bea8cf52d7c6482c",
       "version_major": 2,
       "version_minor": 0
      },
      "text/plain": [
       "Batches:   0%|          | 0/1 [00:00<?, ?it/s]"
      ]
     },
     "metadata": {},
     "output_type": "display_data"
    },
    {
     "data": {
      "application/vnd.jupyter.widget-view+json": {
       "model_id": "022f49c59233447fbfcbb5909a4d44f3",
       "version_major": 2,
       "version_minor": 0
      },
      "text/plain": [
       "Batches:   0%|          | 0/1 [00:00<?, ?it/s]"
      ]
     },
     "metadata": {},
     "output_type": "display_data"
    },
    {
     "data": {
      "application/vnd.jupyter.widget-view+json": {
       "model_id": "7b8b7d37339444259e5889d428397c15",
       "version_major": 2,
       "version_minor": 0
      },
      "text/plain": [
       "Batches:   0%|          | 0/1 [00:00<?, ?it/s]"
      ]
     },
     "metadata": {},
     "output_type": "display_data"
    },
    {
     "data": {
      "application/vnd.jupyter.widget-view+json": {
       "model_id": "07e69107f6f8427f91ab71063cc90995",
       "version_major": 2,
       "version_minor": 0
      },
      "text/plain": [
       "Batches:   0%|          | 0/1 [00:00<?, ?it/s]"
      ]
     },
     "metadata": {},
     "output_type": "display_data"
    },
    {
     "data": {
      "application/vnd.jupyter.widget-view+json": {
       "model_id": "8c56953c55554f93b93147d2590f18b7",
       "version_major": 2,
       "version_minor": 0
      },
      "text/plain": [
       "Batches:   0%|          | 0/1 [00:00<?, ?it/s]"
      ]
     },
     "metadata": {},
     "output_type": "display_data"
    },
    {
     "data": {
      "application/vnd.jupyter.widget-view+json": {
       "model_id": "81cb5b4dbee34c86878f9f7c09fc7976",
       "version_major": 2,
       "version_minor": 0
      },
      "text/plain": [
       "Batches:   0%|          | 0/1 [00:00<?, ?it/s]"
      ]
     },
     "metadata": {},
     "output_type": "display_data"
    },
    {
     "data": {
      "application/vnd.jupyter.widget-view+json": {
       "model_id": "b8ce8af79a4943c68d58e1dda9af890b",
       "version_major": 2,
       "version_minor": 0
      },
      "text/plain": [
       "Batches:   0%|          | 0/1 [00:00<?, ?it/s]"
      ]
     },
     "metadata": {},
     "output_type": "display_data"
    },
    {
     "data": {
      "application/vnd.jupyter.widget-view+json": {
       "model_id": "f0ca9f0144944b3780da52f133fa3f70",
       "version_major": 2,
       "version_minor": 0
      },
      "text/plain": [
       "Batches:   0%|          | 0/1 [00:00<?, ?it/s]"
      ]
     },
     "metadata": {},
     "output_type": "display_data"
    },
    {
     "data": {
      "application/vnd.jupyter.widget-view+json": {
       "model_id": "2919ea4d8d1a4f35af09f6dac7b21995",
       "version_major": 2,
       "version_minor": 0
      },
      "text/plain": [
       "Batches:   0%|          | 0/1 [00:00<?, ?it/s]"
      ]
     },
     "metadata": {},
     "output_type": "display_data"
    },
    {
     "data": {
      "application/vnd.jupyter.widget-view+json": {
       "model_id": "38c254495cc8402f8cc1537ad0be414b",
       "version_major": 2,
       "version_minor": 0
      },
      "text/plain": [
       "Batches:   0%|          | 0/1 [00:00<?, ?it/s]"
      ]
     },
     "metadata": {},
     "output_type": "display_data"
    },
    {
     "data": {
      "application/vnd.jupyter.widget-view+json": {
       "model_id": "7ba53d617f9741d28ccc317885123587",
       "version_major": 2,
       "version_minor": 0
      },
      "text/plain": [
       "Batches:   0%|          | 0/1 [00:00<?, ?it/s]"
      ]
     },
     "metadata": {},
     "output_type": "display_data"
    },
    {
     "data": {
      "application/vnd.jupyter.widget-view+json": {
       "model_id": "79656a77c5e240249f2dc59770617138",
       "version_major": 2,
       "version_minor": 0
      },
      "text/plain": [
       "Batches:   0%|          | 0/1 [00:00<?, ?it/s]"
      ]
     },
     "metadata": {},
     "output_type": "display_data"
    },
    {
     "data": {
      "application/vnd.jupyter.widget-view+json": {
       "model_id": "7d9e0ff5c58c43ae987f5131dee8d215",
       "version_major": 2,
       "version_minor": 0
      },
      "text/plain": [
       "Batches:   0%|          | 0/1 [00:00<?, ?it/s]"
      ]
     },
     "metadata": {},
     "output_type": "display_data"
    },
    {
     "data": {
      "application/vnd.jupyter.widget-view+json": {
       "model_id": "cb4e8c35b67e430693dccf18082e1dfb",
       "version_major": 2,
       "version_minor": 0
      },
      "text/plain": [
       "Batches:   0%|          | 0/1 [00:00<?, ?it/s]"
      ]
     },
     "metadata": {},
     "output_type": "display_data"
    },
    {
     "data": {
      "application/vnd.jupyter.widget-view+json": {
       "model_id": "eabe2ce2ab134ce88a3e610bb5b1f52c",
       "version_major": 2,
       "version_minor": 0
      },
      "text/plain": [
       "Batches:   0%|          | 0/1 [00:00<?, ?it/s]"
      ]
     },
     "metadata": {},
     "output_type": "display_data"
    },
    {
     "data": {
      "application/vnd.jupyter.widget-view+json": {
       "model_id": "5e1115c0dbb64c0fa18c445610a99756",
       "version_major": 2,
       "version_minor": 0
      },
      "text/plain": [
       "Batches:   0%|          | 0/1 [00:00<?, ?it/s]"
      ]
     },
     "metadata": {},
     "output_type": "display_data"
    },
    {
     "data": {
      "application/vnd.jupyter.widget-view+json": {
       "model_id": "6ea02c55ca364879a25b6a9740c70fbc",
       "version_major": 2,
       "version_minor": 0
      },
      "text/plain": [
       "Batches:   0%|          | 0/1 [00:00<?, ?it/s]"
      ]
     },
     "metadata": {},
     "output_type": "display_data"
    },
    {
     "data": {
      "application/vnd.jupyter.widget-view+json": {
       "model_id": "8b72ddaf3c994a20b5e3dd22795551ad",
       "version_major": 2,
       "version_minor": 0
      },
      "text/plain": [
       "Batches:   0%|          | 0/1 [00:00<?, ?it/s]"
      ]
     },
     "metadata": {},
     "output_type": "display_data"
    },
    {
     "data": {
      "application/vnd.jupyter.widget-view+json": {
       "model_id": "187bf10287b04a7e853d1a7b9045d018",
       "version_major": 2,
       "version_minor": 0
      },
      "text/plain": [
       "Batches:   0%|          | 0/1 [00:00<?, ?it/s]"
      ]
     },
     "metadata": {},
     "output_type": "display_data"
    },
    {
     "data": {
      "application/vnd.jupyter.widget-view+json": {
       "model_id": "07c84e5bc45c49dcbbdb993cd0c30285",
       "version_major": 2,
       "version_minor": 0
      },
      "text/plain": [
       "Batches:   0%|          | 0/1 [00:00<?, ?it/s]"
      ]
     },
     "metadata": {},
     "output_type": "display_data"
    },
    {
     "data": {
      "application/vnd.jupyter.widget-view+json": {
       "model_id": "a52b0ce59b554f0591f5bf9b6590ea65",
       "version_major": 2,
       "version_minor": 0
      },
      "text/plain": [
       "Batches:   0%|          | 0/1 [00:00<?, ?it/s]"
      ]
     },
     "metadata": {},
     "output_type": "display_data"
    },
    {
     "data": {
      "application/vnd.jupyter.widget-view+json": {
       "model_id": "51f8620f7c7d477a8d1eb2fb13b42f4e",
       "version_major": 2,
       "version_minor": 0
      },
      "text/plain": [
       "Batches:   0%|          | 0/1 [00:00<?, ?it/s]"
      ]
     },
     "metadata": {},
     "output_type": "display_data"
    },
    {
     "data": {
      "application/vnd.jupyter.widget-view+json": {
       "model_id": "02ebcc8921e34cfa8018ba6abb75c4d9",
       "version_major": 2,
       "version_minor": 0
      },
      "text/plain": [
       "Batches:   0%|          | 0/1 [00:00<?, ?it/s]"
      ]
     },
     "metadata": {},
     "output_type": "display_data"
    },
    {
     "data": {
      "application/vnd.jupyter.widget-view+json": {
       "model_id": "a308675b830b4ce7aca5fd6088f9f761",
       "version_major": 2,
       "version_minor": 0
      },
      "text/plain": [
       "Batches:   0%|          | 0/1 [00:00<?, ?it/s]"
      ]
     },
     "metadata": {},
     "output_type": "display_data"
    },
    {
     "data": {
      "application/vnd.jupyter.widget-view+json": {
       "model_id": "ff812148da6744bcb1c665af7d31615d",
       "version_major": 2,
       "version_minor": 0
      },
      "text/plain": [
       "Batches:   0%|          | 0/1 [00:00<?, ?it/s]"
      ]
     },
     "metadata": {},
     "output_type": "display_data"
    },
    {
     "data": {
      "application/vnd.jupyter.widget-view+json": {
       "model_id": "937788ee7e304090bbb21ea5981ff53b",
       "version_major": 2,
       "version_minor": 0
      },
      "text/plain": [
       "Batches:   0%|          | 0/1 [00:00<?, ?it/s]"
      ]
     },
     "metadata": {},
     "output_type": "display_data"
    },
    {
     "data": {
      "application/vnd.jupyter.widget-view+json": {
       "model_id": "3ca04fd6433f484b903d3ccb457ee1fe",
       "version_major": 2,
       "version_minor": 0
      },
      "text/plain": [
       "Batches:   0%|          | 0/1 [00:00<?, ?it/s]"
      ]
     },
     "metadata": {},
     "output_type": "display_data"
    },
    {
     "data": {
      "application/vnd.jupyter.widget-view+json": {
       "model_id": "f7b8533b9187450d8588f330a859c707",
       "version_major": 2,
       "version_minor": 0
      },
      "text/plain": [
       "Batches:   0%|          | 0/1 [00:00<?, ?it/s]"
      ]
     },
     "metadata": {},
     "output_type": "display_data"
    },
    {
     "data": {
      "application/vnd.jupyter.widget-view+json": {
       "model_id": "b41cd42f052d4c41bf397db80167e0b0",
       "version_major": 2,
       "version_minor": 0
      },
      "text/plain": [
       "Batches:   0%|          | 0/1 [00:00<?, ?it/s]"
      ]
     },
     "metadata": {},
     "output_type": "display_data"
    },
    {
     "data": {
      "application/vnd.jupyter.widget-view+json": {
       "model_id": "7f7ce97fae1647a292e010cd5bc32f1a",
       "version_major": 2,
       "version_minor": 0
      },
      "text/plain": [
       "Batches:   0%|          | 0/1 [00:00<?, ?it/s]"
      ]
     },
     "metadata": {},
     "output_type": "display_data"
    },
    {
     "data": {
      "application/vnd.jupyter.widget-view+json": {
       "model_id": "a7ddd71fac3449cf96b3eae9bba7bf82",
       "version_major": 2,
       "version_minor": 0
      },
      "text/plain": [
       "Batches:   0%|          | 0/1 [00:00<?, ?it/s]"
      ]
     },
     "metadata": {},
     "output_type": "display_data"
    },
    {
     "data": {
      "application/vnd.jupyter.widget-view+json": {
       "model_id": "649e3642d41e4008aec6f7859d7d94bb",
       "version_major": 2,
       "version_minor": 0
      },
      "text/plain": [
       "Batches:   0%|          | 0/1 [00:00<?, ?it/s]"
      ]
     },
     "metadata": {},
     "output_type": "display_data"
    },
    {
     "data": {
      "application/vnd.jupyter.widget-view+json": {
       "model_id": "3bb099694b004b9f9fd8f3264a255a18",
       "version_major": 2,
       "version_minor": 0
      },
      "text/plain": [
       "Batches:   0%|          | 0/1 [00:00<?, ?it/s]"
      ]
     },
     "metadata": {},
     "output_type": "display_data"
    },
    {
     "data": {
      "application/vnd.jupyter.widget-view+json": {
       "model_id": "6a7136c00d024db9a976573109f28d2d",
       "version_major": 2,
       "version_minor": 0
      },
      "text/plain": [
       "Batches:   0%|          | 0/1 [00:00<?, ?it/s]"
      ]
     },
     "metadata": {},
     "output_type": "display_data"
    },
    {
     "data": {
      "application/vnd.jupyter.widget-view+json": {
       "model_id": "11a3bdd5844f4203b55973b2c2d5f40a",
       "version_major": 2,
       "version_minor": 0
      },
      "text/plain": [
       "Batches:   0%|          | 0/1 [00:00<?, ?it/s]"
      ]
     },
     "metadata": {},
     "output_type": "display_data"
    },
    {
     "data": {
      "application/vnd.jupyter.widget-view+json": {
       "model_id": "003399d10f9845af80614aa71b9d79f9",
       "version_major": 2,
       "version_minor": 0
      },
      "text/plain": [
       "Batches:   0%|          | 0/1 [00:00<?, ?it/s]"
      ]
     },
     "metadata": {},
     "output_type": "display_data"
    },
    {
     "data": {
      "application/vnd.jupyter.widget-view+json": {
       "model_id": "a92fc4c96e154fe7aad55a08928160b8",
       "version_major": 2,
       "version_minor": 0
      },
      "text/plain": [
       "Batches:   0%|          | 0/1 [00:00<?, ?it/s]"
      ]
     },
     "metadata": {},
     "output_type": "display_data"
    },
    {
     "data": {
      "application/vnd.jupyter.widget-view+json": {
       "model_id": "6a5efd9d957846a59bac9260b8bedabe",
       "version_major": 2,
       "version_minor": 0
      },
      "text/plain": [
       "Batches:   0%|          | 0/1 [00:00<?, ?it/s]"
      ]
     },
     "metadata": {},
     "output_type": "display_data"
    },
    {
     "data": {
      "application/vnd.jupyter.widget-view+json": {
       "model_id": "ffc4afdf88ed4b12a84ac6026517c289",
       "version_major": 2,
       "version_minor": 0
      },
      "text/plain": [
       "Batches:   0%|          | 0/1 [00:00<?, ?it/s]"
      ]
     },
     "metadata": {},
     "output_type": "display_data"
    },
    {
     "data": {
      "application/vnd.jupyter.widget-view+json": {
       "model_id": "0d37bf820c91405ca14c1d303e79b689",
       "version_major": 2,
       "version_minor": 0
      },
      "text/plain": [
       "Batches:   0%|          | 0/1 [00:00<?, ?it/s]"
      ]
     },
     "metadata": {},
     "output_type": "display_data"
    },
    {
     "data": {
      "application/vnd.jupyter.widget-view+json": {
       "model_id": "13f17e8d83a84353a55ef13742f02723",
       "version_major": 2,
       "version_minor": 0
      },
      "text/plain": [
       "Batches:   0%|          | 0/1 [00:00<?, ?it/s]"
      ]
     },
     "metadata": {},
     "output_type": "display_data"
    },
    {
     "data": {
      "application/vnd.jupyter.widget-view+json": {
       "model_id": "a44ebe691b2642debf85abe3c9eb60d5",
       "version_major": 2,
       "version_minor": 0
      },
      "text/plain": [
       "Batches:   0%|          | 0/1 [00:00<?, ?it/s]"
      ]
     },
     "metadata": {},
     "output_type": "display_data"
    },
    {
     "data": {
      "application/vnd.jupyter.widget-view+json": {
       "model_id": "2648b220912244ed997b4c782c8bdffc",
       "version_major": 2,
       "version_minor": 0
      },
      "text/plain": [
       "Batches:   0%|          | 0/1 [00:00<?, ?it/s]"
      ]
     },
     "metadata": {},
     "output_type": "display_data"
    },
    {
     "data": {
      "application/vnd.jupyter.widget-view+json": {
       "model_id": "e33eaf0d41de409d94dec71cd84add64",
       "version_major": 2,
       "version_minor": 0
      },
      "text/plain": [
       "Batches:   0%|          | 0/1 [00:00<?, ?it/s]"
      ]
     },
     "metadata": {},
     "output_type": "display_data"
    },
    {
     "data": {
      "application/vnd.jupyter.widget-view+json": {
       "model_id": "c398840631c74645a64c27f9faa1fadb",
       "version_major": 2,
       "version_minor": 0
      },
      "text/plain": [
       "Batches:   0%|          | 0/1 [00:00<?, ?it/s]"
      ]
     },
     "metadata": {},
     "output_type": "display_data"
    },
    {
     "data": {
      "application/vnd.jupyter.widget-view+json": {
       "model_id": "7e1e37be47a24fde97df6ed91288a10f",
       "version_major": 2,
       "version_minor": 0
      },
      "text/plain": [
       "Batches:   0%|          | 0/1 [00:00<?, ?it/s]"
      ]
     },
     "metadata": {},
     "output_type": "display_data"
    },
    {
     "data": {
      "application/vnd.jupyter.widget-view+json": {
       "model_id": "33085c76a73a4c2eab63105128aa9498",
       "version_major": 2,
       "version_minor": 0
      },
      "text/plain": [
       "Batches:   0%|          | 0/1 [00:00<?, ?it/s]"
      ]
     },
     "metadata": {},
     "output_type": "display_data"
    },
    {
     "data": {
      "application/vnd.jupyter.widget-view+json": {
       "model_id": "bf2dfb7d7b7241b1aa9984d37240b9f1",
       "version_major": 2,
       "version_minor": 0
      },
      "text/plain": [
       "Batches:   0%|          | 0/1 [00:00<?, ?it/s]"
      ]
     },
     "metadata": {},
     "output_type": "display_data"
    },
    {
     "data": {
      "application/vnd.jupyter.widget-view+json": {
       "model_id": "30be434eb776491884d96ec93e26fbac",
       "version_major": 2,
       "version_minor": 0
      },
      "text/plain": [
       "Batches:   0%|          | 0/1 [00:00<?, ?it/s]"
      ]
     },
     "metadata": {},
     "output_type": "display_data"
    },
    {
     "data": {
      "application/vnd.jupyter.widget-view+json": {
       "model_id": "0273f09382364c8eaf7d45f7b3577e72",
       "version_major": 2,
       "version_minor": 0
      },
      "text/plain": [
       "Batches:   0%|          | 0/1 [00:00<?, ?it/s]"
      ]
     },
     "metadata": {},
     "output_type": "display_data"
    },
    {
     "data": {
      "application/vnd.jupyter.widget-view+json": {
       "model_id": "bc28379e75da471993ff09926af0be00",
       "version_major": 2,
       "version_minor": 0
      },
      "text/plain": [
       "Batches:   0%|          | 0/1 [00:00<?, ?it/s]"
      ]
     },
     "metadata": {},
     "output_type": "display_data"
    },
    {
     "data": {
      "application/vnd.jupyter.widget-view+json": {
       "model_id": "9c436dc9bf5c43ffb9e5057003feeea6",
       "version_major": 2,
       "version_minor": 0
      },
      "text/plain": [
       "Batches:   0%|          | 0/1 [00:00<?, ?it/s]"
      ]
     },
     "metadata": {},
     "output_type": "display_data"
    },
    {
     "data": {
      "application/vnd.jupyter.widget-view+json": {
       "model_id": "7ac4cfc9616c4e0297c318dad52c9f91",
       "version_major": 2,
       "version_minor": 0
      },
      "text/plain": [
       "Batches:   0%|          | 0/1 [00:00<?, ?it/s]"
      ]
     },
     "metadata": {},
     "output_type": "display_data"
    },
    {
     "data": {
      "application/vnd.jupyter.widget-view+json": {
       "model_id": "2ce09ffd878749ebb9d0196ba8348c99",
       "version_major": 2,
       "version_minor": 0
      },
      "text/plain": [
       "Batches:   0%|          | 0/1 [00:00<?, ?it/s]"
      ]
     },
     "metadata": {},
     "output_type": "display_data"
    },
    {
     "data": {
      "application/vnd.jupyter.widget-view+json": {
       "model_id": "b8458626cdb24bf3a63d7e6885abc7ca",
       "version_major": 2,
       "version_minor": 0
      },
      "text/plain": [
       "Batches:   0%|          | 0/1 [00:00<?, ?it/s]"
      ]
     },
     "metadata": {},
     "output_type": "display_data"
    },
    {
     "data": {
      "application/vnd.jupyter.widget-view+json": {
       "model_id": "da0cbef8ab80428ca4576ce8cda1a7fa",
       "version_major": 2,
       "version_minor": 0
      },
      "text/plain": [
       "Batches:   0%|          | 0/1 [00:00<?, ?it/s]"
      ]
     },
     "metadata": {},
     "output_type": "display_data"
    },
    {
     "data": {
      "application/vnd.jupyter.widget-view+json": {
       "model_id": "cba62eaa491e40f8818ce6539750e68d",
       "version_major": 2,
       "version_minor": 0
      },
      "text/plain": [
       "Batches:   0%|          | 0/1 [00:00<?, ?it/s]"
      ]
     },
     "metadata": {},
     "output_type": "display_data"
    },
    {
     "data": {
      "application/vnd.jupyter.widget-view+json": {
       "model_id": "b5ab3828199e409bbc16b0a90933c209",
       "version_major": 2,
       "version_minor": 0
      },
      "text/plain": [
       "Batches:   0%|          | 0/1 [00:00<?, ?it/s]"
      ]
     },
     "metadata": {},
     "output_type": "display_data"
    },
    {
     "data": {
      "application/vnd.jupyter.widget-view+json": {
       "model_id": "9dde2e7b9a17472e95bcc0d73b20a30d",
       "version_major": 2,
       "version_minor": 0
      },
      "text/plain": [
       "Batches:   0%|          | 0/1 [00:00<?, ?it/s]"
      ]
     },
     "metadata": {},
     "output_type": "display_data"
    },
    {
     "data": {
      "application/vnd.jupyter.widget-view+json": {
       "model_id": "16d31f7808744333a90c50e00889f1b0",
       "version_major": 2,
       "version_minor": 0
      },
      "text/plain": [
       "Batches:   0%|          | 0/1 [00:00<?, ?it/s]"
      ]
     },
     "metadata": {},
     "output_type": "display_data"
    },
    {
     "data": {
      "application/vnd.jupyter.widget-view+json": {
       "model_id": "c824778d88af4a9e9fa8e9dc1364c4a2",
       "version_major": 2,
       "version_minor": 0
      },
      "text/plain": [
       "Batches:   0%|          | 0/1 [00:00<?, ?it/s]"
      ]
     },
     "metadata": {},
     "output_type": "display_data"
    },
    {
     "data": {
      "application/vnd.jupyter.widget-view+json": {
       "model_id": "bb4cb1905ba442e5908fd88f56416f5d",
       "version_major": 2,
       "version_minor": 0
      },
      "text/plain": [
       "Batches:   0%|          | 0/1 [00:00<?, ?it/s]"
      ]
     },
     "metadata": {},
     "output_type": "display_data"
    },
    {
     "data": {
      "application/vnd.jupyter.widget-view+json": {
       "model_id": "edd0129b2ab3484ba58b3bb320afd083",
       "version_major": 2,
       "version_minor": 0
      },
      "text/plain": [
       "Batches:   0%|          | 0/1 [00:00<?, ?it/s]"
      ]
     },
     "metadata": {},
     "output_type": "display_data"
    },
    {
     "data": {
      "application/vnd.jupyter.widget-view+json": {
       "model_id": "8c7b92ec1c304b8db0bf78b87e08aba7",
       "version_major": 2,
       "version_minor": 0
      },
      "text/plain": [
       "Batches:   0%|          | 0/1 [00:00<?, ?it/s]"
      ]
     },
     "metadata": {},
     "output_type": "display_data"
    },
    {
     "data": {
      "application/vnd.jupyter.widget-view+json": {
       "model_id": "2c8a4bcdb3fe459e8acce68e922d8113",
       "version_major": 2,
       "version_minor": 0
      },
      "text/plain": [
       "Batches:   0%|          | 0/1 [00:00<?, ?it/s]"
      ]
     },
     "metadata": {},
     "output_type": "display_data"
    },
    {
     "data": {
      "application/vnd.jupyter.widget-view+json": {
       "model_id": "920bc093fbc74f43ae6aef9c46df1953",
       "version_major": 2,
       "version_minor": 0
      },
      "text/plain": [
       "Batches:   0%|          | 0/1 [00:00<?, ?it/s]"
      ]
     },
     "metadata": {},
     "output_type": "display_data"
    },
    {
     "data": {
      "application/vnd.jupyter.widget-view+json": {
       "model_id": "bf1c92f359b94be2a75cbc88754ade65",
       "version_major": 2,
       "version_minor": 0
      },
      "text/plain": [
       "Batches:   0%|          | 0/1 [00:00<?, ?it/s]"
      ]
     },
     "metadata": {},
     "output_type": "display_data"
    },
    {
     "data": {
      "application/vnd.jupyter.widget-view+json": {
       "model_id": "51c47d19a560434b952033c77c628c25",
       "version_major": 2,
       "version_minor": 0
      },
      "text/plain": [
       "Batches:   0%|          | 0/1 [00:00<?, ?it/s]"
      ]
     },
     "metadata": {},
     "output_type": "display_data"
    },
    {
     "data": {
      "application/vnd.jupyter.widget-view+json": {
       "model_id": "bf1dd931c61749c19fa6dc3ff0ed067e",
       "version_major": 2,
       "version_minor": 0
      },
      "text/plain": [
       "Batches:   0%|          | 0/1 [00:00<?, ?it/s]"
      ]
     },
     "metadata": {},
     "output_type": "display_data"
    },
    {
     "data": {
      "application/vnd.jupyter.widget-view+json": {
       "model_id": "31111bf559e546c6a5ccff1dceb17bd8",
       "version_major": 2,
       "version_minor": 0
      },
      "text/plain": [
       "Batches:   0%|          | 0/1 [00:00<?, ?it/s]"
      ]
     },
     "metadata": {},
     "output_type": "display_data"
    },
    {
     "data": {
      "application/vnd.jupyter.widget-view+json": {
       "model_id": "c3be6c3395af4f9b9d3e2d81c506ffb8",
       "version_major": 2,
       "version_minor": 0
      },
      "text/plain": [
       "Batches:   0%|          | 0/1 [00:00<?, ?it/s]"
      ]
     },
     "metadata": {},
     "output_type": "display_data"
    },
    {
     "data": {
      "application/vnd.jupyter.widget-view+json": {
       "model_id": "7c3b88afc1dc41d99eb17b971e7e5783",
       "version_major": 2,
       "version_minor": 0
      },
      "text/plain": [
       "Batches:   0%|          | 0/1 [00:00<?, ?it/s]"
      ]
     },
     "metadata": {},
     "output_type": "display_data"
    },
    {
     "data": {
      "application/vnd.jupyter.widget-view+json": {
       "model_id": "83d50ef12dfe41d29368a874ed3a0bcc",
       "version_major": 2,
       "version_minor": 0
      },
      "text/plain": [
       "Batches:   0%|          | 0/1 [00:00<?, ?it/s]"
      ]
     },
     "metadata": {},
     "output_type": "display_data"
    },
    {
     "data": {
      "application/vnd.jupyter.widget-view+json": {
       "model_id": "9caff2c913bd4240b73c5fc2cf1b2e0e",
       "version_major": 2,
       "version_minor": 0
      },
      "text/plain": [
       "Batches:   0%|          | 0/1 [00:00<?, ?it/s]"
      ]
     },
     "metadata": {},
     "output_type": "display_data"
    },
    {
     "data": {
      "application/vnd.jupyter.widget-view+json": {
       "model_id": "721ec556eda14343978522eb08c1c586",
       "version_major": 2,
       "version_minor": 0
      },
      "text/plain": [
       "Batches:   0%|          | 0/1 [00:00<?, ?it/s]"
      ]
     },
     "metadata": {},
     "output_type": "display_data"
    },
    {
     "data": {
      "application/vnd.jupyter.widget-view+json": {
       "model_id": "a199ce8a08774f3c9063e03cd225d4ff",
       "version_major": 2,
       "version_minor": 0
      },
      "text/plain": [
       "Batches:   0%|          | 0/1 [00:00<?, ?it/s]"
      ]
     },
     "metadata": {},
     "output_type": "display_data"
    },
    {
     "data": {
      "application/vnd.jupyter.widget-view+json": {
       "model_id": "9db296d2c3f2487ca1c409afaad71872",
       "version_major": 2,
       "version_minor": 0
      },
      "text/plain": [
       "Batches:   0%|          | 0/1 [00:00<?, ?it/s]"
      ]
     },
     "metadata": {},
     "output_type": "display_data"
    },
    {
     "data": {
      "application/vnd.jupyter.widget-view+json": {
       "model_id": "55c903bd4f8b4de4b2fb82d9213372b7",
       "version_major": 2,
       "version_minor": 0
      },
      "text/plain": [
       "Batches:   0%|          | 0/1 [00:00<?, ?it/s]"
      ]
     },
     "metadata": {},
     "output_type": "display_data"
    },
    {
     "data": {
      "application/vnd.jupyter.widget-view+json": {
       "model_id": "a36f6c7b42a64a19a1cf1fcf514017ce",
       "version_major": 2,
       "version_minor": 0
      },
      "text/plain": [
       "Batches:   0%|          | 0/1 [00:00<?, ?it/s]"
      ]
     },
     "metadata": {},
     "output_type": "display_data"
    },
    {
     "data": {
      "application/vnd.jupyter.widget-view+json": {
       "model_id": "97719d95edf143d6bfdad269bccb1bc0",
       "version_major": 2,
       "version_minor": 0
      },
      "text/plain": [
       "Batches:   0%|          | 0/1 [00:00<?, ?it/s]"
      ]
     },
     "metadata": {},
     "output_type": "display_data"
    },
    {
     "data": {
      "application/vnd.jupyter.widget-view+json": {
       "model_id": "c183701d983f42f0a5ed78882f1065c1",
       "version_major": 2,
       "version_minor": 0
      },
      "text/plain": [
       "Batches:   0%|          | 0/1 [00:00<?, ?it/s]"
      ]
     },
     "metadata": {},
     "output_type": "display_data"
    },
    {
     "data": {
      "application/vnd.jupyter.widget-view+json": {
       "model_id": "6a6be7922d204650bbaff7734a8dbd73",
       "version_major": 2,
       "version_minor": 0
      },
      "text/plain": [
       "Batches:   0%|          | 0/1 [00:00<?, ?it/s]"
      ]
     },
     "metadata": {},
     "output_type": "display_data"
    },
    {
     "data": {
      "application/vnd.jupyter.widget-view+json": {
       "model_id": "db949016934a492f93dfc341da906bd1",
       "version_major": 2,
       "version_minor": 0
      },
      "text/plain": [
       "Batches:   0%|          | 0/1 [00:00<?, ?it/s]"
      ]
     },
     "metadata": {},
     "output_type": "display_data"
    },
    {
     "data": {
      "application/vnd.jupyter.widget-view+json": {
       "model_id": "f928db42e4b747c6830392aaab77ea2a",
       "version_major": 2,
       "version_minor": 0
      },
      "text/plain": [
       "Batches:   0%|          | 0/1 [00:00<?, ?it/s]"
      ]
     },
     "metadata": {},
     "output_type": "display_data"
    },
    {
     "data": {
      "application/vnd.jupyter.widget-view+json": {
       "model_id": "927d4863e20642c798049602d8db4280",
       "version_major": 2,
       "version_minor": 0
      },
      "text/plain": [
       "Batches:   0%|          | 0/1 [00:00<?, ?it/s]"
      ]
     },
     "metadata": {},
     "output_type": "display_data"
    },
    {
     "data": {
      "application/vnd.jupyter.widget-view+json": {
       "model_id": "c5aa1c566d6144d0844b4bc53da9fb39",
       "version_major": 2,
       "version_minor": 0
      },
      "text/plain": [
       "Batches:   0%|          | 0/1 [00:00<?, ?it/s]"
      ]
     },
     "metadata": {},
     "output_type": "display_data"
    },
    {
     "data": {
      "application/vnd.jupyter.widget-view+json": {
       "model_id": "ec7bdb4b0700480cb34fc1fa35d59f46",
       "version_major": 2,
       "version_minor": 0
      },
      "text/plain": [
       "Batches:   0%|          | 0/1 [00:00<?, ?it/s]"
      ]
     },
     "metadata": {},
     "output_type": "display_data"
    },
    {
     "data": {
      "application/vnd.jupyter.widget-view+json": {
       "model_id": "3cc028714e014fa49867c9a6e470947b",
       "version_major": 2,
       "version_minor": 0
      },
      "text/plain": [
       "Batches:   0%|          | 0/1 [00:00<?, ?it/s]"
      ]
     },
     "metadata": {},
     "output_type": "display_data"
    },
    {
     "data": {
      "application/vnd.jupyter.widget-view+json": {
       "model_id": "6830ff9a814640029927e97fe50b75d4",
       "version_major": 2,
       "version_minor": 0
      },
      "text/plain": [
       "Batches:   0%|          | 0/1 [00:00<?, ?it/s]"
      ]
     },
     "metadata": {},
     "output_type": "display_data"
    },
    {
     "data": {
      "application/vnd.jupyter.widget-view+json": {
       "model_id": "48b88a7542454a07af33587a21a1d087",
       "version_major": 2,
       "version_minor": 0
      },
      "text/plain": [
       "Batches:   0%|          | 0/1 [00:00<?, ?it/s]"
      ]
     },
     "metadata": {},
     "output_type": "display_data"
    },
    {
     "data": {
      "application/vnd.jupyter.widget-view+json": {
       "model_id": "8404ef7bf0ab456fa060e1da02cff93f",
       "version_major": 2,
       "version_minor": 0
      },
      "text/plain": [
       "Batches:   0%|          | 0/1 [00:00<?, ?it/s]"
      ]
     },
     "metadata": {},
     "output_type": "display_data"
    },
    {
     "data": {
      "application/vnd.jupyter.widget-view+json": {
       "model_id": "401fe188c31f4895b46bf8f8794b4cf0",
       "version_major": 2,
       "version_minor": 0
      },
      "text/plain": [
       "Batches:   0%|          | 0/1 [00:00<?, ?it/s]"
      ]
     },
     "metadata": {},
     "output_type": "display_data"
    },
    {
     "data": {
      "application/vnd.jupyter.widget-view+json": {
       "model_id": "17ba9ed5209e4877a594b653304925b1",
       "version_major": 2,
       "version_minor": 0
      },
      "text/plain": [
       "Batches:   0%|          | 0/1 [00:00<?, ?it/s]"
      ]
     },
     "metadata": {},
     "output_type": "display_data"
    },
    {
     "data": {
      "application/vnd.jupyter.widget-view+json": {
       "model_id": "550d138209b544d18254fa91e1bfc997",
       "version_major": 2,
       "version_minor": 0
      },
      "text/plain": [
       "Batches:   0%|          | 0/1 [00:00<?, ?it/s]"
      ]
     },
     "metadata": {},
     "output_type": "display_data"
    },
    {
     "data": {
      "application/vnd.jupyter.widget-view+json": {
       "model_id": "77315311cf834cd38243708ede1ca28c",
       "version_major": 2,
       "version_minor": 0
      },
      "text/plain": [
       "Batches:   0%|          | 0/1 [00:00<?, ?it/s]"
      ]
     },
     "metadata": {},
     "output_type": "display_data"
    },
    {
     "data": {
      "application/vnd.jupyter.widget-view+json": {
       "model_id": "5eaced40477c4ce5a51623a00bb2bf07",
       "version_major": 2,
       "version_minor": 0
      },
      "text/plain": [
       "Batches:   0%|          | 0/1 [00:00<?, ?it/s]"
      ]
     },
     "metadata": {},
     "output_type": "display_data"
    },
    {
     "data": {
      "application/vnd.jupyter.widget-view+json": {
       "model_id": "5f336d4ba9dc42db8b69e08dd0081105",
       "version_major": 2,
       "version_minor": 0
      },
      "text/plain": [
       "Batches:   0%|          | 0/1 [00:00<?, ?it/s]"
      ]
     },
     "metadata": {},
     "output_type": "display_data"
    },
    {
     "data": {
      "application/vnd.jupyter.widget-view+json": {
       "model_id": "70874a44c32f4c34b49009d46af3ddc7",
       "version_major": 2,
       "version_minor": 0
      },
      "text/plain": [
       "Batches:   0%|          | 0/1 [00:00<?, ?it/s]"
      ]
     },
     "metadata": {},
     "output_type": "display_data"
    },
    {
     "data": {
      "application/vnd.jupyter.widget-view+json": {
       "model_id": "811bcd025447422c9ced8db5382cae85",
       "version_major": 2,
       "version_minor": 0
      },
      "text/plain": [
       "Batches:   0%|          | 0/1 [00:00<?, ?it/s]"
      ]
     },
     "metadata": {},
     "output_type": "display_data"
    },
    {
     "data": {
      "application/vnd.jupyter.widget-view+json": {
       "model_id": "0d8aa4b705474ee186b55f882fa197db",
       "version_major": 2,
       "version_minor": 0
      },
      "text/plain": [
       "Batches:   0%|          | 0/1 [00:00<?, ?it/s]"
      ]
     },
     "metadata": {},
     "output_type": "display_data"
    },
    {
     "data": {
      "application/vnd.jupyter.widget-view+json": {
       "model_id": "c6e3dc54940144a181abcb214ac305a5",
       "version_major": 2,
       "version_minor": 0
      },
      "text/plain": [
       "Batches:   0%|          | 0/1 [00:00<?, ?it/s]"
      ]
     },
     "metadata": {},
     "output_type": "display_data"
    },
    {
     "data": {
      "application/vnd.jupyter.widget-view+json": {
       "model_id": "6eeb7520183041e6ae2f2168ed3cc489",
       "version_major": 2,
       "version_minor": 0
      },
      "text/plain": [
       "Batches:   0%|          | 0/1 [00:00<?, ?it/s]"
      ]
     },
     "metadata": {},
     "output_type": "display_data"
    },
    {
     "data": {
      "application/vnd.jupyter.widget-view+json": {
       "model_id": "ee0fbd11606444deb56cd5ff3f4f6332",
       "version_major": 2,
       "version_minor": 0
      },
      "text/plain": [
       "Batches:   0%|          | 0/1 [00:00<?, ?it/s]"
      ]
     },
     "metadata": {},
     "output_type": "display_data"
    },
    {
     "data": {
      "application/vnd.jupyter.widget-view+json": {
       "model_id": "626a248b8dbe4364b2fa866556ded412",
       "version_major": 2,
       "version_minor": 0
      },
      "text/plain": [
       "Batches:   0%|          | 0/1 [00:00<?, ?it/s]"
      ]
     },
     "metadata": {},
     "output_type": "display_data"
    },
    {
     "data": {
      "application/vnd.jupyter.widget-view+json": {
       "model_id": "54b220251a3a462ab021d6062dc93010",
       "version_major": 2,
       "version_minor": 0
      },
      "text/plain": [
       "Batches:   0%|          | 0/1 [00:00<?, ?it/s]"
      ]
     },
     "metadata": {},
     "output_type": "display_data"
    },
    {
     "data": {
      "application/vnd.jupyter.widget-view+json": {
       "model_id": "c52da66123534a008bf023bf44863268",
       "version_major": 2,
       "version_minor": 0
      },
      "text/plain": [
       "Batches:   0%|          | 0/1 [00:00<?, ?it/s]"
      ]
     },
     "metadata": {},
     "output_type": "display_data"
    },
    {
     "data": {
      "application/vnd.jupyter.widget-view+json": {
       "model_id": "3b26529e0f1d46c4bbeedc73fa2115a7",
       "version_major": 2,
       "version_minor": 0
      },
      "text/plain": [
       "Batches:   0%|          | 0/1 [00:00<?, ?it/s]"
      ]
     },
     "metadata": {},
     "output_type": "display_data"
    },
    {
     "data": {
      "application/vnd.jupyter.widget-view+json": {
       "model_id": "4d8440263ae64149bdbd7f947fbc110a",
       "version_major": 2,
       "version_minor": 0
      },
      "text/plain": [
       "Batches:   0%|          | 0/1 [00:00<?, ?it/s]"
      ]
     },
     "metadata": {},
     "output_type": "display_data"
    },
    {
     "data": {
      "application/vnd.jupyter.widget-view+json": {
       "model_id": "aea646ecf75e48c9b5436b87483176b4",
       "version_major": 2,
       "version_minor": 0
      },
      "text/plain": [
       "Batches:   0%|          | 0/1 [00:00<?, ?it/s]"
      ]
     },
     "metadata": {},
     "output_type": "display_data"
    },
    {
     "data": {
      "application/vnd.jupyter.widget-view+json": {
       "model_id": "2252a43dfd15452b97671fc6d4023979",
       "version_major": 2,
       "version_minor": 0
      },
      "text/plain": [
       "Batches:   0%|          | 0/1 [00:00<?, ?it/s]"
      ]
     },
     "metadata": {},
     "output_type": "display_data"
    },
    {
     "data": {
      "application/vnd.jupyter.widget-view+json": {
       "model_id": "0718817f9ba944f3aa4dd60a1fe13eba",
       "version_major": 2,
       "version_minor": 0
      },
      "text/plain": [
       "Batches:   0%|          | 0/1 [00:00<?, ?it/s]"
      ]
     },
     "metadata": {},
     "output_type": "display_data"
    },
    {
     "data": {
      "application/vnd.jupyter.widget-view+json": {
       "model_id": "0d942ebb6a8c4ee7b533c9d0bd3926a4",
       "version_major": 2,
       "version_minor": 0
      },
      "text/plain": [
       "Batches:   0%|          | 0/1 [00:00<?, ?it/s]"
      ]
     },
     "metadata": {},
     "output_type": "display_data"
    },
    {
     "data": {
      "application/vnd.jupyter.widget-view+json": {
       "model_id": "cd32b9ab622748519fb24d43714d6bb2",
       "version_major": 2,
       "version_minor": 0
      },
      "text/plain": [
       "Batches:   0%|          | 0/1 [00:00<?, ?it/s]"
      ]
     },
     "metadata": {},
     "output_type": "display_data"
    },
    {
     "data": {
      "application/vnd.jupyter.widget-view+json": {
       "model_id": "765ef969f6b6456eb13c2c97608cf435",
       "version_major": 2,
       "version_minor": 0
      },
      "text/plain": [
       "Batches:   0%|          | 0/1 [00:00<?, ?it/s]"
      ]
     },
     "metadata": {},
     "output_type": "display_data"
    },
    {
     "data": {
      "application/vnd.jupyter.widget-view+json": {
       "model_id": "a9e3e833408344609918c8568287ef66",
       "version_major": 2,
       "version_minor": 0
      },
      "text/plain": [
       "Batches:   0%|          | 0/1 [00:00<?, ?it/s]"
      ]
     },
     "metadata": {},
     "output_type": "display_data"
    },
    {
     "data": {
      "application/vnd.jupyter.widget-view+json": {
       "model_id": "170b49a14d044a9bac61eb5f4de28b69",
       "version_major": 2,
       "version_minor": 0
      },
      "text/plain": [
       "Batches:   0%|          | 0/1 [00:00<?, ?it/s]"
      ]
     },
     "metadata": {},
     "output_type": "display_data"
    },
    {
     "data": {
      "application/vnd.jupyter.widget-view+json": {
       "model_id": "2e91a0ccadc94923b55e290916419fcd",
       "version_major": 2,
       "version_minor": 0
      },
      "text/plain": [
       "Batches:   0%|          | 0/1 [00:00<?, ?it/s]"
      ]
     },
     "metadata": {},
     "output_type": "display_data"
    },
    {
     "data": {
      "application/vnd.jupyter.widget-view+json": {
       "model_id": "0bbe3e56f8424f30b69ac9cd91e918d0",
       "version_major": 2,
       "version_minor": 0
      },
      "text/plain": [
       "Batches:   0%|          | 0/1 [00:00<?, ?it/s]"
      ]
     },
     "metadata": {},
     "output_type": "display_data"
    },
    {
     "data": {
      "application/vnd.jupyter.widget-view+json": {
       "model_id": "a4b59031503b414091ed99fd5041ff13",
       "version_major": 2,
       "version_minor": 0
      },
      "text/plain": [
       "Batches:   0%|          | 0/1 [00:00<?, ?it/s]"
      ]
     },
     "metadata": {},
     "output_type": "display_data"
    },
    {
     "data": {
      "application/vnd.jupyter.widget-view+json": {
       "model_id": "92fa5f30380e488f9701397cc8b66507",
       "version_major": 2,
       "version_minor": 0
      },
      "text/plain": [
       "Batches:   0%|          | 0/1 [00:00<?, ?it/s]"
      ]
     },
     "metadata": {},
     "output_type": "display_data"
    },
    {
     "data": {
      "application/vnd.jupyter.widget-view+json": {
       "model_id": "c8b68e547b0241b4b0f3fc6abc9c4823",
       "version_major": 2,
       "version_minor": 0
      },
      "text/plain": [
       "Batches:   0%|          | 0/1 [00:00<?, ?it/s]"
      ]
     },
     "metadata": {},
     "output_type": "display_data"
    },
    {
     "data": {
      "application/vnd.jupyter.widget-view+json": {
       "model_id": "83710162530b4c72a20a85f440c0e9cc",
       "version_major": 2,
       "version_minor": 0
      },
      "text/plain": [
       "Batches:   0%|          | 0/1 [00:00<?, ?it/s]"
      ]
     },
     "metadata": {},
     "output_type": "display_data"
    },
    {
     "data": {
      "application/vnd.jupyter.widget-view+json": {
       "model_id": "84a9afedbb6b460a90b9f181fa215263",
       "version_major": 2,
       "version_minor": 0
      },
      "text/plain": [
       "Batches:   0%|          | 0/1 [00:00<?, ?it/s]"
      ]
     },
     "metadata": {},
     "output_type": "display_data"
    },
    {
     "data": {
      "application/vnd.jupyter.widget-view+json": {
       "model_id": "87bf66c08eec4905b449e3fc876261be",
       "version_major": 2,
       "version_minor": 0
      },
      "text/plain": [
       "Batches:   0%|          | 0/1 [00:00<?, ?it/s]"
      ]
     },
     "metadata": {},
     "output_type": "display_data"
    },
    {
     "data": {
      "application/vnd.jupyter.widget-view+json": {
       "model_id": "cec7c9a0bd9a426fa87d5990f7d69ae6",
       "version_major": 2,
       "version_minor": 0
      },
      "text/plain": [
       "Batches:   0%|          | 0/1 [00:00<?, ?it/s]"
      ]
     },
     "metadata": {},
     "output_type": "display_data"
    },
    {
     "data": {
      "application/vnd.jupyter.widget-view+json": {
       "model_id": "8e53d11904564635acb53b1c5c179293",
       "version_major": 2,
       "version_minor": 0
      },
      "text/plain": [
       "Batches:   0%|          | 0/1 [00:00<?, ?it/s]"
      ]
     },
     "metadata": {},
     "output_type": "display_data"
    },
    {
     "data": {
      "application/vnd.jupyter.widget-view+json": {
       "model_id": "cfe9f101f76a4c3e9cc46bca24a5a850",
       "version_major": 2,
       "version_minor": 0
      },
      "text/plain": [
       "Batches:   0%|          | 0/1 [00:00<?, ?it/s]"
      ]
     },
     "metadata": {},
     "output_type": "display_data"
    },
    {
     "data": {
      "application/vnd.jupyter.widget-view+json": {
       "model_id": "49fb0caca17642b086d0012c5ef17011",
       "version_major": 2,
       "version_minor": 0
      },
      "text/plain": [
       "Batches:   0%|          | 0/1 [00:00<?, ?it/s]"
      ]
     },
     "metadata": {},
     "output_type": "display_data"
    },
    {
     "data": {
      "application/vnd.jupyter.widget-view+json": {
       "model_id": "f9fc0a6181fe4aacad5b0b84235fc2eb",
       "version_major": 2,
       "version_minor": 0
      },
      "text/plain": [
       "Batches:   0%|          | 0/1 [00:00<?, ?it/s]"
      ]
     },
     "metadata": {},
     "output_type": "display_data"
    },
    {
     "data": {
      "application/vnd.jupyter.widget-view+json": {
       "model_id": "2423522b9c244379ad811245ad4d6058",
       "version_major": 2,
       "version_minor": 0
      },
      "text/plain": [
       "Batches:   0%|          | 0/1 [00:00<?, ?it/s]"
      ]
     },
     "metadata": {},
     "output_type": "display_data"
    },
    {
     "data": {
      "application/vnd.jupyter.widget-view+json": {
       "model_id": "7416bd965e9c4ae59a2689a041edf82f",
       "version_major": 2,
       "version_minor": 0
      },
      "text/plain": [
       "Batches:   0%|          | 0/1 [00:00<?, ?it/s]"
      ]
     },
     "metadata": {},
     "output_type": "display_data"
    },
    {
     "data": {
      "application/vnd.jupyter.widget-view+json": {
       "model_id": "0a57bcb1fab84a3e93f9f555b0c19d83",
       "version_major": 2,
       "version_minor": 0
      },
      "text/plain": [
       "Batches:   0%|          | 0/1 [00:00<?, ?it/s]"
      ]
     },
     "metadata": {},
     "output_type": "display_data"
    },
    {
     "data": {
      "application/vnd.jupyter.widget-view+json": {
       "model_id": "e0356e4fb1b0497dbf0b6bdc2281bb34",
       "version_major": 2,
       "version_minor": 0
      },
      "text/plain": [
       "Batches:   0%|          | 0/1 [00:00<?, ?it/s]"
      ]
     },
     "metadata": {},
     "output_type": "display_data"
    },
    {
     "data": {
      "application/vnd.jupyter.widget-view+json": {
       "model_id": "aa37365846be493d84e5ca3fa139e79c",
       "version_major": 2,
       "version_minor": 0
      },
      "text/plain": [
       "Batches:   0%|          | 0/1 [00:00<?, ?it/s]"
      ]
     },
     "metadata": {},
     "output_type": "display_data"
    },
    {
     "data": {
      "application/vnd.jupyter.widget-view+json": {
       "model_id": "fdb15972cf554886b4066482caaadf75",
       "version_major": 2,
       "version_minor": 0
      },
      "text/plain": [
       "Batches:   0%|          | 0/1 [00:00<?, ?it/s]"
      ]
     },
     "metadata": {},
     "output_type": "display_data"
    },
    {
     "data": {
      "application/vnd.jupyter.widget-view+json": {
       "model_id": "9935ca99b6a8432696721c14a8831817",
       "version_major": 2,
       "version_minor": 0
      },
      "text/plain": [
       "Batches:   0%|          | 0/1 [00:00<?, ?it/s]"
      ]
     },
     "metadata": {},
     "output_type": "display_data"
    },
    {
     "data": {
      "application/vnd.jupyter.widget-view+json": {
       "model_id": "5b3c48e720b946418e0817adcc071d23",
       "version_major": 2,
       "version_minor": 0
      },
      "text/plain": [
       "Batches:   0%|          | 0/1 [00:00<?, ?it/s]"
      ]
     },
     "metadata": {},
     "output_type": "display_data"
    },
    {
     "data": {
      "application/vnd.jupyter.widget-view+json": {
       "model_id": "81dde16b039040bdabbf776979856aff",
       "version_major": 2,
       "version_minor": 0
      },
      "text/plain": [
       "Batches:   0%|          | 0/1 [00:00<?, ?it/s]"
      ]
     },
     "metadata": {},
     "output_type": "display_data"
    },
    {
     "data": {
      "application/vnd.jupyter.widget-view+json": {
       "model_id": "5359e617be3c4269a8de313eb8f832d7",
       "version_major": 2,
       "version_minor": 0
      },
      "text/plain": [
       "Batches:   0%|          | 0/1 [00:00<?, ?it/s]"
      ]
     },
     "metadata": {},
     "output_type": "display_data"
    },
    {
     "data": {
      "application/vnd.jupyter.widget-view+json": {
       "model_id": "c79b2f2ecd614d719968dd01d28c9326",
       "version_major": 2,
       "version_minor": 0
      },
      "text/plain": [
       "Batches:   0%|          | 0/1 [00:00<?, ?it/s]"
      ]
     },
     "metadata": {},
     "output_type": "display_data"
    },
    {
     "data": {
      "application/vnd.jupyter.widget-view+json": {
       "model_id": "068a776b70e847a8953989cd294c5e11",
       "version_major": 2,
       "version_minor": 0
      },
      "text/plain": [
       "Batches:   0%|          | 0/1 [00:00<?, ?it/s]"
      ]
     },
     "metadata": {},
     "output_type": "display_data"
    },
    {
     "data": {
      "application/vnd.jupyter.widget-view+json": {
       "model_id": "3fa5aa28e7044f09a3c4e56aa95c8774",
       "version_major": 2,
       "version_minor": 0
      },
      "text/plain": [
       "Batches:   0%|          | 0/1 [00:00<?, ?it/s]"
      ]
     },
     "metadata": {},
     "output_type": "display_data"
    },
    {
     "data": {
      "application/vnd.jupyter.widget-view+json": {
       "model_id": "ebb566057e214cd6a56842d321713dcb",
       "version_major": 2,
       "version_minor": 0
      },
      "text/plain": [
       "Batches:   0%|          | 0/1 [00:00<?, ?it/s]"
      ]
     },
     "metadata": {},
     "output_type": "display_data"
    },
    {
     "data": {
      "application/vnd.jupyter.widget-view+json": {
       "model_id": "0738dd00c766439685df49755f5e09e5",
       "version_major": 2,
       "version_minor": 0
      },
      "text/plain": [
       "Batches:   0%|          | 0/1 [00:00<?, ?it/s]"
      ]
     },
     "metadata": {},
     "output_type": "display_data"
    },
    {
     "data": {
      "application/vnd.jupyter.widget-view+json": {
       "model_id": "cee6e45442ec45d3bb7be18bef2c8a65",
       "version_major": 2,
       "version_minor": 0
      },
      "text/plain": [
       "Batches:   0%|          | 0/1 [00:00<?, ?it/s]"
      ]
     },
     "metadata": {},
     "output_type": "display_data"
    },
    {
     "data": {
      "application/vnd.jupyter.widget-view+json": {
       "model_id": "a80e4e98294c45daa230707eaef948fd",
       "version_major": 2,
       "version_minor": 0
      },
      "text/plain": [
       "Batches:   0%|          | 0/1 [00:00<?, ?it/s]"
      ]
     },
     "metadata": {},
     "output_type": "display_data"
    },
    {
     "data": {
      "application/vnd.jupyter.widget-view+json": {
       "model_id": "fd4c8f607fe34414b1b347a2afcc1ae1",
       "version_major": 2,
       "version_minor": 0
      },
      "text/plain": [
       "Batches:   0%|          | 0/1 [00:00<?, ?it/s]"
      ]
     },
     "metadata": {},
     "output_type": "display_data"
    },
    {
     "data": {
      "application/vnd.jupyter.widget-view+json": {
       "model_id": "0b79306234ca4751bbfe2ee3d8d5545e",
       "version_major": 2,
       "version_minor": 0
      },
      "text/plain": [
       "Batches:   0%|          | 0/1 [00:00<?, ?it/s]"
      ]
     },
     "metadata": {},
     "output_type": "display_data"
    },
    {
     "data": {
      "application/vnd.jupyter.widget-view+json": {
       "model_id": "7ffc84b270554c23a4ef912a514a7c7a",
       "version_major": 2,
       "version_minor": 0
      },
      "text/plain": [
       "Batches:   0%|          | 0/1 [00:00<?, ?it/s]"
      ]
     },
     "metadata": {},
     "output_type": "display_data"
    },
    {
     "data": {
      "application/vnd.jupyter.widget-view+json": {
       "model_id": "18f3dd3a3e624cef8fac96a4e1be6b1e",
       "version_major": 2,
       "version_minor": 0
      },
      "text/plain": [
       "Batches:   0%|          | 0/1 [00:00<?, ?it/s]"
      ]
     },
     "metadata": {},
     "output_type": "display_data"
    },
    {
     "data": {
      "application/vnd.jupyter.widget-view+json": {
       "model_id": "6ca97a42894e459998e941e1b1ec5911",
       "version_major": 2,
       "version_minor": 0
      },
      "text/plain": [
       "Batches:   0%|          | 0/1 [00:00<?, ?it/s]"
      ]
     },
     "metadata": {},
     "output_type": "display_data"
    },
    {
     "data": {
      "application/vnd.jupyter.widget-view+json": {
       "model_id": "7a0701acf7a1450485f850fce60b8b7c",
       "version_major": 2,
       "version_minor": 0
      },
      "text/plain": [
       "Batches:   0%|          | 0/1 [00:00<?, ?it/s]"
      ]
     },
     "metadata": {},
     "output_type": "display_data"
    },
    {
     "data": {
      "application/vnd.jupyter.widget-view+json": {
       "model_id": "79f71f714a744ff58f637c7ade5bd756",
       "version_major": 2,
       "version_minor": 0
      },
      "text/plain": [
       "Batches:   0%|          | 0/1 [00:00<?, ?it/s]"
      ]
     },
     "metadata": {},
     "output_type": "display_data"
    },
    {
     "data": {
      "application/vnd.jupyter.widget-view+json": {
       "model_id": "4f27e07246514415a0b6ec1b013af6aa",
       "version_major": 2,
       "version_minor": 0
      },
      "text/plain": [
       "Batches:   0%|          | 0/1 [00:00<?, ?it/s]"
      ]
     },
     "metadata": {},
     "output_type": "display_data"
    },
    {
     "data": {
      "application/vnd.jupyter.widget-view+json": {
       "model_id": "8de7a8d5c6874711bb511c93e6a135c3",
       "version_major": 2,
       "version_minor": 0
      },
      "text/plain": [
       "Batches:   0%|          | 0/1 [00:00<?, ?it/s]"
      ]
     },
     "metadata": {},
     "output_type": "display_data"
    },
    {
     "data": {
      "application/vnd.jupyter.widget-view+json": {
       "model_id": "7f2ad2f8400a41ae8e1f4da78b6ec7ac",
       "version_major": 2,
       "version_minor": 0
      },
      "text/plain": [
       "Batches:   0%|          | 0/1 [00:00<?, ?it/s]"
      ]
     },
     "metadata": {},
     "output_type": "display_data"
    },
    {
     "data": {
      "application/vnd.jupyter.widget-view+json": {
       "model_id": "5a5dc0f05d9c4ff6808f1048c2cad955",
       "version_major": 2,
       "version_minor": 0
      },
      "text/plain": [
       "Batches:   0%|          | 0/1 [00:00<?, ?it/s]"
      ]
     },
     "metadata": {},
     "output_type": "display_data"
    },
    {
     "data": {
      "application/vnd.jupyter.widget-view+json": {
       "model_id": "17422c0950e54ce486aab3ed1ad87060",
       "version_major": 2,
       "version_minor": 0
      },
      "text/plain": [
       "Batches:   0%|          | 0/1 [00:00<?, ?it/s]"
      ]
     },
     "metadata": {},
     "output_type": "display_data"
    },
    {
     "data": {
      "application/vnd.jupyter.widget-view+json": {
       "model_id": "bc470da0721c4a49a06a65e38b1c3383",
       "version_major": 2,
       "version_minor": 0
      },
      "text/plain": [
       "Batches:   0%|          | 0/1 [00:00<?, ?it/s]"
      ]
     },
     "metadata": {},
     "output_type": "display_data"
    },
    {
     "data": {
      "application/vnd.jupyter.widget-view+json": {
       "model_id": "b6b56bbcf57d42278c3da68edf3514cc",
       "version_major": 2,
       "version_minor": 0
      },
      "text/plain": [
       "Batches:   0%|          | 0/1 [00:00<?, ?it/s]"
      ]
     },
     "metadata": {},
     "output_type": "display_data"
    },
    {
     "data": {
      "application/vnd.jupyter.widget-view+json": {
       "model_id": "6615cf9643e647ca86608f2b0ae1f3cc",
       "version_major": 2,
       "version_minor": 0
      },
      "text/plain": [
       "Batches:   0%|          | 0/1 [00:00<?, ?it/s]"
      ]
     },
     "metadata": {},
     "output_type": "display_data"
    },
    {
     "data": {
      "application/vnd.jupyter.widget-view+json": {
       "model_id": "9e276a18ae0644a3a918f44bb825ff36",
       "version_major": 2,
       "version_minor": 0
      },
      "text/plain": [
       "Batches:   0%|          | 0/1 [00:00<?, ?it/s]"
      ]
     },
     "metadata": {},
     "output_type": "display_data"
    },
    {
     "data": {
      "application/vnd.jupyter.widget-view+json": {
       "model_id": "832b32b460e7423bb0320d40f1ec680f",
       "version_major": 2,
       "version_minor": 0
      },
      "text/plain": [
       "Batches:   0%|          | 0/1 [00:00<?, ?it/s]"
      ]
     },
     "metadata": {},
     "output_type": "display_data"
    },
    {
     "data": {
      "application/vnd.jupyter.widget-view+json": {
       "model_id": "481d52e9843b4f839b0b65f023b57dee",
       "version_major": 2,
       "version_minor": 0
      },
      "text/plain": [
       "Batches:   0%|          | 0/1 [00:00<?, ?it/s]"
      ]
     },
     "metadata": {},
     "output_type": "display_data"
    },
    {
     "data": {
      "application/vnd.jupyter.widget-view+json": {
       "model_id": "6cee2b22ecae4ec8b8a0b80eece4b6a1",
       "version_major": 2,
       "version_minor": 0
      },
      "text/plain": [
       "Batches:   0%|          | 0/1 [00:00<?, ?it/s]"
      ]
     },
     "metadata": {},
     "output_type": "display_data"
    },
    {
     "data": {
      "application/vnd.jupyter.widget-view+json": {
       "model_id": "75df9ea3768845a59e868cd1566a3cef",
       "version_major": 2,
       "version_minor": 0
      },
      "text/plain": [
       "Batches:   0%|          | 0/1 [00:00<?, ?it/s]"
      ]
     },
     "metadata": {},
     "output_type": "display_data"
    },
    {
     "data": {
      "application/vnd.jupyter.widget-view+json": {
       "model_id": "1cf113b68e664006a7858916774a43e2",
       "version_major": 2,
       "version_minor": 0
      },
      "text/plain": [
       "Batches:   0%|          | 0/1 [00:00<?, ?it/s]"
      ]
     },
     "metadata": {},
     "output_type": "display_data"
    },
    {
     "data": {
      "application/vnd.jupyter.widget-view+json": {
       "model_id": "408622dd4b7148f7bc3516c4cd4d4823",
       "version_major": 2,
       "version_minor": 0
      },
      "text/plain": [
       "Batches:   0%|          | 0/1 [00:00<?, ?it/s]"
      ]
     },
     "metadata": {},
     "output_type": "display_data"
    },
    {
     "data": {
      "application/vnd.jupyter.widget-view+json": {
       "model_id": "bb370caf4b1a422bbeaaf779def32c14",
       "version_major": 2,
       "version_minor": 0
      },
      "text/plain": [
       "Batches:   0%|          | 0/1 [00:00<?, ?it/s]"
      ]
     },
     "metadata": {},
     "output_type": "display_data"
    },
    {
     "data": {
      "application/vnd.jupyter.widget-view+json": {
       "model_id": "cb055d1a90e142f2b47d4e9e8a3b73f6",
       "version_major": 2,
       "version_minor": 0
      },
      "text/plain": [
       "Batches:   0%|          | 0/1 [00:00<?, ?it/s]"
      ]
     },
     "metadata": {},
     "output_type": "display_data"
    },
    {
     "data": {
      "application/vnd.jupyter.widget-view+json": {
       "model_id": "d9b81ab0eaa0405d8c480af83ca9c196",
       "version_major": 2,
       "version_minor": 0
      },
      "text/plain": [
       "Batches:   0%|          | 0/1 [00:00<?, ?it/s]"
      ]
     },
     "metadata": {},
     "output_type": "display_data"
    },
    {
     "data": {
      "application/vnd.jupyter.widget-view+json": {
       "model_id": "9b56bf937d78479da8efa315edc2e080",
       "version_major": 2,
       "version_minor": 0
      },
      "text/plain": [
       "Batches:   0%|          | 0/1 [00:00<?, ?it/s]"
      ]
     },
     "metadata": {},
     "output_type": "display_data"
    },
    {
     "data": {
      "application/vnd.jupyter.widget-view+json": {
       "model_id": "6eac2a137a3b4cd393cf0a92c624e169",
       "version_major": 2,
       "version_minor": 0
      },
      "text/plain": [
       "Batches:   0%|          | 0/1 [00:00<?, ?it/s]"
      ]
     },
     "metadata": {},
     "output_type": "display_data"
    },
    {
     "data": {
      "application/vnd.jupyter.widget-view+json": {
       "model_id": "e457e1e222894db7a1ac188b704452bb",
       "version_major": 2,
       "version_minor": 0
      },
      "text/plain": [
       "Batches:   0%|          | 0/1 [00:00<?, ?it/s]"
      ]
     },
     "metadata": {},
     "output_type": "display_data"
    },
    {
     "data": {
      "application/vnd.jupyter.widget-view+json": {
       "model_id": "48f5342b0bc444a29dde307f6ecd6202",
       "version_major": 2,
       "version_minor": 0
      },
      "text/plain": [
       "Batches:   0%|          | 0/1 [00:00<?, ?it/s]"
      ]
     },
     "metadata": {},
     "output_type": "display_data"
    },
    {
     "data": {
      "application/vnd.jupyter.widget-view+json": {
       "model_id": "6450d5215a564eaca55084fa17056222",
       "version_major": 2,
       "version_minor": 0
      },
      "text/plain": [
       "Batches:   0%|          | 0/1 [00:00<?, ?it/s]"
      ]
     },
     "metadata": {},
     "output_type": "display_data"
    },
    {
     "data": {
      "application/vnd.jupyter.widget-view+json": {
       "model_id": "2c54eba6001d458988c17e090185d148",
       "version_major": 2,
       "version_minor": 0
      },
      "text/plain": [
       "Batches:   0%|          | 0/1 [00:00<?, ?it/s]"
      ]
     },
     "metadata": {},
     "output_type": "display_data"
    },
    {
     "data": {
      "application/vnd.jupyter.widget-view+json": {
       "model_id": "4be391ca4bbd40cf9439b3abb36a4383",
       "version_major": 2,
       "version_minor": 0
      },
      "text/plain": [
       "Batches:   0%|          | 0/1 [00:00<?, ?it/s]"
      ]
     },
     "metadata": {},
     "output_type": "display_data"
    },
    {
     "data": {
      "application/vnd.jupyter.widget-view+json": {
       "model_id": "ab3fa65c9a6a4edaba5f8684cb10d982",
       "version_major": 2,
       "version_minor": 0
      },
      "text/plain": [
       "Batches:   0%|          | 0/1 [00:00<?, ?it/s]"
      ]
     },
     "metadata": {},
     "output_type": "display_data"
    },
    {
     "data": {
      "application/vnd.jupyter.widget-view+json": {
       "model_id": "cddcdb86f2de468397199a25cab6e5b4",
       "version_major": 2,
       "version_minor": 0
      },
      "text/plain": [
       "Batches:   0%|          | 0/1 [00:00<?, ?it/s]"
      ]
     },
     "metadata": {},
     "output_type": "display_data"
    },
    {
     "data": {
      "application/vnd.jupyter.widget-view+json": {
       "model_id": "984d626c37de4cd3848c5a0579fde906",
       "version_major": 2,
       "version_minor": 0
      },
      "text/plain": [
       "Batches:   0%|          | 0/1 [00:00<?, ?it/s]"
      ]
     },
     "metadata": {},
     "output_type": "display_data"
    },
    {
     "data": {
      "application/vnd.jupyter.widget-view+json": {
       "model_id": "f18ee894a51f4eecb95c9f41a4f3306e",
       "version_major": 2,
       "version_minor": 0
      },
      "text/plain": [
       "Batches:   0%|          | 0/1 [00:00<?, ?it/s]"
      ]
     },
     "metadata": {},
     "output_type": "display_data"
    },
    {
     "data": {
      "application/vnd.jupyter.widget-view+json": {
       "model_id": "4c3431a7f118492093f6b77bb63ed987",
       "version_major": 2,
       "version_minor": 0
      },
      "text/plain": [
       "Batches:   0%|          | 0/1 [00:00<?, ?it/s]"
      ]
     },
     "metadata": {},
     "output_type": "display_data"
    },
    {
     "data": {
      "application/vnd.jupyter.widget-view+json": {
       "model_id": "84df068348694e7ab63c27d9d5e949d7",
       "version_major": 2,
       "version_minor": 0
      },
      "text/plain": [
       "Batches:   0%|          | 0/1 [00:00<?, ?it/s]"
      ]
     },
     "metadata": {},
     "output_type": "display_data"
    },
    {
     "data": {
      "application/vnd.jupyter.widget-view+json": {
       "model_id": "05f04241d018454f9e96e29015a372e6",
       "version_major": 2,
       "version_minor": 0
      },
      "text/plain": [
       "Batches:   0%|          | 0/1 [00:00<?, ?it/s]"
      ]
     },
     "metadata": {},
     "output_type": "display_data"
    },
    {
     "data": {
      "application/vnd.jupyter.widget-view+json": {
       "model_id": "fe6e83ab37e44097ba60b26c43d2b179",
       "version_major": 2,
       "version_minor": 0
      },
      "text/plain": [
       "Batches:   0%|          | 0/1 [00:00<?, ?it/s]"
      ]
     },
     "metadata": {},
     "output_type": "display_data"
    },
    {
     "data": {
      "application/vnd.jupyter.widget-view+json": {
       "model_id": "c8549ada28af4447a2dea87c38f8197c",
       "version_major": 2,
       "version_minor": 0
      },
      "text/plain": [
       "Batches:   0%|          | 0/1 [00:00<?, ?it/s]"
      ]
     },
     "metadata": {},
     "output_type": "display_data"
    },
    {
     "data": {
      "application/vnd.jupyter.widget-view+json": {
       "model_id": "a36895f937104bb6851ae0a3c30b5199",
       "version_major": 2,
       "version_minor": 0
      },
      "text/plain": [
       "Batches:   0%|          | 0/1 [00:00<?, ?it/s]"
      ]
     },
     "metadata": {},
     "output_type": "display_data"
    },
    {
     "data": {
      "application/vnd.jupyter.widget-view+json": {
       "model_id": "4c95d8aeb6224c11a0a35a98b7fc4529",
       "version_major": 2,
       "version_minor": 0
      },
      "text/plain": [
       "Batches:   0%|          | 0/1 [00:00<?, ?it/s]"
      ]
     },
     "metadata": {},
     "output_type": "display_data"
    },
    {
     "data": {
      "application/vnd.jupyter.widget-view+json": {
       "model_id": "66391f12576540d9b71340db8deaab54",
       "version_major": 2,
       "version_minor": 0
      },
      "text/plain": [
       "Batches:   0%|          | 0/1 [00:00<?, ?it/s]"
      ]
     },
     "metadata": {},
     "output_type": "display_data"
    },
    {
     "data": {
      "application/vnd.jupyter.widget-view+json": {
       "model_id": "4a27fff0d96c42b48bddc6a4a78c1062",
       "version_major": 2,
       "version_minor": 0
      },
      "text/plain": [
       "Batches:   0%|          | 0/1 [00:00<?, ?it/s]"
      ]
     },
     "metadata": {},
     "output_type": "display_data"
    },
    {
     "data": {
      "application/vnd.jupyter.widget-view+json": {
       "model_id": "4c3f34f5a0694187baa9cbc9b805c126",
       "version_major": 2,
       "version_minor": 0
      },
      "text/plain": [
       "Batches:   0%|          | 0/1 [00:00<?, ?it/s]"
      ]
     },
     "metadata": {},
     "output_type": "display_data"
    },
    {
     "data": {
      "application/vnd.jupyter.widget-view+json": {
       "model_id": "4a60cd4bd0e347e4883ddebfcce85134",
       "version_major": 2,
       "version_minor": 0
      },
      "text/plain": [
       "Batches:   0%|          | 0/1 [00:00<?, ?it/s]"
      ]
     },
     "metadata": {},
     "output_type": "display_data"
    },
    {
     "data": {
      "application/vnd.jupyter.widget-view+json": {
       "model_id": "81318e6832234580a2214f7f05bc37fe",
       "version_major": 2,
       "version_minor": 0
      },
      "text/plain": [
       "Batches:   0%|          | 0/1 [00:00<?, ?it/s]"
      ]
     },
     "metadata": {},
     "output_type": "display_data"
    },
    {
     "data": {
      "application/vnd.jupyter.widget-view+json": {
       "model_id": "7f53e32a71a54e19b1fa7c2181c9ccde",
       "version_major": 2,
       "version_minor": 0
      },
      "text/plain": [
       "Batches:   0%|          | 0/1 [00:00<?, ?it/s]"
      ]
     },
     "metadata": {},
     "output_type": "display_data"
    },
    {
     "data": {
      "application/vnd.jupyter.widget-view+json": {
       "model_id": "3a0124f49e224ebe940bdbbcbb331cec",
       "version_major": 2,
       "version_minor": 0
      },
      "text/plain": [
       "Batches:   0%|          | 0/1 [00:00<?, ?it/s]"
      ]
     },
     "metadata": {},
     "output_type": "display_data"
    },
    {
     "data": {
      "application/vnd.jupyter.widget-view+json": {
       "model_id": "76c003bee74940799e79ba7a2196624a",
       "version_major": 2,
       "version_minor": 0
      },
      "text/plain": [
       "Batches:   0%|          | 0/1 [00:00<?, ?it/s]"
      ]
     },
     "metadata": {},
     "output_type": "display_data"
    },
    {
     "data": {
      "application/vnd.jupyter.widget-view+json": {
       "model_id": "c7db7bcc0e514b718135cd0fe88f5543",
       "version_major": 2,
       "version_minor": 0
      },
      "text/plain": [
       "Batches:   0%|          | 0/1 [00:00<?, ?it/s]"
      ]
     },
     "metadata": {},
     "output_type": "display_data"
    },
    {
     "data": {
      "application/vnd.jupyter.widget-view+json": {
       "model_id": "151f4459684344729390e7ed058be4f6",
       "version_major": 2,
       "version_minor": 0
      },
      "text/plain": [
       "Batches:   0%|          | 0/1 [00:00<?, ?it/s]"
      ]
     },
     "metadata": {},
     "output_type": "display_data"
    },
    {
     "data": {
      "application/vnd.jupyter.widget-view+json": {
       "model_id": "d8db4eebed404c8f922a3a3602cdf821",
       "version_major": 2,
       "version_minor": 0
      },
      "text/plain": [
       "Batches:   0%|          | 0/1 [00:00<?, ?it/s]"
      ]
     },
     "metadata": {},
     "output_type": "display_data"
    },
    {
     "data": {
      "application/vnd.jupyter.widget-view+json": {
       "model_id": "b1c9f8dd62f24ab7b64d789c3159e041",
       "version_major": 2,
       "version_minor": 0
      },
      "text/plain": [
       "Batches:   0%|          | 0/1 [00:00<?, ?it/s]"
      ]
     },
     "metadata": {},
     "output_type": "display_data"
    },
    {
     "data": {
      "application/vnd.jupyter.widget-view+json": {
       "model_id": "9c93f0d2bb52455eb10bff0766155c87",
       "version_major": 2,
       "version_minor": 0
      },
      "text/plain": [
       "Batches:   0%|          | 0/1 [00:00<?, ?it/s]"
      ]
     },
     "metadata": {},
     "output_type": "display_data"
    },
    {
     "data": {
      "application/vnd.jupyter.widget-view+json": {
       "model_id": "a8133f6353d84acfa940312889880c83",
       "version_major": 2,
       "version_minor": 0
      },
      "text/plain": [
       "Batches:   0%|          | 0/1 [00:00<?, ?it/s]"
      ]
     },
     "metadata": {},
     "output_type": "display_data"
    },
    {
     "data": {
      "application/vnd.jupyter.widget-view+json": {
       "model_id": "2c0f31ed56c2483fb9607867a41d93e6",
       "version_major": 2,
       "version_minor": 0
      },
      "text/plain": [
       "Batches:   0%|          | 0/1 [00:00<?, ?it/s]"
      ]
     },
     "metadata": {},
     "output_type": "display_data"
    },
    {
     "data": {
      "application/vnd.jupyter.widget-view+json": {
       "model_id": "6ab0a55981234fb5a4c10fbaa8b7c82b",
       "version_major": 2,
       "version_minor": 0
      },
      "text/plain": [
       "Batches:   0%|          | 0/1 [00:00<?, ?it/s]"
      ]
     },
     "metadata": {},
     "output_type": "display_data"
    },
    {
     "data": {
      "application/vnd.jupyter.widget-view+json": {
       "model_id": "528ca9459e554e48a3776d6070845bc6",
       "version_major": 2,
       "version_minor": 0
      },
      "text/plain": [
       "Batches:   0%|          | 0/1 [00:00<?, ?it/s]"
      ]
     },
     "metadata": {},
     "output_type": "display_data"
    },
    {
     "data": {
      "application/vnd.jupyter.widget-view+json": {
       "model_id": "6ee78b302c9c42bbb219862d88321c9a",
       "version_major": 2,
       "version_minor": 0
      },
      "text/plain": [
       "Batches:   0%|          | 0/1 [00:00<?, ?it/s]"
      ]
     },
     "metadata": {},
     "output_type": "display_data"
    },
    {
     "data": {
      "application/vnd.jupyter.widget-view+json": {
       "model_id": "aba57b3ed55442f1aef8d6cc5d7cd4f1",
       "version_major": 2,
       "version_minor": 0
      },
      "text/plain": [
       "Batches:   0%|          | 0/1 [00:00<?, ?it/s]"
      ]
     },
     "metadata": {},
     "output_type": "display_data"
    },
    {
     "data": {
      "application/vnd.jupyter.widget-view+json": {
       "model_id": "385be8602b6b4073b122af8413052325",
       "version_major": 2,
       "version_minor": 0
      },
      "text/plain": [
       "Batches:   0%|          | 0/1 [00:00<?, ?it/s]"
      ]
     },
     "metadata": {},
     "output_type": "display_data"
    },
    {
     "data": {
      "application/vnd.jupyter.widget-view+json": {
       "model_id": "cce02a1d9b6b4e57965bf936d65f1217",
       "version_major": 2,
       "version_minor": 0
      },
      "text/plain": [
       "Batches:   0%|          | 0/1 [00:00<?, ?it/s]"
      ]
     },
     "metadata": {},
     "output_type": "display_data"
    },
    {
     "data": {
      "application/vnd.jupyter.widget-view+json": {
       "model_id": "7509abf747e9486ea63411a415e7b05b",
       "version_major": 2,
       "version_minor": 0
      },
      "text/plain": [
       "Batches:   0%|          | 0/1 [00:00<?, ?it/s]"
      ]
     },
     "metadata": {},
     "output_type": "display_data"
    },
    {
     "data": {
      "application/vnd.jupyter.widget-view+json": {
       "model_id": "a9e1aa362f16442bb2a4fdf6e2b6583f",
       "version_major": 2,
       "version_minor": 0
      },
      "text/plain": [
       "Batches:   0%|          | 0/1 [00:00<?, ?it/s]"
      ]
     },
     "metadata": {},
     "output_type": "display_data"
    },
    {
     "data": {
      "application/vnd.jupyter.widget-view+json": {
       "model_id": "e7127a90a01548b7a873203020f3fdad",
       "version_major": 2,
       "version_minor": 0
      },
      "text/plain": [
       "Batches:   0%|          | 0/1 [00:00<?, ?it/s]"
      ]
     },
     "metadata": {},
     "output_type": "display_data"
    },
    {
     "data": {
      "application/vnd.jupyter.widget-view+json": {
       "model_id": "80e575be318a465f8b655398f05f01ae",
       "version_major": 2,
       "version_minor": 0
      },
      "text/plain": [
       "Batches:   0%|          | 0/1 [00:00<?, ?it/s]"
      ]
     },
     "metadata": {},
     "output_type": "display_data"
    },
    {
     "data": {
      "application/vnd.jupyter.widget-view+json": {
       "model_id": "3a47c6835e5d4c6eabf4e8da513295a8",
       "version_major": 2,
       "version_minor": 0
      },
      "text/plain": [
       "Batches:   0%|          | 0/1 [00:00<?, ?it/s]"
      ]
     },
     "metadata": {},
     "output_type": "display_data"
    },
    {
     "data": {
      "application/vnd.jupyter.widget-view+json": {
       "model_id": "f359daf22f5040cb8c2d4a9915188d8d",
       "version_major": 2,
       "version_minor": 0
      },
      "text/plain": [
       "Batches:   0%|          | 0/1 [00:00<?, ?it/s]"
      ]
     },
     "metadata": {},
     "output_type": "display_data"
    },
    {
     "data": {
      "application/vnd.jupyter.widget-view+json": {
       "model_id": "e6bb9460bed5495f8c443c06cad6dd36",
       "version_major": 2,
       "version_minor": 0
      },
      "text/plain": [
       "Batches:   0%|          | 0/1 [00:00<?, ?it/s]"
      ]
     },
     "metadata": {},
     "output_type": "display_data"
    },
    {
     "data": {
      "application/vnd.jupyter.widget-view+json": {
       "model_id": "4812878aa57844e6894b953bdcb26ad7",
       "version_major": 2,
       "version_minor": 0
      },
      "text/plain": [
       "Batches:   0%|          | 0/1 [00:00<?, ?it/s]"
      ]
     },
     "metadata": {},
     "output_type": "display_data"
    },
    {
     "data": {
      "application/vnd.jupyter.widget-view+json": {
       "model_id": "2b9e9377118e496185f191b592ed094c",
       "version_major": 2,
       "version_minor": 0
      },
      "text/plain": [
       "Batches:   0%|          | 0/1 [00:00<?, ?it/s]"
      ]
     },
     "metadata": {},
     "output_type": "display_data"
    },
    {
     "data": {
      "application/vnd.jupyter.widget-view+json": {
       "model_id": "51749e8e6fd54cd7888d2d5d4fdbe6c1",
       "version_major": 2,
       "version_minor": 0
      },
      "text/plain": [
       "Batches:   0%|          | 0/1 [00:00<?, ?it/s]"
      ]
     },
     "metadata": {},
     "output_type": "display_data"
    },
    {
     "data": {
      "application/vnd.jupyter.widget-view+json": {
       "model_id": "0428105c126949feae4f657109fba533",
       "version_major": 2,
       "version_minor": 0
      },
      "text/plain": [
       "Batches:   0%|          | 0/1 [00:00<?, ?it/s]"
      ]
     },
     "metadata": {},
     "output_type": "display_data"
    },
    {
     "data": {
      "application/vnd.jupyter.widget-view+json": {
       "model_id": "125e09ce295e4a9e84e50de050a69a2f",
       "version_major": 2,
       "version_minor": 0
      },
      "text/plain": [
       "Batches:   0%|          | 0/1 [00:00<?, ?it/s]"
      ]
     },
     "metadata": {},
     "output_type": "display_data"
    },
    {
     "data": {
      "application/vnd.jupyter.widget-view+json": {
       "model_id": "6c6e5db5fa8b4047a88364849bcd7c1e",
       "version_major": 2,
       "version_minor": 0
      },
      "text/plain": [
       "Batches:   0%|          | 0/1 [00:00<?, ?it/s]"
      ]
     },
     "metadata": {},
     "output_type": "display_data"
    },
    {
     "data": {
      "application/vnd.jupyter.widget-view+json": {
       "model_id": "3eb9ebc08ba941f4905b10b41efb5ce8",
       "version_major": 2,
       "version_minor": 0
      },
      "text/plain": [
       "Batches:   0%|          | 0/1 [00:00<?, ?it/s]"
      ]
     },
     "metadata": {},
     "output_type": "display_data"
    },
    {
     "data": {
      "application/vnd.jupyter.widget-view+json": {
       "model_id": "117f712ae7ca41bb85499090073d6534",
       "version_major": 2,
       "version_minor": 0
      },
      "text/plain": [
       "Batches:   0%|          | 0/1 [00:00<?, ?it/s]"
      ]
     },
     "metadata": {},
     "output_type": "display_data"
    },
    {
     "data": {
      "application/vnd.jupyter.widget-view+json": {
       "model_id": "6102106332d94f918b6c148eb4f357c6",
       "version_major": 2,
       "version_minor": 0
      },
      "text/plain": [
       "Batches:   0%|          | 0/1 [00:00<?, ?it/s]"
      ]
     },
     "metadata": {},
     "output_type": "display_data"
    },
    {
     "data": {
      "application/vnd.jupyter.widget-view+json": {
       "model_id": "c4f6bf1dc99c4359aff925b331c49389",
       "version_major": 2,
       "version_minor": 0
      },
      "text/plain": [
       "Batches:   0%|          | 0/1 [00:00<?, ?it/s]"
      ]
     },
     "metadata": {},
     "output_type": "display_data"
    },
    {
     "data": {
      "application/vnd.jupyter.widget-view+json": {
       "model_id": "5eb8ca3708c6442aaaef9c05933b5858",
       "version_major": 2,
       "version_minor": 0
      },
      "text/plain": [
       "Batches:   0%|          | 0/1 [00:00<?, ?it/s]"
      ]
     },
     "metadata": {},
     "output_type": "display_data"
    },
    {
     "data": {
      "application/vnd.jupyter.widget-view+json": {
       "model_id": "fba7196932bc4f858823ee094ee7c55d",
       "version_major": 2,
       "version_minor": 0
      },
      "text/plain": [
       "Batches:   0%|          | 0/1 [00:00<?, ?it/s]"
      ]
     },
     "metadata": {},
     "output_type": "display_data"
    },
    {
     "data": {
      "application/vnd.jupyter.widget-view+json": {
       "model_id": "c8802590dce045829750f2871d4713cb",
       "version_major": 2,
       "version_minor": 0
      },
      "text/plain": [
       "Batches:   0%|          | 0/1 [00:00<?, ?it/s]"
      ]
     },
     "metadata": {},
     "output_type": "display_data"
    },
    {
     "data": {
      "application/vnd.jupyter.widget-view+json": {
       "model_id": "a671a4540e52426e8ed6091c7e22b96e",
       "version_major": 2,
       "version_minor": 0
      },
      "text/plain": [
       "Batches:   0%|          | 0/1 [00:00<?, ?it/s]"
      ]
     },
     "metadata": {},
     "output_type": "display_data"
    },
    {
     "data": {
      "application/vnd.jupyter.widget-view+json": {
       "model_id": "6a3c1fa5f9a345fe9398c962c6ef7c7f",
       "version_major": 2,
       "version_minor": 0
      },
      "text/plain": [
       "Batches:   0%|          | 0/1 [00:00<?, ?it/s]"
      ]
     },
     "metadata": {},
     "output_type": "display_data"
    },
    {
     "data": {
      "application/vnd.jupyter.widget-view+json": {
       "model_id": "4df2d68f3b92498ea5afd407b7fa91c9",
       "version_major": 2,
       "version_minor": 0
      },
      "text/plain": [
       "Batches:   0%|          | 0/1 [00:00<?, ?it/s]"
      ]
     },
     "metadata": {},
     "output_type": "display_data"
    },
    {
     "data": {
      "application/vnd.jupyter.widget-view+json": {
       "model_id": "bf06c0b7214a43848b54298d985b212d",
       "version_major": 2,
       "version_minor": 0
      },
      "text/plain": [
       "Batches:   0%|          | 0/1 [00:00<?, ?it/s]"
      ]
     },
     "metadata": {},
     "output_type": "display_data"
    },
    {
     "data": {
      "application/vnd.jupyter.widget-view+json": {
       "model_id": "40ce891925be45c1969b4651484b51bf",
       "version_major": 2,
       "version_minor": 0
      },
      "text/plain": [
       "Batches:   0%|          | 0/1 [00:00<?, ?it/s]"
      ]
     },
     "metadata": {},
     "output_type": "display_data"
    },
    {
     "data": {
      "application/vnd.jupyter.widget-view+json": {
       "model_id": "5deb9e59871540c9aa178037e38a2ff8",
       "version_major": 2,
       "version_minor": 0
      },
      "text/plain": [
       "Batches:   0%|          | 0/1 [00:00<?, ?it/s]"
      ]
     },
     "metadata": {},
     "output_type": "display_data"
    },
    {
     "data": {
      "application/vnd.jupyter.widget-view+json": {
       "model_id": "fce352a453f54c659c8c10313e6576dd",
       "version_major": 2,
       "version_minor": 0
      },
      "text/plain": [
       "Batches:   0%|          | 0/1 [00:00<?, ?it/s]"
      ]
     },
     "metadata": {},
     "output_type": "display_data"
    },
    {
     "data": {
      "application/vnd.jupyter.widget-view+json": {
       "model_id": "1a02010cf54a4d4fae6746001a945548",
       "version_major": 2,
       "version_minor": 0
      },
      "text/plain": [
       "Batches:   0%|          | 0/1 [00:00<?, ?it/s]"
      ]
     },
     "metadata": {},
     "output_type": "display_data"
    },
    {
     "data": {
      "application/vnd.jupyter.widget-view+json": {
       "model_id": "953203da7ae64895879ef58386131702",
       "version_major": 2,
       "version_minor": 0
      },
      "text/plain": [
       "Batches:   0%|          | 0/1 [00:00<?, ?it/s]"
      ]
     },
     "metadata": {},
     "output_type": "display_data"
    },
    {
     "data": {
      "application/vnd.jupyter.widget-view+json": {
       "model_id": "993a1ae472cd48b083e51f5f19ec1318",
       "version_major": 2,
       "version_minor": 0
      },
      "text/plain": [
       "Batches:   0%|          | 0/1 [00:00<?, ?it/s]"
      ]
     },
     "metadata": {},
     "output_type": "display_data"
    },
    {
     "data": {
      "application/vnd.jupyter.widget-view+json": {
       "model_id": "abe5ce2263b14f42bddb460930593728",
       "version_major": 2,
       "version_minor": 0
      },
      "text/plain": [
       "Batches:   0%|          | 0/1 [00:00<?, ?it/s]"
      ]
     },
     "metadata": {},
     "output_type": "display_data"
    },
    {
     "data": {
      "application/vnd.jupyter.widget-view+json": {
       "model_id": "b2117de1c4384d588fdc337d2728633d",
       "version_major": 2,
       "version_minor": 0
      },
      "text/plain": [
       "Batches:   0%|          | 0/1 [00:00<?, ?it/s]"
      ]
     },
     "metadata": {},
     "output_type": "display_data"
    },
    {
     "data": {
      "application/vnd.jupyter.widget-view+json": {
       "model_id": "5041b7fa31e54766a1b3279af448bfb2",
       "version_major": 2,
       "version_minor": 0
      },
      "text/plain": [
       "Batches:   0%|          | 0/1 [00:00<?, ?it/s]"
      ]
     },
     "metadata": {},
     "output_type": "display_data"
    },
    {
     "data": {
      "application/vnd.jupyter.widget-view+json": {
       "model_id": "bba5b1250c7d4fa5a0157e03258c81ca",
       "version_major": 2,
       "version_minor": 0
      },
      "text/plain": [
       "Batches:   0%|          | 0/1 [00:00<?, ?it/s]"
      ]
     },
     "metadata": {},
     "output_type": "display_data"
    },
    {
     "data": {
      "application/vnd.jupyter.widget-view+json": {
       "model_id": "cc6684853c1c4e9682897243efa32a0e",
       "version_major": 2,
       "version_minor": 0
      },
      "text/plain": [
       "Batches:   0%|          | 0/1 [00:00<?, ?it/s]"
      ]
     },
     "metadata": {},
     "output_type": "display_data"
    },
    {
     "data": {
      "application/vnd.jupyter.widget-view+json": {
       "model_id": "442d9d07825645f7aef4ed510b77192f",
       "version_major": 2,
       "version_minor": 0
      },
      "text/plain": [
       "Batches:   0%|          | 0/1 [00:00<?, ?it/s]"
      ]
     },
     "metadata": {},
     "output_type": "display_data"
    },
    {
     "data": {
      "application/vnd.jupyter.widget-view+json": {
       "model_id": "ae22e60d9d7049ff8dffd9f808335222",
       "version_major": 2,
       "version_minor": 0
      },
      "text/plain": [
       "Batches:   0%|          | 0/1 [00:00<?, ?it/s]"
      ]
     },
     "metadata": {},
     "output_type": "display_data"
    },
    {
     "data": {
      "application/vnd.jupyter.widget-view+json": {
       "model_id": "6e08a25a3a74450fb5e7b71b3ead32a4",
       "version_major": 2,
       "version_minor": 0
      },
      "text/plain": [
       "Batches:   0%|          | 0/1 [00:00<?, ?it/s]"
      ]
     },
     "metadata": {},
     "output_type": "display_data"
    },
    {
     "data": {
      "application/vnd.jupyter.widget-view+json": {
       "model_id": "88b0c29af22d4bd19f2ebd7ab7ba946d",
       "version_major": 2,
       "version_minor": 0
      },
      "text/plain": [
       "Batches:   0%|          | 0/1 [00:00<?, ?it/s]"
      ]
     },
     "metadata": {},
     "output_type": "display_data"
    },
    {
     "data": {
      "application/vnd.jupyter.widget-view+json": {
       "model_id": "eba719eea2a24c8680a2b8cc8ed1d322",
       "version_major": 2,
       "version_minor": 0
      },
      "text/plain": [
       "Batches:   0%|          | 0/1 [00:00<?, ?it/s]"
      ]
     },
     "metadata": {},
     "output_type": "display_data"
    },
    {
     "data": {
      "application/vnd.jupyter.widget-view+json": {
       "model_id": "25669148c6da448c942a39486e18a560",
       "version_major": 2,
       "version_minor": 0
      },
      "text/plain": [
       "Batches:   0%|          | 0/1 [00:00<?, ?it/s]"
      ]
     },
     "metadata": {},
     "output_type": "display_data"
    },
    {
     "data": {
      "application/vnd.jupyter.widget-view+json": {
       "model_id": "6940a988747049ffbd3e59f4e81694ca",
       "version_major": 2,
       "version_minor": 0
      },
      "text/plain": [
       "Batches:   0%|          | 0/1 [00:00<?, ?it/s]"
      ]
     },
     "metadata": {},
     "output_type": "display_data"
    },
    {
     "data": {
      "application/vnd.jupyter.widget-view+json": {
       "model_id": "54d9e2c459764fb2a8f9b853ee06dbdf",
       "version_major": 2,
       "version_minor": 0
      },
      "text/plain": [
       "Batches:   0%|          | 0/1 [00:00<?, ?it/s]"
      ]
     },
     "metadata": {},
     "output_type": "display_data"
    },
    {
     "data": {
      "application/vnd.jupyter.widget-view+json": {
       "model_id": "c0eaea0dc7224e9daaedaa5349c48a82",
       "version_major": 2,
       "version_minor": 0
      },
      "text/plain": [
       "Batches:   0%|          | 0/1 [00:00<?, ?it/s]"
      ]
     },
     "metadata": {},
     "output_type": "display_data"
    },
    {
     "data": {
      "application/vnd.jupyter.widget-view+json": {
       "model_id": "88394b7b4c7c46949034b6e58e967db8",
       "version_major": 2,
       "version_minor": 0
      },
      "text/plain": [
       "Batches:   0%|          | 0/1 [00:00<?, ?it/s]"
      ]
     },
     "metadata": {},
     "output_type": "display_data"
    },
    {
     "data": {
      "application/vnd.jupyter.widget-view+json": {
       "model_id": "11c47259493c444a9a31a2e16ed51e67",
       "version_major": 2,
       "version_minor": 0
      },
      "text/plain": [
       "Batches:   0%|          | 0/1 [00:00<?, ?it/s]"
      ]
     },
     "metadata": {},
     "output_type": "display_data"
    },
    {
     "data": {
      "application/vnd.jupyter.widget-view+json": {
       "model_id": "90639514192148cf98e39cc3fcf6149d",
       "version_major": 2,
       "version_minor": 0
      },
      "text/plain": [
       "Batches:   0%|          | 0/1 [00:00<?, ?it/s]"
      ]
     },
     "metadata": {},
     "output_type": "display_data"
    },
    {
     "data": {
      "application/vnd.jupyter.widget-view+json": {
       "model_id": "0ccd60de7ec149a09d55771c9529d034",
       "version_major": 2,
       "version_minor": 0
      },
      "text/plain": [
       "Batches:   0%|          | 0/1 [00:00<?, ?it/s]"
      ]
     },
     "metadata": {},
     "output_type": "display_data"
    },
    {
     "data": {
      "application/vnd.jupyter.widget-view+json": {
       "model_id": "330620200e3444d883e6af56539e7394",
       "version_major": 2,
       "version_minor": 0
      },
      "text/plain": [
       "Batches:   0%|          | 0/1 [00:00<?, ?it/s]"
      ]
     },
     "metadata": {},
     "output_type": "display_data"
    },
    {
     "data": {
      "application/vnd.jupyter.widget-view+json": {
       "model_id": "3fe4935598f34ebe946989a1bcbf1eeb",
       "version_major": 2,
       "version_minor": 0
      },
      "text/plain": [
       "Batches:   0%|          | 0/1 [00:00<?, ?it/s]"
      ]
     },
     "metadata": {},
     "output_type": "display_data"
    },
    {
     "data": {
      "application/vnd.jupyter.widget-view+json": {
       "model_id": "ae3951055830402084dc32f2c9b46eae",
       "version_major": 2,
       "version_minor": 0
      },
      "text/plain": [
       "Batches:   0%|          | 0/1 [00:00<?, ?it/s]"
      ]
     },
     "metadata": {},
     "output_type": "display_data"
    },
    {
     "data": {
      "application/vnd.jupyter.widget-view+json": {
       "model_id": "b170803037cf436fa2b91b04b412f10d",
       "version_major": 2,
       "version_minor": 0
      },
      "text/plain": [
       "Batches:   0%|          | 0/1 [00:00<?, ?it/s]"
      ]
     },
     "metadata": {},
     "output_type": "display_data"
    },
    {
     "data": {
      "application/vnd.jupyter.widget-view+json": {
       "model_id": "bd6997ad430a40a4955fb8ac0fecb148",
       "version_major": 2,
       "version_minor": 0
      },
      "text/plain": [
       "Batches:   0%|          | 0/1 [00:00<?, ?it/s]"
      ]
     },
     "metadata": {},
     "output_type": "display_data"
    },
    {
     "data": {
      "application/vnd.jupyter.widget-view+json": {
       "model_id": "2c1f73eab386494c915d4ea36e407f85",
       "version_major": 2,
       "version_minor": 0
      },
      "text/plain": [
       "Batches:   0%|          | 0/1 [00:00<?, ?it/s]"
      ]
     },
     "metadata": {},
     "output_type": "display_data"
    },
    {
     "data": {
      "application/vnd.jupyter.widget-view+json": {
       "model_id": "41f6223ae91849f6bd5086b3185ccb88",
       "version_major": 2,
       "version_minor": 0
      },
      "text/plain": [
       "Batches:   0%|          | 0/1 [00:00<?, ?it/s]"
      ]
     },
     "metadata": {},
     "output_type": "display_data"
    },
    {
     "data": {
      "application/vnd.jupyter.widget-view+json": {
       "model_id": "5cbb91c6ea954aa0a9f13b83938e2c8f",
       "version_major": 2,
       "version_minor": 0
      },
      "text/plain": [
       "Batches:   0%|          | 0/1 [00:00<?, ?it/s]"
      ]
     },
     "metadata": {},
     "output_type": "display_data"
    },
    {
     "data": {
      "application/vnd.jupyter.widget-view+json": {
       "model_id": "e818c2afbf094e609eea1ca9fa28f5a3",
       "version_major": 2,
       "version_minor": 0
      },
      "text/plain": [
       "Batches:   0%|          | 0/1 [00:00<?, ?it/s]"
      ]
     },
     "metadata": {},
     "output_type": "display_data"
    },
    {
     "data": {
      "application/vnd.jupyter.widget-view+json": {
       "model_id": "7018ff8fd2e1445083e06713d89a0ad2",
       "version_major": 2,
       "version_minor": 0
      },
      "text/plain": [
       "Batches:   0%|          | 0/1 [00:00<?, ?it/s]"
      ]
     },
     "metadata": {},
     "output_type": "display_data"
    },
    {
     "data": {
      "application/vnd.jupyter.widget-view+json": {
       "model_id": "5cb63d7825e44e1daa820f7a62a75cf3",
       "version_major": 2,
       "version_minor": 0
      },
      "text/plain": [
       "Batches:   0%|          | 0/1 [00:00<?, ?it/s]"
      ]
     },
     "metadata": {},
     "output_type": "display_data"
    },
    {
     "data": {
      "application/vnd.jupyter.widget-view+json": {
       "model_id": "db2e45c159fe4ddc83f20e8b951df541",
       "version_major": 2,
       "version_minor": 0
      },
      "text/plain": [
       "Batches:   0%|          | 0/1 [00:00<?, ?it/s]"
      ]
     },
     "metadata": {},
     "output_type": "display_data"
    },
    {
     "data": {
      "application/vnd.jupyter.widget-view+json": {
       "model_id": "8c6d11224fbe4bc9bf3f4ae855b3aea6",
       "version_major": 2,
       "version_minor": 0
      },
      "text/plain": [
       "Batches:   0%|          | 0/1 [00:00<?, ?it/s]"
      ]
     },
     "metadata": {},
     "output_type": "display_data"
    },
    {
     "data": {
      "application/vnd.jupyter.widget-view+json": {
       "model_id": "c79fde1bf88d4032b3b67285e3796786",
       "version_major": 2,
       "version_minor": 0
      },
      "text/plain": [
       "Batches:   0%|          | 0/1 [00:00<?, ?it/s]"
      ]
     },
     "metadata": {},
     "output_type": "display_data"
    },
    {
     "data": {
      "application/vnd.jupyter.widget-view+json": {
       "model_id": "30a02bf50b704d2f918f8d8bdaf8ce71",
       "version_major": 2,
       "version_minor": 0
      },
      "text/plain": [
       "Batches:   0%|          | 0/1 [00:00<?, ?it/s]"
      ]
     },
     "metadata": {},
     "output_type": "display_data"
    },
    {
     "data": {
      "application/vnd.jupyter.widget-view+json": {
       "model_id": "3230e77adf1d46a184a2b5e0893a162e",
       "version_major": 2,
       "version_minor": 0
      },
      "text/plain": [
       "Batches:   0%|          | 0/1 [00:00<?, ?it/s]"
      ]
     },
     "metadata": {},
     "output_type": "display_data"
    },
    {
     "data": {
      "application/vnd.jupyter.widget-view+json": {
       "model_id": "f39412a08d9f419c9ee156a10410a39d",
       "version_major": 2,
       "version_minor": 0
      },
      "text/plain": [
       "Batches:   0%|          | 0/1 [00:00<?, ?it/s]"
      ]
     },
     "metadata": {},
     "output_type": "display_data"
    },
    {
     "data": {
      "application/vnd.jupyter.widget-view+json": {
       "model_id": "e90fd7c98903442dafe0056b4845a3a5",
       "version_major": 2,
       "version_minor": 0
      },
      "text/plain": [
       "Batches:   0%|          | 0/1 [00:00<?, ?it/s]"
      ]
     },
     "metadata": {},
     "output_type": "display_data"
    },
    {
     "data": {
      "application/vnd.jupyter.widget-view+json": {
       "model_id": "7ff5ed7dc71340ad8c9759d5e00086ed",
       "version_major": 2,
       "version_minor": 0
      },
      "text/plain": [
       "Batches:   0%|          | 0/1 [00:00<?, ?it/s]"
      ]
     },
     "metadata": {},
     "output_type": "display_data"
    },
    {
     "data": {
      "application/vnd.jupyter.widget-view+json": {
       "model_id": "7353a918eeed4ff4be6e42146be9d068",
       "version_major": 2,
       "version_minor": 0
      },
      "text/plain": [
       "Batches:   0%|          | 0/1 [00:00<?, ?it/s]"
      ]
     },
     "metadata": {},
     "output_type": "display_data"
    },
    {
     "data": {
      "application/vnd.jupyter.widget-view+json": {
       "model_id": "c979f1d9c52d4e50a6f14ce64cddce4c",
       "version_major": 2,
       "version_minor": 0
      },
      "text/plain": [
       "Batches:   0%|          | 0/1 [00:00<?, ?it/s]"
      ]
     },
     "metadata": {},
     "output_type": "display_data"
    },
    {
     "data": {
      "application/vnd.jupyter.widget-view+json": {
       "model_id": "93f39d486f4a42bb8fe4dc2bf2bf1767",
       "version_major": 2,
       "version_minor": 0
      },
      "text/plain": [
       "Batches:   0%|          | 0/1 [00:00<?, ?it/s]"
      ]
     },
     "metadata": {},
     "output_type": "display_data"
    },
    {
     "data": {
      "application/vnd.jupyter.widget-view+json": {
       "model_id": "f689150c580d49ce8b01bc82ea744312",
       "version_major": 2,
       "version_minor": 0
      },
      "text/plain": [
       "Batches:   0%|          | 0/1 [00:00<?, ?it/s]"
      ]
     },
     "metadata": {},
     "output_type": "display_data"
    },
    {
     "data": {
      "application/vnd.jupyter.widget-view+json": {
       "model_id": "f92b8b86d63e42d8801a0bc0604901d4",
       "version_major": 2,
       "version_minor": 0
      },
      "text/plain": [
       "Batches:   0%|          | 0/1 [00:00<?, ?it/s]"
      ]
     },
     "metadata": {},
     "output_type": "display_data"
    },
    {
     "data": {
      "application/vnd.jupyter.widget-view+json": {
       "model_id": "49106393d0dd487c95b7dd57e306c5ef",
       "version_major": 2,
       "version_minor": 0
      },
      "text/plain": [
       "Batches:   0%|          | 0/1 [00:00<?, ?it/s]"
      ]
     },
     "metadata": {},
     "output_type": "display_data"
    },
    {
     "data": {
      "application/vnd.jupyter.widget-view+json": {
       "model_id": "b88b0bbeb1534801b71139e11ba5d6c8",
       "version_major": 2,
       "version_minor": 0
      },
      "text/plain": [
       "Batches:   0%|          | 0/1 [00:00<?, ?it/s]"
      ]
     },
     "metadata": {},
     "output_type": "display_data"
    },
    {
     "data": {
      "application/vnd.jupyter.widget-view+json": {
       "model_id": "713d41d98430445db52f42c45d6004d9",
       "version_major": 2,
       "version_minor": 0
      },
      "text/plain": [
       "Batches:   0%|          | 0/1 [00:00<?, ?it/s]"
      ]
     },
     "metadata": {},
     "output_type": "display_data"
    },
    {
     "data": {
      "application/vnd.jupyter.widget-view+json": {
       "model_id": "010d88c4dde047f0ade5a4c038423baf",
       "version_major": 2,
       "version_minor": 0
      },
      "text/plain": [
       "Batches:   0%|          | 0/1 [00:00<?, ?it/s]"
      ]
     },
     "metadata": {},
     "output_type": "display_data"
    },
    {
     "data": {
      "application/vnd.jupyter.widget-view+json": {
       "model_id": "6e8c22bd26d9499b855a02b867a794ce",
       "version_major": 2,
       "version_minor": 0
      },
      "text/plain": [
       "Batches:   0%|          | 0/1 [00:00<?, ?it/s]"
      ]
     },
     "metadata": {},
     "output_type": "display_data"
    },
    {
     "data": {
      "application/vnd.jupyter.widget-view+json": {
       "model_id": "9f01c13759454386ac7c11d696b750cb",
       "version_major": 2,
       "version_minor": 0
      },
      "text/plain": [
       "Batches:   0%|          | 0/1 [00:00<?, ?it/s]"
      ]
     },
     "metadata": {},
     "output_type": "display_data"
    },
    {
     "data": {
      "application/vnd.jupyter.widget-view+json": {
       "model_id": "534fc2dfbddd4a96a875ed98275704a3",
       "version_major": 2,
       "version_minor": 0
      },
      "text/plain": [
       "Batches:   0%|          | 0/1 [00:00<?, ?it/s]"
      ]
     },
     "metadata": {},
     "output_type": "display_data"
    },
    {
     "data": {
      "application/vnd.jupyter.widget-view+json": {
       "model_id": "03ac217bb41645e5a58e6c5022731399",
       "version_major": 2,
       "version_minor": 0
      },
      "text/plain": [
       "Batches:   0%|          | 0/1 [00:00<?, ?it/s]"
      ]
     },
     "metadata": {},
     "output_type": "display_data"
    },
    {
     "data": {
      "application/vnd.jupyter.widget-view+json": {
       "model_id": "f627d2a3842d4f09ba4a4d5a0ca0c852",
       "version_major": 2,
       "version_minor": 0
      },
      "text/plain": [
       "Batches:   0%|          | 0/1 [00:00<?, ?it/s]"
      ]
     },
     "metadata": {},
     "output_type": "display_data"
    },
    {
     "data": {
      "application/vnd.jupyter.widget-view+json": {
       "model_id": "5eeba9d8c98143b08797f2ed03a098a5",
       "version_major": 2,
       "version_minor": 0
      },
      "text/plain": [
       "Batches:   0%|          | 0/1 [00:00<?, ?it/s]"
      ]
     },
     "metadata": {},
     "output_type": "display_data"
    },
    {
     "data": {
      "application/vnd.jupyter.widget-view+json": {
       "model_id": "6b602d875afd4ec8b8ca4fab5ad27734",
       "version_major": 2,
       "version_minor": 0
      },
      "text/plain": [
       "Batches:   0%|          | 0/1 [00:00<?, ?it/s]"
      ]
     },
     "metadata": {},
     "output_type": "display_data"
    },
    {
     "data": {
      "application/vnd.jupyter.widget-view+json": {
       "model_id": "2358f4113180483d95306c9413f38485",
       "version_major": 2,
       "version_minor": 0
      },
      "text/plain": [
       "Batches:   0%|          | 0/1 [00:00<?, ?it/s]"
      ]
     },
     "metadata": {},
     "output_type": "display_data"
    },
    {
     "data": {
      "application/vnd.jupyter.widget-view+json": {
       "model_id": "97ada6f640f0406aaf0f62422692d76e",
       "version_major": 2,
       "version_minor": 0
      },
      "text/plain": [
       "Batches:   0%|          | 0/1 [00:00<?, ?it/s]"
      ]
     },
     "metadata": {},
     "output_type": "display_data"
    },
    {
     "data": {
      "application/vnd.jupyter.widget-view+json": {
       "model_id": "95a3d532c9e74ee6a38a1bd32377b945",
       "version_major": 2,
       "version_minor": 0
      },
      "text/plain": [
       "Batches:   0%|          | 0/1 [00:00<?, ?it/s]"
      ]
     },
     "metadata": {},
     "output_type": "display_data"
    },
    {
     "data": {
      "application/vnd.jupyter.widget-view+json": {
       "model_id": "87051c52aaa44af18f2b9593ed512d15",
       "version_major": 2,
       "version_minor": 0
      },
      "text/plain": [
       "Batches:   0%|          | 0/1 [00:00<?, ?it/s]"
      ]
     },
     "metadata": {},
     "output_type": "display_data"
    },
    {
     "data": {
      "application/vnd.jupyter.widget-view+json": {
       "model_id": "ff759f8db88141a8a04b3051c0fbe5e9",
       "version_major": 2,
       "version_minor": 0
      },
      "text/plain": [
       "Batches:   0%|          | 0/1 [00:00<?, ?it/s]"
      ]
     },
     "metadata": {},
     "output_type": "display_data"
    },
    {
     "data": {
      "application/vnd.jupyter.widget-view+json": {
       "model_id": "0f495bea93044d19b819b6315485a97d",
       "version_major": 2,
       "version_minor": 0
      },
      "text/plain": [
       "Batches:   0%|          | 0/1 [00:00<?, ?it/s]"
      ]
     },
     "metadata": {},
     "output_type": "display_data"
    },
    {
     "data": {
      "application/vnd.jupyter.widget-view+json": {
       "model_id": "8e1f8e22c3834c1c89fcff623ea3a508",
       "version_major": 2,
       "version_minor": 0
      },
      "text/plain": [
       "Batches:   0%|          | 0/1 [00:00<?, ?it/s]"
      ]
     },
     "metadata": {},
     "output_type": "display_data"
    },
    {
     "data": {
      "application/vnd.jupyter.widget-view+json": {
       "model_id": "ecdc007be4c547f08fbcfc8986642cbf",
       "version_major": 2,
       "version_minor": 0
      },
      "text/plain": [
       "Batches:   0%|          | 0/1 [00:00<?, ?it/s]"
      ]
     },
     "metadata": {},
     "output_type": "display_data"
    },
    {
     "data": {
      "application/vnd.jupyter.widget-view+json": {
       "model_id": "7bdbbf7933354cfc92254dee689569ef",
       "version_major": 2,
       "version_minor": 0
      },
      "text/plain": [
       "Batches:   0%|          | 0/1 [00:00<?, ?it/s]"
      ]
     },
     "metadata": {},
     "output_type": "display_data"
    },
    {
     "data": {
      "application/vnd.jupyter.widget-view+json": {
       "model_id": "ae4d2bcfbe8a4a6bb81ef87e0faf2bd5",
       "version_major": 2,
       "version_minor": 0
      },
      "text/plain": [
       "Batches:   0%|          | 0/1 [00:00<?, ?it/s]"
      ]
     },
     "metadata": {},
     "output_type": "display_data"
    },
    {
     "data": {
      "application/vnd.jupyter.widget-view+json": {
       "model_id": "c3bff3c65f084014a6c430a412097b8e",
       "version_major": 2,
       "version_minor": 0
      },
      "text/plain": [
       "Batches:   0%|          | 0/1 [00:00<?, ?it/s]"
      ]
     },
     "metadata": {},
     "output_type": "display_data"
    },
    {
     "data": {
      "application/vnd.jupyter.widget-view+json": {
       "model_id": "50ae36b6712247aa9c6a3cba9633a520",
       "version_major": 2,
       "version_minor": 0
      },
      "text/plain": [
       "Batches:   0%|          | 0/1 [00:00<?, ?it/s]"
      ]
     },
     "metadata": {},
     "output_type": "display_data"
    },
    {
     "data": {
      "application/vnd.jupyter.widget-view+json": {
       "model_id": "ef813b5f1dba432eacecaf5c39be5cec",
       "version_major": 2,
       "version_minor": 0
      },
      "text/plain": [
       "Batches:   0%|          | 0/1 [00:00<?, ?it/s]"
      ]
     },
     "metadata": {},
     "output_type": "display_data"
    },
    {
     "data": {
      "application/vnd.jupyter.widget-view+json": {
       "model_id": "d698ece12243470abf5926c6e826bbef",
       "version_major": 2,
       "version_minor": 0
      },
      "text/plain": [
       "Batches:   0%|          | 0/1 [00:00<?, ?it/s]"
      ]
     },
     "metadata": {},
     "output_type": "display_data"
    },
    {
     "data": {
      "application/vnd.jupyter.widget-view+json": {
       "model_id": "032113f3a3a245dc967f1ee93d52cfa4",
       "version_major": 2,
       "version_minor": 0
      },
      "text/plain": [
       "Batches:   0%|          | 0/1 [00:00<?, ?it/s]"
      ]
     },
     "metadata": {},
     "output_type": "display_data"
    },
    {
     "data": {
      "application/vnd.jupyter.widget-view+json": {
       "model_id": "45b6d6201b3b485099f9e6d90f8dc427",
       "version_major": 2,
       "version_minor": 0
      },
      "text/plain": [
       "Batches:   0%|          | 0/1 [00:00<?, ?it/s]"
      ]
     },
     "metadata": {},
     "output_type": "display_data"
    },
    {
     "data": {
      "application/vnd.jupyter.widget-view+json": {
       "model_id": "2b6d77c2ad2a4f938adf097045184a02",
       "version_major": 2,
       "version_minor": 0
      },
      "text/plain": [
       "Batches:   0%|          | 0/1 [00:00<?, ?it/s]"
      ]
     },
     "metadata": {},
     "output_type": "display_data"
    },
    {
     "data": {
      "application/vnd.jupyter.widget-view+json": {
       "model_id": "38201eeb3a89460aa6bce35e7192037e",
       "version_major": 2,
       "version_minor": 0
      },
      "text/plain": [
       "Batches:   0%|          | 0/1 [00:00<?, ?it/s]"
      ]
     },
     "metadata": {},
     "output_type": "display_data"
    },
    {
     "data": {
      "application/vnd.jupyter.widget-view+json": {
       "model_id": "6ed35f9c9d614168a6bb88cd8290b0a5",
       "version_major": 2,
       "version_minor": 0
      },
      "text/plain": [
       "Batches:   0%|          | 0/1 [00:00<?, ?it/s]"
      ]
     },
     "metadata": {},
     "output_type": "display_data"
    },
    {
     "data": {
      "application/vnd.jupyter.widget-view+json": {
       "model_id": "0d828d75d0254053899cda10b8f14743",
       "version_major": 2,
       "version_minor": 0
      },
      "text/plain": [
       "Batches:   0%|          | 0/1 [00:00<?, ?it/s]"
      ]
     },
     "metadata": {},
     "output_type": "display_data"
    },
    {
     "data": {
      "application/vnd.jupyter.widget-view+json": {
       "model_id": "456764f4d62a49e3b237a200ab35f087",
       "version_major": 2,
       "version_minor": 0
      },
      "text/plain": [
       "Batches:   0%|          | 0/1 [00:00<?, ?it/s]"
      ]
     },
     "metadata": {},
     "output_type": "display_data"
    },
    {
     "data": {
      "application/vnd.jupyter.widget-view+json": {
       "model_id": "13a804464fb84705b02cd138b83b7b35",
       "version_major": 2,
       "version_minor": 0
      },
      "text/plain": [
       "Batches:   0%|          | 0/1 [00:00<?, ?it/s]"
      ]
     },
     "metadata": {},
     "output_type": "display_data"
    },
    {
     "data": {
      "application/vnd.jupyter.widget-view+json": {
       "model_id": "fadecb83106544ba965a0901587e746c",
       "version_major": 2,
       "version_minor": 0
      },
      "text/plain": [
       "Batches:   0%|          | 0/1 [00:00<?, ?it/s]"
      ]
     },
     "metadata": {},
     "output_type": "display_data"
    },
    {
     "data": {
      "application/vnd.jupyter.widget-view+json": {
       "model_id": "47412b8e6fac47de9452a83bc5d8d590",
       "version_major": 2,
       "version_minor": 0
      },
      "text/plain": [
       "Batches:   0%|          | 0/1 [00:00<?, ?it/s]"
      ]
     },
     "metadata": {},
     "output_type": "display_data"
    },
    {
     "data": {
      "application/vnd.jupyter.widget-view+json": {
       "model_id": "c3e684e52040419e995a80986a88a8a6",
       "version_major": 2,
       "version_minor": 0
      },
      "text/plain": [
       "Batches:   0%|          | 0/1 [00:00<?, ?it/s]"
      ]
     },
     "metadata": {},
     "output_type": "display_data"
    },
    {
     "data": {
      "application/vnd.jupyter.widget-view+json": {
       "model_id": "090cc04ae7834bd98e9cd6d8304d3b5e",
       "version_major": 2,
       "version_minor": 0
      },
      "text/plain": [
       "Batches:   0%|          | 0/1 [00:00<?, ?it/s]"
      ]
     },
     "metadata": {},
     "output_type": "display_data"
    },
    {
     "data": {
      "application/vnd.jupyter.widget-view+json": {
       "model_id": "52f71928b0c64630ac389335988ab71b",
       "version_major": 2,
       "version_minor": 0
      },
      "text/plain": [
       "Batches:   0%|          | 0/1 [00:00<?, ?it/s]"
      ]
     },
     "metadata": {},
     "output_type": "display_data"
    },
    {
     "data": {
      "application/vnd.jupyter.widget-view+json": {
       "model_id": "b574f50d0ed94376aca4650f3192804e",
       "version_major": 2,
       "version_minor": 0
      },
      "text/plain": [
       "Batches:   0%|          | 0/1 [00:00<?, ?it/s]"
      ]
     },
     "metadata": {},
     "output_type": "display_data"
    },
    {
     "data": {
      "application/vnd.jupyter.widget-view+json": {
       "model_id": "e36d606a305b495cb50e5ba42fadcf68",
       "version_major": 2,
       "version_minor": 0
      },
      "text/plain": [
       "Batches:   0%|          | 0/1 [00:00<?, ?it/s]"
      ]
     },
     "metadata": {},
     "output_type": "display_data"
    },
    {
     "data": {
      "application/vnd.jupyter.widget-view+json": {
       "model_id": "b455052f0445490d9007c597d6daa558",
       "version_major": 2,
       "version_minor": 0
      },
      "text/plain": [
       "Batches:   0%|          | 0/1 [00:00<?, ?it/s]"
      ]
     },
     "metadata": {},
     "output_type": "display_data"
    },
    {
     "data": {
      "application/vnd.jupyter.widget-view+json": {
       "model_id": "d00c15f241544324a9b0d8b9ef074d56",
       "version_major": 2,
       "version_minor": 0
      },
      "text/plain": [
       "Batches:   0%|          | 0/1 [00:00<?, ?it/s]"
      ]
     },
     "metadata": {},
     "output_type": "display_data"
    },
    {
     "data": {
      "application/vnd.jupyter.widget-view+json": {
       "model_id": "c7979cd2099940989b3736591f06c485",
       "version_major": 2,
       "version_minor": 0
      },
      "text/plain": [
       "Batches:   0%|          | 0/1 [00:00<?, ?it/s]"
      ]
     },
     "metadata": {},
     "output_type": "display_data"
    },
    {
     "data": {
      "application/vnd.jupyter.widget-view+json": {
       "model_id": "58d497b6cf6640fa866b74d44f3b7c4d",
       "version_major": 2,
       "version_minor": 0
      },
      "text/plain": [
       "Batches:   0%|          | 0/1 [00:00<?, ?it/s]"
      ]
     },
     "metadata": {},
     "output_type": "display_data"
    },
    {
     "data": {
      "application/vnd.jupyter.widget-view+json": {
       "model_id": "078663214785488082e67022bc2aff3b",
       "version_major": 2,
       "version_minor": 0
      },
      "text/plain": [
       "Batches:   0%|          | 0/1 [00:00<?, ?it/s]"
      ]
     },
     "metadata": {},
     "output_type": "display_data"
    },
    {
     "data": {
      "application/vnd.jupyter.widget-view+json": {
       "model_id": "151823371bf54bd48f33b55ef51f2f5f",
       "version_major": 2,
       "version_minor": 0
      },
      "text/plain": [
       "Batches:   0%|          | 0/1 [00:00<?, ?it/s]"
      ]
     },
     "metadata": {},
     "output_type": "display_data"
    },
    {
     "data": {
      "application/vnd.jupyter.widget-view+json": {
       "model_id": "592bbb8515574a9da1b60544f3a3e7fb",
       "version_major": 2,
       "version_minor": 0
      },
      "text/plain": [
       "Batches:   0%|          | 0/1 [00:00<?, ?it/s]"
      ]
     },
     "metadata": {},
     "output_type": "display_data"
    },
    {
     "data": {
      "application/vnd.jupyter.widget-view+json": {
       "model_id": "ebdf5c6f18f14bcba3a5289656c3f689",
       "version_major": 2,
       "version_minor": 0
      },
      "text/plain": [
       "Batches:   0%|          | 0/1 [00:00<?, ?it/s]"
      ]
     },
     "metadata": {},
     "output_type": "display_data"
    },
    {
     "data": {
      "application/vnd.jupyter.widget-view+json": {
       "model_id": "c8085b295d8d4ef381aa38f1fe332aec",
       "version_major": 2,
       "version_minor": 0
      },
      "text/plain": [
       "Batches:   0%|          | 0/1 [00:00<?, ?it/s]"
      ]
     },
     "metadata": {},
     "output_type": "display_data"
    },
    {
     "data": {
      "application/vnd.jupyter.widget-view+json": {
       "model_id": "2e4709b529894fcfb60bc8113332ae13",
       "version_major": 2,
       "version_minor": 0
      },
      "text/plain": [
       "Batches:   0%|          | 0/1 [00:00<?, ?it/s]"
      ]
     },
     "metadata": {},
     "output_type": "display_data"
    },
    {
     "data": {
      "application/vnd.jupyter.widget-view+json": {
       "model_id": "dca39b80157c4923a4fc651d54bef5b6",
       "version_major": 2,
       "version_minor": 0
      },
      "text/plain": [
       "Batches:   0%|          | 0/1 [00:00<?, ?it/s]"
      ]
     },
     "metadata": {},
     "output_type": "display_data"
    },
    {
     "data": {
      "application/vnd.jupyter.widget-view+json": {
       "model_id": "eb06f2103cdc41bc86aad1883e4be2b1",
       "version_major": 2,
       "version_minor": 0
      },
      "text/plain": [
       "Batches:   0%|          | 0/1 [00:00<?, ?it/s]"
      ]
     },
     "metadata": {},
     "output_type": "display_data"
    },
    {
     "data": {
      "application/vnd.jupyter.widget-view+json": {
       "model_id": "373e096c3fe24449903d56b992f6b90a",
       "version_major": 2,
       "version_minor": 0
      },
      "text/plain": [
       "Batches:   0%|          | 0/1 [00:00<?, ?it/s]"
      ]
     },
     "metadata": {},
     "output_type": "display_data"
    },
    {
     "data": {
      "application/vnd.jupyter.widget-view+json": {
       "model_id": "7e8649dafb154c578362b444b61f6744",
       "version_major": 2,
       "version_minor": 0
      },
      "text/plain": [
       "Batches:   0%|          | 0/1 [00:00<?, ?it/s]"
      ]
     },
     "metadata": {},
     "output_type": "display_data"
    },
    {
     "data": {
      "application/vnd.jupyter.widget-view+json": {
       "model_id": "e81b6fe8ee8f471094084a87005e5dfb",
       "version_major": 2,
       "version_minor": 0
      },
      "text/plain": [
       "Batches:   0%|          | 0/1 [00:00<?, ?it/s]"
      ]
     },
     "metadata": {},
     "output_type": "display_data"
    },
    {
     "data": {
      "application/vnd.jupyter.widget-view+json": {
       "model_id": "c0f7fed90e4d4f5c86e913c8864b1fde",
       "version_major": 2,
       "version_minor": 0
      },
      "text/plain": [
       "Batches:   0%|          | 0/1 [00:00<?, ?it/s]"
      ]
     },
     "metadata": {},
     "output_type": "display_data"
    },
    {
     "data": {
      "application/vnd.jupyter.widget-view+json": {
       "model_id": "b235894d46e946e18940e0983f7586c1",
       "version_major": 2,
       "version_minor": 0
      },
      "text/plain": [
       "Batches:   0%|          | 0/1 [00:00<?, ?it/s]"
      ]
     },
     "metadata": {},
     "output_type": "display_data"
    },
    {
     "data": {
      "application/vnd.jupyter.widget-view+json": {
       "model_id": "62900d6be69c4f8598884f4f480973d0",
       "version_major": 2,
       "version_minor": 0
      },
      "text/plain": [
       "Batches:   0%|          | 0/1 [00:00<?, ?it/s]"
      ]
     },
     "metadata": {},
     "output_type": "display_data"
    },
    {
     "data": {
      "application/vnd.jupyter.widget-view+json": {
       "model_id": "cc839798156447409e296594b0ce321e",
       "version_major": 2,
       "version_minor": 0
      },
      "text/plain": [
       "Batches:   0%|          | 0/1 [00:00<?, ?it/s]"
      ]
     },
     "metadata": {},
     "output_type": "display_data"
    },
    {
     "data": {
      "application/vnd.jupyter.widget-view+json": {
       "model_id": "64c13d992eb247669027699a1c7cb400",
       "version_major": 2,
       "version_minor": 0
      },
      "text/plain": [
       "Batches:   0%|          | 0/1 [00:00<?, ?it/s]"
      ]
     },
     "metadata": {},
     "output_type": "display_data"
    },
    {
     "data": {
      "application/vnd.jupyter.widget-view+json": {
       "model_id": "6acb2876fbfe4049a7e36bb872573412",
       "version_major": 2,
       "version_minor": 0
      },
      "text/plain": [
       "Batches:   0%|          | 0/1 [00:00<?, ?it/s]"
      ]
     },
     "metadata": {},
     "output_type": "display_data"
    },
    {
     "data": {
      "application/vnd.jupyter.widget-view+json": {
       "model_id": "9836cad98c8944b39f76b800a61057ae",
       "version_major": 2,
       "version_minor": 0
      },
      "text/plain": [
       "Batches:   0%|          | 0/1 [00:00<?, ?it/s]"
      ]
     },
     "metadata": {},
     "output_type": "display_data"
    },
    {
     "data": {
      "application/vnd.jupyter.widget-view+json": {
       "model_id": "5d4d94bca04948ce8f308f30038bbe83",
       "version_major": 2,
       "version_minor": 0
      },
      "text/plain": [
       "Batches:   0%|          | 0/1 [00:00<?, ?it/s]"
      ]
     },
     "metadata": {},
     "output_type": "display_data"
    },
    {
     "data": {
      "application/vnd.jupyter.widget-view+json": {
       "model_id": "5c1c64d3fc5347ad8d33d52b2fa1da10",
       "version_major": 2,
       "version_minor": 0
      },
      "text/plain": [
       "Batches:   0%|          | 0/1 [00:00<?, ?it/s]"
      ]
     },
     "metadata": {},
     "output_type": "display_data"
    },
    {
     "data": {
      "application/vnd.jupyter.widget-view+json": {
       "model_id": "67919679549f484e9d68d954df7575fc",
       "version_major": 2,
       "version_minor": 0
      },
      "text/plain": [
       "Batches:   0%|          | 0/1 [00:00<?, ?it/s]"
      ]
     },
     "metadata": {},
     "output_type": "display_data"
    },
    {
     "data": {
      "application/vnd.jupyter.widget-view+json": {
       "model_id": "74d8331c757945fc9b3fd7308927efe7",
       "version_major": 2,
       "version_minor": 0
      },
      "text/plain": [
       "Batches:   0%|          | 0/1 [00:00<?, ?it/s]"
      ]
     },
     "metadata": {},
     "output_type": "display_data"
    },
    {
     "data": {
      "application/vnd.jupyter.widget-view+json": {
       "model_id": "8e1c159da09a4a468caeff9c90f3ee14",
       "version_major": 2,
       "version_minor": 0
      },
      "text/plain": [
       "Batches:   0%|          | 0/1 [00:00<?, ?it/s]"
      ]
     },
     "metadata": {},
     "output_type": "display_data"
    },
    {
     "data": {
      "application/vnd.jupyter.widget-view+json": {
       "model_id": "2179c4976b9640d7af0655b228e556b7",
       "version_major": 2,
       "version_minor": 0
      },
      "text/plain": [
       "Batches:   0%|          | 0/1 [00:00<?, ?it/s]"
      ]
     },
     "metadata": {},
     "output_type": "display_data"
    },
    {
     "data": {
      "application/vnd.jupyter.widget-view+json": {
       "model_id": "728c9e718a98488eade775adc0b901b2",
       "version_major": 2,
       "version_minor": 0
      },
      "text/plain": [
       "Batches:   0%|          | 0/1 [00:00<?, ?it/s]"
      ]
     },
     "metadata": {},
     "output_type": "display_data"
    },
    {
     "data": {
      "application/vnd.jupyter.widget-view+json": {
       "model_id": "aa5af1100636424eb513c0635decbb74",
       "version_major": 2,
       "version_minor": 0
      },
      "text/plain": [
       "Batches:   0%|          | 0/1 [00:00<?, ?it/s]"
      ]
     },
     "metadata": {},
     "output_type": "display_data"
    },
    {
     "data": {
      "application/vnd.jupyter.widget-view+json": {
       "model_id": "6d807a454f404366b56032670c980020",
       "version_major": 2,
       "version_minor": 0
      },
      "text/plain": [
       "Batches:   0%|          | 0/1 [00:00<?, ?it/s]"
      ]
     },
     "metadata": {},
     "output_type": "display_data"
    },
    {
     "data": {
      "application/vnd.jupyter.widget-view+json": {
       "model_id": "0521ee97ef15438aa9a027252d1f086a",
       "version_major": 2,
       "version_minor": 0
      },
      "text/plain": [
       "Batches:   0%|          | 0/1 [00:00<?, ?it/s]"
      ]
     },
     "metadata": {},
     "output_type": "display_data"
    },
    {
     "data": {
      "application/vnd.jupyter.widget-view+json": {
       "model_id": "3890c820477b464989092b9ef13bc5b4",
       "version_major": 2,
       "version_minor": 0
      },
      "text/plain": [
       "Batches:   0%|          | 0/1 [00:00<?, ?it/s]"
      ]
     },
     "metadata": {},
     "output_type": "display_data"
    },
    {
     "data": {
      "application/vnd.jupyter.widget-view+json": {
       "model_id": "6f349f97244f46f0beb1780907726168",
       "version_major": 2,
       "version_minor": 0
      },
      "text/plain": [
       "Batches:   0%|          | 0/1 [00:00<?, ?it/s]"
      ]
     },
     "metadata": {},
     "output_type": "display_data"
    },
    {
     "data": {
      "application/vnd.jupyter.widget-view+json": {
       "model_id": "ace2f141c92645859207b3633d72aebc",
       "version_major": 2,
       "version_minor": 0
      },
      "text/plain": [
       "Batches:   0%|          | 0/1 [00:00<?, ?it/s]"
      ]
     },
     "metadata": {},
     "output_type": "display_data"
    },
    {
     "data": {
      "application/vnd.jupyter.widget-view+json": {
       "model_id": "b2e37699d00d4314b048635433958617",
       "version_major": 2,
       "version_minor": 0
      },
      "text/plain": [
       "Batches:   0%|          | 0/1 [00:00<?, ?it/s]"
      ]
     },
     "metadata": {},
     "output_type": "display_data"
    },
    {
     "data": {
      "application/vnd.jupyter.widget-view+json": {
       "model_id": "c92fa730562b4860847dbc95b1774bf6",
       "version_major": 2,
       "version_minor": 0
      },
      "text/plain": [
       "Batches:   0%|          | 0/1 [00:00<?, ?it/s]"
      ]
     },
     "metadata": {},
     "output_type": "display_data"
    },
    {
     "data": {
      "application/vnd.jupyter.widget-view+json": {
       "model_id": "ae278056051f4e63b09a5e82d0d2d6e5",
       "version_major": 2,
       "version_minor": 0
      },
      "text/plain": [
       "Batches:   0%|          | 0/1 [00:00<?, ?it/s]"
      ]
     },
     "metadata": {},
     "output_type": "display_data"
    },
    {
     "data": {
      "application/vnd.jupyter.widget-view+json": {
       "model_id": "f7246ded2b5e4649b76522dab1eefa2b",
       "version_major": 2,
       "version_minor": 0
      },
      "text/plain": [
       "Batches:   0%|          | 0/1 [00:00<?, ?it/s]"
      ]
     },
     "metadata": {},
     "output_type": "display_data"
    },
    {
     "data": {
      "application/vnd.jupyter.widget-view+json": {
       "model_id": "11912465302247d8aa689e86454b5899",
       "version_major": 2,
       "version_minor": 0
      },
      "text/plain": [
       "Batches:   0%|          | 0/1 [00:00<?, ?it/s]"
      ]
     },
     "metadata": {},
     "output_type": "display_data"
    },
    {
     "data": {
      "application/vnd.jupyter.widget-view+json": {
       "model_id": "17c537daee4f40aba91bb4ce587c286b",
       "version_major": 2,
       "version_minor": 0
      },
      "text/plain": [
       "Batches:   0%|          | 0/1 [00:00<?, ?it/s]"
      ]
     },
     "metadata": {},
     "output_type": "display_data"
    },
    {
     "data": {
      "application/vnd.jupyter.widget-view+json": {
       "model_id": "18574082dfcd48eeaafe8789596fe4d2",
       "version_major": 2,
       "version_minor": 0
      },
      "text/plain": [
       "Batches:   0%|          | 0/1 [00:00<?, ?it/s]"
      ]
     },
     "metadata": {},
     "output_type": "display_data"
    },
    {
     "data": {
      "application/vnd.jupyter.widget-view+json": {
       "model_id": "d58c466f3dbc4ffe80bce7914a1f8a3c",
       "version_major": 2,
       "version_minor": 0
      },
      "text/plain": [
       "Batches:   0%|          | 0/1 [00:00<?, ?it/s]"
      ]
     },
     "metadata": {},
     "output_type": "display_data"
    },
    {
     "data": {
      "application/vnd.jupyter.widget-view+json": {
       "model_id": "d613f7257ae34108ae5c62b0cb3fc5a1",
       "version_major": 2,
       "version_minor": 0
      },
      "text/plain": [
       "Batches:   0%|          | 0/1 [00:00<?, ?it/s]"
      ]
     },
     "metadata": {},
     "output_type": "display_data"
    },
    {
     "data": {
      "application/vnd.jupyter.widget-view+json": {
       "model_id": "b6cecb4152354e8ba1f536246edc2fce",
       "version_major": 2,
       "version_minor": 0
      },
      "text/plain": [
       "Batches:   0%|          | 0/1 [00:00<?, ?it/s]"
      ]
     },
     "metadata": {},
     "output_type": "display_data"
    },
    {
     "data": {
      "application/vnd.jupyter.widget-view+json": {
       "model_id": "d4481f48c62e4a9fb7b45351a94bb571",
       "version_major": 2,
       "version_minor": 0
      },
      "text/plain": [
       "Batches:   0%|          | 0/1 [00:00<?, ?it/s]"
      ]
     },
     "metadata": {},
     "output_type": "display_data"
    },
    {
     "data": {
      "application/vnd.jupyter.widget-view+json": {
       "model_id": "6aa536c8036f4af791608e56cf1e60f6",
       "version_major": 2,
       "version_minor": 0
      },
      "text/plain": [
       "Batches:   0%|          | 0/1 [00:00<?, ?it/s]"
      ]
     },
     "metadata": {},
     "output_type": "display_data"
    },
    {
     "data": {
      "application/vnd.jupyter.widget-view+json": {
       "model_id": "d63a3a0c1fd54bd2bd1a130fa018226b",
       "version_major": 2,
       "version_minor": 0
      },
      "text/plain": [
       "Batches:   0%|          | 0/1 [00:00<?, ?it/s]"
      ]
     },
     "metadata": {},
     "output_type": "display_data"
    },
    {
     "data": {
      "application/vnd.jupyter.widget-view+json": {
       "model_id": "626e99ae358147bb89770e2679fd3405",
       "version_major": 2,
       "version_minor": 0
      },
      "text/plain": [
       "Batches:   0%|          | 0/1 [00:00<?, ?it/s]"
      ]
     },
     "metadata": {},
     "output_type": "display_data"
    },
    {
     "data": {
      "application/vnd.jupyter.widget-view+json": {
       "model_id": "0ab49fb6c8834d7391cfce9dca5a0051",
       "version_major": 2,
       "version_minor": 0
      },
      "text/plain": [
       "Batches:   0%|          | 0/1 [00:00<?, ?it/s]"
      ]
     },
     "metadata": {},
     "output_type": "display_data"
    },
    {
     "data": {
      "application/vnd.jupyter.widget-view+json": {
       "model_id": "d15c006c28704b83a75525ad7fa99113",
       "version_major": 2,
       "version_minor": 0
      },
      "text/plain": [
       "Batches:   0%|          | 0/1 [00:00<?, ?it/s]"
      ]
     },
     "metadata": {},
     "output_type": "display_data"
    },
    {
     "data": {
      "application/vnd.jupyter.widget-view+json": {
       "model_id": "8881adaea9a74dc5927e214d9c24dbc4",
       "version_major": 2,
       "version_minor": 0
      },
      "text/plain": [
       "Batches:   0%|          | 0/1 [00:00<?, ?it/s]"
      ]
     },
     "metadata": {},
     "output_type": "display_data"
    },
    {
     "data": {
      "application/vnd.jupyter.widget-view+json": {
       "model_id": "7ead95b3f0b64ee4a20a4ae6ce945de3",
       "version_major": 2,
       "version_minor": 0
      },
      "text/plain": [
       "Batches:   0%|          | 0/1 [00:00<?, ?it/s]"
      ]
     },
     "metadata": {},
     "output_type": "display_data"
    },
    {
     "data": {
      "application/vnd.jupyter.widget-view+json": {
       "model_id": "73e422c0664a41b3b61bc9ea03a495f2",
       "version_major": 2,
       "version_minor": 0
      },
      "text/plain": [
       "Batches:   0%|          | 0/1 [00:00<?, ?it/s]"
      ]
     },
     "metadata": {},
     "output_type": "display_data"
    },
    {
     "data": {
      "application/vnd.jupyter.widget-view+json": {
       "model_id": "691f7e07392242829671d94e57975aac",
       "version_major": 2,
       "version_minor": 0
      },
      "text/plain": [
       "Batches:   0%|          | 0/1 [00:00<?, ?it/s]"
      ]
     },
     "metadata": {},
     "output_type": "display_data"
    },
    {
     "data": {
      "application/vnd.jupyter.widget-view+json": {
       "model_id": "91c2855d7a3d456a903bf5d57bc014b9",
       "version_major": 2,
       "version_minor": 0
      },
      "text/plain": [
       "Batches:   0%|          | 0/1 [00:00<?, ?it/s]"
      ]
     },
     "metadata": {},
     "output_type": "display_data"
    },
    {
     "data": {
      "application/vnd.jupyter.widget-view+json": {
       "model_id": "bf5a3f26665f4d4e8d0e8cd47c35e7b3",
       "version_major": 2,
       "version_minor": 0
      },
      "text/plain": [
       "Batches:   0%|          | 0/1 [00:00<?, ?it/s]"
      ]
     },
     "metadata": {},
     "output_type": "display_data"
    },
    {
     "data": {
      "application/vnd.jupyter.widget-view+json": {
       "model_id": "9618dd5c0f8847ed919b2941f46cb590",
       "version_major": 2,
       "version_minor": 0
      },
      "text/plain": [
       "Batches:   0%|          | 0/1 [00:00<?, ?it/s]"
      ]
     },
     "metadata": {},
     "output_type": "display_data"
    },
    {
     "data": {
      "application/vnd.jupyter.widget-view+json": {
       "model_id": "e9863b2658ba414bbfea29d4448cde20",
       "version_major": 2,
       "version_minor": 0
      },
      "text/plain": [
       "Batches:   0%|          | 0/1 [00:00<?, ?it/s]"
      ]
     },
     "metadata": {},
     "output_type": "display_data"
    },
    {
     "data": {
      "application/vnd.jupyter.widget-view+json": {
       "model_id": "636fb74e0ccf43a990385288412c72a7",
       "version_major": 2,
       "version_minor": 0
      },
      "text/plain": [
       "Batches:   0%|          | 0/1 [00:00<?, ?it/s]"
      ]
     },
     "metadata": {},
     "output_type": "display_data"
    },
    {
     "data": {
      "application/vnd.jupyter.widget-view+json": {
       "model_id": "904634da85614e9abb8ffc51c2976cb8",
       "version_major": 2,
       "version_minor": 0
      },
      "text/plain": [
       "Batches:   0%|          | 0/1 [00:00<?, ?it/s]"
      ]
     },
     "metadata": {},
     "output_type": "display_data"
    },
    {
     "data": {
      "application/vnd.jupyter.widget-view+json": {
       "model_id": "353eaf84706c406d96051aada9f73c2f",
       "version_major": 2,
       "version_minor": 0
      },
      "text/plain": [
       "Batches:   0%|          | 0/1 [00:00<?, ?it/s]"
      ]
     },
     "metadata": {},
     "output_type": "display_data"
    },
    {
     "data": {
      "application/vnd.jupyter.widget-view+json": {
       "model_id": "638cb3d21b2240c48b7247bce9b21807",
       "version_major": 2,
       "version_minor": 0
      },
      "text/plain": [
       "Batches:   0%|          | 0/1 [00:00<?, ?it/s]"
      ]
     },
     "metadata": {},
     "output_type": "display_data"
    },
    {
     "data": {
      "application/vnd.jupyter.widget-view+json": {
       "model_id": "d17f7c58f6a74764a80bbd08056a79bc",
       "version_major": 2,
       "version_minor": 0
      },
      "text/plain": [
       "Batches:   0%|          | 0/1 [00:00<?, ?it/s]"
      ]
     },
     "metadata": {},
     "output_type": "display_data"
    },
    {
     "data": {
      "application/vnd.jupyter.widget-view+json": {
       "model_id": "ddfa0bb0463f4bf992d268150ce0aa13",
       "version_major": 2,
       "version_minor": 0
      },
      "text/plain": [
       "Batches:   0%|          | 0/1 [00:00<?, ?it/s]"
      ]
     },
     "metadata": {},
     "output_type": "display_data"
    },
    {
     "data": {
      "application/vnd.jupyter.widget-view+json": {
       "model_id": "2a0f18e354ba44f384f2c9463ae7494b",
       "version_major": 2,
       "version_minor": 0
      },
      "text/plain": [
       "Batches:   0%|          | 0/1 [00:00<?, ?it/s]"
      ]
     },
     "metadata": {},
     "output_type": "display_data"
    },
    {
     "data": {
      "application/vnd.jupyter.widget-view+json": {
       "model_id": "49cfd42dd03340a2b193163c4ce0bdf9",
       "version_major": 2,
       "version_minor": 0
      },
      "text/plain": [
       "Batches:   0%|          | 0/1 [00:00<?, ?it/s]"
      ]
     },
     "metadata": {},
     "output_type": "display_data"
    },
    {
     "data": {
      "application/vnd.jupyter.widget-view+json": {
       "model_id": "5b1e316db2b141c8b589f2fe7fcaf604",
       "version_major": 2,
       "version_minor": 0
      },
      "text/plain": [
       "Batches:   0%|          | 0/1 [00:00<?, ?it/s]"
      ]
     },
     "metadata": {},
     "output_type": "display_data"
    },
    {
     "data": {
      "application/vnd.jupyter.widget-view+json": {
       "model_id": "0fbead7006c04cbf966cade997e24d5a",
       "version_major": 2,
       "version_minor": 0
      },
      "text/plain": [
       "Batches:   0%|          | 0/1 [00:00<?, ?it/s]"
      ]
     },
     "metadata": {},
     "output_type": "display_data"
    },
    {
     "data": {
      "application/vnd.jupyter.widget-view+json": {
       "model_id": "1fd6582ac2d94812af59484d332447c5",
       "version_major": 2,
       "version_minor": 0
      },
      "text/plain": [
       "Batches:   0%|          | 0/1 [00:00<?, ?it/s]"
      ]
     },
     "metadata": {},
     "output_type": "display_data"
    },
    {
     "data": {
      "application/vnd.jupyter.widget-view+json": {
       "model_id": "aae0e58726d540cdbe0008aa179a0cc1",
       "version_major": 2,
       "version_minor": 0
      },
      "text/plain": [
       "Batches:   0%|          | 0/1 [00:00<?, ?it/s]"
      ]
     },
     "metadata": {},
     "output_type": "display_data"
    },
    {
     "data": {
      "application/vnd.jupyter.widget-view+json": {
       "model_id": "526a8356052e455a840b83d837bed1f4",
       "version_major": 2,
       "version_minor": 0
      },
      "text/plain": [
       "Batches:   0%|          | 0/1 [00:00<?, ?it/s]"
      ]
     },
     "metadata": {},
     "output_type": "display_data"
    },
    {
     "data": {
      "application/vnd.jupyter.widget-view+json": {
       "model_id": "593937d6c5234ae9add8c6149c3dc405",
       "version_major": 2,
       "version_minor": 0
      },
      "text/plain": [
       "Batches:   0%|          | 0/1 [00:00<?, ?it/s]"
      ]
     },
     "metadata": {},
     "output_type": "display_data"
    },
    {
     "data": {
      "application/vnd.jupyter.widget-view+json": {
       "model_id": "3000a8bce11e44e3806b9488ed62bd04",
       "version_major": 2,
       "version_minor": 0
      },
      "text/plain": [
       "Batches:   0%|          | 0/1 [00:00<?, ?it/s]"
      ]
     },
     "metadata": {},
     "output_type": "display_data"
    },
    {
     "data": {
      "application/vnd.jupyter.widget-view+json": {
       "model_id": "e250526d92e443f0bd4e1425f41deef4",
       "version_major": 2,
       "version_minor": 0
      },
      "text/plain": [
       "Batches:   0%|          | 0/1 [00:00<?, ?it/s]"
      ]
     },
     "metadata": {},
     "output_type": "display_data"
    },
    {
     "data": {
      "application/vnd.jupyter.widget-view+json": {
       "model_id": "1d5bc39ef5174b13a1e95fbbe7971856",
       "version_major": 2,
       "version_minor": 0
      },
      "text/plain": [
       "Batches:   0%|          | 0/1 [00:00<?, ?it/s]"
      ]
     },
     "metadata": {},
     "output_type": "display_data"
    },
    {
     "data": {
      "application/vnd.jupyter.widget-view+json": {
       "model_id": "d80f8faecdfa4c5da84f7eaa3d0e02a2",
       "version_major": 2,
       "version_minor": 0
      },
      "text/plain": [
       "Batches:   0%|          | 0/1 [00:00<?, ?it/s]"
      ]
     },
     "metadata": {},
     "output_type": "display_data"
    },
    {
     "data": {
      "application/vnd.jupyter.widget-view+json": {
       "model_id": "f806f412722845388b1a66fdaefc684e",
       "version_major": 2,
       "version_minor": 0
      },
      "text/plain": [
       "Batches:   0%|          | 0/1 [00:00<?, ?it/s]"
      ]
     },
     "metadata": {},
     "output_type": "display_data"
    },
    {
     "data": {
      "application/vnd.jupyter.widget-view+json": {
       "model_id": "793c7ead03734403a33c8c85c0edcb61",
       "version_major": 2,
       "version_minor": 0
      },
      "text/plain": [
       "Batches:   0%|          | 0/1 [00:00<?, ?it/s]"
      ]
     },
     "metadata": {},
     "output_type": "display_data"
    },
    {
     "data": {
      "application/vnd.jupyter.widget-view+json": {
       "model_id": "031ff96e6acc40da87c68c15fd3f8278",
       "version_major": 2,
       "version_minor": 0
      },
      "text/plain": [
       "Batches:   0%|          | 0/1 [00:00<?, ?it/s]"
      ]
     },
     "metadata": {},
     "output_type": "display_data"
    },
    {
     "data": {
      "application/vnd.jupyter.widget-view+json": {
       "model_id": "2a07dd6910bf456d87186ee9cbe78a1d",
       "version_major": 2,
       "version_minor": 0
      },
      "text/plain": [
       "Batches:   0%|          | 0/1 [00:00<?, ?it/s]"
      ]
     },
     "metadata": {},
     "output_type": "display_data"
    },
    {
     "data": {
      "application/vnd.jupyter.widget-view+json": {
       "model_id": "68ecc0165dfb4f748536b1052bbcbff6",
       "version_major": 2,
       "version_minor": 0
      },
      "text/plain": [
       "Batches:   0%|          | 0/1 [00:00<?, ?it/s]"
      ]
     },
     "metadata": {},
     "output_type": "display_data"
    },
    {
     "data": {
      "application/vnd.jupyter.widget-view+json": {
       "model_id": "42a5d923fd4d4964b854d6bd795535b6",
       "version_major": 2,
       "version_minor": 0
      },
      "text/plain": [
       "Batches:   0%|          | 0/1 [00:00<?, ?it/s]"
      ]
     },
     "metadata": {},
     "output_type": "display_data"
    },
    {
     "data": {
      "application/vnd.jupyter.widget-view+json": {
       "model_id": "f9c5d1380cf6403484a940689d431c6e",
       "version_major": 2,
       "version_minor": 0
      },
      "text/plain": [
       "Batches:   0%|          | 0/1 [00:00<?, ?it/s]"
      ]
     },
     "metadata": {},
     "output_type": "display_data"
    },
    {
     "data": {
      "application/vnd.jupyter.widget-view+json": {
       "model_id": "f54bf17405d444428fea05296f7b0bf8",
       "version_major": 2,
       "version_minor": 0
      },
      "text/plain": [
       "Batches:   0%|          | 0/1 [00:00<?, ?it/s]"
      ]
     },
     "metadata": {},
     "output_type": "display_data"
    },
    {
     "data": {
      "application/vnd.jupyter.widget-view+json": {
       "model_id": "cb25fe095fcb4bb19002ab180aab5eba",
       "version_major": 2,
       "version_minor": 0
      },
      "text/plain": [
       "Batches:   0%|          | 0/1 [00:00<?, ?it/s]"
      ]
     },
     "metadata": {},
     "output_type": "display_data"
    },
    {
     "data": {
      "application/vnd.jupyter.widget-view+json": {
       "model_id": "03d8c3a725234c8f882d6da7952ea769",
       "version_major": 2,
       "version_minor": 0
      },
      "text/plain": [
       "Batches:   0%|          | 0/1 [00:00<?, ?it/s]"
      ]
     },
     "metadata": {},
     "output_type": "display_data"
    },
    {
     "data": {
      "application/vnd.jupyter.widget-view+json": {
       "model_id": "1f333e26051544bbad0a7d13c32f76da",
       "version_major": 2,
       "version_minor": 0
      },
      "text/plain": [
       "Batches:   0%|          | 0/1 [00:00<?, ?it/s]"
      ]
     },
     "metadata": {},
     "output_type": "display_data"
    },
    {
     "data": {
      "application/vnd.jupyter.widget-view+json": {
       "model_id": "e0a9407bb2444940b60f1d8470caf610",
       "version_major": 2,
       "version_minor": 0
      },
      "text/plain": [
       "Batches:   0%|          | 0/1 [00:00<?, ?it/s]"
      ]
     },
     "metadata": {},
     "output_type": "display_data"
    },
    {
     "data": {
      "application/vnd.jupyter.widget-view+json": {
       "model_id": "7bc9e6d009b44a8998e1c654be78b080",
       "version_major": 2,
       "version_minor": 0
      },
      "text/plain": [
       "Batches:   0%|          | 0/1 [00:00<?, ?it/s]"
      ]
     },
     "metadata": {},
     "output_type": "display_data"
    },
    {
     "data": {
      "application/vnd.jupyter.widget-view+json": {
       "model_id": "3f638ba30aaa469d9e1ab697c9c0d4cd",
       "version_major": 2,
       "version_minor": 0
      },
      "text/plain": [
       "Batches:   0%|          | 0/1 [00:00<?, ?it/s]"
      ]
     },
     "metadata": {},
     "output_type": "display_data"
    },
    {
     "data": {
      "application/vnd.jupyter.widget-view+json": {
       "model_id": "d33363d78b29446dbd42444e8910aadb",
       "version_major": 2,
       "version_minor": 0
      },
      "text/plain": [
       "Batches:   0%|          | 0/1 [00:00<?, ?it/s]"
      ]
     },
     "metadata": {},
     "output_type": "display_data"
    },
    {
     "data": {
      "application/vnd.jupyter.widget-view+json": {
       "model_id": "db82bc3dbfb54dd395e67ccc6370af5a",
       "version_major": 2,
       "version_minor": 0
      },
      "text/plain": [
       "Batches:   0%|          | 0/1 [00:00<?, ?it/s]"
      ]
     },
     "metadata": {},
     "output_type": "display_data"
    },
    {
     "data": {
      "application/vnd.jupyter.widget-view+json": {
       "model_id": "4c073fd4bad64c8e97d0df8dcb8aefea",
       "version_major": 2,
       "version_minor": 0
      },
      "text/plain": [
       "Batches:   0%|          | 0/1 [00:00<?, ?it/s]"
      ]
     },
     "metadata": {},
     "output_type": "display_data"
    },
    {
     "data": {
      "application/vnd.jupyter.widget-view+json": {
       "model_id": "935c7eee09724b6cb0c7c852856de4d4",
       "version_major": 2,
       "version_minor": 0
      },
      "text/plain": [
       "Batches:   0%|          | 0/1 [00:00<?, ?it/s]"
      ]
     },
     "metadata": {},
     "output_type": "display_data"
    },
    {
     "data": {
      "application/vnd.jupyter.widget-view+json": {
       "model_id": "5404e6070d274c3e84a8016145d3bdff",
       "version_major": 2,
       "version_minor": 0
      },
      "text/plain": [
       "Batches:   0%|          | 0/1 [00:00<?, ?it/s]"
      ]
     },
     "metadata": {},
     "output_type": "display_data"
    },
    {
     "data": {
      "application/vnd.jupyter.widget-view+json": {
       "model_id": "d7b4234333044f6fb33e0db7556404da",
       "version_major": 2,
       "version_minor": 0
      },
      "text/plain": [
       "Batches:   0%|          | 0/1 [00:00<?, ?it/s]"
      ]
     },
     "metadata": {},
     "output_type": "display_data"
    },
    {
     "data": {
      "application/vnd.jupyter.widget-view+json": {
       "model_id": "0c7c9b6c2c7d41caa9d81cb43de89ce1",
       "version_major": 2,
       "version_minor": 0
      },
      "text/plain": [
       "Batches:   0%|          | 0/1 [00:00<?, ?it/s]"
      ]
     },
     "metadata": {},
     "output_type": "display_data"
    },
    {
     "data": {
      "application/vnd.jupyter.widget-view+json": {
       "model_id": "f0956aa248ed428f899dfe3012b9820c",
       "version_major": 2,
       "version_minor": 0
      },
      "text/plain": [
       "Batches:   0%|          | 0/1 [00:00<?, ?it/s]"
      ]
     },
     "metadata": {},
     "output_type": "display_data"
    },
    {
     "data": {
      "application/vnd.jupyter.widget-view+json": {
       "model_id": "92323394b3344fa29ec8b36a54a75ec7",
       "version_major": 2,
       "version_minor": 0
      },
      "text/plain": [
       "Batches:   0%|          | 0/1 [00:00<?, ?it/s]"
      ]
     },
     "metadata": {},
     "output_type": "display_data"
    },
    {
     "data": {
      "application/vnd.jupyter.widget-view+json": {
       "model_id": "416dd9aaff5746da9d88694ecadb22e9",
       "version_major": 2,
       "version_minor": 0
      },
      "text/plain": [
       "Batches:   0%|          | 0/1 [00:00<?, ?it/s]"
      ]
     },
     "metadata": {},
     "output_type": "display_data"
    },
    {
     "data": {
      "application/vnd.jupyter.widget-view+json": {
       "model_id": "383028be82ba4375a81aa335e2dc3148",
       "version_major": 2,
       "version_minor": 0
      },
      "text/plain": [
       "Batches:   0%|          | 0/1 [00:00<?, ?it/s]"
      ]
     },
     "metadata": {},
     "output_type": "display_data"
    },
    {
     "data": {
      "application/vnd.jupyter.widget-view+json": {
       "model_id": "8db9505570d5452f8cc9ea239efabf24",
       "version_major": 2,
       "version_minor": 0
      },
      "text/plain": [
       "Batches:   0%|          | 0/1 [00:00<?, ?it/s]"
      ]
     },
     "metadata": {},
     "output_type": "display_data"
    },
    {
     "data": {
      "application/vnd.jupyter.widget-view+json": {
       "model_id": "b18e6114746c44fe819fc2c4fc59d14b",
       "version_major": 2,
       "version_minor": 0
      },
      "text/plain": [
       "Batches:   0%|          | 0/1 [00:00<?, ?it/s]"
      ]
     },
     "metadata": {},
     "output_type": "display_data"
    },
    {
     "data": {
      "application/vnd.jupyter.widget-view+json": {
       "model_id": "96c99c5a198840728269ed5ad5031f37",
       "version_major": 2,
       "version_minor": 0
      },
      "text/plain": [
       "Batches:   0%|          | 0/1 [00:00<?, ?it/s]"
      ]
     },
     "metadata": {},
     "output_type": "display_data"
    },
    {
     "data": {
      "application/vnd.jupyter.widget-view+json": {
       "model_id": "1c66e95ddc2b4e00ba1d1425017525d1",
       "version_major": 2,
       "version_minor": 0
      },
      "text/plain": [
       "Batches:   0%|          | 0/1 [00:00<?, ?it/s]"
      ]
     },
     "metadata": {},
     "output_type": "display_data"
    },
    {
     "data": {
      "application/vnd.jupyter.widget-view+json": {
       "model_id": "55be4a69f17e4f76bc4fd1bc899b9f5f",
       "version_major": 2,
       "version_minor": 0
      },
      "text/plain": [
       "Batches:   0%|          | 0/1 [00:00<?, ?it/s]"
      ]
     },
     "metadata": {},
     "output_type": "display_data"
    },
    {
     "data": {
      "application/vnd.jupyter.widget-view+json": {
       "model_id": "d5a9251566344e609891118a572a37c1",
       "version_major": 2,
       "version_minor": 0
      },
      "text/plain": [
       "Batches:   0%|          | 0/1 [00:00<?, ?it/s]"
      ]
     },
     "metadata": {},
     "output_type": "display_data"
    },
    {
     "data": {
      "application/vnd.jupyter.widget-view+json": {
       "model_id": "6c8338ad973c4e2587de4334b982f5e3",
       "version_major": 2,
       "version_minor": 0
      },
      "text/plain": [
       "Batches:   0%|          | 0/1 [00:00<?, ?it/s]"
      ]
     },
     "metadata": {},
     "output_type": "display_data"
    },
    {
     "data": {
      "application/vnd.jupyter.widget-view+json": {
       "model_id": "7cb1871237ed46d8aae36a065553e0a3",
       "version_major": 2,
       "version_minor": 0
      },
      "text/plain": [
       "Batches:   0%|          | 0/1 [00:00<?, ?it/s]"
      ]
     },
     "metadata": {},
     "output_type": "display_data"
    },
    {
     "data": {
      "application/vnd.jupyter.widget-view+json": {
       "model_id": "baec775e94ce4ba5806829ea93a7a0fc",
       "version_major": 2,
       "version_minor": 0
      },
      "text/plain": [
       "Batches:   0%|          | 0/1 [00:00<?, ?it/s]"
      ]
     },
     "metadata": {},
     "output_type": "display_data"
    },
    {
     "data": {
      "application/vnd.jupyter.widget-view+json": {
       "model_id": "f73b26c5989b4986b019bc2377bef6bd",
       "version_major": 2,
       "version_minor": 0
      },
      "text/plain": [
       "Batches:   0%|          | 0/1 [00:00<?, ?it/s]"
      ]
     },
     "metadata": {},
     "output_type": "display_data"
    },
    {
     "data": {
      "application/vnd.jupyter.widget-view+json": {
       "model_id": "7b3095afc99a48399791dcc94e9e6db8",
       "version_major": 2,
       "version_minor": 0
      },
      "text/plain": [
       "Batches:   0%|          | 0/1 [00:00<?, ?it/s]"
      ]
     },
     "metadata": {},
     "output_type": "display_data"
    },
    {
     "data": {
      "application/vnd.jupyter.widget-view+json": {
       "model_id": "61e242d5ec3a424b838d68941b9d27dc",
       "version_major": 2,
       "version_minor": 0
      },
      "text/plain": [
       "Batches:   0%|          | 0/1 [00:00<?, ?it/s]"
      ]
     },
     "metadata": {},
     "output_type": "display_data"
    },
    {
     "data": {
      "application/vnd.jupyter.widget-view+json": {
       "model_id": "d13178ecf2e34673b51a544ab955f835",
       "version_major": 2,
       "version_minor": 0
      },
      "text/plain": [
       "Batches:   0%|          | 0/1 [00:00<?, ?it/s]"
      ]
     },
     "metadata": {},
     "output_type": "display_data"
    },
    {
     "data": {
      "application/vnd.jupyter.widget-view+json": {
       "model_id": "db82053cd49d4b0f8dc6d0b1471ee017",
       "version_major": 2,
       "version_minor": 0
      },
      "text/plain": [
       "Batches:   0%|          | 0/1 [00:00<?, ?it/s]"
      ]
     },
     "metadata": {},
     "output_type": "display_data"
    },
    {
     "data": {
      "application/vnd.jupyter.widget-view+json": {
       "model_id": "810667e364eb49e981964d5ccfcce326",
       "version_major": 2,
       "version_minor": 0
      },
      "text/plain": [
       "Batches:   0%|          | 0/1 [00:00<?, ?it/s]"
      ]
     },
     "metadata": {},
     "output_type": "display_data"
    },
    {
     "data": {
      "application/vnd.jupyter.widget-view+json": {
       "model_id": "50d806ade445440abe0bd73b931ba7d8",
       "version_major": 2,
       "version_minor": 0
      },
      "text/plain": [
       "Batches:   0%|          | 0/1 [00:00<?, ?it/s]"
      ]
     },
     "metadata": {},
     "output_type": "display_data"
    },
    {
     "data": {
      "application/vnd.jupyter.widget-view+json": {
       "model_id": "2c0247967b78458c9dd6012d483cfad1",
       "version_major": 2,
       "version_minor": 0
      },
      "text/plain": [
       "Batches:   0%|          | 0/1 [00:00<?, ?it/s]"
      ]
     },
     "metadata": {},
     "output_type": "display_data"
    },
    {
     "data": {
      "application/vnd.jupyter.widget-view+json": {
       "model_id": "8c5498c19972484d8e3700c1b4316b12",
       "version_major": 2,
       "version_minor": 0
      },
      "text/plain": [
       "Batches:   0%|          | 0/1 [00:00<?, ?it/s]"
      ]
     },
     "metadata": {},
     "output_type": "display_data"
    },
    {
     "data": {
      "application/vnd.jupyter.widget-view+json": {
       "model_id": "d9a6c38abd7c442ca4bc492bea3d425d",
       "version_major": 2,
       "version_minor": 0
      },
      "text/plain": [
       "Batches:   0%|          | 0/1 [00:00<?, ?it/s]"
      ]
     },
     "metadata": {},
     "output_type": "display_data"
    },
    {
     "data": {
      "application/vnd.jupyter.widget-view+json": {
       "model_id": "81ef9cf4b83a48c1b698f7d40ea7b0c0",
       "version_major": 2,
       "version_minor": 0
      },
      "text/plain": [
       "Batches:   0%|          | 0/1 [00:00<?, ?it/s]"
      ]
     },
     "metadata": {},
     "output_type": "display_data"
    },
    {
     "data": {
      "application/vnd.jupyter.widget-view+json": {
       "model_id": "f26f72c606a5424fbff4efc96fa1d429",
       "version_major": 2,
       "version_minor": 0
      },
      "text/plain": [
       "Batches:   0%|          | 0/1 [00:00<?, ?it/s]"
      ]
     },
     "metadata": {},
     "output_type": "display_data"
    },
    {
     "data": {
      "application/vnd.jupyter.widget-view+json": {
       "model_id": "8d3ac1feb2aa4d308b63e2ad60bf6247",
       "version_major": 2,
       "version_minor": 0
      },
      "text/plain": [
       "Batches:   0%|          | 0/1 [00:00<?, ?it/s]"
      ]
     },
     "metadata": {},
     "output_type": "display_data"
    },
    {
     "data": {
      "application/vnd.jupyter.widget-view+json": {
       "model_id": "d781db8818bc4dfa8e8358b9c4ca0370",
       "version_major": 2,
       "version_minor": 0
      },
      "text/plain": [
       "Batches:   0%|          | 0/1 [00:00<?, ?it/s]"
      ]
     },
     "metadata": {},
     "output_type": "display_data"
    },
    {
     "data": {
      "application/vnd.jupyter.widget-view+json": {
       "model_id": "2d46f458c76d416bb52505f7a6b72473",
       "version_major": 2,
       "version_minor": 0
      },
      "text/plain": [
       "Batches:   0%|          | 0/1 [00:00<?, ?it/s]"
      ]
     },
     "metadata": {},
     "output_type": "display_data"
    },
    {
     "data": {
      "application/vnd.jupyter.widget-view+json": {
       "model_id": "f29d06578f164315b68c5d9c9f3bd8ad",
       "version_major": 2,
       "version_minor": 0
      },
      "text/plain": [
       "Batches:   0%|          | 0/1 [00:00<?, ?it/s]"
      ]
     },
     "metadata": {},
     "output_type": "display_data"
    },
    {
     "data": {
      "application/vnd.jupyter.widget-view+json": {
       "model_id": "834ddafa78ca420d8fd33cbfb5171f42",
       "version_major": 2,
       "version_minor": 0
      },
      "text/plain": [
       "Batches:   0%|          | 0/1 [00:00<?, ?it/s]"
      ]
     },
     "metadata": {},
     "output_type": "display_data"
    },
    {
     "data": {
      "application/vnd.jupyter.widget-view+json": {
       "model_id": "35acddac9c6d484f806df24c61d379f7",
       "version_major": 2,
       "version_minor": 0
      },
      "text/plain": [
       "Batches:   0%|          | 0/1 [00:00<?, ?it/s]"
      ]
     },
     "metadata": {},
     "output_type": "display_data"
    },
    {
     "data": {
      "application/vnd.jupyter.widget-view+json": {
       "model_id": "ca521a8d0901451bb5ca6ac6faca86b6",
       "version_major": 2,
       "version_minor": 0
      },
      "text/plain": [
       "Batches:   0%|          | 0/1 [00:00<?, ?it/s]"
      ]
     },
     "metadata": {},
     "output_type": "display_data"
    },
    {
     "data": {
      "application/vnd.jupyter.widget-view+json": {
       "model_id": "35fa56ada5e247e88660ce7707ea5ff7",
       "version_major": 2,
       "version_minor": 0
      },
      "text/plain": [
       "Batches:   0%|          | 0/1 [00:00<?, ?it/s]"
      ]
     },
     "metadata": {},
     "output_type": "display_data"
    },
    {
     "data": {
      "application/vnd.jupyter.widget-view+json": {
       "model_id": "be3c616947bd4c6fbc6ccfc74f8977e6",
       "version_major": 2,
       "version_minor": 0
      },
      "text/plain": [
       "Batches:   0%|          | 0/1 [00:00<?, ?it/s]"
      ]
     },
     "metadata": {},
     "output_type": "display_data"
    },
    {
     "data": {
      "application/vnd.jupyter.widget-view+json": {
       "model_id": "44754f6ae89a4cb5a9dd0cfe743705ee",
       "version_major": 2,
       "version_minor": 0
      },
      "text/plain": [
       "Batches:   0%|          | 0/1 [00:00<?, ?it/s]"
      ]
     },
     "metadata": {},
     "output_type": "display_data"
    },
    {
     "data": {
      "application/vnd.jupyter.widget-view+json": {
       "model_id": "709c4432542c452aaef1dfba3748c1e7",
       "version_major": 2,
       "version_minor": 0
      },
      "text/plain": [
       "Batches:   0%|          | 0/1 [00:00<?, ?it/s]"
      ]
     },
     "metadata": {},
     "output_type": "display_data"
    },
    {
     "data": {
      "application/vnd.jupyter.widget-view+json": {
       "model_id": "dc44963d5f114052b9b0277afc1668b4",
       "version_major": 2,
       "version_minor": 0
      },
      "text/plain": [
       "Batches:   0%|          | 0/1 [00:00<?, ?it/s]"
      ]
     },
     "metadata": {},
     "output_type": "display_data"
    },
    {
     "data": {
      "application/vnd.jupyter.widget-view+json": {
       "model_id": "8ce771b943e54f789b5a13763d92dbae",
       "version_major": 2,
       "version_minor": 0
      },
      "text/plain": [
       "Batches:   0%|          | 0/1 [00:00<?, ?it/s]"
      ]
     },
     "metadata": {},
     "output_type": "display_data"
    },
    {
     "data": {
      "application/vnd.jupyter.widget-view+json": {
       "model_id": "353ca71ace9a483586be4dc9ecfaec4c",
       "version_major": 2,
       "version_minor": 0
      },
      "text/plain": [
       "Batches:   0%|          | 0/1 [00:00<?, ?it/s]"
      ]
     },
     "metadata": {},
     "output_type": "display_data"
    },
    {
     "data": {
      "application/vnd.jupyter.widget-view+json": {
       "model_id": "37a7c68473ce4dac936ea0cd789e4c34",
       "version_major": 2,
       "version_minor": 0
      },
      "text/plain": [
       "Batches:   0%|          | 0/1 [00:00<?, ?it/s]"
      ]
     },
     "metadata": {},
     "output_type": "display_data"
    },
    {
     "data": {
      "application/vnd.jupyter.widget-view+json": {
       "model_id": "3068fed8ffa14a42857b3ee685bbbaa6",
       "version_major": 2,
       "version_minor": 0
      },
      "text/plain": [
       "Batches:   0%|          | 0/1 [00:00<?, ?it/s]"
      ]
     },
     "metadata": {},
     "output_type": "display_data"
    },
    {
     "data": {
      "application/vnd.jupyter.widget-view+json": {
       "model_id": "e4c750d421f14db7ac5d10726012b1d0",
       "version_major": 2,
       "version_minor": 0
      },
      "text/plain": [
       "Batches:   0%|          | 0/1 [00:00<?, ?it/s]"
      ]
     },
     "metadata": {},
     "output_type": "display_data"
    },
    {
     "data": {
      "application/vnd.jupyter.widget-view+json": {
       "model_id": "9ec0f079ac114d97a87658f754808f4a",
       "version_major": 2,
       "version_minor": 0
      },
      "text/plain": [
       "Batches:   0%|          | 0/1 [00:00<?, ?it/s]"
      ]
     },
     "metadata": {},
     "output_type": "display_data"
    },
    {
     "data": {
      "application/vnd.jupyter.widget-view+json": {
       "model_id": "f8f8218138cb4b9b9414eb2bb2a5d6a2",
       "version_major": 2,
       "version_minor": 0
      },
      "text/plain": [
       "Batches:   0%|          | 0/1 [00:00<?, ?it/s]"
      ]
     },
     "metadata": {},
     "output_type": "display_data"
    },
    {
     "data": {
      "application/vnd.jupyter.widget-view+json": {
       "model_id": "8fe40bffcb324bfd879e798a449a6ec5",
       "version_major": 2,
       "version_minor": 0
      },
      "text/plain": [
       "Batches:   0%|          | 0/1 [00:00<?, ?it/s]"
      ]
     },
     "metadata": {},
     "output_type": "display_data"
    },
    {
     "data": {
      "application/vnd.jupyter.widget-view+json": {
       "model_id": "2f84d1e61f5e433f9d0c462d6474d0e5",
       "version_major": 2,
       "version_minor": 0
      },
      "text/plain": [
       "Batches:   0%|          | 0/1 [00:00<?, ?it/s]"
      ]
     },
     "metadata": {},
     "output_type": "display_data"
    },
    {
     "data": {
      "application/vnd.jupyter.widget-view+json": {
       "model_id": "370db12931a746e0af89aebde9595fbe",
       "version_major": 2,
       "version_minor": 0
      },
      "text/plain": [
       "Batches:   0%|          | 0/1 [00:00<?, ?it/s]"
      ]
     },
     "metadata": {},
     "output_type": "display_data"
    },
    {
     "data": {
      "application/vnd.jupyter.widget-view+json": {
       "model_id": "bcf990796e0d4a34896e239e09f0afae",
       "version_major": 2,
       "version_minor": 0
      },
      "text/plain": [
       "Batches:   0%|          | 0/1 [00:00<?, ?it/s]"
      ]
     },
     "metadata": {},
     "output_type": "display_data"
    },
    {
     "data": {
      "application/vnd.jupyter.widget-view+json": {
       "model_id": "7e0391787fd8463fb02566f6d20e2c04",
       "version_major": 2,
       "version_minor": 0
      },
      "text/plain": [
       "Batches:   0%|          | 0/1 [00:00<?, ?it/s]"
      ]
     },
     "metadata": {},
     "output_type": "display_data"
    },
    {
     "data": {
      "application/vnd.jupyter.widget-view+json": {
       "model_id": "0421e26a25664e6fa559dcc7f9e2fe6c",
       "version_major": 2,
       "version_minor": 0
      },
      "text/plain": [
       "Batches:   0%|          | 0/1 [00:00<?, ?it/s]"
      ]
     },
     "metadata": {},
     "output_type": "display_data"
    },
    {
     "data": {
      "application/vnd.jupyter.widget-view+json": {
       "model_id": "57684103643d455c82d507f199fe2e2a",
       "version_major": 2,
       "version_minor": 0
      },
      "text/plain": [
       "Batches:   0%|          | 0/1 [00:00<?, ?it/s]"
      ]
     },
     "metadata": {},
     "output_type": "display_data"
    },
    {
     "data": {
      "application/vnd.jupyter.widget-view+json": {
       "model_id": "f31486b123374c3f880d92c637ef69d4",
       "version_major": 2,
       "version_minor": 0
      },
      "text/plain": [
       "Batches:   0%|          | 0/1 [00:00<?, ?it/s]"
      ]
     },
     "metadata": {},
     "output_type": "display_data"
    },
    {
     "data": {
      "application/vnd.jupyter.widget-view+json": {
       "model_id": "710225ae3737450ba999fad16a4e4470",
       "version_major": 2,
       "version_minor": 0
      },
      "text/plain": [
       "Batches:   0%|          | 0/1 [00:00<?, ?it/s]"
      ]
     },
     "metadata": {},
     "output_type": "display_data"
    },
    {
     "data": {
      "application/vnd.jupyter.widget-view+json": {
       "model_id": "520425638df14bc7a636c6d5efb5162f",
       "version_major": 2,
       "version_minor": 0
      },
      "text/plain": [
       "Batches:   0%|          | 0/1 [00:00<?, ?it/s]"
      ]
     },
     "metadata": {},
     "output_type": "display_data"
    },
    {
     "data": {
      "application/vnd.jupyter.widget-view+json": {
       "model_id": "a5efc951563247578ea9610c1ce5f24e",
       "version_major": 2,
       "version_minor": 0
      },
      "text/plain": [
       "Batches:   0%|          | 0/1 [00:00<?, ?it/s]"
      ]
     },
     "metadata": {},
     "output_type": "display_data"
    },
    {
     "data": {
      "application/vnd.jupyter.widget-view+json": {
       "model_id": "1d99c3e6deef4c838b555f7f8774e30d",
       "version_major": 2,
       "version_minor": 0
      },
      "text/plain": [
       "Batches:   0%|          | 0/1 [00:00<?, ?it/s]"
      ]
     },
     "metadata": {},
     "output_type": "display_data"
    },
    {
     "data": {
      "application/vnd.jupyter.widget-view+json": {
       "model_id": "5f598e854f6940e3aa920c04b86a7aa9",
       "version_major": 2,
       "version_minor": 0
      },
      "text/plain": [
       "Batches:   0%|          | 0/1 [00:00<?, ?it/s]"
      ]
     },
     "metadata": {},
     "output_type": "display_data"
    },
    {
     "data": {
      "application/vnd.jupyter.widget-view+json": {
       "model_id": "286118c50b6942f997baea7be5c8660c",
       "version_major": 2,
       "version_minor": 0
      },
      "text/plain": [
       "Batches:   0%|          | 0/1 [00:00<?, ?it/s]"
      ]
     },
     "metadata": {},
     "output_type": "display_data"
    },
    {
     "data": {
      "application/vnd.jupyter.widget-view+json": {
       "model_id": "307d14f9389f44c7bbaca07bd02abd34",
       "version_major": 2,
       "version_minor": 0
      },
      "text/plain": [
       "Batches:   0%|          | 0/1 [00:00<?, ?it/s]"
      ]
     },
     "metadata": {},
     "output_type": "display_data"
    },
    {
     "data": {
      "application/vnd.jupyter.widget-view+json": {
       "model_id": "316ed3f824d34af8a0e9e2d7e45e8f98",
       "version_major": 2,
       "version_minor": 0
      },
      "text/plain": [
       "Batches:   0%|          | 0/1 [00:00<?, ?it/s]"
      ]
     },
     "metadata": {},
     "output_type": "display_data"
    },
    {
     "data": {
      "application/vnd.jupyter.widget-view+json": {
       "model_id": "94ccd2c4c71243c0bf7f74e0489d4ac9",
       "version_major": 2,
       "version_minor": 0
      },
      "text/plain": [
       "Batches:   0%|          | 0/1 [00:00<?, ?it/s]"
      ]
     },
     "metadata": {},
     "output_type": "display_data"
    },
    {
     "data": {
      "application/vnd.jupyter.widget-view+json": {
       "model_id": "02ffd2fd22b94e498912639eae2d21d5",
       "version_major": 2,
       "version_minor": 0
      },
      "text/plain": [
       "Batches:   0%|          | 0/1 [00:00<?, ?it/s]"
      ]
     },
     "metadata": {},
     "output_type": "display_data"
    },
    {
     "data": {
      "application/vnd.jupyter.widget-view+json": {
       "model_id": "a0edd880a71a4f539d6486514e245d4d",
       "version_major": 2,
       "version_minor": 0
      },
      "text/plain": [
       "Batches:   0%|          | 0/1 [00:00<?, ?it/s]"
      ]
     },
     "metadata": {},
     "output_type": "display_data"
    },
    {
     "data": {
      "application/vnd.jupyter.widget-view+json": {
       "model_id": "2de380afc5524ef78dd04642ff9078a2",
       "version_major": 2,
       "version_minor": 0
      },
      "text/plain": [
       "Batches:   0%|          | 0/1 [00:00<?, ?it/s]"
      ]
     },
     "metadata": {},
     "output_type": "display_data"
    },
    {
     "data": {
      "application/vnd.jupyter.widget-view+json": {
       "model_id": "6f904c4a81034b2290a96d484944770f",
       "version_major": 2,
       "version_minor": 0
      },
      "text/plain": [
       "Batches:   0%|          | 0/1 [00:00<?, ?it/s]"
      ]
     },
     "metadata": {},
     "output_type": "display_data"
    },
    {
     "data": {
      "application/vnd.jupyter.widget-view+json": {
       "model_id": "bfe263e2a48146568da66383f749c832",
       "version_major": 2,
       "version_minor": 0
      },
      "text/plain": [
       "Batches:   0%|          | 0/1 [00:00<?, ?it/s]"
      ]
     },
     "metadata": {},
     "output_type": "display_data"
    },
    {
     "data": {
      "application/vnd.jupyter.widget-view+json": {
       "model_id": "c6c73f9b1b414b54a6b8804c9437c0e1",
       "version_major": 2,
       "version_minor": 0
      },
      "text/plain": [
       "Batches:   0%|          | 0/1 [00:00<?, ?it/s]"
      ]
     },
     "metadata": {},
     "output_type": "display_data"
    },
    {
     "data": {
      "application/vnd.jupyter.widget-view+json": {
       "model_id": "54e4a799f5364292869280f5dac91239",
       "version_major": 2,
       "version_minor": 0
      },
      "text/plain": [
       "Batches:   0%|          | 0/1 [00:00<?, ?it/s]"
      ]
     },
     "metadata": {},
     "output_type": "display_data"
    },
    {
     "data": {
      "application/vnd.jupyter.widget-view+json": {
       "model_id": "3e35cefd80b6495ebeb29872c55078c3",
       "version_major": 2,
       "version_minor": 0
      },
      "text/plain": [
       "Batches:   0%|          | 0/1 [00:00<?, ?it/s]"
      ]
     },
     "metadata": {},
     "output_type": "display_data"
    },
    {
     "data": {
      "application/vnd.jupyter.widget-view+json": {
       "model_id": "11c92d9c79b4453d84e72065496b52c0",
       "version_major": 2,
       "version_minor": 0
      },
      "text/plain": [
       "Batches:   0%|          | 0/1 [00:00<?, ?it/s]"
      ]
     },
     "metadata": {},
     "output_type": "display_data"
    },
    {
     "data": {
      "application/vnd.jupyter.widget-view+json": {
       "model_id": "ae2bc4f5656a43a59b9c4db4d83f86cf",
       "version_major": 2,
       "version_minor": 0
      },
      "text/plain": [
       "Batches:   0%|          | 0/1 [00:00<?, ?it/s]"
      ]
     },
     "metadata": {},
     "output_type": "display_data"
    },
    {
     "data": {
      "application/vnd.jupyter.widget-view+json": {
       "model_id": "950896a6f90c48059e179533f67cd568",
       "version_major": 2,
       "version_minor": 0
      },
      "text/plain": [
       "Batches:   0%|          | 0/1 [00:00<?, ?it/s]"
      ]
     },
     "metadata": {},
     "output_type": "display_data"
    },
    {
     "data": {
      "application/vnd.jupyter.widget-view+json": {
       "model_id": "af7715505cb44e1087a7c11a05c0c65c",
       "version_major": 2,
       "version_minor": 0
      },
      "text/plain": [
       "Batches:   0%|          | 0/1 [00:00<?, ?it/s]"
      ]
     },
     "metadata": {},
     "output_type": "display_data"
    },
    {
     "data": {
      "application/vnd.jupyter.widget-view+json": {
       "model_id": "4206eb7332d04ff0b8b3279a280b267d",
       "version_major": 2,
       "version_minor": 0
      },
      "text/plain": [
       "Batches:   0%|          | 0/1 [00:00<?, ?it/s]"
      ]
     },
     "metadata": {},
     "output_type": "display_data"
    },
    {
     "data": {
      "application/vnd.jupyter.widget-view+json": {
       "model_id": "f7db943d64f64766a36ee9d93af97e08",
       "version_major": 2,
       "version_minor": 0
      },
      "text/plain": [
       "Batches:   0%|          | 0/1 [00:00<?, ?it/s]"
      ]
     },
     "metadata": {},
     "output_type": "display_data"
    },
    {
     "data": {
      "application/vnd.jupyter.widget-view+json": {
       "model_id": "acd7e1fdfd8c4736af57344da27a0ee7",
       "version_major": 2,
       "version_minor": 0
      },
      "text/plain": [
       "Batches:   0%|          | 0/1 [00:00<?, ?it/s]"
      ]
     },
     "metadata": {},
     "output_type": "display_data"
    },
    {
     "data": {
      "application/vnd.jupyter.widget-view+json": {
       "model_id": "b54bdb5291414d4ab53e91406bc2302c",
       "version_major": 2,
       "version_minor": 0
      },
      "text/plain": [
       "Batches:   0%|          | 0/1 [00:00<?, ?it/s]"
      ]
     },
     "metadata": {},
     "output_type": "display_data"
    },
    {
     "data": {
      "application/vnd.jupyter.widget-view+json": {
       "model_id": "2080b96469f044a889747040da4e0932",
       "version_major": 2,
       "version_minor": 0
      },
      "text/plain": [
       "Batches:   0%|          | 0/1 [00:00<?, ?it/s]"
      ]
     },
     "metadata": {},
     "output_type": "display_data"
    },
    {
     "data": {
      "application/vnd.jupyter.widget-view+json": {
       "model_id": "1023a3b8bc3d49529d175fd37123c15c",
       "version_major": 2,
       "version_minor": 0
      },
      "text/plain": [
       "Batches:   0%|          | 0/1 [00:00<?, ?it/s]"
      ]
     },
     "metadata": {},
     "output_type": "display_data"
    },
    {
     "data": {
      "application/vnd.jupyter.widget-view+json": {
       "model_id": "1ff3c2c60c644bd8a67e672954853eb6",
       "version_major": 2,
       "version_minor": 0
      },
      "text/plain": [
       "Batches:   0%|          | 0/1 [00:00<?, ?it/s]"
      ]
     },
     "metadata": {},
     "output_type": "display_data"
    },
    {
     "data": {
      "application/vnd.jupyter.widget-view+json": {
       "model_id": "5a1182108cbc4e36b3fb7837a94c999e",
       "version_major": 2,
       "version_minor": 0
      },
      "text/plain": [
       "Batches:   0%|          | 0/1 [00:00<?, ?it/s]"
      ]
     },
     "metadata": {},
     "output_type": "display_data"
    },
    {
     "data": {
      "application/vnd.jupyter.widget-view+json": {
       "model_id": "7920b5f5a13b48679394aa4a341e8707",
       "version_major": 2,
       "version_minor": 0
      },
      "text/plain": [
       "Batches:   0%|          | 0/1 [00:00<?, ?it/s]"
      ]
     },
     "metadata": {},
     "output_type": "display_data"
    },
    {
     "data": {
      "application/vnd.jupyter.widget-view+json": {
       "model_id": "e630620675164087a30a7b8ad594e086",
       "version_major": 2,
       "version_minor": 0
      },
      "text/plain": [
       "Batches:   0%|          | 0/1 [00:00<?, ?it/s]"
      ]
     },
     "metadata": {},
     "output_type": "display_data"
    },
    {
     "data": {
      "application/vnd.jupyter.widget-view+json": {
       "model_id": "5f7c7d8bd8dd4efa905a801001421612",
       "version_major": 2,
       "version_minor": 0
      },
      "text/plain": [
       "Batches:   0%|          | 0/1 [00:00<?, ?it/s]"
      ]
     },
     "metadata": {},
     "output_type": "display_data"
    },
    {
     "data": {
      "application/vnd.jupyter.widget-view+json": {
       "model_id": "6775ba6a8f384267b14207b2f7b6338f",
       "version_major": 2,
       "version_minor": 0
      },
      "text/plain": [
       "Batches:   0%|          | 0/1 [00:00<?, ?it/s]"
      ]
     },
     "metadata": {},
     "output_type": "display_data"
    },
    {
     "data": {
      "application/vnd.jupyter.widget-view+json": {
       "model_id": "5700c4831c494e58a46cff52aa792ae6",
       "version_major": 2,
       "version_minor": 0
      },
      "text/plain": [
       "Batches:   0%|          | 0/1 [00:00<?, ?it/s]"
      ]
     },
     "metadata": {},
     "output_type": "display_data"
    },
    {
     "data": {
      "application/vnd.jupyter.widget-view+json": {
       "model_id": "f8731a3df6d0425b98b404c4dae7af6f",
       "version_major": 2,
       "version_minor": 0
      },
      "text/plain": [
       "Batches:   0%|          | 0/1 [00:00<?, ?it/s]"
      ]
     },
     "metadata": {},
     "output_type": "display_data"
    },
    {
     "data": {
      "application/vnd.jupyter.widget-view+json": {
       "model_id": "4010b95d917e4dafbba6bf67eee0d414",
       "version_major": 2,
       "version_minor": 0
      },
      "text/plain": [
       "Batches:   0%|          | 0/1 [00:00<?, ?it/s]"
      ]
     },
     "metadata": {},
     "output_type": "display_data"
    },
    {
     "data": {
      "application/vnd.jupyter.widget-view+json": {
       "model_id": "325aea6caed946b8b19dcd4df3ad87c7",
       "version_major": 2,
       "version_minor": 0
      },
      "text/plain": [
       "Batches:   0%|          | 0/1 [00:00<?, ?it/s]"
      ]
     },
     "metadata": {},
     "output_type": "display_data"
    },
    {
     "data": {
      "application/vnd.jupyter.widget-view+json": {
       "model_id": "8fc52881599f4c99b6476a1ce2b3560f",
       "version_major": 2,
       "version_minor": 0
      },
      "text/plain": [
       "Batches:   0%|          | 0/1 [00:00<?, ?it/s]"
      ]
     },
     "metadata": {},
     "output_type": "display_data"
    },
    {
     "data": {
      "application/vnd.jupyter.widget-view+json": {
       "model_id": "5616a6b43f95418b8f3d065d6427b002",
       "version_major": 2,
       "version_minor": 0
      },
      "text/plain": [
       "Batches:   0%|          | 0/1 [00:00<?, ?it/s]"
      ]
     },
     "metadata": {},
     "output_type": "display_data"
    },
    {
     "data": {
      "application/vnd.jupyter.widget-view+json": {
       "model_id": "4789bd38ea4c4722b472a3272414772f",
       "version_major": 2,
       "version_minor": 0
      },
      "text/plain": [
       "Batches:   0%|          | 0/1 [00:00<?, ?it/s]"
      ]
     },
     "metadata": {},
     "output_type": "display_data"
    },
    {
     "data": {
      "application/vnd.jupyter.widget-view+json": {
       "model_id": "8ae2172fe7984547baa6bf257fcb1229",
       "version_major": 2,
       "version_minor": 0
      },
      "text/plain": [
       "Batches:   0%|          | 0/1 [00:00<?, ?it/s]"
      ]
     },
     "metadata": {},
     "output_type": "display_data"
    },
    {
     "data": {
      "application/vnd.jupyter.widget-view+json": {
       "model_id": "8a55176a339b41e5b734b687d2913350",
       "version_major": 2,
       "version_minor": 0
      },
      "text/plain": [
       "Batches:   0%|          | 0/1 [00:00<?, ?it/s]"
      ]
     },
     "metadata": {},
     "output_type": "display_data"
    },
    {
     "data": {
      "application/vnd.jupyter.widget-view+json": {
       "model_id": "8834144d24df486db11f94461d5d7295",
       "version_major": 2,
       "version_minor": 0
      },
      "text/plain": [
       "Batches:   0%|          | 0/1 [00:00<?, ?it/s]"
      ]
     },
     "metadata": {},
     "output_type": "display_data"
    },
    {
     "data": {
      "application/vnd.jupyter.widget-view+json": {
       "model_id": "f3e370b938cd438ca1f2461da60e04de",
       "version_major": 2,
       "version_minor": 0
      },
      "text/plain": [
       "Batches:   0%|          | 0/1 [00:00<?, ?it/s]"
      ]
     },
     "metadata": {},
     "output_type": "display_data"
    },
    {
     "data": {
      "application/vnd.jupyter.widget-view+json": {
       "model_id": "03c0ea83d0564ca983f46bda10815098",
       "version_major": 2,
       "version_minor": 0
      },
      "text/plain": [
       "Batches:   0%|          | 0/1 [00:00<?, ?it/s]"
      ]
     },
     "metadata": {},
     "output_type": "display_data"
    },
    {
     "data": {
      "application/vnd.jupyter.widget-view+json": {
       "model_id": "ee60eb944c844e9eb394fc384df00702",
       "version_major": 2,
       "version_minor": 0
      },
      "text/plain": [
       "Batches:   0%|          | 0/1 [00:00<?, ?it/s]"
      ]
     },
     "metadata": {},
     "output_type": "display_data"
    },
    {
     "data": {
      "application/vnd.jupyter.widget-view+json": {
       "model_id": "2da08154a8a74a68a731f1fef9e3eb76",
       "version_major": 2,
       "version_minor": 0
      },
      "text/plain": [
       "Batches:   0%|          | 0/1 [00:00<?, ?it/s]"
      ]
     },
     "metadata": {},
     "output_type": "display_data"
    },
    {
     "data": {
      "application/vnd.jupyter.widget-view+json": {
       "model_id": "e7730f112c454d9ba40d68dd6a04a62e",
       "version_major": 2,
       "version_minor": 0
      },
      "text/plain": [
       "Batches:   0%|          | 0/1 [00:00<?, ?it/s]"
      ]
     },
     "metadata": {},
     "output_type": "display_data"
    },
    {
     "data": {
      "application/vnd.jupyter.widget-view+json": {
       "model_id": "ffbe085fa9fe4549ac47794c0618c69a",
       "version_major": 2,
       "version_minor": 0
      },
      "text/plain": [
       "Batches:   0%|          | 0/1 [00:00<?, ?it/s]"
      ]
     },
     "metadata": {},
     "output_type": "display_data"
    },
    {
     "data": {
      "application/vnd.jupyter.widget-view+json": {
       "model_id": "b82a05b9ad1946c59c8477ef89c39661",
       "version_major": 2,
       "version_minor": 0
      },
      "text/plain": [
       "Batches:   0%|          | 0/1 [00:00<?, ?it/s]"
      ]
     },
     "metadata": {},
     "output_type": "display_data"
    },
    {
     "data": {
      "application/vnd.jupyter.widget-view+json": {
       "model_id": "63828dd0ccc74cac9aafa3ee1f4fa1fb",
       "version_major": 2,
       "version_minor": 0
      },
      "text/plain": [
       "Batches:   0%|          | 0/1 [00:00<?, ?it/s]"
      ]
     },
     "metadata": {},
     "output_type": "display_data"
    },
    {
     "data": {
      "application/vnd.jupyter.widget-view+json": {
       "model_id": "2055ea16c6e54d7da4f233771c68f70c",
       "version_major": 2,
       "version_minor": 0
      },
      "text/plain": [
       "Batches:   0%|          | 0/1 [00:00<?, ?it/s]"
      ]
     },
     "metadata": {},
     "output_type": "display_data"
    },
    {
     "data": {
      "application/vnd.jupyter.widget-view+json": {
       "model_id": "a1ce0fc00777428ca519bc15657413f3",
       "version_major": 2,
       "version_minor": 0
      },
      "text/plain": [
       "Batches:   0%|          | 0/1 [00:00<?, ?it/s]"
      ]
     },
     "metadata": {},
     "output_type": "display_data"
    },
    {
     "data": {
      "application/vnd.jupyter.widget-view+json": {
       "model_id": "3853486ab6364b1cbcd77fb8799d2f09",
       "version_major": 2,
       "version_minor": 0
      },
      "text/plain": [
       "Batches:   0%|          | 0/1 [00:00<?, ?it/s]"
      ]
     },
     "metadata": {},
     "output_type": "display_data"
    },
    {
     "data": {
      "application/vnd.jupyter.widget-view+json": {
       "model_id": "5f6c70491803432280187463445087b2",
       "version_major": 2,
       "version_minor": 0
      },
      "text/plain": [
       "Batches:   0%|          | 0/1 [00:00<?, ?it/s]"
      ]
     },
     "metadata": {},
     "output_type": "display_data"
    },
    {
     "data": {
      "application/vnd.jupyter.widget-view+json": {
       "model_id": "7bee98035c354b00afe2f88b25955908",
       "version_major": 2,
       "version_minor": 0
      },
      "text/plain": [
       "Batches:   0%|          | 0/1 [00:00<?, ?it/s]"
      ]
     },
     "metadata": {},
     "output_type": "display_data"
    },
    {
     "data": {
      "application/vnd.jupyter.widget-view+json": {
       "model_id": "90c23d00b036459d9505d4ac4a499583",
       "version_major": 2,
       "version_minor": 0
      },
      "text/plain": [
       "Batches:   0%|          | 0/1 [00:00<?, ?it/s]"
      ]
     },
     "metadata": {},
     "output_type": "display_data"
    },
    {
     "data": {
      "application/vnd.jupyter.widget-view+json": {
       "model_id": "c3dc4b8b573e471fbe084e180c87a62e",
       "version_major": 2,
       "version_minor": 0
      },
      "text/plain": [
       "Batches:   0%|          | 0/1 [00:00<?, ?it/s]"
      ]
     },
     "metadata": {},
     "output_type": "display_data"
    },
    {
     "data": {
      "application/vnd.jupyter.widget-view+json": {
       "model_id": "c83d16e709db46489d1fa574e3d4f6cb",
       "version_major": 2,
       "version_minor": 0
      },
      "text/plain": [
       "Batches:   0%|          | 0/1 [00:00<?, ?it/s]"
      ]
     },
     "metadata": {},
     "output_type": "display_data"
    },
    {
     "data": {
      "application/vnd.jupyter.widget-view+json": {
       "model_id": "ed7745cbc9534a1480fa075ffc42cc30",
       "version_major": 2,
       "version_minor": 0
      },
      "text/plain": [
       "Batches:   0%|          | 0/1 [00:00<?, ?it/s]"
      ]
     },
     "metadata": {},
     "output_type": "display_data"
    },
    {
     "data": {
      "application/vnd.jupyter.widget-view+json": {
       "model_id": "287e8e0396b242c5bb5b37e3f6cfe8eb",
       "version_major": 2,
       "version_minor": 0
      },
      "text/plain": [
       "Batches:   0%|          | 0/1 [00:00<?, ?it/s]"
      ]
     },
     "metadata": {},
     "output_type": "display_data"
    },
    {
     "data": {
      "application/vnd.jupyter.widget-view+json": {
       "model_id": "bdd2c032bdb2478fa7ffb4c3127d8344",
       "version_major": 2,
       "version_minor": 0
      },
      "text/plain": [
       "Batches:   0%|          | 0/1 [00:00<?, ?it/s]"
      ]
     },
     "metadata": {},
     "output_type": "display_data"
    },
    {
     "data": {
      "application/vnd.jupyter.widget-view+json": {
       "model_id": "fc943c2698e74dc78c9e864c23cf3aaa",
       "version_major": 2,
       "version_minor": 0
      },
      "text/plain": [
       "Batches:   0%|          | 0/1 [00:00<?, ?it/s]"
      ]
     },
     "metadata": {},
     "output_type": "display_data"
    },
    {
     "data": {
      "application/vnd.jupyter.widget-view+json": {
       "model_id": "988b2ecc5748446a8c75f646ccd348c2",
       "version_major": 2,
       "version_minor": 0
      },
      "text/plain": [
       "Batches:   0%|          | 0/1 [00:00<?, ?it/s]"
      ]
     },
     "metadata": {},
     "output_type": "display_data"
    },
    {
     "data": {
      "application/vnd.jupyter.widget-view+json": {
       "model_id": "9174ba4968e54feebe2c5ef379960853",
       "version_major": 2,
       "version_minor": 0
      },
      "text/plain": [
       "Batches:   0%|          | 0/1 [00:00<?, ?it/s]"
      ]
     },
     "metadata": {},
     "output_type": "display_data"
    },
    {
     "data": {
      "application/vnd.jupyter.widget-view+json": {
       "model_id": "34663df9e45b4480aa1123b751714b3e",
       "version_major": 2,
       "version_minor": 0
      },
      "text/plain": [
       "Batches:   0%|          | 0/1 [00:00<?, ?it/s]"
      ]
     },
     "metadata": {},
     "output_type": "display_data"
    },
    {
     "data": {
      "application/vnd.jupyter.widget-view+json": {
       "model_id": "0e704cdcf3a845e1ab6e421ac6c95ec2",
       "version_major": 2,
       "version_minor": 0
      },
      "text/plain": [
       "Batches:   0%|          | 0/1 [00:00<?, ?it/s]"
      ]
     },
     "metadata": {},
     "output_type": "display_data"
    },
    {
     "data": {
      "application/vnd.jupyter.widget-view+json": {
       "model_id": "937909bf1a1e40d7a9cc3d2d8b5cb2bf",
       "version_major": 2,
       "version_minor": 0
      },
      "text/plain": [
       "Batches:   0%|          | 0/1 [00:00<?, ?it/s]"
      ]
     },
     "metadata": {},
     "output_type": "display_data"
    },
    {
     "data": {
      "application/vnd.jupyter.widget-view+json": {
       "model_id": "6e5af8d7f7c546aba84b904328c490c9",
       "version_major": 2,
       "version_minor": 0
      },
      "text/plain": [
       "Batches:   0%|          | 0/1 [00:00<?, ?it/s]"
      ]
     },
     "metadata": {},
     "output_type": "display_data"
    },
    {
     "data": {
      "application/vnd.jupyter.widget-view+json": {
       "model_id": "3a90e31158ab4b78925adcc0a07d679d",
       "version_major": 2,
       "version_minor": 0
      },
      "text/plain": [
       "Batches:   0%|          | 0/1 [00:00<?, ?it/s]"
      ]
     },
     "metadata": {},
     "output_type": "display_data"
    },
    {
     "data": {
      "application/vnd.jupyter.widget-view+json": {
       "model_id": "f82d094f55c7423aab5258fc513053fc",
       "version_major": 2,
       "version_minor": 0
      },
      "text/plain": [
       "Batches:   0%|          | 0/1 [00:00<?, ?it/s]"
      ]
     },
     "metadata": {},
     "output_type": "display_data"
    },
    {
     "data": {
      "application/vnd.jupyter.widget-view+json": {
       "model_id": "2698f1514c13441ab54bbbada905e013",
       "version_major": 2,
       "version_minor": 0
      },
      "text/plain": [
       "Batches:   0%|          | 0/1 [00:00<?, ?it/s]"
      ]
     },
     "metadata": {},
     "output_type": "display_data"
    },
    {
     "data": {
      "application/vnd.jupyter.widget-view+json": {
       "model_id": "0a6a601a643d45919fe280b70f4fcbc0",
       "version_major": 2,
       "version_minor": 0
      },
      "text/plain": [
       "Batches:   0%|          | 0/1 [00:00<?, ?it/s]"
      ]
     },
     "metadata": {},
     "output_type": "display_data"
    },
    {
     "data": {
      "application/vnd.jupyter.widget-view+json": {
       "model_id": "79f3324a88074512879440285f6a90cc",
       "version_major": 2,
       "version_minor": 0
      },
      "text/plain": [
       "Batches:   0%|          | 0/1 [00:00<?, ?it/s]"
      ]
     },
     "metadata": {},
     "output_type": "display_data"
    },
    {
     "data": {
      "application/vnd.jupyter.widget-view+json": {
       "model_id": "e6510edee9704a7497e7d0e40a83fa74",
       "version_major": 2,
       "version_minor": 0
      },
      "text/plain": [
       "Batches:   0%|          | 0/1 [00:00<?, ?it/s]"
      ]
     },
     "metadata": {},
     "output_type": "display_data"
    },
    {
     "data": {
      "application/vnd.jupyter.widget-view+json": {
       "model_id": "522c5533077a4467b5479fc07f8b1304",
       "version_major": 2,
       "version_minor": 0
      },
      "text/plain": [
       "Batches:   0%|          | 0/1 [00:00<?, ?it/s]"
      ]
     },
     "metadata": {},
     "output_type": "display_data"
    },
    {
     "data": {
      "application/vnd.jupyter.widget-view+json": {
       "model_id": "8d4df49a25a2481c80ed6313905293b5",
       "version_major": 2,
       "version_minor": 0
      },
      "text/plain": [
       "Batches:   0%|          | 0/1 [00:00<?, ?it/s]"
      ]
     },
     "metadata": {},
     "output_type": "display_data"
    },
    {
     "data": {
      "application/vnd.jupyter.widget-view+json": {
       "model_id": "17fd1d9e4cd64554965b43fde78f036b",
       "version_major": 2,
       "version_minor": 0
      },
      "text/plain": [
       "Batches:   0%|          | 0/1 [00:00<?, ?it/s]"
      ]
     },
     "metadata": {},
     "output_type": "display_data"
    },
    {
     "data": {
      "application/vnd.jupyter.widget-view+json": {
       "model_id": "d7d0631788d84432a5024b95e6bfbbed",
       "version_major": 2,
       "version_minor": 0
      },
      "text/plain": [
       "Batches:   0%|          | 0/1 [00:00<?, ?it/s]"
      ]
     },
     "metadata": {},
     "output_type": "display_data"
    },
    {
     "data": {
      "application/vnd.jupyter.widget-view+json": {
       "model_id": "a83e2b11f6f141b485a883e3f60b9400",
       "version_major": 2,
       "version_minor": 0
      },
      "text/plain": [
       "Batches:   0%|          | 0/1 [00:00<?, ?it/s]"
      ]
     },
     "metadata": {},
     "output_type": "display_data"
    },
    {
     "data": {
      "application/vnd.jupyter.widget-view+json": {
       "model_id": "3b984cef73864afa96876b6e1842503b",
       "version_major": 2,
       "version_minor": 0
      },
      "text/plain": [
       "Batches:   0%|          | 0/1 [00:00<?, ?it/s]"
      ]
     },
     "metadata": {},
     "output_type": "display_data"
    },
    {
     "data": {
      "application/vnd.jupyter.widget-view+json": {
       "model_id": "042038eb28424bb98b0bf0c6aa64c756",
       "version_major": 2,
       "version_minor": 0
      },
      "text/plain": [
       "Batches:   0%|          | 0/1 [00:00<?, ?it/s]"
      ]
     },
     "metadata": {},
     "output_type": "display_data"
    },
    {
     "data": {
      "application/vnd.jupyter.widget-view+json": {
       "model_id": "394b62788405475ba08a8421d4a6f7d2",
       "version_major": 2,
       "version_minor": 0
      },
      "text/plain": [
       "Batches:   0%|          | 0/1 [00:00<?, ?it/s]"
      ]
     },
     "metadata": {},
     "output_type": "display_data"
    },
    {
     "data": {
      "application/vnd.jupyter.widget-view+json": {
       "model_id": "d739d118615c48aab563290982c5148a",
       "version_major": 2,
       "version_minor": 0
      },
      "text/plain": [
       "Batches:   0%|          | 0/1 [00:00<?, ?it/s]"
      ]
     },
     "metadata": {},
     "output_type": "display_data"
    },
    {
     "data": {
      "application/vnd.jupyter.widget-view+json": {
       "model_id": "ea9e5a830234458a90ca56c31e800810",
       "version_major": 2,
       "version_minor": 0
      },
      "text/plain": [
       "Batches:   0%|          | 0/1 [00:00<?, ?it/s]"
      ]
     },
     "metadata": {},
     "output_type": "display_data"
    },
    {
     "data": {
      "application/vnd.jupyter.widget-view+json": {
       "model_id": "bce0eecdb56647018c9139071270230b",
       "version_major": 2,
       "version_minor": 0
      },
      "text/plain": [
       "Batches:   0%|          | 0/1 [00:00<?, ?it/s]"
      ]
     },
     "metadata": {},
     "output_type": "display_data"
    },
    {
     "data": {
      "application/vnd.jupyter.widget-view+json": {
       "model_id": "1bfbf4e7962b489a9280e03147e5453a",
       "version_major": 2,
       "version_minor": 0
      },
      "text/plain": [
       "Batches:   0%|          | 0/1 [00:00<?, ?it/s]"
      ]
     },
     "metadata": {},
     "output_type": "display_data"
    },
    {
     "data": {
      "application/vnd.jupyter.widget-view+json": {
       "model_id": "bb2e82fa4a014b4ba472d7034f56e6c2",
       "version_major": 2,
       "version_minor": 0
      },
      "text/plain": [
       "Batches:   0%|          | 0/1 [00:00<?, ?it/s]"
      ]
     },
     "metadata": {},
     "output_type": "display_data"
    },
    {
     "data": {
      "application/vnd.jupyter.widget-view+json": {
       "model_id": "7566c2b17dc24bc9a68bb869b8c109c1",
       "version_major": 2,
       "version_minor": 0
      },
      "text/plain": [
       "Batches:   0%|          | 0/1 [00:00<?, ?it/s]"
      ]
     },
     "metadata": {},
     "output_type": "display_data"
    },
    {
     "data": {
      "application/vnd.jupyter.widget-view+json": {
       "model_id": "9e92d2216cb84a4d9a7fc459f71281cb",
       "version_major": 2,
       "version_minor": 0
      },
      "text/plain": [
       "Batches:   0%|          | 0/1 [00:00<?, ?it/s]"
      ]
     },
     "metadata": {},
     "output_type": "display_data"
    },
    {
     "data": {
      "application/vnd.jupyter.widget-view+json": {
       "model_id": "eca227f9454a4ded81590a7d42dfcbad",
       "version_major": 2,
       "version_minor": 0
      },
      "text/plain": [
       "Batches:   0%|          | 0/1 [00:00<?, ?it/s]"
      ]
     },
     "metadata": {},
     "output_type": "display_data"
    },
    {
     "data": {
      "application/vnd.jupyter.widget-view+json": {
       "model_id": "a31a7b1bb4194df6bd14117f1d8fff9f",
       "version_major": 2,
       "version_minor": 0
      },
      "text/plain": [
       "Batches:   0%|          | 0/1 [00:00<?, ?it/s]"
      ]
     },
     "metadata": {},
     "output_type": "display_data"
    },
    {
     "data": {
      "application/vnd.jupyter.widget-view+json": {
       "model_id": "f511f368d229405a8c0baa0e7c86f5d7",
       "version_major": 2,
       "version_minor": 0
      },
      "text/plain": [
       "Batches:   0%|          | 0/1 [00:00<?, ?it/s]"
      ]
     },
     "metadata": {},
     "output_type": "display_data"
    },
    {
     "data": {
      "application/vnd.jupyter.widget-view+json": {
       "model_id": "690797bfcd8b4e9f9154e788a4bee001",
       "version_major": 2,
       "version_minor": 0
      },
      "text/plain": [
       "Batches:   0%|          | 0/1 [00:00<?, ?it/s]"
      ]
     },
     "metadata": {},
     "output_type": "display_data"
    },
    {
     "data": {
      "application/vnd.jupyter.widget-view+json": {
       "model_id": "6421f9a75e45445783f2b73a3b8af17c",
       "version_major": 2,
       "version_minor": 0
      },
      "text/plain": [
       "Batches:   0%|          | 0/1 [00:00<?, ?it/s]"
      ]
     },
     "metadata": {},
     "output_type": "display_data"
    },
    {
     "data": {
      "application/vnd.jupyter.widget-view+json": {
       "model_id": "c54f4ec8ce034fab9624e9fb73ce72fe",
       "version_major": 2,
       "version_minor": 0
      },
      "text/plain": [
       "Batches:   0%|          | 0/1 [00:00<?, ?it/s]"
      ]
     },
     "metadata": {},
     "output_type": "display_data"
    },
    {
     "data": {
      "application/vnd.jupyter.widget-view+json": {
       "model_id": "a9438c3d806b4828bf5e3f24b8b83ec3",
       "version_major": 2,
       "version_minor": 0
      },
      "text/plain": [
       "Batches:   0%|          | 0/1 [00:00<?, ?it/s]"
      ]
     },
     "metadata": {},
     "output_type": "display_data"
    },
    {
     "data": {
      "application/vnd.jupyter.widget-view+json": {
       "model_id": "cc05df35767f40f99b7ac2e769bdaf65",
       "version_major": 2,
       "version_minor": 0
      },
      "text/plain": [
       "Batches:   0%|          | 0/1 [00:00<?, ?it/s]"
      ]
     },
     "metadata": {},
     "output_type": "display_data"
    },
    {
     "data": {
      "application/vnd.jupyter.widget-view+json": {
       "model_id": "437f5573428d437495a07ef548b6623b",
       "version_major": 2,
       "version_minor": 0
      },
      "text/plain": [
       "Batches:   0%|          | 0/1 [00:00<?, ?it/s]"
      ]
     },
     "metadata": {},
     "output_type": "display_data"
    },
    {
     "data": {
      "application/vnd.jupyter.widget-view+json": {
       "model_id": "0389368eb8c946f6857700e6cbe82388",
       "version_major": 2,
       "version_minor": 0
      },
      "text/plain": [
       "Batches:   0%|          | 0/1 [00:00<?, ?it/s]"
      ]
     },
     "metadata": {},
     "output_type": "display_data"
    },
    {
     "data": {
      "application/vnd.jupyter.widget-view+json": {
       "model_id": "63fb4666a93d4efca4072f957d85fbcf",
       "version_major": 2,
       "version_minor": 0
      },
      "text/plain": [
       "Batches:   0%|          | 0/1 [00:00<?, ?it/s]"
      ]
     },
     "metadata": {},
     "output_type": "display_data"
    },
    {
     "data": {
      "application/vnd.jupyter.widget-view+json": {
       "model_id": "32cee999a82742ccbf787c75529cc6d1",
       "version_major": 2,
       "version_minor": 0
      },
      "text/plain": [
       "Batches:   0%|          | 0/1 [00:00<?, ?it/s]"
      ]
     },
     "metadata": {},
     "output_type": "display_data"
    },
    {
     "data": {
      "application/vnd.jupyter.widget-view+json": {
       "model_id": "1fdd3c258c0242ffa8aabfb269e968a1",
       "version_major": 2,
       "version_minor": 0
      },
      "text/plain": [
       "Batches:   0%|          | 0/1 [00:00<?, ?it/s]"
      ]
     },
     "metadata": {},
     "output_type": "display_data"
    },
    {
     "data": {
      "application/vnd.jupyter.widget-view+json": {
       "model_id": "b4a95dcfce5047b5a131b4525f665d02",
       "version_major": 2,
       "version_minor": 0
      },
      "text/plain": [
       "Batches:   0%|          | 0/1 [00:00<?, ?it/s]"
      ]
     },
     "metadata": {},
     "output_type": "display_data"
    },
    {
     "data": {
      "application/vnd.jupyter.widget-view+json": {
       "model_id": "8bd92b0541d44a90ad1636b42ee2d6d4",
       "version_major": 2,
       "version_minor": 0
      },
      "text/plain": [
       "Batches:   0%|          | 0/1 [00:00<?, ?it/s]"
      ]
     },
     "metadata": {},
     "output_type": "display_data"
    },
    {
     "data": {
      "application/vnd.jupyter.widget-view+json": {
       "model_id": "a33a1c6b827745628a10241b91ae0ee4",
       "version_major": 2,
       "version_minor": 0
      },
      "text/plain": [
       "Batches:   0%|          | 0/1 [00:00<?, ?it/s]"
      ]
     },
     "metadata": {},
     "output_type": "display_data"
    },
    {
     "data": {
      "application/vnd.jupyter.widget-view+json": {
       "model_id": "c8ac997e4d964a4da5ed824e7024f8fd",
       "version_major": 2,
       "version_minor": 0
      },
      "text/plain": [
       "Batches:   0%|          | 0/1 [00:00<?, ?it/s]"
      ]
     },
     "metadata": {},
     "output_type": "display_data"
    },
    {
     "data": {
      "application/vnd.jupyter.widget-view+json": {
       "model_id": "9ed052481b8c49a580714716966be6c4",
       "version_major": 2,
       "version_minor": 0
      },
      "text/plain": [
       "Batches:   0%|          | 0/1 [00:00<?, ?it/s]"
      ]
     },
     "metadata": {},
     "output_type": "display_data"
    },
    {
     "data": {
      "application/vnd.jupyter.widget-view+json": {
       "model_id": "8ac61090931c4a23a9b1a27cdcc599f1",
       "version_major": 2,
       "version_minor": 0
      },
      "text/plain": [
       "Batches:   0%|          | 0/1 [00:00<?, ?it/s]"
      ]
     },
     "metadata": {},
     "output_type": "display_data"
    },
    {
     "data": {
      "application/vnd.jupyter.widget-view+json": {
       "model_id": "cc0fe3bc96174d60b8c8ed20e0c543f7",
       "version_major": 2,
       "version_minor": 0
      },
      "text/plain": [
       "Batches:   0%|          | 0/1 [00:00<?, ?it/s]"
      ]
     },
     "metadata": {},
     "output_type": "display_data"
    },
    {
     "data": {
      "application/vnd.jupyter.widget-view+json": {
       "model_id": "4020f5812ddd4b66a5873c10fd02257b",
       "version_major": 2,
       "version_minor": 0
      },
      "text/plain": [
       "Batches:   0%|          | 0/1 [00:00<?, ?it/s]"
      ]
     },
     "metadata": {},
     "output_type": "display_data"
    },
    {
     "data": {
      "application/vnd.jupyter.widget-view+json": {
       "model_id": "3127a0d8f9b34e72874a2043c9874b6f",
       "version_major": 2,
       "version_minor": 0
      },
      "text/plain": [
       "Batches:   0%|          | 0/1 [00:00<?, ?it/s]"
      ]
     },
     "metadata": {},
     "output_type": "display_data"
    },
    {
     "data": {
      "application/vnd.jupyter.widget-view+json": {
       "model_id": "e555b45c57d149948e30290dbf1a5b85",
       "version_major": 2,
       "version_minor": 0
      },
      "text/plain": [
       "Batches:   0%|          | 0/1 [00:00<?, ?it/s]"
      ]
     },
     "metadata": {},
     "output_type": "display_data"
    },
    {
     "data": {
      "application/vnd.jupyter.widget-view+json": {
       "model_id": "fa4138cd13684fae8924f805f5f2cb5c",
       "version_major": 2,
       "version_minor": 0
      },
      "text/plain": [
       "Batches:   0%|          | 0/1 [00:00<?, ?it/s]"
      ]
     },
     "metadata": {},
     "output_type": "display_data"
    },
    {
     "data": {
      "application/vnd.jupyter.widget-view+json": {
       "model_id": "2ddcb4b187c24a978f3d897434ae6a2f",
       "version_major": 2,
       "version_minor": 0
      },
      "text/plain": [
       "Batches:   0%|          | 0/1 [00:00<?, ?it/s]"
      ]
     },
     "metadata": {},
     "output_type": "display_data"
    },
    {
     "data": {
      "application/vnd.jupyter.widget-view+json": {
       "model_id": "1f87951ae339488aba355eabc58bf0bb",
       "version_major": 2,
       "version_minor": 0
      },
      "text/plain": [
       "Batches:   0%|          | 0/1 [00:00<?, ?it/s]"
      ]
     },
     "metadata": {},
     "output_type": "display_data"
    },
    {
     "data": {
      "application/vnd.jupyter.widget-view+json": {
       "model_id": "9030247c159249748af413e4557f15c1",
       "version_major": 2,
       "version_minor": 0
      },
      "text/plain": [
       "Batches:   0%|          | 0/1 [00:00<?, ?it/s]"
      ]
     },
     "metadata": {},
     "output_type": "display_data"
    },
    {
     "data": {
      "application/vnd.jupyter.widget-view+json": {
       "model_id": "673286fe89224a4b89b97e5a1f513a83",
       "version_major": 2,
       "version_minor": 0
      },
      "text/plain": [
       "Batches:   0%|          | 0/1 [00:00<?, ?it/s]"
      ]
     },
     "metadata": {},
     "output_type": "display_data"
    },
    {
     "data": {
      "application/vnd.jupyter.widget-view+json": {
       "model_id": "cc0153d853664380a8f3cf6ea53eb12e",
       "version_major": 2,
       "version_minor": 0
      },
      "text/plain": [
       "Batches:   0%|          | 0/1 [00:00<?, ?it/s]"
      ]
     },
     "metadata": {},
     "output_type": "display_data"
    },
    {
     "data": {
      "application/vnd.jupyter.widget-view+json": {
       "model_id": "5f1810145b7e4c12b6e9d60abde3db4a",
       "version_major": 2,
       "version_minor": 0
      },
      "text/plain": [
       "Batches:   0%|          | 0/1 [00:00<?, ?it/s]"
      ]
     },
     "metadata": {},
     "output_type": "display_data"
    },
    {
     "data": {
      "application/vnd.jupyter.widget-view+json": {
       "model_id": "924906b000664645ad7f9a3ca02dc04b",
       "version_major": 2,
       "version_minor": 0
      },
      "text/plain": [
       "Batches:   0%|          | 0/1 [00:00<?, ?it/s]"
      ]
     },
     "metadata": {},
     "output_type": "display_data"
    },
    {
     "data": {
      "application/vnd.jupyter.widget-view+json": {
       "model_id": "dd8f81aac4c74a878764ca8dbc47e8c5",
       "version_major": 2,
       "version_minor": 0
      },
      "text/plain": [
       "Batches:   0%|          | 0/1 [00:00<?, ?it/s]"
      ]
     },
     "metadata": {},
     "output_type": "display_data"
    },
    {
     "data": {
      "application/vnd.jupyter.widget-view+json": {
       "model_id": "6e4509a141334fa7a972d89d5b0cd0b8",
       "version_major": 2,
       "version_minor": 0
      },
      "text/plain": [
       "Batches:   0%|          | 0/1 [00:00<?, ?it/s]"
      ]
     },
     "metadata": {},
     "output_type": "display_data"
    },
    {
     "data": {
      "application/vnd.jupyter.widget-view+json": {
       "model_id": "bc2b7dd0a9e1442197d0ab388d1f5699",
       "version_major": 2,
       "version_minor": 0
      },
      "text/plain": [
       "Batches:   0%|          | 0/1 [00:00<?, ?it/s]"
      ]
     },
     "metadata": {},
     "output_type": "display_data"
    },
    {
     "data": {
      "application/vnd.jupyter.widget-view+json": {
       "model_id": "4dbc8c405d48424fb22b88f128b6dfc2",
       "version_major": 2,
       "version_minor": 0
      },
      "text/plain": [
       "Batches:   0%|          | 0/1 [00:00<?, ?it/s]"
      ]
     },
     "metadata": {},
     "output_type": "display_data"
    },
    {
     "data": {
      "application/vnd.jupyter.widget-view+json": {
       "model_id": "9c5161a1547443e1a674b6d32279a020",
       "version_major": 2,
       "version_minor": 0
      },
      "text/plain": [
       "Batches:   0%|          | 0/1 [00:00<?, ?it/s]"
      ]
     },
     "metadata": {},
     "output_type": "display_data"
    },
    {
     "data": {
      "application/vnd.jupyter.widget-view+json": {
       "model_id": "aa97b14ddc4c43d1a6a60f6fd6f1b0d0",
       "version_major": 2,
       "version_minor": 0
      },
      "text/plain": [
       "Batches:   0%|          | 0/1 [00:00<?, ?it/s]"
      ]
     },
     "metadata": {},
     "output_type": "display_data"
    },
    {
     "data": {
      "application/vnd.jupyter.widget-view+json": {
       "model_id": "8b56d19bbad349f397d1c35b26973799",
       "version_major": 2,
       "version_minor": 0
      },
      "text/plain": [
       "Batches:   0%|          | 0/1 [00:00<?, ?it/s]"
      ]
     },
     "metadata": {},
     "output_type": "display_data"
    },
    {
     "data": {
      "application/vnd.jupyter.widget-view+json": {
       "model_id": "3e170d48e2cf4e588ecd2d828ccf8a6d",
       "version_major": 2,
       "version_minor": 0
      },
      "text/plain": [
       "Batches:   0%|          | 0/1 [00:00<?, ?it/s]"
      ]
     },
     "metadata": {},
     "output_type": "display_data"
    },
    {
     "data": {
      "application/vnd.jupyter.widget-view+json": {
       "model_id": "7b29bcb176634e00b0b7883ba81068f2",
       "version_major": 2,
       "version_minor": 0
      },
      "text/plain": [
       "Batches:   0%|          | 0/1 [00:00<?, ?it/s]"
      ]
     },
     "metadata": {},
     "output_type": "display_data"
    },
    {
     "data": {
      "application/vnd.jupyter.widget-view+json": {
       "model_id": "a8d128f3c0a746d2be24a7f620f07058",
       "version_major": 2,
       "version_minor": 0
      },
      "text/plain": [
       "Batches:   0%|          | 0/1 [00:00<?, ?it/s]"
      ]
     },
     "metadata": {},
     "output_type": "display_data"
    },
    {
     "data": {
      "application/vnd.jupyter.widget-view+json": {
       "model_id": "3499f4be54404384824aaaaf477bad41",
       "version_major": 2,
       "version_minor": 0
      },
      "text/plain": [
       "Batches:   0%|          | 0/1 [00:00<?, ?it/s]"
      ]
     },
     "metadata": {},
     "output_type": "display_data"
    },
    {
     "data": {
      "application/vnd.jupyter.widget-view+json": {
       "model_id": "8db151b507504e19afdef0177aaa5241",
       "version_major": 2,
       "version_minor": 0
      },
      "text/plain": [
       "Batches:   0%|          | 0/1 [00:00<?, ?it/s]"
      ]
     },
     "metadata": {},
     "output_type": "display_data"
    },
    {
     "data": {
      "application/vnd.jupyter.widget-view+json": {
       "model_id": "536d45a97e0a4c99aa271982cfe8205e",
       "version_major": 2,
       "version_minor": 0
      },
      "text/plain": [
       "Batches:   0%|          | 0/1 [00:00<?, ?it/s]"
      ]
     },
     "metadata": {},
     "output_type": "display_data"
    },
    {
     "data": {
      "application/vnd.jupyter.widget-view+json": {
       "model_id": "05c4cfc947c04767aef6d72261d0fda9",
       "version_major": 2,
       "version_minor": 0
      },
      "text/plain": [
       "Batches:   0%|          | 0/1 [00:00<?, ?it/s]"
      ]
     },
     "metadata": {},
     "output_type": "display_data"
    },
    {
     "data": {
      "application/vnd.jupyter.widget-view+json": {
       "model_id": "8931f86f798b4a3ba01573445d718a41",
       "version_major": 2,
       "version_minor": 0
      },
      "text/plain": [
       "Batches:   0%|          | 0/1 [00:00<?, ?it/s]"
      ]
     },
     "metadata": {},
     "output_type": "display_data"
    },
    {
     "data": {
      "application/vnd.jupyter.widget-view+json": {
       "model_id": "bfbc851bfd674f4cb2f3cc2f72f1a15c",
       "version_major": 2,
       "version_minor": 0
      },
      "text/plain": [
       "Batches:   0%|          | 0/1 [00:00<?, ?it/s]"
      ]
     },
     "metadata": {},
     "output_type": "display_data"
    },
    {
     "data": {
      "application/vnd.jupyter.widget-view+json": {
       "model_id": "82a56cbecb1b47fe97673552dd4d6b92",
       "version_major": 2,
       "version_minor": 0
      },
      "text/plain": [
       "Batches:   0%|          | 0/1 [00:00<?, ?it/s]"
      ]
     },
     "metadata": {},
     "output_type": "display_data"
    },
    {
     "data": {
      "application/vnd.jupyter.widget-view+json": {
       "model_id": "5f3af0fb187e434ebf2540c334cf1216",
       "version_major": 2,
       "version_minor": 0
      },
      "text/plain": [
       "Batches:   0%|          | 0/1 [00:00<?, ?it/s]"
      ]
     },
     "metadata": {},
     "output_type": "display_data"
    },
    {
     "data": {
      "application/vnd.jupyter.widget-view+json": {
       "model_id": "f0c3155b7e00410c97b0e91d6e73ee57",
       "version_major": 2,
       "version_minor": 0
      },
      "text/plain": [
       "Batches:   0%|          | 0/1 [00:00<?, ?it/s]"
      ]
     },
     "metadata": {},
     "output_type": "display_data"
    },
    {
     "data": {
      "application/vnd.jupyter.widget-view+json": {
       "model_id": "2c9dca26874446128a004fb6a39a2165",
       "version_major": 2,
       "version_minor": 0
      },
      "text/plain": [
       "Batches:   0%|          | 0/1 [00:00<?, ?it/s]"
      ]
     },
     "metadata": {},
     "output_type": "display_data"
    },
    {
     "data": {
      "application/vnd.jupyter.widget-view+json": {
       "model_id": "68742da5f37645ac90d66871f8b24be7",
       "version_major": 2,
       "version_minor": 0
      },
      "text/plain": [
       "Batches:   0%|          | 0/1 [00:00<?, ?it/s]"
      ]
     },
     "metadata": {},
     "output_type": "display_data"
    },
    {
     "data": {
      "application/vnd.jupyter.widget-view+json": {
       "model_id": "07425e282fd8490aa31bb444c1cd87d8",
       "version_major": 2,
       "version_minor": 0
      },
      "text/plain": [
       "Batches:   0%|          | 0/1 [00:00<?, ?it/s]"
      ]
     },
     "metadata": {},
     "output_type": "display_data"
    },
    {
     "data": {
      "application/vnd.jupyter.widget-view+json": {
       "model_id": "3d97dfe7ae5346bcab34bff05e4204ea",
       "version_major": 2,
       "version_minor": 0
      },
      "text/plain": [
       "Batches:   0%|          | 0/1 [00:00<?, ?it/s]"
      ]
     },
     "metadata": {},
     "output_type": "display_data"
    },
    {
     "data": {
      "application/vnd.jupyter.widget-view+json": {
       "model_id": "66e7158b0ae04789bd0ba492bda92fed",
       "version_major": 2,
       "version_minor": 0
      },
      "text/plain": [
       "Batches:   0%|          | 0/1 [00:00<?, ?it/s]"
      ]
     },
     "metadata": {},
     "output_type": "display_data"
    },
    {
     "data": {
      "application/vnd.jupyter.widget-view+json": {
       "model_id": "bc253892954e4f6b9801d6554b1fe659",
       "version_major": 2,
       "version_minor": 0
      },
      "text/plain": [
       "Batches:   0%|          | 0/1 [00:00<?, ?it/s]"
      ]
     },
     "metadata": {},
     "output_type": "display_data"
    },
    {
     "data": {
      "application/vnd.jupyter.widget-view+json": {
       "model_id": "90a85b6d98b342b79ba022f263f6a005",
       "version_major": 2,
       "version_minor": 0
      },
      "text/plain": [
       "Batches:   0%|          | 0/1 [00:00<?, ?it/s]"
      ]
     },
     "metadata": {},
     "output_type": "display_data"
    },
    {
     "data": {
      "application/vnd.jupyter.widget-view+json": {
       "model_id": "21f18d0e5aa446e6a1b4eabbd68c71ed",
       "version_major": 2,
       "version_minor": 0
      },
      "text/plain": [
       "Batches:   0%|          | 0/1 [00:00<?, ?it/s]"
      ]
     },
     "metadata": {},
     "output_type": "display_data"
    },
    {
     "data": {
      "application/vnd.jupyter.widget-view+json": {
       "model_id": "b308e816fa7e40fe944c84aaa376da76",
       "version_major": 2,
       "version_minor": 0
      },
      "text/plain": [
       "Batches:   0%|          | 0/1 [00:00<?, ?it/s]"
      ]
     },
     "metadata": {},
     "output_type": "display_data"
    },
    {
     "data": {
      "application/vnd.jupyter.widget-view+json": {
       "model_id": "34a4c37fdf9c47cdbdb782b3c19ea8f7",
       "version_major": 2,
       "version_minor": 0
      },
      "text/plain": [
       "Batches:   0%|          | 0/1 [00:00<?, ?it/s]"
      ]
     },
     "metadata": {},
     "output_type": "display_data"
    },
    {
     "data": {
      "application/vnd.jupyter.widget-view+json": {
       "model_id": "72e0da7d41ea4c6e9139594b21d78034",
       "version_major": 2,
       "version_minor": 0
      },
      "text/plain": [
       "Batches:   0%|          | 0/1 [00:00<?, ?it/s]"
      ]
     },
     "metadata": {},
     "output_type": "display_data"
    },
    {
     "data": {
      "application/vnd.jupyter.widget-view+json": {
       "model_id": "f9f0463720484ff4862b844255a98e5b",
       "version_major": 2,
       "version_minor": 0
      },
      "text/plain": [
       "Batches:   0%|          | 0/1 [00:00<?, ?it/s]"
      ]
     },
     "metadata": {},
     "output_type": "display_data"
    },
    {
     "data": {
      "application/vnd.jupyter.widget-view+json": {
       "model_id": "f1eda898806a4274b3d544bded355f10",
       "version_major": 2,
       "version_minor": 0
      },
      "text/plain": [
       "Batches:   0%|          | 0/1 [00:00<?, ?it/s]"
      ]
     },
     "metadata": {},
     "output_type": "display_data"
    },
    {
     "data": {
      "application/vnd.jupyter.widget-view+json": {
       "model_id": "0ca451b1d6864fa7860ca78dff788517",
       "version_major": 2,
       "version_minor": 0
      },
      "text/plain": [
       "Batches:   0%|          | 0/1 [00:00<?, ?it/s]"
      ]
     },
     "metadata": {},
     "output_type": "display_data"
    },
    {
     "data": {
      "application/vnd.jupyter.widget-view+json": {
       "model_id": "530a5d9fef504b60854227c48984b0a6",
       "version_major": 2,
       "version_minor": 0
      },
      "text/plain": [
       "Batches:   0%|          | 0/1 [00:00<?, ?it/s]"
      ]
     },
     "metadata": {},
     "output_type": "display_data"
    },
    {
     "data": {
      "application/vnd.jupyter.widget-view+json": {
       "model_id": "1887a3c79db84aaba8d50eefe1e3f037",
       "version_major": 2,
       "version_minor": 0
      },
      "text/plain": [
       "Batches:   0%|          | 0/1 [00:00<?, ?it/s]"
      ]
     },
     "metadata": {},
     "output_type": "display_data"
    },
    {
     "data": {
      "application/vnd.jupyter.widget-view+json": {
       "model_id": "a08740df0757411e8939d7dbe05cee88",
       "version_major": 2,
       "version_minor": 0
      },
      "text/plain": [
       "Batches:   0%|          | 0/1 [00:00<?, ?it/s]"
      ]
     },
     "metadata": {},
     "output_type": "display_data"
    },
    {
     "data": {
      "application/vnd.jupyter.widget-view+json": {
       "model_id": "c6fefc4f3abf4e4dbb65dc890f20253f",
       "version_major": 2,
       "version_minor": 0
      },
      "text/plain": [
       "Batches:   0%|          | 0/1 [00:00<?, ?it/s]"
      ]
     },
     "metadata": {},
     "output_type": "display_data"
    },
    {
     "data": {
      "application/vnd.jupyter.widget-view+json": {
       "model_id": "1ccfb7774df24bfe82d71712ecf0599e",
       "version_major": 2,
       "version_minor": 0
      },
      "text/plain": [
       "Batches:   0%|          | 0/1 [00:00<?, ?it/s]"
      ]
     },
     "metadata": {},
     "output_type": "display_data"
    },
    {
     "data": {
      "application/vnd.jupyter.widget-view+json": {
       "model_id": "d8dd1ef076b84be3a9e1c4812ac5ef05",
       "version_major": 2,
       "version_minor": 0
      },
      "text/plain": [
       "Batches:   0%|          | 0/1 [00:00<?, ?it/s]"
      ]
     },
     "metadata": {},
     "output_type": "display_data"
    },
    {
     "data": {
      "application/vnd.jupyter.widget-view+json": {
       "model_id": "9c6861df4dee459eb28e1b2d9b6c06a0",
       "version_major": 2,
       "version_minor": 0
      },
      "text/plain": [
       "Batches:   0%|          | 0/1 [00:00<?, ?it/s]"
      ]
     },
     "metadata": {},
     "output_type": "display_data"
    },
    {
     "data": {
      "application/vnd.jupyter.widget-view+json": {
       "model_id": "122a810f4ba24ac1a66872a7fddfcddd",
       "version_major": 2,
       "version_minor": 0
      },
      "text/plain": [
       "Batches:   0%|          | 0/1 [00:00<?, ?it/s]"
      ]
     },
     "metadata": {},
     "output_type": "display_data"
    },
    {
     "data": {
      "application/vnd.jupyter.widget-view+json": {
       "model_id": "36ff1f2f1d524c76b1da625fd085a0a3",
       "version_major": 2,
       "version_minor": 0
      },
      "text/plain": [
       "Batches:   0%|          | 0/1 [00:00<?, ?it/s]"
      ]
     },
     "metadata": {},
     "output_type": "display_data"
    },
    {
     "data": {
      "application/vnd.jupyter.widget-view+json": {
       "model_id": "f2db5b0de81c43a5917498d25cd6f154",
       "version_major": 2,
       "version_minor": 0
      },
      "text/plain": [
       "Batches:   0%|          | 0/1 [00:00<?, ?it/s]"
      ]
     },
     "metadata": {},
     "output_type": "display_data"
    },
    {
     "data": {
      "application/vnd.jupyter.widget-view+json": {
       "model_id": "c62a72268acc4713896df19c9c160957",
       "version_major": 2,
       "version_minor": 0
      },
      "text/plain": [
       "Batches:   0%|          | 0/1 [00:00<?, ?it/s]"
      ]
     },
     "metadata": {},
     "output_type": "display_data"
    },
    {
     "data": {
      "application/vnd.jupyter.widget-view+json": {
       "model_id": "c9b866f80d9d4b84b79f6fc061a55789",
       "version_major": 2,
       "version_minor": 0
      },
      "text/plain": [
       "Batches:   0%|          | 0/1 [00:00<?, ?it/s]"
      ]
     },
     "metadata": {},
     "output_type": "display_data"
    },
    {
     "data": {
      "application/vnd.jupyter.widget-view+json": {
       "model_id": "828864734e1f492dad291045532129fd",
       "version_major": 2,
       "version_minor": 0
      },
      "text/plain": [
       "Batches:   0%|          | 0/1 [00:00<?, ?it/s]"
      ]
     },
     "metadata": {},
     "output_type": "display_data"
    },
    {
     "data": {
      "application/vnd.jupyter.widget-view+json": {
       "model_id": "09477c1695de4c38bb452e8d7b39b882",
       "version_major": 2,
       "version_minor": 0
      },
      "text/plain": [
       "Batches:   0%|          | 0/1 [00:00<?, ?it/s]"
      ]
     },
     "metadata": {},
     "output_type": "display_data"
    },
    {
     "data": {
      "application/vnd.jupyter.widget-view+json": {
       "model_id": "2f814a61e935404083084e4eeb4fb7d0",
       "version_major": 2,
       "version_minor": 0
      },
      "text/plain": [
       "Batches:   0%|          | 0/1 [00:00<?, ?it/s]"
      ]
     },
     "metadata": {},
     "output_type": "display_data"
    },
    {
     "data": {
      "application/vnd.jupyter.widget-view+json": {
       "model_id": "75ffb7cec8b04fe48b228f13cd3719c1",
       "version_major": 2,
       "version_minor": 0
      },
      "text/plain": [
       "Batches:   0%|          | 0/1 [00:00<?, ?it/s]"
      ]
     },
     "metadata": {},
     "output_type": "display_data"
    },
    {
     "data": {
      "application/vnd.jupyter.widget-view+json": {
       "model_id": "95a9a760fee64132b9b727f4290647c3",
       "version_major": 2,
       "version_minor": 0
      },
      "text/plain": [
       "Batches:   0%|          | 0/1 [00:00<?, ?it/s]"
      ]
     },
     "metadata": {},
     "output_type": "display_data"
    },
    {
     "data": {
      "application/vnd.jupyter.widget-view+json": {
       "model_id": "7bbb7cfbba754d6caa474fae9f9e7274",
       "version_major": 2,
       "version_minor": 0
      },
      "text/plain": [
       "Batches:   0%|          | 0/1 [00:00<?, ?it/s]"
      ]
     },
     "metadata": {},
     "output_type": "display_data"
    },
    {
     "data": {
      "application/vnd.jupyter.widget-view+json": {
       "model_id": "afea5b5ca2a44ae1bc09d9be0eb5f146",
       "version_major": 2,
       "version_minor": 0
      },
      "text/plain": [
       "Batches:   0%|          | 0/1 [00:00<?, ?it/s]"
      ]
     },
     "metadata": {},
     "output_type": "display_data"
    },
    {
     "data": {
      "application/vnd.jupyter.widget-view+json": {
       "model_id": "9191b5d7b1324fc999f6a75f9dd3f37c",
       "version_major": 2,
       "version_minor": 0
      },
      "text/plain": [
       "Batches:   0%|          | 0/1 [00:00<?, ?it/s]"
      ]
     },
     "metadata": {},
     "output_type": "display_data"
    },
    {
     "data": {
      "application/vnd.jupyter.widget-view+json": {
       "model_id": "b67ab5f99b7b4c919b552d4c87cf12b9",
       "version_major": 2,
       "version_minor": 0
      },
      "text/plain": [
       "Batches:   0%|          | 0/1 [00:00<?, ?it/s]"
      ]
     },
     "metadata": {},
     "output_type": "display_data"
    },
    {
     "data": {
      "application/vnd.jupyter.widget-view+json": {
       "model_id": "aab5bab69f9e4360a203b53548b5f343",
       "version_major": 2,
       "version_minor": 0
      },
      "text/plain": [
       "Batches:   0%|          | 0/1 [00:00<?, ?it/s]"
      ]
     },
     "metadata": {},
     "output_type": "display_data"
    },
    {
     "data": {
      "application/vnd.jupyter.widget-view+json": {
       "model_id": "83ff1e09d28443c0872ba676c033c727",
       "version_major": 2,
       "version_minor": 0
      },
      "text/plain": [
       "Batches:   0%|          | 0/1 [00:00<?, ?it/s]"
      ]
     },
     "metadata": {},
     "output_type": "display_data"
    },
    {
     "data": {
      "application/vnd.jupyter.widget-view+json": {
       "model_id": "4599804fc0964b19a1bdc5570f0f31ef",
       "version_major": 2,
       "version_minor": 0
      },
      "text/plain": [
       "Batches:   0%|          | 0/1 [00:00<?, ?it/s]"
      ]
     },
     "metadata": {},
     "output_type": "display_data"
    },
    {
     "data": {
      "application/vnd.jupyter.widget-view+json": {
       "model_id": "1cdb65ed6d3e4821b07aee9bb1f6f4ce",
       "version_major": 2,
       "version_minor": 0
      },
      "text/plain": [
       "Batches:   0%|          | 0/1 [00:00<?, ?it/s]"
      ]
     },
     "metadata": {},
     "output_type": "display_data"
    },
    {
     "data": {
      "application/vnd.jupyter.widget-view+json": {
       "model_id": "9103896bc6ef402083a0796bcc6dc189",
       "version_major": 2,
       "version_minor": 0
      },
      "text/plain": [
       "Batches:   0%|          | 0/1 [00:00<?, ?it/s]"
      ]
     },
     "metadata": {},
     "output_type": "display_data"
    },
    {
     "data": {
      "application/vnd.jupyter.widget-view+json": {
       "model_id": "3b63189e2284472da41368759d4e618f",
       "version_major": 2,
       "version_minor": 0
      },
      "text/plain": [
       "Batches:   0%|          | 0/1 [00:00<?, ?it/s]"
      ]
     },
     "metadata": {},
     "output_type": "display_data"
    },
    {
     "data": {
      "application/vnd.jupyter.widget-view+json": {
       "model_id": "ab65aa0852a149558f364ebfb8249361",
       "version_major": 2,
       "version_minor": 0
      },
      "text/plain": [
       "Batches:   0%|          | 0/1 [00:00<?, ?it/s]"
      ]
     },
     "metadata": {},
     "output_type": "display_data"
    },
    {
     "data": {
      "application/vnd.jupyter.widget-view+json": {
       "model_id": "502076f6f9b947068cb99155bbfb7034",
       "version_major": 2,
       "version_minor": 0
      },
      "text/plain": [
       "Batches:   0%|          | 0/1 [00:00<?, ?it/s]"
      ]
     },
     "metadata": {},
     "output_type": "display_data"
    },
    {
     "data": {
      "application/vnd.jupyter.widget-view+json": {
       "model_id": "28c3a4b66fce4cde9114c884e559a4b9",
       "version_major": 2,
       "version_minor": 0
      },
      "text/plain": [
       "Batches:   0%|          | 0/1 [00:00<?, ?it/s]"
      ]
     },
     "metadata": {},
     "output_type": "display_data"
    },
    {
     "data": {
      "application/vnd.jupyter.widget-view+json": {
       "model_id": "76a0871f150b4c93a303d69379df9e24",
       "version_major": 2,
       "version_minor": 0
      },
      "text/plain": [
       "Batches:   0%|          | 0/1 [00:00<?, ?it/s]"
      ]
     },
     "metadata": {},
     "output_type": "display_data"
    },
    {
     "data": {
      "application/vnd.jupyter.widget-view+json": {
       "model_id": "04296d786d214ae8b2798fa90df3a4a6",
       "version_major": 2,
       "version_minor": 0
      },
      "text/plain": [
       "Batches:   0%|          | 0/1 [00:00<?, ?it/s]"
      ]
     },
     "metadata": {},
     "output_type": "display_data"
    },
    {
     "data": {
      "application/vnd.jupyter.widget-view+json": {
       "model_id": "96b610ddb0ad4b7cbcf547704bb95a10",
       "version_major": 2,
       "version_minor": 0
      },
      "text/plain": [
       "Batches:   0%|          | 0/1 [00:00<?, ?it/s]"
      ]
     },
     "metadata": {},
     "output_type": "display_data"
    },
    {
     "data": {
      "application/vnd.jupyter.widget-view+json": {
       "model_id": "9a771d7bb01d43a8911c4c1a80fac630",
       "version_major": 2,
       "version_minor": 0
      },
      "text/plain": [
       "Batches:   0%|          | 0/1 [00:00<?, ?it/s]"
      ]
     },
     "metadata": {},
     "output_type": "display_data"
    },
    {
     "data": {
      "application/vnd.jupyter.widget-view+json": {
       "model_id": "1d57b6bc9af447d4859f017e089c2fb1",
       "version_major": 2,
       "version_minor": 0
      },
      "text/plain": [
       "Batches:   0%|          | 0/1 [00:00<?, ?it/s]"
      ]
     },
     "metadata": {},
     "output_type": "display_data"
    },
    {
     "data": {
      "application/vnd.jupyter.widget-view+json": {
       "model_id": "956396eb43be48e7a377c09c2f0be0b7",
       "version_major": 2,
       "version_minor": 0
      },
      "text/plain": [
       "Batches:   0%|          | 0/1 [00:00<?, ?it/s]"
      ]
     },
     "metadata": {},
     "output_type": "display_data"
    },
    {
     "data": {
      "application/vnd.jupyter.widget-view+json": {
       "model_id": "2bd7767f323a4ea3b0a44f78cfdd70e7",
       "version_major": 2,
       "version_minor": 0
      },
      "text/plain": [
       "Batches:   0%|          | 0/1 [00:00<?, ?it/s]"
      ]
     },
     "metadata": {},
     "output_type": "display_data"
    },
    {
     "data": {
      "application/vnd.jupyter.widget-view+json": {
       "model_id": "0c52db87b2914336aff198c4cdd179e6",
       "version_major": 2,
       "version_minor": 0
      },
      "text/plain": [
       "Batches:   0%|          | 0/1 [00:00<?, ?it/s]"
      ]
     },
     "metadata": {},
     "output_type": "display_data"
    },
    {
     "data": {
      "application/vnd.jupyter.widget-view+json": {
       "model_id": "251d31940312407b9fd9e4c449c060cb",
       "version_major": 2,
       "version_minor": 0
      },
      "text/plain": [
       "Batches:   0%|          | 0/1 [00:00<?, ?it/s]"
      ]
     },
     "metadata": {},
     "output_type": "display_data"
    },
    {
     "data": {
      "application/vnd.jupyter.widget-view+json": {
       "model_id": "13645cee04114c7a834444b182b76ca1",
       "version_major": 2,
       "version_minor": 0
      },
      "text/plain": [
       "Batches:   0%|          | 0/1 [00:00<?, ?it/s]"
      ]
     },
     "metadata": {},
     "output_type": "display_data"
    },
    {
     "data": {
      "application/vnd.jupyter.widget-view+json": {
       "model_id": "72f9de2875e0480694d05228f19545f8",
       "version_major": 2,
       "version_minor": 0
      },
      "text/plain": [
       "Batches:   0%|          | 0/1 [00:00<?, ?it/s]"
      ]
     },
     "metadata": {},
     "output_type": "display_data"
    },
    {
     "data": {
      "application/vnd.jupyter.widget-view+json": {
       "model_id": "ee4feaf99599406aa3805082c85dd7c5",
       "version_major": 2,
       "version_minor": 0
      },
      "text/plain": [
       "Batches:   0%|          | 0/1 [00:00<?, ?it/s]"
      ]
     },
     "metadata": {},
     "output_type": "display_data"
    },
    {
     "data": {
      "application/vnd.jupyter.widget-view+json": {
       "model_id": "3ec65406a8bd48dfb229f002996c4dee",
       "version_major": 2,
       "version_minor": 0
      },
      "text/plain": [
       "Batches:   0%|          | 0/1 [00:00<?, ?it/s]"
      ]
     },
     "metadata": {},
     "output_type": "display_data"
    },
    {
     "data": {
      "application/vnd.jupyter.widget-view+json": {
       "model_id": "7fcc43f0fb134a6aa7cee0844108a014",
       "version_major": 2,
       "version_minor": 0
      },
      "text/plain": [
       "Batches:   0%|          | 0/1 [00:00<?, ?it/s]"
      ]
     },
     "metadata": {},
     "output_type": "display_data"
    },
    {
     "data": {
      "application/vnd.jupyter.widget-view+json": {
       "model_id": "cea424d41cc147ea8b80304fa984c15c",
       "version_major": 2,
       "version_minor": 0
      },
      "text/plain": [
       "Batches:   0%|          | 0/1 [00:00<?, ?it/s]"
      ]
     },
     "metadata": {},
     "output_type": "display_data"
    },
    {
     "data": {
      "application/vnd.jupyter.widget-view+json": {
       "model_id": "7ed063ccf3ef4b23a77e327876e86828",
       "version_major": 2,
       "version_minor": 0
      },
      "text/plain": [
       "Batches:   0%|          | 0/1 [00:00<?, ?it/s]"
      ]
     },
     "metadata": {},
     "output_type": "display_data"
    },
    {
     "data": {
      "application/vnd.jupyter.widget-view+json": {
       "model_id": "6bed0792b8fa4a14a4393c7fba52082d",
       "version_major": 2,
       "version_minor": 0
      },
      "text/plain": [
       "Batches:   0%|          | 0/1 [00:00<?, ?it/s]"
      ]
     },
     "metadata": {},
     "output_type": "display_data"
    },
    {
     "data": {
      "application/vnd.jupyter.widget-view+json": {
       "model_id": "66f3364f0bac44b1a5fa81657bf8ee61",
       "version_major": 2,
       "version_minor": 0
      },
      "text/plain": [
       "Batches:   0%|          | 0/1 [00:00<?, ?it/s]"
      ]
     },
     "metadata": {},
     "output_type": "display_data"
    },
    {
     "data": {
      "application/vnd.jupyter.widget-view+json": {
       "model_id": "bec5f7033910439cbfd330611019c307",
       "version_major": 2,
       "version_minor": 0
      },
      "text/plain": [
       "Batches:   0%|          | 0/1 [00:00<?, ?it/s]"
      ]
     },
     "metadata": {},
     "output_type": "display_data"
    },
    {
     "data": {
      "application/vnd.jupyter.widget-view+json": {
       "model_id": "c69c0eb1e38b4d7ab13c89a61c01660e",
       "version_major": 2,
       "version_minor": 0
      },
      "text/plain": [
       "Batches:   0%|          | 0/1 [00:00<?, ?it/s]"
      ]
     },
     "metadata": {},
     "output_type": "display_data"
    },
    {
     "data": {
      "application/vnd.jupyter.widget-view+json": {
       "model_id": "d40ac6187ff44cfa9810f41dcfc4db35",
       "version_major": 2,
       "version_minor": 0
      },
      "text/plain": [
       "Batches:   0%|          | 0/1 [00:00<?, ?it/s]"
      ]
     },
     "metadata": {},
     "output_type": "display_data"
    },
    {
     "data": {
      "application/vnd.jupyter.widget-view+json": {
       "model_id": "e9b1b03121b149be8c7a2560b2fd6d71",
       "version_major": 2,
       "version_minor": 0
      },
      "text/plain": [
       "Batches:   0%|          | 0/1 [00:00<?, ?it/s]"
      ]
     },
     "metadata": {},
     "output_type": "display_data"
    },
    {
     "data": {
      "application/vnd.jupyter.widget-view+json": {
       "model_id": "91c6cf39388042129661a64a457ae4a4",
       "version_major": 2,
       "version_minor": 0
      },
      "text/plain": [
       "Batches:   0%|          | 0/1 [00:00<?, ?it/s]"
      ]
     },
     "metadata": {},
     "output_type": "display_data"
    },
    {
     "data": {
      "application/vnd.jupyter.widget-view+json": {
       "model_id": "c8390d99c3074c7aaea46da4bece60f2",
       "version_major": 2,
       "version_minor": 0
      },
      "text/plain": [
       "Batches:   0%|          | 0/1 [00:00<?, ?it/s]"
      ]
     },
     "metadata": {},
     "output_type": "display_data"
    },
    {
     "data": {
      "application/vnd.jupyter.widget-view+json": {
       "model_id": "aa8f25dd72d142e08dde74d68695b511",
       "version_major": 2,
       "version_minor": 0
      },
      "text/plain": [
       "Batches:   0%|          | 0/1 [00:00<?, ?it/s]"
      ]
     },
     "metadata": {},
     "output_type": "display_data"
    },
    {
     "data": {
      "application/vnd.jupyter.widget-view+json": {
       "model_id": "85f267a7ec6e499b88c13e7d0f0f6d9f",
       "version_major": 2,
       "version_minor": 0
      },
      "text/plain": [
       "Batches:   0%|          | 0/1 [00:00<?, ?it/s]"
      ]
     },
     "metadata": {},
     "output_type": "display_data"
    },
    {
     "data": {
      "application/vnd.jupyter.widget-view+json": {
       "model_id": "52a5efaa619f48fb8cec4069e4f27423",
       "version_major": 2,
       "version_minor": 0
      },
      "text/plain": [
       "Batches:   0%|          | 0/1 [00:00<?, ?it/s]"
      ]
     },
     "metadata": {},
     "output_type": "display_data"
    },
    {
     "data": {
      "application/vnd.jupyter.widget-view+json": {
       "model_id": "2a1f899a03884c00b2bbed0324e87b38",
       "version_major": 2,
       "version_minor": 0
      },
      "text/plain": [
       "Batches:   0%|          | 0/1 [00:00<?, ?it/s]"
      ]
     },
     "metadata": {},
     "output_type": "display_data"
    },
    {
     "data": {
      "application/vnd.jupyter.widget-view+json": {
       "model_id": "d5102afd6b5f48e99e67c74def6a0a9f",
       "version_major": 2,
       "version_minor": 0
      },
      "text/plain": [
       "Batches:   0%|          | 0/1 [00:00<?, ?it/s]"
      ]
     },
     "metadata": {},
     "output_type": "display_data"
    },
    {
     "data": {
      "application/vnd.jupyter.widget-view+json": {
       "model_id": "06702750f8bc4c1ab332220aa0d08622",
       "version_major": 2,
       "version_minor": 0
      },
      "text/plain": [
       "Batches:   0%|          | 0/1 [00:00<?, ?it/s]"
      ]
     },
     "metadata": {},
     "output_type": "display_data"
    },
    {
     "data": {
      "application/vnd.jupyter.widget-view+json": {
       "model_id": "e4faf9a6103443bbb4795b0ed253db15",
       "version_major": 2,
       "version_minor": 0
      },
      "text/plain": [
       "Batches:   0%|          | 0/1 [00:00<?, ?it/s]"
      ]
     },
     "metadata": {},
     "output_type": "display_data"
    },
    {
     "data": {
      "application/vnd.jupyter.widget-view+json": {
       "model_id": "3ea46c8b5b914f889f1ea6db29d66ceb",
       "version_major": 2,
       "version_minor": 0
      },
      "text/plain": [
       "Batches:   0%|          | 0/1 [00:00<?, ?it/s]"
      ]
     },
     "metadata": {},
     "output_type": "display_data"
    },
    {
     "data": {
      "application/vnd.jupyter.widget-view+json": {
       "model_id": "55571084960f44b392d8685c040db54f",
       "version_major": 2,
       "version_minor": 0
      },
      "text/plain": [
       "Batches:   0%|          | 0/1 [00:00<?, ?it/s]"
      ]
     },
     "metadata": {},
     "output_type": "display_data"
    },
    {
     "data": {
      "application/vnd.jupyter.widget-view+json": {
       "model_id": "33e3c63fa58e40ec99d8aa2b21d71211",
       "version_major": 2,
       "version_minor": 0
      },
      "text/plain": [
       "Batches:   0%|          | 0/1 [00:00<?, ?it/s]"
      ]
     },
     "metadata": {},
     "output_type": "display_data"
    },
    {
     "data": {
      "application/vnd.jupyter.widget-view+json": {
       "model_id": "591f682dc0134098ba93262e0fa3bef8",
       "version_major": 2,
       "version_minor": 0
      },
      "text/plain": [
       "Batches:   0%|          | 0/1 [00:00<?, ?it/s]"
      ]
     },
     "metadata": {},
     "output_type": "display_data"
    },
    {
     "data": {
      "application/vnd.jupyter.widget-view+json": {
       "model_id": "02bc7393a064496b98aaf1a79c478d7c",
       "version_major": 2,
       "version_minor": 0
      },
      "text/plain": [
       "Batches:   0%|          | 0/1 [00:00<?, ?it/s]"
      ]
     },
     "metadata": {},
     "output_type": "display_data"
    },
    {
     "data": {
      "application/vnd.jupyter.widget-view+json": {
       "model_id": "a4f25856332b4a4596571fdba1b7b668",
       "version_major": 2,
       "version_minor": 0
      },
      "text/plain": [
       "Batches:   0%|          | 0/1 [00:00<?, ?it/s]"
      ]
     },
     "metadata": {},
     "output_type": "display_data"
    },
    {
     "data": {
      "application/vnd.jupyter.widget-view+json": {
       "model_id": "e212870ef9f34b8f88dff97a958ec935",
       "version_major": 2,
       "version_minor": 0
      },
      "text/plain": [
       "Batches:   0%|          | 0/1 [00:00<?, ?it/s]"
      ]
     },
     "metadata": {},
     "output_type": "display_data"
    },
    {
     "data": {
      "application/vnd.jupyter.widget-view+json": {
       "model_id": "26ebb20fd43b48a592108c432235aca5",
       "version_major": 2,
       "version_minor": 0
      },
      "text/plain": [
       "Batches:   0%|          | 0/1 [00:00<?, ?it/s]"
      ]
     },
     "metadata": {},
     "output_type": "display_data"
    },
    {
     "data": {
      "application/vnd.jupyter.widget-view+json": {
       "model_id": "7879ecf577ce49cebb6ebaa05aa5145c",
       "version_major": 2,
       "version_minor": 0
      },
      "text/plain": [
       "Batches:   0%|          | 0/1 [00:00<?, ?it/s]"
      ]
     },
     "metadata": {},
     "output_type": "display_data"
    },
    {
     "data": {
      "application/vnd.jupyter.widget-view+json": {
       "model_id": "d483e48186bb41d89410363d0b7e3694",
       "version_major": 2,
       "version_minor": 0
      },
      "text/plain": [
       "Batches:   0%|          | 0/1 [00:00<?, ?it/s]"
      ]
     },
     "metadata": {},
     "output_type": "display_data"
    },
    {
     "data": {
      "application/vnd.jupyter.widget-view+json": {
       "model_id": "8e8871efafc94b98a6477cd1cdd7e337",
       "version_major": 2,
       "version_minor": 0
      },
      "text/plain": [
       "Batches:   0%|          | 0/1 [00:00<?, ?it/s]"
      ]
     },
     "metadata": {},
     "output_type": "display_data"
    },
    {
     "data": {
      "application/vnd.jupyter.widget-view+json": {
       "model_id": "2e2441b4a8ad430c8514a93c7bf00f7f",
       "version_major": 2,
       "version_minor": 0
      },
      "text/plain": [
       "Batches:   0%|          | 0/1 [00:00<?, ?it/s]"
      ]
     },
     "metadata": {},
     "output_type": "display_data"
    },
    {
     "data": {
      "application/vnd.jupyter.widget-view+json": {
       "model_id": "de6b27b334bc413a8a39612f77af3068",
       "version_major": 2,
       "version_minor": 0
      },
      "text/plain": [
       "Batches:   0%|          | 0/1 [00:00<?, ?it/s]"
      ]
     },
     "metadata": {},
     "output_type": "display_data"
    },
    {
     "data": {
      "application/vnd.jupyter.widget-view+json": {
       "model_id": "9942b18697a04500aedde96ff2fb56ad",
       "version_major": 2,
       "version_minor": 0
      },
      "text/plain": [
       "Batches:   0%|          | 0/1 [00:00<?, ?it/s]"
      ]
     },
     "metadata": {},
     "output_type": "display_data"
    },
    {
     "data": {
      "application/vnd.jupyter.widget-view+json": {
       "model_id": "4ebc62db32944e2db472547430eab799",
       "version_major": 2,
       "version_minor": 0
      },
      "text/plain": [
       "Batches:   0%|          | 0/1 [00:00<?, ?it/s]"
      ]
     },
     "metadata": {},
     "output_type": "display_data"
    },
    {
     "data": {
      "application/vnd.jupyter.widget-view+json": {
       "model_id": "e94cd5ec2340475cba4a45a7364778f3",
       "version_major": 2,
       "version_minor": 0
      },
      "text/plain": [
       "Batches:   0%|          | 0/1 [00:00<?, ?it/s]"
      ]
     },
     "metadata": {},
     "output_type": "display_data"
    },
    {
     "data": {
      "application/vnd.jupyter.widget-view+json": {
       "model_id": "0b62b8fa098f4d79b2faf0c1777df93c",
       "version_major": 2,
       "version_minor": 0
      },
      "text/plain": [
       "Batches:   0%|          | 0/1 [00:00<?, ?it/s]"
      ]
     },
     "metadata": {},
     "output_type": "display_data"
    },
    {
     "data": {
      "application/vnd.jupyter.widget-view+json": {
       "model_id": "e6058ebac1e5400181e927446a142b90",
       "version_major": 2,
       "version_minor": 0
      },
      "text/plain": [
       "Batches:   0%|          | 0/1 [00:00<?, ?it/s]"
      ]
     },
     "metadata": {},
     "output_type": "display_data"
    },
    {
     "data": {
      "application/vnd.jupyter.widget-view+json": {
       "model_id": "e3b744c2e6c04c72ac1aa0037f22a8d1",
       "version_major": 2,
       "version_minor": 0
      },
      "text/plain": [
       "Batches:   0%|          | 0/1 [00:00<?, ?it/s]"
      ]
     },
     "metadata": {},
     "output_type": "display_data"
    },
    {
     "data": {
      "application/vnd.jupyter.widget-view+json": {
       "model_id": "bf236cbf7b314987b6164f6bb9024048",
       "version_major": 2,
       "version_minor": 0
      },
      "text/plain": [
       "Batches:   0%|          | 0/1 [00:00<?, ?it/s]"
      ]
     },
     "metadata": {},
     "output_type": "display_data"
    },
    {
     "data": {
      "application/vnd.jupyter.widget-view+json": {
       "model_id": "c2a4d4ec890849db97e4dc109d4646eb",
       "version_major": 2,
       "version_minor": 0
      },
      "text/plain": [
       "Batches:   0%|          | 0/1 [00:00<?, ?it/s]"
      ]
     },
     "metadata": {},
     "output_type": "display_data"
    },
    {
     "data": {
      "application/vnd.jupyter.widget-view+json": {
       "model_id": "0de234985c084e83bcc940bf9e499d85",
       "version_major": 2,
       "version_minor": 0
      },
      "text/plain": [
       "Batches:   0%|          | 0/1 [00:00<?, ?it/s]"
      ]
     },
     "metadata": {},
     "output_type": "display_data"
    },
    {
     "data": {
      "application/vnd.jupyter.widget-view+json": {
       "model_id": "ce897a4c03df471bbe931dc4793535f8",
       "version_major": 2,
       "version_minor": 0
      },
      "text/plain": [
       "Batches:   0%|          | 0/1 [00:00<?, ?it/s]"
      ]
     },
     "metadata": {},
     "output_type": "display_data"
    },
    {
     "data": {
      "application/vnd.jupyter.widget-view+json": {
       "model_id": "ca18550f328841f498c0aeb9ed565338",
       "version_major": 2,
       "version_minor": 0
      },
      "text/plain": [
       "Batches:   0%|          | 0/1 [00:00<?, ?it/s]"
      ]
     },
     "metadata": {},
     "output_type": "display_data"
    },
    {
     "data": {
      "application/vnd.jupyter.widget-view+json": {
       "model_id": "0c6a0fe7c4614035bcfd8b1ed630495c",
       "version_major": 2,
       "version_minor": 0
      },
      "text/plain": [
       "Batches:   0%|          | 0/1 [00:00<?, ?it/s]"
      ]
     },
     "metadata": {},
     "output_type": "display_data"
    },
    {
     "data": {
      "application/vnd.jupyter.widget-view+json": {
       "model_id": "540a8ba018b845b29519c9f17f67fda3",
       "version_major": 2,
       "version_minor": 0
      },
      "text/plain": [
       "Batches:   0%|          | 0/1 [00:00<?, ?it/s]"
      ]
     },
     "metadata": {},
     "output_type": "display_data"
    },
    {
     "data": {
      "application/vnd.jupyter.widget-view+json": {
       "model_id": "b09391869bb04eb18eecc2c427135725",
       "version_major": 2,
       "version_minor": 0
      },
      "text/plain": [
       "Batches:   0%|          | 0/1 [00:00<?, ?it/s]"
      ]
     },
     "metadata": {},
     "output_type": "display_data"
    },
    {
     "data": {
      "application/vnd.jupyter.widget-view+json": {
       "model_id": "4d4d343c22e54f2d9d5048333eee880e",
       "version_major": 2,
       "version_minor": 0
      },
      "text/plain": [
       "Batches:   0%|          | 0/1 [00:00<?, ?it/s]"
      ]
     },
     "metadata": {},
     "output_type": "display_data"
    },
    {
     "data": {
      "application/vnd.jupyter.widget-view+json": {
       "model_id": "fe60ceb3572241adb63c199f6a9f0083",
       "version_major": 2,
       "version_minor": 0
      },
      "text/plain": [
       "Batches:   0%|          | 0/1 [00:00<?, ?it/s]"
      ]
     },
     "metadata": {},
     "output_type": "display_data"
    },
    {
     "data": {
      "application/vnd.jupyter.widget-view+json": {
       "model_id": "2169ac4be658484ab994abdc38a5ad61",
       "version_major": 2,
       "version_minor": 0
      },
      "text/plain": [
       "Batches:   0%|          | 0/1 [00:00<?, ?it/s]"
      ]
     },
     "metadata": {},
     "output_type": "display_data"
    },
    {
     "data": {
      "application/vnd.jupyter.widget-view+json": {
       "model_id": "a2952a9e8a3d4e9980c8e22d8a37288c",
       "version_major": 2,
       "version_minor": 0
      },
      "text/plain": [
       "Batches:   0%|          | 0/1 [00:00<?, ?it/s]"
      ]
     },
     "metadata": {},
     "output_type": "display_data"
    },
    {
     "data": {
      "application/vnd.jupyter.widget-view+json": {
       "model_id": "a8f6a61050d444eaaaecca17600190a2",
       "version_major": 2,
       "version_minor": 0
      },
      "text/plain": [
       "Batches:   0%|          | 0/1 [00:00<?, ?it/s]"
      ]
     },
     "metadata": {},
     "output_type": "display_data"
    },
    {
     "data": {
      "application/vnd.jupyter.widget-view+json": {
       "model_id": "edbbce5e703249d58f0795ee1bc1317a",
       "version_major": 2,
       "version_minor": 0
      },
      "text/plain": [
       "Batches:   0%|          | 0/1 [00:00<?, ?it/s]"
      ]
     },
     "metadata": {},
     "output_type": "display_data"
    },
    {
     "data": {
      "application/vnd.jupyter.widget-view+json": {
       "model_id": "10f2551fb9c04973be23e225e5f57298",
       "version_major": 2,
       "version_minor": 0
      },
      "text/plain": [
       "Batches:   0%|          | 0/1 [00:00<?, ?it/s]"
      ]
     },
     "metadata": {},
     "output_type": "display_data"
    },
    {
     "data": {
      "application/vnd.jupyter.widget-view+json": {
       "model_id": "aab545fa4846494b9d1a59938525f13b",
       "version_major": 2,
       "version_minor": 0
      },
      "text/plain": [
       "Batches:   0%|          | 0/1 [00:00<?, ?it/s]"
      ]
     },
     "metadata": {},
     "output_type": "display_data"
    },
    {
     "data": {
      "application/vnd.jupyter.widget-view+json": {
       "model_id": "399bcc93b7ef44fe85bf4a2890b66c1f",
       "version_major": 2,
       "version_minor": 0
      },
      "text/plain": [
       "Batches:   0%|          | 0/1 [00:00<?, ?it/s]"
      ]
     },
     "metadata": {},
     "output_type": "display_data"
    },
    {
     "data": {
      "application/vnd.jupyter.widget-view+json": {
       "model_id": "903bd1fc9dea47059780dec66bbd9f45",
       "version_major": 2,
       "version_minor": 0
      },
      "text/plain": [
       "Batches:   0%|          | 0/1 [00:00<?, ?it/s]"
      ]
     },
     "metadata": {},
     "output_type": "display_data"
    },
    {
     "data": {
      "application/vnd.jupyter.widget-view+json": {
       "model_id": "feaac7bf1670468fa44b2b1445829646",
       "version_major": 2,
       "version_minor": 0
      },
      "text/plain": [
       "Batches:   0%|          | 0/1 [00:00<?, ?it/s]"
      ]
     },
     "metadata": {},
     "output_type": "display_data"
    },
    {
     "data": {
      "application/vnd.jupyter.widget-view+json": {
       "model_id": "d7a86e265f2f4c7295351c3a7ab2c262",
       "version_major": 2,
       "version_minor": 0
      },
      "text/plain": [
       "Batches:   0%|          | 0/1 [00:00<?, ?it/s]"
      ]
     },
     "metadata": {},
     "output_type": "display_data"
    },
    {
     "data": {
      "application/vnd.jupyter.widget-view+json": {
       "model_id": "28a5c30d7e9640ab94013e4b5c719e92",
       "version_major": 2,
       "version_minor": 0
      },
      "text/plain": [
       "Batches:   0%|          | 0/1 [00:00<?, ?it/s]"
      ]
     },
     "metadata": {},
     "output_type": "display_data"
    },
    {
     "data": {
      "application/vnd.jupyter.widget-view+json": {
       "model_id": "9877561e59b04e95a88b4439658524bc",
       "version_major": 2,
       "version_minor": 0
      },
      "text/plain": [
       "Batches:   0%|          | 0/1 [00:00<?, ?it/s]"
      ]
     },
     "metadata": {},
     "output_type": "display_data"
    },
    {
     "data": {
      "application/vnd.jupyter.widget-view+json": {
       "model_id": "e50db3836f4b4175bb39f88dc4af0299",
       "version_major": 2,
       "version_minor": 0
      },
      "text/plain": [
       "Batches:   0%|          | 0/1 [00:00<?, ?it/s]"
      ]
     },
     "metadata": {},
     "output_type": "display_data"
    },
    {
     "data": {
      "application/vnd.jupyter.widget-view+json": {
       "model_id": "e19db5047ee04f4d9b6dd80527dbcddc",
       "version_major": 2,
       "version_minor": 0
      },
      "text/plain": [
       "Batches:   0%|          | 0/1 [00:00<?, ?it/s]"
      ]
     },
     "metadata": {},
     "output_type": "display_data"
    },
    {
     "data": {
      "application/vnd.jupyter.widget-view+json": {
       "model_id": "45245fd638564c07aa310bea7a252736",
       "version_major": 2,
       "version_minor": 0
      },
      "text/plain": [
       "Batches:   0%|          | 0/1 [00:00<?, ?it/s]"
      ]
     },
     "metadata": {},
     "output_type": "display_data"
    },
    {
     "data": {
      "application/vnd.jupyter.widget-view+json": {
       "model_id": "e83c15e81e96440aa4b0336bdae732ac",
       "version_major": 2,
       "version_minor": 0
      },
      "text/plain": [
       "Batches:   0%|          | 0/1 [00:00<?, ?it/s]"
      ]
     },
     "metadata": {},
     "output_type": "display_data"
    },
    {
     "data": {
      "application/vnd.jupyter.widget-view+json": {
       "model_id": "9ff26fa4cb5b4552811afe7e5f312259",
       "version_major": 2,
       "version_minor": 0
      },
      "text/plain": [
       "Batches:   0%|          | 0/1 [00:00<?, ?it/s]"
      ]
     },
     "metadata": {},
     "output_type": "display_data"
    },
    {
     "data": {
      "application/vnd.jupyter.widget-view+json": {
       "model_id": "5eccb760379843b087435c2fa216313a",
       "version_major": 2,
       "version_minor": 0
      },
      "text/plain": [
       "Batches:   0%|          | 0/1 [00:00<?, ?it/s]"
      ]
     },
     "metadata": {},
     "output_type": "display_data"
    },
    {
     "data": {
      "application/vnd.jupyter.widget-view+json": {
       "model_id": "74b7b65ac803492795ca37a749794b53",
       "version_major": 2,
       "version_minor": 0
      },
      "text/plain": [
       "Batches:   0%|          | 0/1 [00:00<?, ?it/s]"
      ]
     },
     "metadata": {},
     "output_type": "display_data"
    },
    {
     "data": {
      "application/vnd.jupyter.widget-view+json": {
       "model_id": "d259ad21c2bc400eaea5a690520a9355",
       "version_major": 2,
       "version_minor": 0
      },
      "text/plain": [
       "Batches:   0%|          | 0/1 [00:00<?, ?it/s]"
      ]
     },
     "metadata": {},
     "output_type": "display_data"
    },
    {
     "data": {
      "application/vnd.jupyter.widget-view+json": {
       "model_id": "2659efb36d9342ff8139b4166656a3ca",
       "version_major": 2,
       "version_minor": 0
      },
      "text/plain": [
       "Batches:   0%|          | 0/1 [00:00<?, ?it/s]"
      ]
     },
     "metadata": {},
     "output_type": "display_data"
    },
    {
     "data": {
      "application/vnd.jupyter.widget-view+json": {
       "model_id": "4d2a91bec50b44f1a8c96a19055c42cf",
       "version_major": 2,
       "version_minor": 0
      },
      "text/plain": [
       "Batches:   0%|          | 0/1 [00:00<?, ?it/s]"
      ]
     },
     "metadata": {},
     "output_type": "display_data"
    },
    {
     "data": {
      "application/vnd.jupyter.widget-view+json": {
       "model_id": "e2e2592e002340c4bae01802589bcd57",
       "version_major": 2,
       "version_minor": 0
      },
      "text/plain": [
       "Batches:   0%|          | 0/1 [00:00<?, ?it/s]"
      ]
     },
     "metadata": {},
     "output_type": "display_data"
    },
    {
     "data": {
      "application/vnd.jupyter.widget-view+json": {
       "model_id": "bcea52756b794e84a8360cde1f202425",
       "version_major": 2,
       "version_minor": 0
      },
      "text/plain": [
       "Batches:   0%|          | 0/1 [00:00<?, ?it/s]"
      ]
     },
     "metadata": {},
     "output_type": "display_data"
    },
    {
     "data": {
      "application/vnd.jupyter.widget-view+json": {
       "model_id": "f4c7524a6c7549958104616a8bb3d9f6",
       "version_major": 2,
       "version_minor": 0
      },
      "text/plain": [
       "Batches:   0%|          | 0/1 [00:00<?, ?it/s]"
      ]
     },
     "metadata": {},
     "output_type": "display_data"
    },
    {
     "data": {
      "application/vnd.jupyter.widget-view+json": {
       "model_id": "c26af06397f741f497ff18c53a5860d9",
       "version_major": 2,
       "version_minor": 0
      },
      "text/plain": [
       "Batches:   0%|          | 0/1 [00:00<?, ?it/s]"
      ]
     },
     "metadata": {},
     "output_type": "display_data"
    },
    {
     "data": {
      "application/vnd.jupyter.widget-view+json": {
       "model_id": "8208d6c10c7d40e0aa283be502b2db46",
       "version_major": 2,
       "version_minor": 0
      },
      "text/plain": [
       "Batches:   0%|          | 0/1 [00:00<?, ?it/s]"
      ]
     },
     "metadata": {},
     "output_type": "display_data"
    },
    {
     "data": {
      "application/vnd.jupyter.widget-view+json": {
       "model_id": "1461fda1ad4342eaa1be9c52078a5bac",
       "version_major": 2,
       "version_minor": 0
      },
      "text/plain": [
       "Batches:   0%|          | 0/1 [00:00<?, ?it/s]"
      ]
     },
     "metadata": {},
     "output_type": "display_data"
    },
    {
     "data": {
      "application/vnd.jupyter.widget-view+json": {
       "model_id": "ddc2d636ece046db9dd96a3b9a9bd895",
       "version_major": 2,
       "version_minor": 0
      },
      "text/plain": [
       "Batches:   0%|          | 0/1 [00:00<?, ?it/s]"
      ]
     },
     "metadata": {},
     "output_type": "display_data"
    },
    {
     "data": {
      "application/vnd.jupyter.widget-view+json": {
       "model_id": "18a85ba1f5c645368aa7fba54d8607b2",
       "version_major": 2,
       "version_minor": 0
      },
      "text/plain": [
       "Batches:   0%|          | 0/1 [00:00<?, ?it/s]"
      ]
     },
     "metadata": {},
     "output_type": "display_data"
    },
    {
     "data": {
      "application/vnd.jupyter.widget-view+json": {
       "model_id": "bbd65b0e4d014774ac218dfcbe400eae",
       "version_major": 2,
       "version_minor": 0
      },
      "text/plain": [
       "Batches:   0%|          | 0/1 [00:00<?, ?it/s]"
      ]
     },
     "metadata": {},
     "output_type": "display_data"
    },
    {
     "data": {
      "application/vnd.jupyter.widget-view+json": {
       "model_id": "96b53e6ba0ad46238e40f54899185303",
       "version_major": 2,
       "version_minor": 0
      },
      "text/plain": [
       "Batches:   0%|          | 0/1 [00:00<?, ?it/s]"
      ]
     },
     "metadata": {},
     "output_type": "display_data"
    },
    {
     "data": {
      "application/vnd.jupyter.widget-view+json": {
       "model_id": "8e65efa0bf82452fbe0b82e2dea6ed5a",
       "version_major": 2,
       "version_minor": 0
      },
      "text/plain": [
       "Batches:   0%|          | 0/1 [00:00<?, ?it/s]"
      ]
     },
     "metadata": {},
     "output_type": "display_data"
    },
    {
     "data": {
      "application/vnd.jupyter.widget-view+json": {
       "model_id": "3ebca26974734582ba47803ebf08fb8a",
       "version_major": 2,
       "version_minor": 0
      },
      "text/plain": [
       "Batches:   0%|          | 0/1 [00:00<?, ?it/s]"
      ]
     },
     "metadata": {},
     "output_type": "display_data"
    },
    {
     "data": {
      "application/vnd.jupyter.widget-view+json": {
       "model_id": "b7b2b0682c6f4f2d84cb4e80eb3413f9",
       "version_major": 2,
       "version_minor": 0
      },
      "text/plain": [
       "Batches:   0%|          | 0/1 [00:00<?, ?it/s]"
      ]
     },
     "metadata": {},
     "output_type": "display_data"
    },
    {
     "data": {
      "application/vnd.jupyter.widget-view+json": {
       "model_id": "602ca11101fd4dd28500736997cd9f8f",
       "version_major": 2,
       "version_minor": 0
      },
      "text/plain": [
       "Batches:   0%|          | 0/1 [00:00<?, ?it/s]"
      ]
     },
     "metadata": {},
     "output_type": "display_data"
    },
    {
     "data": {
      "application/vnd.jupyter.widget-view+json": {
       "model_id": "2ee997123aa74ad7869d346d91a0468d",
       "version_major": 2,
       "version_minor": 0
      },
      "text/plain": [
       "Batches:   0%|          | 0/1 [00:00<?, ?it/s]"
      ]
     },
     "metadata": {},
     "output_type": "display_data"
    },
    {
     "data": {
      "application/vnd.jupyter.widget-view+json": {
       "model_id": "70a04720dbe54134a423af08f32e099f",
       "version_major": 2,
       "version_minor": 0
      },
      "text/plain": [
       "Batches:   0%|          | 0/1 [00:00<?, ?it/s]"
      ]
     },
     "metadata": {},
     "output_type": "display_data"
    },
    {
     "data": {
      "application/vnd.jupyter.widget-view+json": {
       "model_id": "2be37eca9de944ac876d6745d2b64b4e",
       "version_major": 2,
       "version_minor": 0
      },
      "text/plain": [
       "Batches:   0%|          | 0/1 [00:00<?, ?it/s]"
      ]
     },
     "metadata": {},
     "output_type": "display_data"
    },
    {
     "data": {
      "application/vnd.jupyter.widget-view+json": {
       "model_id": "733a12fab61e4847af8139394832dca8",
       "version_major": 2,
       "version_minor": 0
      },
      "text/plain": [
       "Batches:   0%|          | 0/1 [00:00<?, ?it/s]"
      ]
     },
     "metadata": {},
     "output_type": "display_data"
    },
    {
     "data": {
      "application/vnd.jupyter.widget-view+json": {
       "model_id": "d34e31a635154922b372b60a47a69ccd",
       "version_major": 2,
       "version_minor": 0
      },
      "text/plain": [
       "Batches:   0%|          | 0/1 [00:00<?, ?it/s]"
      ]
     },
     "metadata": {},
     "output_type": "display_data"
    },
    {
     "data": {
      "application/vnd.jupyter.widget-view+json": {
       "model_id": "c1f5f759b5134b62955207c2a3ed21bf",
       "version_major": 2,
       "version_minor": 0
      },
      "text/plain": [
       "Batches:   0%|          | 0/1 [00:00<?, ?it/s]"
      ]
     },
     "metadata": {},
     "output_type": "display_data"
    },
    {
     "data": {
      "application/vnd.jupyter.widget-view+json": {
       "model_id": "1756ba01c1454c7393b261d93ea0d873",
       "version_major": 2,
       "version_minor": 0
      },
      "text/plain": [
       "Batches:   0%|          | 0/1 [00:00<?, ?it/s]"
      ]
     },
     "metadata": {},
     "output_type": "display_data"
    },
    {
     "data": {
      "application/vnd.jupyter.widget-view+json": {
       "model_id": "94e43b1e0bc440ab939ccec6a9d7b8f4",
       "version_major": 2,
       "version_minor": 0
      },
      "text/plain": [
       "Batches:   0%|          | 0/1 [00:00<?, ?it/s]"
      ]
     },
     "metadata": {},
     "output_type": "display_data"
    },
    {
     "data": {
      "application/vnd.jupyter.widget-view+json": {
       "model_id": "ff5df9483a7e411ca4131a4df9de76a9",
       "version_major": 2,
       "version_minor": 0
      },
      "text/plain": [
       "Batches:   0%|          | 0/1 [00:00<?, ?it/s]"
      ]
     },
     "metadata": {},
     "output_type": "display_data"
    },
    {
     "data": {
      "application/vnd.jupyter.widget-view+json": {
       "model_id": "a7f716a3e2ba4e32b953a409a1718a23",
       "version_major": 2,
       "version_minor": 0
      },
      "text/plain": [
       "Batches:   0%|          | 0/1 [00:00<?, ?it/s]"
      ]
     },
     "metadata": {},
     "output_type": "display_data"
    },
    {
     "data": {
      "application/vnd.jupyter.widget-view+json": {
       "model_id": "b6e334d5c4cf4f46a930cc1459aa335b",
       "version_major": 2,
       "version_minor": 0
      },
      "text/plain": [
       "Batches:   0%|          | 0/1 [00:00<?, ?it/s]"
      ]
     },
     "metadata": {},
     "output_type": "display_data"
    },
    {
     "data": {
      "application/vnd.jupyter.widget-view+json": {
       "model_id": "eeac8992c0684ab2bc022629c7659145",
       "version_major": 2,
       "version_minor": 0
      },
      "text/plain": [
       "Batches:   0%|          | 0/1 [00:00<?, ?it/s]"
      ]
     },
     "metadata": {},
     "output_type": "display_data"
    },
    {
     "data": {
      "application/vnd.jupyter.widget-view+json": {
       "model_id": "91f9dac7c84e4c44b0e08f9782a6d7c6",
       "version_major": 2,
       "version_minor": 0
      },
      "text/plain": [
       "Batches:   0%|          | 0/1 [00:00<?, ?it/s]"
      ]
     },
     "metadata": {},
     "output_type": "display_data"
    },
    {
     "data": {
      "application/vnd.jupyter.widget-view+json": {
       "model_id": "be507c67ccd444e5bb1a78844144f836",
       "version_major": 2,
       "version_minor": 0
      },
      "text/plain": [
       "Batches:   0%|          | 0/1 [00:00<?, ?it/s]"
      ]
     },
     "metadata": {},
     "output_type": "display_data"
    },
    {
     "data": {
      "application/vnd.jupyter.widget-view+json": {
       "model_id": "507294ebafa441e39a2841055c1422bd",
       "version_major": 2,
       "version_minor": 0
      },
      "text/plain": [
       "Batches:   0%|          | 0/1 [00:00<?, ?it/s]"
      ]
     },
     "metadata": {},
     "output_type": "display_data"
    },
    {
     "data": {
      "application/vnd.jupyter.widget-view+json": {
       "model_id": "c2bb5d7129074b64a4440c87892f0fe5",
       "version_major": 2,
       "version_minor": 0
      },
      "text/plain": [
       "Batches:   0%|          | 0/1 [00:00<?, ?it/s]"
      ]
     },
     "metadata": {},
     "output_type": "display_data"
    },
    {
     "data": {
      "application/vnd.jupyter.widget-view+json": {
       "model_id": "2919f012f00f4f739d5926753c6381bd",
       "version_major": 2,
       "version_minor": 0
      },
      "text/plain": [
       "Batches:   0%|          | 0/1 [00:00<?, ?it/s]"
      ]
     },
     "metadata": {},
     "output_type": "display_data"
    },
    {
     "data": {
      "application/vnd.jupyter.widget-view+json": {
       "model_id": "9f97df7775f748dbb78dc54b55ca24bc",
       "version_major": 2,
       "version_minor": 0
      },
      "text/plain": [
       "Batches:   0%|          | 0/1 [00:00<?, ?it/s]"
      ]
     },
     "metadata": {},
     "output_type": "display_data"
    },
    {
     "data": {
      "application/vnd.jupyter.widget-view+json": {
       "model_id": "f3b25fde4cf14067a7ed1b8e86fa2f83",
       "version_major": 2,
       "version_minor": 0
      },
      "text/plain": [
       "Batches:   0%|          | 0/1 [00:00<?, ?it/s]"
      ]
     },
     "metadata": {},
     "output_type": "display_data"
    },
    {
     "data": {
      "application/vnd.jupyter.widget-view+json": {
       "model_id": "db51f190f06544fe875ee4d5e564a2b5",
       "version_major": 2,
       "version_minor": 0
      },
      "text/plain": [
       "Batches:   0%|          | 0/1 [00:00<?, ?it/s]"
      ]
     },
     "metadata": {},
     "output_type": "display_data"
    },
    {
     "data": {
      "application/vnd.jupyter.widget-view+json": {
       "model_id": "4c1cb1e4322b4b24b9709a859be69a08",
       "version_major": 2,
       "version_minor": 0
      },
      "text/plain": [
       "Batches:   0%|          | 0/1 [00:00<?, ?it/s]"
      ]
     },
     "metadata": {},
     "output_type": "display_data"
    },
    {
     "data": {
      "application/vnd.jupyter.widget-view+json": {
       "model_id": "e495dadf08df49fa8a36f9f7de359d1e",
       "version_major": 2,
       "version_minor": 0
      },
      "text/plain": [
       "Batches:   0%|          | 0/1 [00:00<?, ?it/s]"
      ]
     },
     "metadata": {},
     "output_type": "display_data"
    },
    {
     "data": {
      "application/vnd.jupyter.widget-view+json": {
       "model_id": "27124885487a4f8a9b08741c441b3baf",
       "version_major": 2,
       "version_minor": 0
      },
      "text/plain": [
       "Batches:   0%|          | 0/1 [00:00<?, ?it/s]"
      ]
     },
     "metadata": {},
     "output_type": "display_data"
    },
    {
     "data": {
      "application/vnd.jupyter.widget-view+json": {
       "model_id": "f76194cd648942b8a995cfa778349d25",
       "version_major": 2,
       "version_minor": 0
      },
      "text/plain": [
       "Batches:   0%|          | 0/1 [00:00<?, ?it/s]"
      ]
     },
     "metadata": {},
     "output_type": "display_data"
    },
    {
     "data": {
      "application/vnd.jupyter.widget-view+json": {
       "model_id": "37e6f95c246345c9b7fb73ff1770be48",
       "version_major": 2,
       "version_minor": 0
      },
      "text/plain": [
       "Batches:   0%|          | 0/1 [00:00<?, ?it/s]"
      ]
     },
     "metadata": {},
     "output_type": "display_data"
    },
    {
     "data": {
      "application/vnd.jupyter.widget-view+json": {
       "model_id": "fa3a6604fd3f4343918fce25d5f70f02",
       "version_major": 2,
       "version_minor": 0
      },
      "text/plain": [
       "Batches:   0%|          | 0/1 [00:00<?, ?it/s]"
      ]
     },
     "metadata": {},
     "output_type": "display_data"
    },
    {
     "data": {
      "application/vnd.jupyter.widget-view+json": {
       "model_id": "08086270eed94762a8f0eb55cbdaa1a4",
       "version_major": 2,
       "version_minor": 0
      },
      "text/plain": [
       "Batches:   0%|          | 0/1 [00:00<?, ?it/s]"
      ]
     },
     "metadata": {},
     "output_type": "display_data"
    },
    {
     "data": {
      "application/vnd.jupyter.widget-view+json": {
       "model_id": "2c6cf95e4bf948f6af84db4b170c845a",
       "version_major": 2,
       "version_minor": 0
      },
      "text/plain": [
       "Batches:   0%|          | 0/1 [00:00<?, ?it/s]"
      ]
     },
     "metadata": {},
     "output_type": "display_data"
    },
    {
     "data": {
      "application/vnd.jupyter.widget-view+json": {
       "model_id": "9dbc06b1d5b54ea9a29561b318ac9b9b",
       "version_major": 2,
       "version_minor": 0
      },
      "text/plain": [
       "Batches:   0%|          | 0/1 [00:00<?, ?it/s]"
      ]
     },
     "metadata": {},
     "output_type": "display_data"
    },
    {
     "data": {
      "application/vnd.jupyter.widget-view+json": {
       "model_id": "a9e8f86aa62c4dc9a463b833a1f68649",
       "version_major": 2,
       "version_minor": 0
      },
      "text/plain": [
       "Batches:   0%|          | 0/1 [00:00<?, ?it/s]"
      ]
     },
     "metadata": {},
     "output_type": "display_data"
    },
    {
     "data": {
      "application/vnd.jupyter.widget-view+json": {
       "model_id": "f4dd179ff40842ce93260d26fff9ab7a",
       "version_major": 2,
       "version_minor": 0
      },
      "text/plain": [
       "Batches:   0%|          | 0/1 [00:00<?, ?it/s]"
      ]
     },
     "metadata": {},
     "output_type": "display_data"
    },
    {
     "data": {
      "application/vnd.jupyter.widget-view+json": {
       "model_id": "2a00b18a97d34d598d72d06131c1bee1",
       "version_major": 2,
       "version_minor": 0
      },
      "text/plain": [
       "Batches:   0%|          | 0/1 [00:00<?, ?it/s]"
      ]
     },
     "metadata": {},
     "output_type": "display_data"
    },
    {
     "data": {
      "application/vnd.jupyter.widget-view+json": {
       "model_id": "4501a04d24f74734a2485b96e9627a92",
       "version_major": 2,
       "version_minor": 0
      },
      "text/plain": [
       "Batches:   0%|          | 0/1 [00:00<?, ?it/s]"
      ]
     },
     "metadata": {},
     "output_type": "display_data"
    },
    {
     "data": {
      "application/vnd.jupyter.widget-view+json": {
       "model_id": "a2eec9f6bd1a403a8de1ce160580e277",
       "version_major": 2,
       "version_minor": 0
      },
      "text/plain": [
       "Batches:   0%|          | 0/1 [00:00<?, ?it/s]"
      ]
     },
     "metadata": {},
     "output_type": "display_data"
    },
    {
     "data": {
      "application/vnd.jupyter.widget-view+json": {
       "model_id": "6093b05182df4e51ae0f2656f4b34915",
       "version_major": 2,
       "version_minor": 0
      },
      "text/plain": [
       "Batches:   0%|          | 0/1 [00:00<?, ?it/s]"
      ]
     },
     "metadata": {},
     "output_type": "display_data"
    },
    {
     "data": {
      "application/vnd.jupyter.widget-view+json": {
       "model_id": "3bf63a74c1e94efc826a7a7570a738c0",
       "version_major": 2,
       "version_minor": 0
      },
      "text/plain": [
       "Batches:   0%|          | 0/1 [00:00<?, ?it/s]"
      ]
     },
     "metadata": {},
     "output_type": "display_data"
    },
    {
     "data": {
      "application/vnd.jupyter.widget-view+json": {
       "model_id": "bffbea5438e74553a59cd47629b686da",
       "version_major": 2,
       "version_minor": 0
      },
      "text/plain": [
       "Batches:   0%|          | 0/1 [00:00<?, ?it/s]"
      ]
     },
     "metadata": {},
     "output_type": "display_data"
    },
    {
     "data": {
      "application/vnd.jupyter.widget-view+json": {
       "model_id": "b58b07fa1461459f80a219a7140b16d2",
       "version_major": 2,
       "version_minor": 0
      },
      "text/plain": [
       "Batches:   0%|          | 0/1 [00:00<?, ?it/s]"
      ]
     },
     "metadata": {},
     "output_type": "display_data"
    },
    {
     "data": {
      "application/vnd.jupyter.widget-view+json": {
       "model_id": "4138337c494b4e3190ea77caf675b2bd",
       "version_major": 2,
       "version_minor": 0
      },
      "text/plain": [
       "Batches:   0%|          | 0/1 [00:00<?, ?it/s]"
      ]
     },
     "metadata": {},
     "output_type": "display_data"
    },
    {
     "data": {
      "application/vnd.jupyter.widget-view+json": {
       "model_id": "25be13f64171458f9743d04e638f3602",
       "version_major": 2,
       "version_minor": 0
      },
      "text/plain": [
       "Batches:   0%|          | 0/1 [00:00<?, ?it/s]"
      ]
     },
     "metadata": {},
     "output_type": "display_data"
    },
    {
     "data": {
      "application/vnd.jupyter.widget-view+json": {
       "model_id": "8dcb838312324cbca2cf287230b7b947",
       "version_major": 2,
       "version_minor": 0
      },
      "text/plain": [
       "Batches:   0%|          | 0/1 [00:00<?, ?it/s]"
      ]
     },
     "metadata": {},
     "output_type": "display_data"
    },
    {
     "data": {
      "application/vnd.jupyter.widget-view+json": {
       "model_id": "a5fe3bf6aaa54e68ae6609e79adf9f25",
       "version_major": 2,
       "version_minor": 0
      },
      "text/plain": [
       "Batches:   0%|          | 0/1 [00:00<?, ?it/s]"
      ]
     },
     "metadata": {},
     "output_type": "display_data"
    },
    {
     "data": {
      "application/vnd.jupyter.widget-view+json": {
       "model_id": "3796ae9a590b4d198d7c101aa90e9260",
       "version_major": 2,
       "version_minor": 0
      },
      "text/plain": [
       "Batches:   0%|          | 0/1 [00:00<?, ?it/s]"
      ]
     },
     "metadata": {},
     "output_type": "display_data"
    },
    {
     "data": {
      "application/vnd.jupyter.widget-view+json": {
       "model_id": "fdda66311a6342c697add5d3be385fd3",
       "version_major": 2,
       "version_minor": 0
      },
      "text/plain": [
       "Batches:   0%|          | 0/1 [00:00<?, ?it/s]"
      ]
     },
     "metadata": {},
     "output_type": "display_data"
    },
    {
     "data": {
      "application/vnd.jupyter.widget-view+json": {
       "model_id": "984bbb9234114e25b69f40018a865174",
       "version_major": 2,
       "version_minor": 0
      },
      "text/plain": [
       "Batches:   0%|          | 0/1 [00:00<?, ?it/s]"
      ]
     },
     "metadata": {},
     "output_type": "display_data"
    },
    {
     "data": {
      "application/vnd.jupyter.widget-view+json": {
       "model_id": "ffc90905c0954cb18367e2e152ef708a",
       "version_major": 2,
       "version_minor": 0
      },
      "text/plain": [
       "Batches:   0%|          | 0/1 [00:00<?, ?it/s]"
      ]
     },
     "metadata": {},
     "output_type": "display_data"
    },
    {
     "data": {
      "application/vnd.jupyter.widget-view+json": {
       "model_id": "6c8b8be9af154c28bdf89d4cf15e2f7f",
       "version_major": 2,
       "version_minor": 0
      },
      "text/plain": [
       "Batches:   0%|          | 0/1 [00:00<?, ?it/s]"
      ]
     },
     "metadata": {},
     "output_type": "display_data"
    },
    {
     "data": {
      "application/vnd.jupyter.widget-view+json": {
       "model_id": "96eddcd404d041fa97832539770fe685",
       "version_major": 2,
       "version_minor": 0
      },
      "text/plain": [
       "Batches:   0%|          | 0/1 [00:00<?, ?it/s]"
      ]
     },
     "metadata": {},
     "output_type": "display_data"
    },
    {
     "data": {
      "application/vnd.jupyter.widget-view+json": {
       "model_id": "2bf8052b5d0d45de9e0231b5324dbdc5",
       "version_major": 2,
       "version_minor": 0
      },
      "text/plain": [
       "Batches:   0%|          | 0/1 [00:00<?, ?it/s]"
      ]
     },
     "metadata": {},
     "output_type": "display_data"
    },
    {
     "data": {
      "application/vnd.jupyter.widget-view+json": {
       "model_id": "835395c7f0df490aacf98cbd54d00f2b",
       "version_major": 2,
       "version_minor": 0
      },
      "text/plain": [
       "Batches:   0%|          | 0/1 [00:00<?, ?it/s]"
      ]
     },
     "metadata": {},
     "output_type": "display_data"
    },
    {
     "data": {
      "application/vnd.jupyter.widget-view+json": {
       "model_id": "5c3200902b404e4e9aae4261dac8ca23",
       "version_major": 2,
       "version_minor": 0
      },
      "text/plain": [
       "Batches:   0%|          | 0/1 [00:00<?, ?it/s]"
      ]
     },
     "metadata": {},
     "output_type": "display_data"
    },
    {
     "data": {
      "application/vnd.jupyter.widget-view+json": {
       "model_id": "7c42ea0717d943d59164883da73bdfb8",
       "version_major": 2,
       "version_minor": 0
      },
      "text/plain": [
       "Batches:   0%|          | 0/1 [00:00<?, ?it/s]"
      ]
     },
     "metadata": {},
     "output_type": "display_data"
    },
    {
     "data": {
      "application/vnd.jupyter.widget-view+json": {
       "model_id": "f43626adaf594cba8c7a31de1d6332dc",
       "version_major": 2,
       "version_minor": 0
      },
      "text/plain": [
       "Batches:   0%|          | 0/1 [00:00<?, ?it/s]"
      ]
     },
     "metadata": {},
     "output_type": "display_data"
    },
    {
     "data": {
      "application/vnd.jupyter.widget-view+json": {
       "model_id": "ca53548a65bb427bacc5965bda3be3f5",
       "version_major": 2,
       "version_minor": 0
      },
      "text/plain": [
       "Batches:   0%|          | 0/1 [00:00<?, ?it/s]"
      ]
     },
     "metadata": {},
     "output_type": "display_data"
    },
    {
     "data": {
      "application/vnd.jupyter.widget-view+json": {
       "model_id": "e6c6ce14e3d241618f7849dd7e01d2f6",
       "version_major": 2,
       "version_minor": 0
      },
      "text/plain": [
       "Batches:   0%|          | 0/1 [00:00<?, ?it/s]"
      ]
     },
     "metadata": {},
     "output_type": "display_data"
    },
    {
     "data": {
      "application/vnd.jupyter.widget-view+json": {
       "model_id": "03c9076c08784b0a8296c252ab994e32",
       "version_major": 2,
       "version_minor": 0
      },
      "text/plain": [
       "Batches:   0%|          | 0/1 [00:00<?, ?it/s]"
      ]
     },
     "metadata": {},
     "output_type": "display_data"
    },
    {
     "data": {
      "application/vnd.jupyter.widget-view+json": {
       "model_id": "d81a0fe98b324836b6c409c41bdb8bec",
       "version_major": 2,
       "version_minor": 0
      },
      "text/plain": [
       "Batches:   0%|          | 0/1 [00:00<?, ?it/s]"
      ]
     },
     "metadata": {},
     "output_type": "display_data"
    },
    {
     "data": {
      "application/vnd.jupyter.widget-view+json": {
       "model_id": "e2bd25cac8144f3b83dbd988d13eeb3e",
       "version_major": 2,
       "version_minor": 0
      },
      "text/plain": [
       "Batches:   0%|          | 0/1 [00:00<?, ?it/s]"
      ]
     },
     "metadata": {},
     "output_type": "display_data"
    },
    {
     "data": {
      "application/vnd.jupyter.widget-view+json": {
       "model_id": "4e7763e1f3c045e08878e61a9d63b893",
       "version_major": 2,
       "version_minor": 0
      },
      "text/plain": [
       "Batches:   0%|          | 0/1 [00:00<?, ?it/s]"
      ]
     },
     "metadata": {},
     "output_type": "display_data"
    },
    {
     "data": {
      "application/vnd.jupyter.widget-view+json": {
       "model_id": "21123bd14b4c4f94948c39a47d9d1c84",
       "version_major": 2,
       "version_minor": 0
      },
      "text/plain": [
       "Batches:   0%|          | 0/1 [00:00<?, ?it/s]"
      ]
     },
     "metadata": {},
     "output_type": "display_data"
    },
    {
     "data": {
      "application/vnd.jupyter.widget-view+json": {
       "model_id": "40672a10eca34326b6dc04b307e14161",
       "version_major": 2,
       "version_minor": 0
      },
      "text/plain": [
       "Batches:   0%|          | 0/1 [00:00<?, ?it/s]"
      ]
     },
     "metadata": {},
     "output_type": "display_data"
    },
    {
     "data": {
      "application/vnd.jupyter.widget-view+json": {
       "model_id": "3b8ca90e494548afb251e5f1d3feb393",
       "version_major": 2,
       "version_minor": 0
      },
      "text/plain": [
       "Batches:   0%|          | 0/1 [00:00<?, ?it/s]"
      ]
     },
     "metadata": {},
     "output_type": "display_data"
    },
    {
     "data": {
      "application/vnd.jupyter.widget-view+json": {
       "model_id": "c5162f38441149a8b2b33fd0347342db",
       "version_major": 2,
       "version_minor": 0
      },
      "text/plain": [
       "Batches:   0%|          | 0/1 [00:00<?, ?it/s]"
      ]
     },
     "metadata": {},
     "output_type": "display_data"
    },
    {
     "data": {
      "application/vnd.jupyter.widget-view+json": {
       "model_id": "8f829ef764ac498ebdf8f6cb05cb1a49",
       "version_major": 2,
       "version_minor": 0
      },
      "text/plain": [
       "Batches:   0%|          | 0/1 [00:00<?, ?it/s]"
      ]
     },
     "metadata": {},
     "output_type": "display_data"
    },
    {
     "data": {
      "application/vnd.jupyter.widget-view+json": {
       "model_id": "3ea8f718219d4e11b63c3853867d6f4b",
       "version_major": 2,
       "version_minor": 0
      },
      "text/plain": [
       "Batches:   0%|          | 0/1 [00:00<?, ?it/s]"
      ]
     },
     "metadata": {},
     "output_type": "display_data"
    },
    {
     "data": {
      "application/vnd.jupyter.widget-view+json": {
       "model_id": "32b4f16043134c839acd2c34056d5720",
       "version_major": 2,
       "version_minor": 0
      },
      "text/plain": [
       "Batches:   0%|          | 0/1 [00:00<?, ?it/s]"
      ]
     },
     "metadata": {},
     "output_type": "display_data"
    },
    {
     "data": {
      "application/vnd.jupyter.widget-view+json": {
       "model_id": "f563344eb0464c4fa17a1cbd59e89d5e",
       "version_major": 2,
       "version_minor": 0
      },
      "text/plain": [
       "Batches:   0%|          | 0/1 [00:00<?, ?it/s]"
      ]
     },
     "metadata": {},
     "output_type": "display_data"
    },
    {
     "data": {
      "application/vnd.jupyter.widget-view+json": {
       "model_id": "d92bc83ce5804f26ba2780fdf3571a36",
       "version_major": 2,
       "version_minor": 0
      },
      "text/plain": [
       "Batches:   0%|          | 0/1 [00:00<?, ?it/s]"
      ]
     },
     "metadata": {},
     "output_type": "display_data"
    },
    {
     "data": {
      "application/vnd.jupyter.widget-view+json": {
       "model_id": "50c1faa0677645728ade6bc26073ab27",
       "version_major": 2,
       "version_minor": 0
      },
      "text/plain": [
       "Batches:   0%|          | 0/1 [00:00<?, ?it/s]"
      ]
     },
     "metadata": {},
     "output_type": "display_data"
    },
    {
     "data": {
      "application/vnd.jupyter.widget-view+json": {
       "model_id": "e7ecb50cbc5e466094e58673ccb53586",
       "version_major": 2,
       "version_minor": 0
      },
      "text/plain": [
       "Batches:   0%|          | 0/1 [00:00<?, ?it/s]"
      ]
     },
     "metadata": {},
     "output_type": "display_data"
    },
    {
     "data": {
      "application/vnd.jupyter.widget-view+json": {
       "model_id": "53c0e1c2748b4c649a8dedccd70ea7fe",
       "version_major": 2,
       "version_minor": 0
      },
      "text/plain": [
       "Batches:   0%|          | 0/1 [00:00<?, ?it/s]"
      ]
     },
     "metadata": {},
     "output_type": "display_data"
    },
    {
     "data": {
      "application/vnd.jupyter.widget-view+json": {
       "model_id": "314909c0a818494b9aa2b8dd9cce3b0c",
       "version_major": 2,
       "version_minor": 0
      },
      "text/plain": [
       "Batches:   0%|          | 0/1 [00:00<?, ?it/s]"
      ]
     },
     "metadata": {},
     "output_type": "display_data"
    },
    {
     "data": {
      "application/vnd.jupyter.widget-view+json": {
       "model_id": "1824e88f01ed47bab23cacc2b636be68",
       "version_major": 2,
       "version_minor": 0
      },
      "text/plain": [
       "Batches:   0%|          | 0/1 [00:00<?, ?it/s]"
      ]
     },
     "metadata": {},
     "output_type": "display_data"
    },
    {
     "data": {
      "application/vnd.jupyter.widget-view+json": {
       "model_id": "589dccee931842ef8a05c6e462e79410",
       "version_major": 2,
       "version_minor": 0
      },
      "text/plain": [
       "Batches:   0%|          | 0/1 [00:00<?, ?it/s]"
      ]
     },
     "metadata": {},
     "output_type": "display_data"
    },
    {
     "data": {
      "application/vnd.jupyter.widget-view+json": {
       "model_id": "d0877cc9cd4a4f45a24e7874084c7c9d",
       "version_major": 2,
       "version_minor": 0
      },
      "text/plain": [
       "Batches:   0%|          | 0/1 [00:00<?, ?it/s]"
      ]
     },
     "metadata": {},
     "output_type": "display_data"
    },
    {
     "data": {
      "application/vnd.jupyter.widget-view+json": {
       "model_id": "9d833864fa084aa0937d8e53c1dd24a6",
       "version_major": 2,
       "version_minor": 0
      },
      "text/plain": [
       "Batches:   0%|          | 0/1 [00:00<?, ?it/s]"
      ]
     },
     "metadata": {},
     "output_type": "display_data"
    },
    {
     "data": {
      "application/vnd.jupyter.widget-view+json": {
       "model_id": "203a2f492668418790f249b658e0862b",
       "version_major": 2,
       "version_minor": 0
      },
      "text/plain": [
       "Batches:   0%|          | 0/1 [00:00<?, ?it/s]"
      ]
     },
     "metadata": {},
     "output_type": "display_data"
    },
    {
     "data": {
      "application/vnd.jupyter.widget-view+json": {
       "model_id": "eebb4131fc2c433d96d549e0fc26d839",
       "version_major": 2,
       "version_minor": 0
      },
      "text/plain": [
       "Batches:   0%|          | 0/1 [00:00<?, ?it/s]"
      ]
     },
     "metadata": {},
     "output_type": "display_data"
    },
    {
     "data": {
      "application/vnd.jupyter.widget-view+json": {
       "model_id": "6225c6fff6d44e4599e91d8ffe1f58e6",
       "version_major": 2,
       "version_minor": 0
      },
      "text/plain": [
       "Batches:   0%|          | 0/1 [00:00<?, ?it/s]"
      ]
     },
     "metadata": {},
     "output_type": "display_data"
    },
    {
     "data": {
      "application/vnd.jupyter.widget-view+json": {
       "model_id": "4ec6c65325f64d16ab360a1fb51e05f5",
       "version_major": 2,
       "version_minor": 0
      },
      "text/plain": [
       "Batches:   0%|          | 0/1 [00:00<?, ?it/s]"
      ]
     },
     "metadata": {},
     "output_type": "display_data"
    },
    {
     "data": {
      "application/vnd.jupyter.widget-view+json": {
       "model_id": "63dbca6fae834717af8c608c7a8f640c",
       "version_major": 2,
       "version_minor": 0
      },
      "text/plain": [
       "Batches:   0%|          | 0/1 [00:00<?, ?it/s]"
      ]
     },
     "metadata": {},
     "output_type": "display_data"
    },
    {
     "data": {
      "application/vnd.jupyter.widget-view+json": {
       "model_id": "e255975c4eda43f6abbea6310c6b5223",
       "version_major": 2,
       "version_minor": 0
      },
      "text/plain": [
       "Batches:   0%|          | 0/1 [00:00<?, ?it/s]"
      ]
     },
     "metadata": {},
     "output_type": "display_data"
    },
    {
     "data": {
      "application/vnd.jupyter.widget-view+json": {
       "model_id": "a31e36bb38db436d9cd82158660c0991",
       "version_major": 2,
       "version_minor": 0
      },
      "text/plain": [
       "Batches:   0%|          | 0/1 [00:00<?, ?it/s]"
      ]
     },
     "metadata": {},
     "output_type": "display_data"
    },
    {
     "data": {
      "application/vnd.jupyter.widget-view+json": {
       "model_id": "75d14d02096f404ea72eda699239e393",
       "version_major": 2,
       "version_minor": 0
      },
      "text/plain": [
       "Batches:   0%|          | 0/1 [00:00<?, ?it/s]"
      ]
     },
     "metadata": {},
     "output_type": "display_data"
    },
    {
     "data": {
      "application/vnd.jupyter.widget-view+json": {
       "model_id": "8f57117e8ca74dc59335c6ef867cdfc0",
       "version_major": 2,
       "version_minor": 0
      },
      "text/plain": [
       "Batches:   0%|          | 0/1 [00:00<?, ?it/s]"
      ]
     },
     "metadata": {},
     "output_type": "display_data"
    },
    {
     "data": {
      "application/vnd.jupyter.widget-view+json": {
       "model_id": "a87f8431312b4e1495cfd743c24af945",
       "version_major": 2,
       "version_minor": 0
      },
      "text/plain": [
       "Batches:   0%|          | 0/1 [00:00<?, ?it/s]"
      ]
     },
     "metadata": {},
     "output_type": "display_data"
    },
    {
     "data": {
      "application/vnd.jupyter.widget-view+json": {
       "model_id": "672b72274f4440eca81f587b8c0a8fad",
       "version_major": 2,
       "version_minor": 0
      },
      "text/plain": [
       "Batches:   0%|          | 0/1 [00:00<?, ?it/s]"
      ]
     },
     "metadata": {},
     "output_type": "display_data"
    },
    {
     "data": {
      "application/vnd.jupyter.widget-view+json": {
       "model_id": "fdcd1c3c75a64410979d857ab756dcfa",
       "version_major": 2,
       "version_minor": 0
      },
      "text/plain": [
       "Batches:   0%|          | 0/1 [00:00<?, ?it/s]"
      ]
     },
     "metadata": {},
     "output_type": "display_data"
    },
    {
     "data": {
      "application/vnd.jupyter.widget-view+json": {
       "model_id": "532fea6b3a5a48808705f0192a4a933f",
       "version_major": 2,
       "version_minor": 0
      },
      "text/plain": [
       "Batches:   0%|          | 0/1 [00:00<?, ?it/s]"
      ]
     },
     "metadata": {},
     "output_type": "display_data"
    },
    {
     "data": {
      "application/vnd.jupyter.widget-view+json": {
       "model_id": "e43955e6feb9428f8a9b84c991c611b8",
       "version_major": 2,
       "version_minor": 0
      },
      "text/plain": [
       "Batches:   0%|          | 0/1 [00:00<?, ?it/s]"
      ]
     },
     "metadata": {},
     "output_type": "display_data"
    },
    {
     "data": {
      "application/vnd.jupyter.widget-view+json": {
       "model_id": "835d24112918462d80f109aaafbf7028",
       "version_major": 2,
       "version_minor": 0
      },
      "text/plain": [
       "Batches:   0%|          | 0/1 [00:00<?, ?it/s]"
      ]
     },
     "metadata": {},
     "output_type": "display_data"
    },
    {
     "data": {
      "application/vnd.jupyter.widget-view+json": {
       "model_id": "3b8675b19e28480dac6e72a17451cf52",
       "version_major": 2,
       "version_minor": 0
      },
      "text/plain": [
       "Batches:   0%|          | 0/1 [00:00<?, ?it/s]"
      ]
     },
     "metadata": {},
     "output_type": "display_data"
    },
    {
     "data": {
      "application/vnd.jupyter.widget-view+json": {
       "model_id": "0dbcb51788024576b7c1d05e118cce81",
       "version_major": 2,
       "version_minor": 0
      },
      "text/plain": [
       "Batches:   0%|          | 0/1 [00:00<?, ?it/s]"
      ]
     },
     "metadata": {},
     "output_type": "display_data"
    },
    {
     "data": {
      "application/vnd.jupyter.widget-view+json": {
       "model_id": "12c4b185761447a098e93e1fc42b3a27",
       "version_major": 2,
       "version_minor": 0
      },
      "text/plain": [
       "Batches:   0%|          | 0/1 [00:00<?, ?it/s]"
      ]
     },
     "metadata": {},
     "output_type": "display_data"
    },
    {
     "data": {
      "application/vnd.jupyter.widget-view+json": {
       "model_id": "dfde87697a86444f9cfee37b1f23596c",
       "version_major": 2,
       "version_minor": 0
      },
      "text/plain": [
       "Batches:   0%|          | 0/1 [00:00<?, ?it/s]"
      ]
     },
     "metadata": {},
     "output_type": "display_data"
    },
    {
     "data": {
      "application/vnd.jupyter.widget-view+json": {
       "model_id": "bdce509c22ee44e387cfbd052c91ddb6",
       "version_major": 2,
       "version_minor": 0
      },
      "text/plain": [
       "Batches:   0%|          | 0/1 [00:00<?, ?it/s]"
      ]
     },
     "metadata": {},
     "output_type": "display_data"
    },
    {
     "data": {
      "application/vnd.jupyter.widget-view+json": {
       "model_id": "fc0105b4496345179a7af3f9cdf364ff",
       "version_major": 2,
       "version_minor": 0
      },
      "text/plain": [
       "Batches:   0%|          | 0/1 [00:00<?, ?it/s]"
      ]
     },
     "metadata": {},
     "output_type": "display_data"
    },
    {
     "data": {
      "application/vnd.jupyter.widget-view+json": {
       "model_id": "10b67583af2d49de9f5ddad658fafb18",
       "version_major": 2,
       "version_minor": 0
      },
      "text/plain": [
       "Batches:   0%|          | 0/1 [00:00<?, ?it/s]"
      ]
     },
     "metadata": {},
     "output_type": "display_data"
    },
    {
     "data": {
      "application/vnd.jupyter.widget-view+json": {
       "model_id": "8b31c45615d643868231151e1b591f56",
       "version_major": 2,
       "version_minor": 0
      },
      "text/plain": [
       "Batches:   0%|          | 0/1 [00:00<?, ?it/s]"
      ]
     },
     "metadata": {},
     "output_type": "display_data"
    },
    {
     "data": {
      "application/vnd.jupyter.widget-view+json": {
       "model_id": "8572b485f1cc47f4af14dc560a06a346",
       "version_major": 2,
       "version_minor": 0
      },
      "text/plain": [
       "Batches:   0%|          | 0/1 [00:00<?, ?it/s]"
      ]
     },
     "metadata": {},
     "output_type": "display_data"
    },
    {
     "data": {
      "application/vnd.jupyter.widget-view+json": {
       "model_id": "c1ad5184e2024864af4d40021547ece2",
       "version_major": 2,
       "version_minor": 0
      },
      "text/plain": [
       "Batches:   0%|          | 0/1 [00:00<?, ?it/s]"
      ]
     },
     "metadata": {},
     "output_type": "display_data"
    },
    {
     "data": {
      "application/vnd.jupyter.widget-view+json": {
       "model_id": "0f091a6683224534aa828a297dcc4c44",
       "version_major": 2,
       "version_minor": 0
      },
      "text/plain": [
       "Batches:   0%|          | 0/1 [00:00<?, ?it/s]"
      ]
     },
     "metadata": {},
     "output_type": "display_data"
    },
    {
     "data": {
      "application/vnd.jupyter.widget-view+json": {
       "model_id": "4dd11405ae494a6b9cee54400c86c53c",
       "version_major": 2,
       "version_minor": 0
      },
      "text/plain": [
       "Batches:   0%|          | 0/1 [00:00<?, ?it/s]"
      ]
     },
     "metadata": {},
     "output_type": "display_data"
    },
    {
     "data": {
      "application/vnd.jupyter.widget-view+json": {
       "model_id": "9f737af470b24dbcb7e737716f0fcc14",
       "version_major": 2,
       "version_minor": 0
      },
      "text/plain": [
       "Batches:   0%|          | 0/1 [00:00<?, ?it/s]"
      ]
     },
     "metadata": {},
     "output_type": "display_data"
    },
    {
     "data": {
      "application/vnd.jupyter.widget-view+json": {
       "model_id": "8f990968ddd54bc89bfce7320f1b7d7f",
       "version_major": 2,
       "version_minor": 0
      },
      "text/plain": [
       "Batches:   0%|          | 0/1 [00:00<?, ?it/s]"
      ]
     },
     "metadata": {},
     "output_type": "display_data"
    },
    {
     "data": {
      "application/vnd.jupyter.widget-view+json": {
       "model_id": "77e263678dbf476f987d8cef94198fd5",
       "version_major": 2,
       "version_minor": 0
      },
      "text/plain": [
       "Batches:   0%|          | 0/1 [00:00<?, ?it/s]"
      ]
     },
     "metadata": {},
     "output_type": "display_data"
    },
    {
     "data": {
      "application/vnd.jupyter.widget-view+json": {
       "model_id": "b448dab09f6c48dbac1f4cd31d68ec90",
       "version_major": 2,
       "version_minor": 0
      },
      "text/plain": [
       "Batches:   0%|          | 0/1 [00:00<?, ?it/s]"
      ]
     },
     "metadata": {},
     "output_type": "display_data"
    },
    {
     "data": {
      "application/vnd.jupyter.widget-view+json": {
       "model_id": "045b2bc149bd46c7ac4846c89e070daf",
       "version_major": 2,
       "version_minor": 0
      },
      "text/plain": [
       "Batches:   0%|          | 0/1 [00:00<?, ?it/s]"
      ]
     },
     "metadata": {},
     "output_type": "display_data"
    },
    {
     "data": {
      "application/vnd.jupyter.widget-view+json": {
       "model_id": "3300011404aa4f9aa7c9fcbb4f953eec",
       "version_major": 2,
       "version_minor": 0
      },
      "text/plain": [
       "Batches:   0%|          | 0/1 [00:00<?, ?it/s]"
      ]
     },
     "metadata": {},
     "output_type": "display_data"
    },
    {
     "data": {
      "application/vnd.jupyter.widget-view+json": {
       "model_id": "1d994b623d3d4328a8b3be5c329d44c1",
       "version_major": 2,
       "version_minor": 0
      },
      "text/plain": [
       "Batches:   0%|          | 0/1 [00:00<?, ?it/s]"
      ]
     },
     "metadata": {},
     "output_type": "display_data"
    },
    {
     "data": {
      "application/vnd.jupyter.widget-view+json": {
       "model_id": "c43304b8bcca472d8b60820365491501",
       "version_major": 2,
       "version_minor": 0
      },
      "text/plain": [
       "Batches:   0%|          | 0/1 [00:00<?, ?it/s]"
      ]
     },
     "metadata": {},
     "output_type": "display_data"
    },
    {
     "data": {
      "application/vnd.jupyter.widget-view+json": {
       "model_id": "f08032ce81a94c7cb7f5c4966eaca10d",
       "version_major": 2,
       "version_minor": 0
      },
      "text/plain": [
       "Batches:   0%|          | 0/1 [00:00<?, ?it/s]"
      ]
     },
     "metadata": {},
     "output_type": "display_data"
    },
    {
     "data": {
      "application/vnd.jupyter.widget-view+json": {
       "model_id": "380184c0d63f4031aecaff4f90fbddc5",
       "version_major": 2,
       "version_minor": 0
      },
      "text/plain": [
       "Batches:   0%|          | 0/1 [00:00<?, ?it/s]"
      ]
     },
     "metadata": {},
     "output_type": "display_data"
    },
    {
     "data": {
      "application/vnd.jupyter.widget-view+json": {
       "model_id": "46331727da1d45ac9929b59cdc1624f0",
       "version_major": 2,
       "version_minor": 0
      },
      "text/plain": [
       "Batches:   0%|          | 0/1 [00:00<?, ?it/s]"
      ]
     },
     "metadata": {},
     "output_type": "display_data"
    },
    {
     "data": {
      "application/vnd.jupyter.widget-view+json": {
       "model_id": "6e561746947e45c8807fa13be73f3400",
       "version_major": 2,
       "version_minor": 0
      },
      "text/plain": [
       "Batches:   0%|          | 0/1 [00:00<?, ?it/s]"
      ]
     },
     "metadata": {},
     "output_type": "display_data"
    },
    {
     "data": {
      "application/vnd.jupyter.widget-view+json": {
       "model_id": "639c601d945b464c9b1de969a03b0745",
       "version_major": 2,
       "version_minor": 0
      },
      "text/plain": [
       "Batches:   0%|          | 0/1 [00:00<?, ?it/s]"
      ]
     },
     "metadata": {},
     "output_type": "display_data"
    },
    {
     "data": {
      "application/vnd.jupyter.widget-view+json": {
       "model_id": "a5349d22069a4418893a440a0a74a186",
       "version_major": 2,
       "version_minor": 0
      },
      "text/plain": [
       "Batches:   0%|          | 0/1 [00:00<?, ?it/s]"
      ]
     },
     "metadata": {},
     "output_type": "display_data"
    },
    {
     "data": {
      "application/vnd.jupyter.widget-view+json": {
       "model_id": "e0e8362e15784de6aaab89eb25654856",
       "version_major": 2,
       "version_minor": 0
      },
      "text/plain": [
       "Batches:   0%|          | 0/1 [00:00<?, ?it/s]"
      ]
     },
     "metadata": {},
     "output_type": "display_data"
    },
    {
     "data": {
      "application/vnd.jupyter.widget-view+json": {
       "model_id": "1df885b4094d406fbb5ffae23a204d77",
       "version_major": 2,
       "version_minor": 0
      },
      "text/plain": [
       "Batches:   0%|          | 0/1 [00:00<?, ?it/s]"
      ]
     },
     "metadata": {},
     "output_type": "display_data"
    },
    {
     "data": {
      "application/vnd.jupyter.widget-view+json": {
       "model_id": "0ce2ce96f12649578578a5e278d645d5",
       "version_major": 2,
       "version_minor": 0
      },
      "text/plain": [
       "Batches:   0%|          | 0/1 [00:00<?, ?it/s]"
      ]
     },
     "metadata": {},
     "output_type": "display_data"
    },
    {
     "data": {
      "application/vnd.jupyter.widget-view+json": {
       "model_id": "ecebfbfd09f642d997823a4d6af07efa",
       "version_major": 2,
       "version_minor": 0
      },
      "text/plain": [
       "Batches:   0%|          | 0/1 [00:00<?, ?it/s]"
      ]
     },
     "metadata": {},
     "output_type": "display_data"
    },
    {
     "data": {
      "application/vnd.jupyter.widget-view+json": {
       "model_id": "f569252281fb4bab97c5277d122df4af",
       "version_major": 2,
       "version_minor": 0
      },
      "text/plain": [
       "Batches:   0%|          | 0/1 [00:00<?, ?it/s]"
      ]
     },
     "metadata": {},
     "output_type": "display_data"
    },
    {
     "data": {
      "application/vnd.jupyter.widget-view+json": {
       "model_id": "2ca362bb29e94f4aa01eaa4caa49f648",
       "version_major": 2,
       "version_minor": 0
      },
      "text/plain": [
       "Batches:   0%|          | 0/1 [00:00<?, ?it/s]"
      ]
     },
     "metadata": {},
     "output_type": "display_data"
    },
    {
     "data": {
      "application/vnd.jupyter.widget-view+json": {
       "model_id": "eb24a329d4d5441e83cb9e5e2662655c",
       "version_major": 2,
       "version_minor": 0
      },
      "text/plain": [
       "Batches:   0%|          | 0/1 [00:00<?, ?it/s]"
      ]
     },
     "metadata": {},
     "output_type": "display_data"
    },
    {
     "data": {
      "application/vnd.jupyter.widget-view+json": {
       "model_id": "0def7fa7237a4cebb1bcb0b8140ea136",
       "version_major": 2,
       "version_minor": 0
      },
      "text/plain": [
       "Batches:   0%|          | 0/1 [00:00<?, ?it/s]"
      ]
     },
     "metadata": {},
     "output_type": "display_data"
    },
    {
     "data": {
      "application/vnd.jupyter.widget-view+json": {
       "model_id": "78f3d28b6aed4bf1ab776b134449ad90",
       "version_major": 2,
       "version_minor": 0
      },
      "text/plain": [
       "Batches:   0%|          | 0/1 [00:00<?, ?it/s]"
      ]
     },
     "metadata": {},
     "output_type": "display_data"
    },
    {
     "data": {
      "application/vnd.jupyter.widget-view+json": {
       "model_id": "eab8b1677b614f9baf8f589994a02c60",
       "version_major": 2,
       "version_minor": 0
      },
      "text/plain": [
       "Batches:   0%|          | 0/1 [00:00<?, ?it/s]"
      ]
     },
     "metadata": {},
     "output_type": "display_data"
    },
    {
     "data": {
      "application/vnd.jupyter.widget-view+json": {
       "model_id": "0a40c4de76384904ace4e1b61faab120",
       "version_major": 2,
       "version_minor": 0
      },
      "text/plain": [
       "Batches:   0%|          | 0/1 [00:00<?, ?it/s]"
      ]
     },
     "metadata": {},
     "output_type": "display_data"
    },
    {
     "data": {
      "application/vnd.jupyter.widget-view+json": {
       "model_id": "1b7bd83a33e14a54883b9cf406f674df",
       "version_major": 2,
       "version_minor": 0
      },
      "text/plain": [
       "Batches:   0%|          | 0/1 [00:00<?, ?it/s]"
      ]
     },
     "metadata": {},
     "output_type": "display_data"
    },
    {
     "data": {
      "application/vnd.jupyter.widget-view+json": {
       "model_id": "07ad62bcf3904d7da1f2cacb21117b21",
       "version_major": 2,
       "version_minor": 0
      },
      "text/plain": [
       "Batches:   0%|          | 0/1 [00:00<?, ?it/s]"
      ]
     },
     "metadata": {},
     "output_type": "display_data"
    },
    {
     "data": {
      "application/vnd.jupyter.widget-view+json": {
       "model_id": "6a5757a6bf644ae9bf1200d64776137c",
       "version_major": 2,
       "version_minor": 0
      },
      "text/plain": [
       "Batches:   0%|          | 0/1 [00:00<?, ?it/s]"
      ]
     },
     "metadata": {},
     "output_type": "display_data"
    },
    {
     "data": {
      "application/vnd.jupyter.widget-view+json": {
       "model_id": "3ef2e11cbd8b460aae99874ef127523d",
       "version_major": 2,
       "version_minor": 0
      },
      "text/plain": [
       "Batches:   0%|          | 0/1 [00:00<?, ?it/s]"
      ]
     },
     "metadata": {},
     "output_type": "display_data"
    },
    {
     "data": {
      "application/vnd.jupyter.widget-view+json": {
       "model_id": "5908d4e67ff84621bd657f72926e8794",
       "version_major": 2,
       "version_minor": 0
      },
      "text/plain": [
       "Batches:   0%|          | 0/1 [00:00<?, ?it/s]"
      ]
     },
     "metadata": {},
     "output_type": "display_data"
    },
    {
     "data": {
      "application/vnd.jupyter.widget-view+json": {
       "model_id": "d22a355a08fd47e2beed392692b63608",
       "version_major": 2,
       "version_minor": 0
      },
      "text/plain": [
       "Batches:   0%|          | 0/1 [00:00<?, ?it/s]"
      ]
     },
     "metadata": {},
     "output_type": "display_data"
    },
    {
     "data": {
      "application/vnd.jupyter.widget-view+json": {
       "model_id": "1361209522564d6b943dbc32bfa65228",
       "version_major": 2,
       "version_minor": 0
      },
      "text/plain": [
       "Batches:   0%|          | 0/1 [00:00<?, ?it/s]"
      ]
     },
     "metadata": {},
     "output_type": "display_data"
    },
    {
     "data": {
      "application/vnd.jupyter.widget-view+json": {
       "model_id": "73b47e87b7134cc48ec279d92c5a94bb",
       "version_major": 2,
       "version_minor": 0
      },
      "text/plain": [
       "Batches:   0%|          | 0/1 [00:00<?, ?it/s]"
      ]
     },
     "metadata": {},
     "output_type": "display_data"
    },
    {
     "data": {
      "application/vnd.jupyter.widget-view+json": {
       "model_id": "ef8cf781f8ca4d98a7f7a971f26cca80",
       "version_major": 2,
       "version_minor": 0
      },
      "text/plain": [
       "Batches:   0%|          | 0/1 [00:00<?, ?it/s]"
      ]
     },
     "metadata": {},
     "output_type": "display_data"
    },
    {
     "data": {
      "application/vnd.jupyter.widget-view+json": {
       "model_id": "f9c35584251844f596fe646a51d1f125",
       "version_major": 2,
       "version_minor": 0
      },
      "text/plain": [
       "Batches:   0%|          | 0/1 [00:00<?, ?it/s]"
      ]
     },
     "metadata": {},
     "output_type": "display_data"
    },
    {
     "data": {
      "application/vnd.jupyter.widget-view+json": {
       "model_id": "1edd23f45c7045e68594457eedc94d2f",
       "version_major": 2,
       "version_minor": 0
      },
      "text/plain": [
       "Batches:   0%|          | 0/1 [00:00<?, ?it/s]"
      ]
     },
     "metadata": {},
     "output_type": "display_data"
    },
    {
     "data": {
      "application/vnd.jupyter.widget-view+json": {
       "model_id": "1c37040e1de04909a353071a6da6ea6f",
       "version_major": 2,
       "version_minor": 0
      },
      "text/plain": [
       "Batches:   0%|          | 0/1 [00:00<?, ?it/s]"
      ]
     },
     "metadata": {},
     "output_type": "display_data"
    },
    {
     "data": {
      "application/vnd.jupyter.widget-view+json": {
       "model_id": "3432754c70c94d419c8cc08d4fe6e132",
       "version_major": 2,
       "version_minor": 0
      },
      "text/plain": [
       "Batches:   0%|          | 0/1 [00:00<?, ?it/s]"
      ]
     },
     "metadata": {},
     "output_type": "display_data"
    },
    {
     "data": {
      "application/vnd.jupyter.widget-view+json": {
       "model_id": "13a10aec39f74199beb06f938581b371",
       "version_major": 2,
       "version_minor": 0
      },
      "text/plain": [
       "Batches:   0%|          | 0/1 [00:00<?, ?it/s]"
      ]
     },
     "metadata": {},
     "output_type": "display_data"
    },
    {
     "data": {
      "application/vnd.jupyter.widget-view+json": {
       "model_id": "3218e1c361cb4e43921e436bc90a6ba8",
       "version_major": 2,
       "version_minor": 0
      },
      "text/plain": [
       "Batches:   0%|          | 0/1 [00:00<?, ?it/s]"
      ]
     },
     "metadata": {},
     "output_type": "display_data"
    },
    {
     "data": {
      "application/vnd.jupyter.widget-view+json": {
       "model_id": "29c47ec0061040c1a1f43ca7a32706a1",
       "version_major": 2,
       "version_minor": 0
      },
      "text/plain": [
       "Batches:   0%|          | 0/1 [00:00<?, ?it/s]"
      ]
     },
     "metadata": {},
     "output_type": "display_data"
    },
    {
     "data": {
      "application/vnd.jupyter.widget-view+json": {
       "model_id": "3276ca9b3d23448283ce346b6d78338e",
       "version_major": 2,
       "version_minor": 0
      },
      "text/plain": [
       "Batches:   0%|          | 0/1 [00:00<?, ?it/s]"
      ]
     },
     "metadata": {},
     "output_type": "display_data"
    },
    {
     "data": {
      "application/vnd.jupyter.widget-view+json": {
       "model_id": "d4158eaffd1b4134955aad16ee430d1e",
       "version_major": 2,
       "version_minor": 0
      },
      "text/plain": [
       "Batches:   0%|          | 0/1 [00:00<?, ?it/s]"
      ]
     },
     "metadata": {},
     "output_type": "display_data"
    },
    {
     "data": {
      "application/vnd.jupyter.widget-view+json": {
       "model_id": "4d3f8068103f48a9a4a0154dd44d2119",
       "version_major": 2,
       "version_minor": 0
      },
      "text/plain": [
       "Batches:   0%|          | 0/1 [00:00<?, ?it/s]"
      ]
     },
     "metadata": {},
     "output_type": "display_data"
    },
    {
     "data": {
      "application/vnd.jupyter.widget-view+json": {
       "model_id": "8ccc591f926f4802b0935c24a9529ccf",
       "version_major": 2,
       "version_minor": 0
      },
      "text/plain": [
       "Batches:   0%|          | 0/1 [00:00<?, ?it/s]"
      ]
     },
     "metadata": {},
     "output_type": "display_data"
    },
    {
     "data": {
      "application/vnd.jupyter.widget-view+json": {
       "model_id": "b4e893db475b466ea9d7deb99e2b929e",
       "version_major": 2,
       "version_minor": 0
      },
      "text/plain": [
       "Batches:   0%|          | 0/1 [00:00<?, ?it/s]"
      ]
     },
     "metadata": {},
     "output_type": "display_data"
    },
    {
     "data": {
      "application/vnd.jupyter.widget-view+json": {
       "model_id": "5d12d2b3644448058e2ab816827562e4",
       "version_major": 2,
       "version_minor": 0
      },
      "text/plain": [
       "Batches:   0%|          | 0/1 [00:00<?, ?it/s]"
      ]
     },
     "metadata": {},
     "output_type": "display_data"
    },
    {
     "data": {
      "application/vnd.jupyter.widget-view+json": {
       "model_id": "f665344ab3b84c9396f3a6aff0546989",
       "version_major": 2,
       "version_minor": 0
      },
      "text/plain": [
       "Batches:   0%|          | 0/1 [00:00<?, ?it/s]"
      ]
     },
     "metadata": {},
     "output_type": "display_data"
    },
    {
     "data": {
      "application/vnd.jupyter.widget-view+json": {
       "model_id": "ffdd9f9b04954d13826c47aa42b14568",
       "version_major": 2,
       "version_minor": 0
      },
      "text/plain": [
       "Batches:   0%|          | 0/1 [00:00<?, ?it/s]"
      ]
     },
     "metadata": {},
     "output_type": "display_data"
    },
    {
     "data": {
      "application/vnd.jupyter.widget-view+json": {
       "model_id": "a088fdc772dd4794a05a8fa227c253b6",
       "version_major": 2,
       "version_minor": 0
      },
      "text/plain": [
       "Batches:   0%|          | 0/1 [00:00<?, ?it/s]"
      ]
     },
     "metadata": {},
     "output_type": "display_data"
    },
    {
     "data": {
      "application/vnd.jupyter.widget-view+json": {
       "model_id": "53b504f5bae04b6285767b78a5c04f64",
       "version_major": 2,
       "version_minor": 0
      },
      "text/plain": [
       "Batches:   0%|          | 0/1 [00:00<?, ?it/s]"
      ]
     },
     "metadata": {},
     "output_type": "display_data"
    },
    {
     "data": {
      "application/vnd.jupyter.widget-view+json": {
       "model_id": "8d5c46e245684cc3bd9098db7f943e36",
       "version_major": 2,
       "version_minor": 0
      },
      "text/plain": [
       "Batches:   0%|          | 0/1 [00:00<?, ?it/s]"
      ]
     },
     "metadata": {},
     "output_type": "display_data"
    },
    {
     "data": {
      "application/vnd.jupyter.widget-view+json": {
       "model_id": "f79b7bfb7e104daaa0d386fb4ed2110f",
       "version_major": 2,
       "version_minor": 0
      },
      "text/plain": [
       "Batches:   0%|          | 0/1 [00:00<?, ?it/s]"
      ]
     },
     "metadata": {},
     "output_type": "display_data"
    },
    {
     "data": {
      "application/vnd.jupyter.widget-view+json": {
       "model_id": "16ba98d1bb6b4a2989e20f0446de8311",
       "version_major": 2,
       "version_minor": 0
      },
      "text/plain": [
       "Batches:   0%|          | 0/1 [00:00<?, ?it/s]"
      ]
     },
     "metadata": {},
     "output_type": "display_data"
    },
    {
     "data": {
      "application/vnd.jupyter.widget-view+json": {
       "model_id": "44ed8e42f2054caea599c5508da2828d",
       "version_major": 2,
       "version_minor": 0
      },
      "text/plain": [
       "Batches:   0%|          | 0/1 [00:00<?, ?it/s]"
      ]
     },
     "metadata": {},
     "output_type": "display_data"
    },
    {
     "data": {
      "application/vnd.jupyter.widget-view+json": {
       "model_id": "35117e5b24644c5992bd890de6eff165",
       "version_major": 2,
       "version_minor": 0
      },
      "text/plain": [
       "Batches:   0%|          | 0/1 [00:00<?, ?it/s]"
      ]
     },
     "metadata": {},
     "output_type": "display_data"
    },
    {
     "data": {
      "application/vnd.jupyter.widget-view+json": {
       "model_id": "018ae436550c432689c4e523933dd10d",
       "version_major": 2,
       "version_minor": 0
      },
      "text/plain": [
       "Batches:   0%|          | 0/1 [00:00<?, ?it/s]"
      ]
     },
     "metadata": {},
     "output_type": "display_data"
    },
    {
     "data": {
      "application/vnd.jupyter.widget-view+json": {
       "model_id": "1692ca0f2790402d869e91610d936ade",
       "version_major": 2,
       "version_minor": 0
      },
      "text/plain": [
       "Batches:   0%|          | 0/1 [00:00<?, ?it/s]"
      ]
     },
     "metadata": {},
     "output_type": "display_data"
    },
    {
     "data": {
      "application/vnd.jupyter.widget-view+json": {
       "model_id": "8785163ff184441d887b7b6e89f7a931",
       "version_major": 2,
       "version_minor": 0
      },
      "text/plain": [
       "Batches:   0%|          | 0/1 [00:00<?, ?it/s]"
      ]
     },
     "metadata": {},
     "output_type": "display_data"
    },
    {
     "data": {
      "application/vnd.jupyter.widget-view+json": {
       "model_id": "4132d8bd69ea4b3899c79c8ad3a493fa",
       "version_major": 2,
       "version_minor": 0
      },
      "text/plain": [
       "Batches:   0%|          | 0/1 [00:00<?, ?it/s]"
      ]
     },
     "metadata": {},
     "output_type": "display_data"
    },
    {
     "data": {
      "application/vnd.jupyter.widget-view+json": {
       "model_id": "b424504a65de48d0a673660d7f50757c",
       "version_major": 2,
       "version_minor": 0
      },
      "text/plain": [
       "Batches:   0%|          | 0/1 [00:00<?, ?it/s]"
      ]
     },
     "metadata": {},
     "output_type": "display_data"
    },
    {
     "data": {
      "application/vnd.jupyter.widget-view+json": {
       "model_id": "46e93f0c75364a508e8140b21069fed7",
       "version_major": 2,
       "version_minor": 0
      },
      "text/plain": [
       "Batches:   0%|          | 0/1 [00:00<?, ?it/s]"
      ]
     },
     "metadata": {},
     "output_type": "display_data"
    },
    {
     "data": {
      "application/vnd.jupyter.widget-view+json": {
       "model_id": "0283e2d44a6148fd80777d3ef5c34336",
       "version_major": 2,
       "version_minor": 0
      },
      "text/plain": [
       "Batches:   0%|          | 0/1 [00:00<?, ?it/s]"
      ]
     },
     "metadata": {},
     "output_type": "display_data"
    },
    {
     "data": {
      "application/vnd.jupyter.widget-view+json": {
       "model_id": "f810a23dbc2c40d8bc0013e8e1dab0e8",
       "version_major": 2,
       "version_minor": 0
      },
      "text/plain": [
       "Batches:   0%|          | 0/1 [00:00<?, ?it/s]"
      ]
     },
     "metadata": {},
     "output_type": "display_data"
    },
    {
     "data": {
      "application/vnd.jupyter.widget-view+json": {
       "model_id": "2c12ce43b6a4485ca4084c646a0d6f54",
       "version_major": 2,
       "version_minor": 0
      },
      "text/plain": [
       "Batches:   0%|          | 0/1 [00:00<?, ?it/s]"
      ]
     },
     "metadata": {},
     "output_type": "display_data"
    },
    {
     "data": {
      "application/vnd.jupyter.widget-view+json": {
       "model_id": "a86136133323413ea108ae9656feb3fa",
       "version_major": 2,
       "version_minor": 0
      },
      "text/plain": [
       "Batches:   0%|          | 0/1 [00:00<?, ?it/s]"
      ]
     },
     "metadata": {},
     "output_type": "display_data"
    },
    {
     "data": {
      "application/vnd.jupyter.widget-view+json": {
       "model_id": "be2d44d39c3a441f964e1adb0869c476",
       "version_major": 2,
       "version_minor": 0
      },
      "text/plain": [
       "Batches:   0%|          | 0/1 [00:00<?, ?it/s]"
      ]
     },
     "metadata": {},
     "output_type": "display_data"
    },
    {
     "data": {
      "application/vnd.jupyter.widget-view+json": {
       "model_id": "33eeb942a8994f298e1e2f03b22389a9",
       "version_major": 2,
       "version_minor": 0
      },
      "text/plain": [
       "Batches:   0%|          | 0/1 [00:00<?, ?it/s]"
      ]
     },
     "metadata": {},
     "output_type": "display_data"
    },
    {
     "data": {
      "application/vnd.jupyter.widget-view+json": {
       "model_id": "8b9f08a1b2184d95841e4ea81930a4b6",
       "version_major": 2,
       "version_minor": 0
      },
      "text/plain": [
       "Batches:   0%|          | 0/1 [00:00<?, ?it/s]"
      ]
     },
     "metadata": {},
     "output_type": "display_data"
    },
    {
     "data": {
      "application/vnd.jupyter.widget-view+json": {
       "model_id": "bf3a7c310ba249d0ba0b432cdedb5b40",
       "version_major": 2,
       "version_minor": 0
      },
      "text/plain": [
       "Batches:   0%|          | 0/1 [00:00<?, ?it/s]"
      ]
     },
     "metadata": {},
     "output_type": "display_data"
    },
    {
     "data": {
      "application/vnd.jupyter.widget-view+json": {
       "model_id": "2f99b0665853410a8f9cb3377385a0d0",
       "version_major": 2,
       "version_minor": 0
      },
      "text/plain": [
       "Batches:   0%|          | 0/1 [00:00<?, ?it/s]"
      ]
     },
     "metadata": {},
     "output_type": "display_data"
    },
    {
     "data": {
      "application/vnd.jupyter.widget-view+json": {
       "model_id": "fdbdf5e645bc444f8e392ba1a0cb4882",
       "version_major": 2,
       "version_minor": 0
      },
      "text/plain": [
       "Batches:   0%|          | 0/1 [00:00<?, ?it/s]"
      ]
     },
     "metadata": {},
     "output_type": "display_data"
    },
    {
     "data": {
      "application/vnd.jupyter.widget-view+json": {
       "model_id": "73b17c2c78bf44a4bc3fe78487b10084",
       "version_major": 2,
       "version_minor": 0
      },
      "text/plain": [
       "Batches:   0%|          | 0/1 [00:00<?, ?it/s]"
      ]
     },
     "metadata": {},
     "output_type": "display_data"
    },
    {
     "data": {
      "application/vnd.jupyter.widget-view+json": {
       "model_id": "144c230a59024e53b2425b6200698541",
       "version_major": 2,
       "version_minor": 0
      },
      "text/plain": [
       "Batches:   0%|          | 0/1 [00:00<?, ?it/s]"
      ]
     },
     "metadata": {},
     "output_type": "display_data"
    },
    {
     "data": {
      "application/vnd.jupyter.widget-view+json": {
       "model_id": "97a19862a6ff41bb940b69e6e24be188",
       "version_major": 2,
       "version_minor": 0
      },
      "text/plain": [
       "Batches:   0%|          | 0/1 [00:00<?, ?it/s]"
      ]
     },
     "metadata": {},
     "output_type": "display_data"
    },
    {
     "data": {
      "application/vnd.jupyter.widget-view+json": {
       "model_id": "5253fc7d18054dfdad93020cc34a6a6d",
       "version_major": 2,
       "version_minor": 0
      },
      "text/plain": [
       "Batches:   0%|          | 0/1 [00:00<?, ?it/s]"
      ]
     },
     "metadata": {},
     "output_type": "display_data"
    },
    {
     "data": {
      "application/vnd.jupyter.widget-view+json": {
       "model_id": "38b103253d2e4e1e9dac1af10b735556",
       "version_major": 2,
       "version_minor": 0
      },
      "text/plain": [
       "Batches:   0%|          | 0/1 [00:00<?, ?it/s]"
      ]
     },
     "metadata": {},
     "output_type": "display_data"
    },
    {
     "data": {
      "application/vnd.jupyter.widget-view+json": {
       "model_id": "2e639e5169184338bbbe7ae11cf75b24",
       "version_major": 2,
       "version_minor": 0
      },
      "text/plain": [
       "Batches:   0%|          | 0/1 [00:00<?, ?it/s]"
      ]
     },
     "metadata": {},
     "output_type": "display_data"
    },
    {
     "data": {
      "application/vnd.jupyter.widget-view+json": {
       "model_id": "cb54f4cdfa6543a3883e80e812772937",
       "version_major": 2,
       "version_minor": 0
      },
      "text/plain": [
       "Batches:   0%|          | 0/1 [00:00<?, ?it/s]"
      ]
     },
     "metadata": {},
     "output_type": "display_data"
    },
    {
     "data": {
      "application/vnd.jupyter.widget-view+json": {
       "model_id": "78a8077aa6b74ab09c0c5ca841b470a0",
       "version_major": 2,
       "version_minor": 0
      },
      "text/plain": [
       "Batches:   0%|          | 0/1 [00:00<?, ?it/s]"
      ]
     },
     "metadata": {},
     "output_type": "display_data"
    },
    {
     "data": {
      "application/vnd.jupyter.widget-view+json": {
       "model_id": "4c25a89e79e64368a41edd2331e5d280",
       "version_major": 2,
       "version_minor": 0
      },
      "text/plain": [
       "Batches:   0%|          | 0/1 [00:00<?, ?it/s]"
      ]
     },
     "metadata": {},
     "output_type": "display_data"
    },
    {
     "data": {
      "application/vnd.jupyter.widget-view+json": {
       "model_id": "676c9de3290f45f98bd94af5d66ecf27",
       "version_major": 2,
       "version_minor": 0
      },
      "text/plain": [
       "Batches:   0%|          | 0/1 [00:00<?, ?it/s]"
      ]
     },
     "metadata": {},
     "output_type": "display_data"
    },
    {
     "data": {
      "application/vnd.jupyter.widget-view+json": {
       "model_id": "c7ce67adb31045eb9d8a50e75cff8118",
       "version_major": 2,
       "version_minor": 0
      },
      "text/plain": [
       "Batches:   0%|          | 0/1 [00:00<?, ?it/s]"
      ]
     },
     "metadata": {},
     "output_type": "display_data"
    },
    {
     "data": {
      "application/vnd.jupyter.widget-view+json": {
       "model_id": "2a79cb470b6e4767bd559543c0fb60ba",
       "version_major": 2,
       "version_minor": 0
      },
      "text/plain": [
       "Batches:   0%|          | 0/1 [00:00<?, ?it/s]"
      ]
     },
     "metadata": {},
     "output_type": "display_data"
    },
    {
     "data": {
      "application/vnd.jupyter.widget-view+json": {
       "model_id": "de2dcba8af6e440e875cc2350ad4b088",
       "version_major": 2,
       "version_minor": 0
      },
      "text/plain": [
       "Batches:   0%|          | 0/1 [00:00<?, ?it/s]"
      ]
     },
     "metadata": {},
     "output_type": "display_data"
    },
    {
     "data": {
      "application/vnd.jupyter.widget-view+json": {
       "model_id": "b4611d9f71434d70b0a8a11b1b67ae2e",
       "version_major": 2,
       "version_minor": 0
      },
      "text/plain": [
       "Batches:   0%|          | 0/1 [00:00<?, ?it/s]"
      ]
     },
     "metadata": {},
     "output_type": "display_data"
    },
    {
     "data": {
      "application/vnd.jupyter.widget-view+json": {
       "model_id": "24739b28d7374fde98d248ca5da14fa0",
       "version_major": 2,
       "version_minor": 0
      },
      "text/plain": [
       "Batches:   0%|          | 0/1 [00:00<?, ?it/s]"
      ]
     },
     "metadata": {},
     "output_type": "display_data"
    },
    {
     "data": {
      "application/vnd.jupyter.widget-view+json": {
       "model_id": "ac3bc44aab9a4c5e8b351eb759868676",
       "version_major": 2,
       "version_minor": 0
      },
      "text/plain": [
       "Batches:   0%|          | 0/1 [00:00<?, ?it/s]"
      ]
     },
     "metadata": {},
     "output_type": "display_data"
    },
    {
     "data": {
      "application/vnd.jupyter.widget-view+json": {
       "model_id": "a09cb48b03e04e458955e9aa2f05ff55",
       "version_major": 2,
       "version_minor": 0
      },
      "text/plain": [
       "Batches:   0%|          | 0/1 [00:00<?, ?it/s]"
      ]
     },
     "metadata": {},
     "output_type": "display_data"
    },
    {
     "data": {
      "application/vnd.jupyter.widget-view+json": {
       "model_id": "3881afe6e8b045868c7cca75ac0364c5",
       "version_major": 2,
       "version_minor": 0
      },
      "text/plain": [
       "Batches:   0%|          | 0/1 [00:00<?, ?it/s]"
      ]
     },
     "metadata": {},
     "output_type": "display_data"
    },
    {
     "data": {
      "application/vnd.jupyter.widget-view+json": {
       "model_id": "911e0187937d44d7ba656da434617681",
       "version_major": 2,
       "version_minor": 0
      },
      "text/plain": [
       "Batches:   0%|          | 0/1 [00:00<?, ?it/s]"
      ]
     },
     "metadata": {},
     "output_type": "display_data"
    },
    {
     "data": {
      "application/vnd.jupyter.widget-view+json": {
       "model_id": "017612b4af3e4877835017c26940f0c7",
       "version_major": 2,
       "version_minor": 0
      },
      "text/plain": [
       "Batches:   0%|          | 0/1 [00:00<?, ?it/s]"
      ]
     },
     "metadata": {},
     "output_type": "display_data"
    },
    {
     "data": {
      "application/vnd.jupyter.widget-view+json": {
       "model_id": "c3aaee6434564ed2af5d7b4357fbc54a",
       "version_major": 2,
       "version_minor": 0
      },
      "text/plain": [
       "Batches:   0%|          | 0/1 [00:00<?, ?it/s]"
      ]
     },
     "metadata": {},
     "output_type": "display_data"
    },
    {
     "data": {
      "application/vnd.jupyter.widget-view+json": {
       "model_id": "5b2e36c1375f44a78746f8be90bb9164",
       "version_major": 2,
       "version_minor": 0
      },
      "text/plain": [
       "Batches:   0%|          | 0/1 [00:00<?, ?it/s]"
      ]
     },
     "metadata": {},
     "output_type": "display_data"
    },
    {
     "data": {
      "application/vnd.jupyter.widget-view+json": {
       "model_id": "688e2e139cee42c5bce60d59d297ce96",
       "version_major": 2,
       "version_minor": 0
      },
      "text/plain": [
       "Batches:   0%|          | 0/1 [00:00<?, ?it/s]"
      ]
     },
     "metadata": {},
     "output_type": "display_data"
    },
    {
     "data": {
      "application/vnd.jupyter.widget-view+json": {
       "model_id": "0e36c755d0c44989943b664dcd5abbc6",
       "version_major": 2,
       "version_minor": 0
      },
      "text/plain": [
       "Batches:   0%|          | 0/1 [00:00<?, ?it/s]"
      ]
     },
     "metadata": {},
     "output_type": "display_data"
    },
    {
     "data": {
      "application/vnd.jupyter.widget-view+json": {
       "model_id": "d4b832f041b1405d94d6826aa22bf8df",
       "version_major": 2,
       "version_minor": 0
      },
      "text/plain": [
       "Batches:   0%|          | 0/1 [00:00<?, ?it/s]"
      ]
     },
     "metadata": {},
     "output_type": "display_data"
    },
    {
     "data": {
      "application/vnd.jupyter.widget-view+json": {
       "model_id": "9d961d0fb0cf419cbb1d8b880030324d",
       "version_major": 2,
       "version_minor": 0
      },
      "text/plain": [
       "Batches:   0%|          | 0/1 [00:00<?, ?it/s]"
      ]
     },
     "metadata": {},
     "output_type": "display_data"
    },
    {
     "data": {
      "application/vnd.jupyter.widget-view+json": {
       "model_id": "a1c64a34bda74e2fb7e0b054dae1b7b8",
       "version_major": 2,
       "version_minor": 0
      },
      "text/plain": [
       "Batches:   0%|          | 0/1 [00:00<?, ?it/s]"
      ]
     },
     "metadata": {},
     "output_type": "display_data"
    },
    {
     "data": {
      "application/vnd.jupyter.widget-view+json": {
       "model_id": "51b5a039efdc4cf69b310c854d27112e",
       "version_major": 2,
       "version_minor": 0
      },
      "text/plain": [
       "Batches:   0%|          | 0/1 [00:00<?, ?it/s]"
      ]
     },
     "metadata": {},
     "output_type": "display_data"
    },
    {
     "data": {
      "application/vnd.jupyter.widget-view+json": {
       "model_id": "e94557dcfa394ee59598388ad7610b0e",
       "version_major": 2,
       "version_minor": 0
      },
      "text/plain": [
       "Batches:   0%|          | 0/1 [00:00<?, ?it/s]"
      ]
     },
     "metadata": {},
     "output_type": "display_data"
    },
    {
     "data": {
      "application/vnd.jupyter.widget-view+json": {
       "model_id": "d6304ee9ff194b08b3d2de4e85b0bad9",
       "version_major": 2,
       "version_minor": 0
      },
      "text/plain": [
       "Batches:   0%|          | 0/1 [00:00<?, ?it/s]"
      ]
     },
     "metadata": {},
     "output_type": "display_data"
    },
    {
     "data": {
      "application/vnd.jupyter.widget-view+json": {
       "model_id": "5773b45ea42f4398bfb78c823c99329f",
       "version_major": 2,
       "version_minor": 0
      },
      "text/plain": [
       "Batches:   0%|          | 0/1 [00:00<?, ?it/s]"
      ]
     },
     "metadata": {},
     "output_type": "display_data"
    },
    {
     "data": {
      "application/vnd.jupyter.widget-view+json": {
       "model_id": "1b5781faeeaf4a169892cda482401cba",
       "version_major": 2,
       "version_minor": 0
      },
      "text/plain": [
       "Batches:   0%|          | 0/1 [00:00<?, ?it/s]"
      ]
     },
     "metadata": {},
     "output_type": "display_data"
    },
    {
     "data": {
      "application/vnd.jupyter.widget-view+json": {
       "model_id": "7c26dded04404b4fb9e60a4d853dee76",
       "version_major": 2,
       "version_minor": 0
      },
      "text/plain": [
       "Batches:   0%|          | 0/1 [00:00<?, ?it/s]"
      ]
     },
     "metadata": {},
     "output_type": "display_data"
    },
    {
     "data": {
      "application/vnd.jupyter.widget-view+json": {
       "model_id": "ad7aeaa03e39481eb8cd7d0b4af7ce05",
       "version_major": 2,
       "version_minor": 0
      },
      "text/plain": [
       "Batches:   0%|          | 0/1 [00:00<?, ?it/s]"
      ]
     },
     "metadata": {},
     "output_type": "display_data"
    },
    {
     "data": {
      "application/vnd.jupyter.widget-view+json": {
       "model_id": "c44a193deb3a4040ba0c282ee1ae52ee",
       "version_major": 2,
       "version_minor": 0
      },
      "text/plain": [
       "Batches:   0%|          | 0/1 [00:00<?, ?it/s]"
      ]
     },
     "metadata": {},
     "output_type": "display_data"
    },
    {
     "data": {
      "application/vnd.jupyter.widget-view+json": {
       "model_id": "5a55d5f451ad4c939f673e083509c15b",
       "version_major": 2,
       "version_minor": 0
      },
      "text/plain": [
       "Batches:   0%|          | 0/1 [00:00<?, ?it/s]"
      ]
     },
     "metadata": {},
     "output_type": "display_data"
    },
    {
     "data": {
      "application/vnd.jupyter.widget-view+json": {
       "model_id": "1e2f46faa84a4a0ea5e276e5cbb8e6ce",
       "version_major": 2,
       "version_minor": 0
      },
      "text/plain": [
       "Batches:   0%|          | 0/1 [00:00<?, ?it/s]"
      ]
     },
     "metadata": {},
     "output_type": "display_data"
    },
    {
     "data": {
      "application/vnd.jupyter.widget-view+json": {
       "model_id": "528de95c51014a61a4de0b9c143dd95e",
       "version_major": 2,
       "version_minor": 0
      },
      "text/plain": [
       "Batches:   0%|          | 0/1 [00:00<?, ?it/s]"
      ]
     },
     "metadata": {},
     "output_type": "display_data"
    },
    {
     "data": {
      "application/vnd.jupyter.widget-view+json": {
       "model_id": "c91bfd8809bb4fbc97ed7893954d645c",
       "version_major": 2,
       "version_minor": 0
      },
      "text/plain": [
       "Batches:   0%|          | 0/1 [00:00<?, ?it/s]"
      ]
     },
     "metadata": {},
     "output_type": "display_data"
    },
    {
     "data": {
      "application/vnd.jupyter.widget-view+json": {
       "model_id": "b6fb2b675afc44098e7429de89d41316",
       "version_major": 2,
       "version_minor": 0
      },
      "text/plain": [
       "Batches:   0%|          | 0/1 [00:00<?, ?it/s]"
      ]
     },
     "metadata": {},
     "output_type": "display_data"
    },
    {
     "data": {
      "application/vnd.jupyter.widget-view+json": {
       "model_id": "068239e2e3cb43c79b76a42710b02ec0",
       "version_major": 2,
       "version_minor": 0
      },
      "text/plain": [
       "Batches:   0%|          | 0/1 [00:00<?, ?it/s]"
      ]
     },
     "metadata": {},
     "output_type": "display_data"
    },
    {
     "data": {
      "application/vnd.jupyter.widget-view+json": {
       "model_id": "ad93300d731c425c8f5a4a326baf47d4",
       "version_major": 2,
       "version_minor": 0
      },
      "text/plain": [
       "Batches:   0%|          | 0/1 [00:00<?, ?it/s]"
      ]
     },
     "metadata": {},
     "output_type": "display_data"
    },
    {
     "data": {
      "application/vnd.jupyter.widget-view+json": {
       "model_id": "94493ca3bf624669855d1824c824f2bb",
       "version_major": 2,
       "version_minor": 0
      },
      "text/plain": [
       "Batches:   0%|          | 0/1 [00:00<?, ?it/s]"
      ]
     },
     "metadata": {},
     "output_type": "display_data"
    },
    {
     "data": {
      "application/vnd.jupyter.widget-view+json": {
       "model_id": "d55438d3bfd94fe48eef61b8ded3608d",
       "version_major": 2,
       "version_minor": 0
      },
      "text/plain": [
       "Batches:   0%|          | 0/1 [00:00<?, ?it/s]"
      ]
     },
     "metadata": {},
     "output_type": "display_data"
    },
    {
     "data": {
      "application/vnd.jupyter.widget-view+json": {
       "model_id": "f6c638a6df5141e5a45bf9cf652af39c",
       "version_major": 2,
       "version_minor": 0
      },
      "text/plain": [
       "Batches:   0%|          | 0/1 [00:00<?, ?it/s]"
      ]
     },
     "metadata": {},
     "output_type": "display_data"
    },
    {
     "data": {
      "application/vnd.jupyter.widget-view+json": {
       "model_id": "175cfa69f2fb43d4a5881d8906fe4ec5",
       "version_major": 2,
       "version_minor": 0
      },
      "text/plain": [
       "Batches:   0%|          | 0/1 [00:00<?, ?it/s]"
      ]
     },
     "metadata": {},
     "output_type": "display_data"
    },
    {
     "data": {
      "application/vnd.jupyter.widget-view+json": {
       "model_id": "e1beebef03c646a694814b9c1ee5c910",
       "version_major": 2,
       "version_minor": 0
      },
      "text/plain": [
       "Batches:   0%|          | 0/1 [00:00<?, ?it/s]"
      ]
     },
     "metadata": {},
     "output_type": "display_data"
    },
    {
     "data": {
      "application/vnd.jupyter.widget-view+json": {
       "model_id": "7c5af78973704e519f83d9ae16c105d7",
       "version_major": 2,
       "version_minor": 0
      },
      "text/plain": [
       "Batches:   0%|          | 0/1 [00:00<?, ?it/s]"
      ]
     },
     "metadata": {},
     "output_type": "display_data"
    },
    {
     "data": {
      "application/vnd.jupyter.widget-view+json": {
       "model_id": "18399245da5248df9d98c33c7cc031c0",
       "version_major": 2,
       "version_minor": 0
      },
      "text/plain": [
       "Batches:   0%|          | 0/1 [00:00<?, ?it/s]"
      ]
     },
     "metadata": {},
     "output_type": "display_data"
    },
    {
     "data": {
      "application/vnd.jupyter.widget-view+json": {
       "model_id": "1d49c5b96e3448eebd3a3a8abb0427cd",
       "version_major": 2,
       "version_minor": 0
      },
      "text/plain": [
       "Batches:   0%|          | 0/1 [00:00<?, ?it/s]"
      ]
     },
     "metadata": {},
     "output_type": "display_data"
    },
    {
     "data": {
      "application/vnd.jupyter.widget-view+json": {
       "model_id": "8a4f6fb3b4dd4ad985fdbd0a1bed04dc",
       "version_major": 2,
       "version_minor": 0
      },
      "text/plain": [
       "Batches:   0%|          | 0/1 [00:00<?, ?it/s]"
      ]
     },
     "metadata": {},
     "output_type": "display_data"
    },
    {
     "data": {
      "application/vnd.jupyter.widget-view+json": {
       "model_id": "b06924fd72344d06a54eaa4ceb267cee",
       "version_major": 2,
       "version_minor": 0
      },
      "text/plain": [
       "Batches:   0%|          | 0/1 [00:00<?, ?it/s]"
      ]
     },
     "metadata": {},
     "output_type": "display_data"
    },
    {
     "data": {
      "application/vnd.jupyter.widget-view+json": {
       "model_id": "dc98f0a8fde1438ea3f88bcc7f9a20dc",
       "version_major": 2,
       "version_minor": 0
      },
      "text/plain": [
       "Batches:   0%|          | 0/1 [00:00<?, ?it/s]"
      ]
     },
     "metadata": {},
     "output_type": "display_data"
    },
    {
     "data": {
      "application/vnd.jupyter.widget-view+json": {
       "model_id": "2cf39d5033034bc3b3a97e83c3d5c44e",
       "version_major": 2,
       "version_minor": 0
      },
      "text/plain": [
       "Batches:   0%|          | 0/1 [00:00<?, ?it/s]"
      ]
     },
     "metadata": {},
     "output_type": "display_data"
    },
    {
     "data": {
      "application/vnd.jupyter.widget-view+json": {
       "model_id": "fdeed87486404d159c6aafa6f4a73d52",
       "version_major": 2,
       "version_minor": 0
      },
      "text/plain": [
       "Batches:   0%|          | 0/1 [00:00<?, ?it/s]"
      ]
     },
     "metadata": {},
     "output_type": "display_data"
    },
    {
     "data": {
      "application/vnd.jupyter.widget-view+json": {
       "model_id": "81b43c32d08d4888a1d7416d567c5fb4",
       "version_major": 2,
       "version_minor": 0
      },
      "text/plain": [
       "Batches:   0%|          | 0/1 [00:00<?, ?it/s]"
      ]
     },
     "metadata": {},
     "output_type": "display_data"
    },
    {
     "data": {
      "application/vnd.jupyter.widget-view+json": {
       "model_id": "50ac0bebb7be43aea29f0c91a4be4f13",
       "version_major": 2,
       "version_minor": 0
      },
      "text/plain": [
       "Batches:   0%|          | 0/1 [00:00<?, ?it/s]"
      ]
     },
     "metadata": {},
     "output_type": "display_data"
    },
    {
     "data": {
      "application/vnd.jupyter.widget-view+json": {
       "model_id": "894347b3556140ffb18cd8dbfcd4a248",
       "version_major": 2,
       "version_minor": 0
      },
      "text/plain": [
       "Batches:   0%|          | 0/1 [00:00<?, ?it/s]"
      ]
     },
     "metadata": {},
     "output_type": "display_data"
    },
    {
     "data": {
      "application/vnd.jupyter.widget-view+json": {
       "model_id": "1e3c8ee88b164eed8d1947b04bfac4f9",
       "version_major": 2,
       "version_minor": 0
      },
      "text/plain": [
       "Batches:   0%|          | 0/1 [00:00<?, ?it/s]"
      ]
     },
     "metadata": {},
     "output_type": "display_data"
    },
    {
     "data": {
      "application/vnd.jupyter.widget-view+json": {
       "model_id": "acc7156603284554a583690704b935fe",
       "version_major": 2,
       "version_minor": 0
      },
      "text/plain": [
       "Batches:   0%|          | 0/1 [00:00<?, ?it/s]"
      ]
     },
     "metadata": {},
     "output_type": "display_data"
    },
    {
     "data": {
      "application/vnd.jupyter.widget-view+json": {
       "model_id": "678e8888efa84a448b46bb355883a586",
       "version_major": 2,
       "version_minor": 0
      },
      "text/plain": [
       "Batches:   0%|          | 0/1 [00:00<?, ?it/s]"
      ]
     },
     "metadata": {},
     "output_type": "display_data"
    },
    {
     "data": {
      "application/vnd.jupyter.widget-view+json": {
       "model_id": "c9c160fd6a8f425b98542041668b265b",
       "version_major": 2,
       "version_minor": 0
      },
      "text/plain": [
       "Batches:   0%|          | 0/1 [00:00<?, ?it/s]"
      ]
     },
     "metadata": {},
     "output_type": "display_data"
    },
    {
     "data": {
      "application/vnd.jupyter.widget-view+json": {
       "model_id": "5ba1281de6904dd6adde2df5c73074df",
       "version_major": 2,
       "version_minor": 0
      },
      "text/plain": [
       "Batches:   0%|          | 0/1 [00:00<?, ?it/s]"
      ]
     },
     "metadata": {},
     "output_type": "display_data"
    },
    {
     "data": {
      "application/vnd.jupyter.widget-view+json": {
       "model_id": "c6b4884ab8b141a184c6e706313ac778",
       "version_major": 2,
       "version_minor": 0
      },
      "text/plain": [
       "Batches:   0%|          | 0/1 [00:00<?, ?it/s]"
      ]
     },
     "metadata": {},
     "output_type": "display_data"
    },
    {
     "data": {
      "application/vnd.jupyter.widget-view+json": {
       "model_id": "84a4171a0aef42aea297920a16e62136",
       "version_major": 2,
       "version_minor": 0
      },
      "text/plain": [
       "Batches:   0%|          | 0/1 [00:00<?, ?it/s]"
      ]
     },
     "metadata": {},
     "output_type": "display_data"
    },
    {
     "data": {
      "application/vnd.jupyter.widget-view+json": {
       "model_id": "b3a4e920fec1471ba17d946131eb4916",
       "version_major": 2,
       "version_minor": 0
      },
      "text/plain": [
       "Batches:   0%|          | 0/1 [00:00<?, ?it/s]"
      ]
     },
     "metadata": {},
     "output_type": "display_data"
    },
    {
     "data": {
      "application/vnd.jupyter.widget-view+json": {
       "model_id": "b2aa8a03a1da43148ac687470fb6ed9e",
       "version_major": 2,
       "version_minor": 0
      },
      "text/plain": [
       "Batches:   0%|          | 0/1 [00:00<?, ?it/s]"
      ]
     },
     "metadata": {},
     "output_type": "display_data"
    },
    {
     "data": {
      "application/vnd.jupyter.widget-view+json": {
       "model_id": "7f3ffb5322c84a2b83924d9b6b72ae89",
       "version_major": 2,
       "version_minor": 0
      },
      "text/plain": [
       "Batches:   0%|          | 0/1 [00:00<?, ?it/s]"
      ]
     },
     "metadata": {},
     "output_type": "display_data"
    },
    {
     "data": {
      "application/vnd.jupyter.widget-view+json": {
       "model_id": "d0a60ad728274be8b3d3c3fd70448cf7",
       "version_major": 2,
       "version_minor": 0
      },
      "text/plain": [
       "Batches:   0%|          | 0/1 [00:00<?, ?it/s]"
      ]
     },
     "metadata": {},
     "output_type": "display_data"
    },
    {
     "data": {
      "application/vnd.jupyter.widget-view+json": {
       "model_id": "f42a5aba712c4205a1d9a4c876d2b61a",
       "version_major": 2,
       "version_minor": 0
      },
      "text/plain": [
       "Batches:   0%|          | 0/1 [00:00<?, ?it/s]"
      ]
     },
     "metadata": {},
     "output_type": "display_data"
    },
    {
     "data": {
      "application/vnd.jupyter.widget-view+json": {
       "model_id": "b392103df5bc4ba88fb5dde8c4562673",
       "version_major": 2,
       "version_minor": 0
      },
      "text/plain": [
       "Batches:   0%|          | 0/1 [00:00<?, ?it/s]"
      ]
     },
     "metadata": {},
     "output_type": "display_data"
    },
    {
     "data": {
      "application/vnd.jupyter.widget-view+json": {
       "model_id": "1d2277ec605e415f8346c390bcc1255a",
       "version_major": 2,
       "version_minor": 0
      },
      "text/plain": [
       "Batches:   0%|          | 0/1 [00:00<?, ?it/s]"
      ]
     },
     "metadata": {},
     "output_type": "display_data"
    },
    {
     "data": {
      "application/vnd.jupyter.widget-view+json": {
       "model_id": "8846f7cf8e3d44a48faa514de28afae1",
       "version_major": 2,
       "version_minor": 0
      },
      "text/plain": [
       "Batches:   0%|          | 0/1 [00:00<?, ?it/s]"
      ]
     },
     "metadata": {},
     "output_type": "display_data"
    },
    {
     "data": {
      "application/vnd.jupyter.widget-view+json": {
       "model_id": "bbd4640ede764c59a31742510de3404e",
       "version_major": 2,
       "version_minor": 0
      },
      "text/plain": [
       "Batches:   0%|          | 0/1 [00:00<?, ?it/s]"
      ]
     },
     "metadata": {},
     "output_type": "display_data"
    },
    {
     "data": {
      "application/vnd.jupyter.widget-view+json": {
       "model_id": "f48d4724de114f22a325c1d303bcc4bd",
       "version_major": 2,
       "version_minor": 0
      },
      "text/plain": [
       "Batches:   0%|          | 0/1 [00:00<?, ?it/s]"
      ]
     },
     "metadata": {},
     "output_type": "display_data"
    },
    {
     "data": {
      "application/vnd.jupyter.widget-view+json": {
       "model_id": "833e52287c40481ba85d54ed0b41667e",
       "version_major": 2,
       "version_minor": 0
      },
      "text/plain": [
       "Batches:   0%|          | 0/1 [00:00<?, ?it/s]"
      ]
     },
     "metadata": {},
     "output_type": "display_data"
    },
    {
     "data": {
      "application/vnd.jupyter.widget-view+json": {
       "model_id": "626412512c4f48ae86e59c1553d8eece",
       "version_major": 2,
       "version_minor": 0
      },
      "text/plain": [
       "Batches:   0%|          | 0/1 [00:00<?, ?it/s]"
      ]
     },
     "metadata": {},
     "output_type": "display_data"
    },
    {
     "data": {
      "application/vnd.jupyter.widget-view+json": {
       "model_id": "9e2fb0a4e65e49ef8522241c818804a1",
       "version_major": 2,
       "version_minor": 0
      },
      "text/plain": [
       "Batches:   0%|          | 0/1 [00:00<?, ?it/s]"
      ]
     },
     "metadata": {},
     "output_type": "display_data"
    },
    {
     "data": {
      "application/vnd.jupyter.widget-view+json": {
       "model_id": "3060ca2eeebf4b33b70306772c0b46a9",
       "version_major": 2,
       "version_minor": 0
      },
      "text/plain": [
       "Batches:   0%|          | 0/1 [00:00<?, ?it/s]"
      ]
     },
     "metadata": {},
     "output_type": "display_data"
    },
    {
     "data": {
      "application/vnd.jupyter.widget-view+json": {
       "model_id": "ffcf56c039b84ccdb4805e5e57f09ff7",
       "version_major": 2,
       "version_minor": 0
      },
      "text/plain": [
       "Batches:   0%|          | 0/1 [00:00<?, ?it/s]"
      ]
     },
     "metadata": {},
     "output_type": "display_data"
    },
    {
     "data": {
      "application/vnd.jupyter.widget-view+json": {
       "model_id": "540387be252544bd9edaa7c8731a24fc",
       "version_major": 2,
       "version_minor": 0
      },
      "text/plain": [
       "Batches:   0%|          | 0/1 [00:00<?, ?it/s]"
      ]
     },
     "metadata": {},
     "output_type": "display_data"
    },
    {
     "data": {
      "application/vnd.jupyter.widget-view+json": {
       "model_id": "78e6a543e1a14028ac1632fe35f60e0f",
       "version_major": 2,
       "version_minor": 0
      },
      "text/plain": [
       "Batches:   0%|          | 0/1 [00:00<?, ?it/s]"
      ]
     },
     "metadata": {},
     "output_type": "display_data"
    },
    {
     "data": {
      "application/vnd.jupyter.widget-view+json": {
       "model_id": "32856a828e5b42169931e7b934fbaaa7",
       "version_major": 2,
       "version_minor": 0
      },
      "text/plain": [
       "Batches:   0%|          | 0/1 [00:00<?, ?it/s]"
      ]
     },
     "metadata": {},
     "output_type": "display_data"
    },
    {
     "data": {
      "application/vnd.jupyter.widget-view+json": {
       "model_id": "8695f204a6d04bb1bf995b83994fd2c6",
       "version_major": 2,
       "version_minor": 0
      },
      "text/plain": [
       "Batches:   0%|          | 0/1 [00:00<?, ?it/s]"
      ]
     },
     "metadata": {},
     "output_type": "display_data"
    },
    {
     "data": {
      "application/vnd.jupyter.widget-view+json": {
       "model_id": "53d1d197450c42bb9198898045b602dc",
       "version_major": 2,
       "version_minor": 0
      },
      "text/plain": [
       "Batches:   0%|          | 0/1 [00:00<?, ?it/s]"
      ]
     },
     "metadata": {},
     "output_type": "display_data"
    },
    {
     "data": {
      "application/vnd.jupyter.widget-view+json": {
       "model_id": "898faab6afa2401a8adb5c783dee4a98",
       "version_major": 2,
       "version_minor": 0
      },
      "text/plain": [
       "Batches:   0%|          | 0/1 [00:00<?, ?it/s]"
      ]
     },
     "metadata": {},
     "output_type": "display_data"
    },
    {
     "data": {
      "application/vnd.jupyter.widget-view+json": {
       "model_id": "27734fbe831c41db9161a8838fcc3f8f",
       "version_major": 2,
       "version_minor": 0
      },
      "text/plain": [
       "Batches:   0%|          | 0/1 [00:00<?, ?it/s]"
      ]
     },
     "metadata": {},
     "output_type": "display_data"
    },
    {
     "data": {
      "application/vnd.jupyter.widget-view+json": {
       "model_id": "75ce8ffb5e754b8fbd638f2fd00e117e",
       "version_major": 2,
       "version_minor": 0
      },
      "text/plain": [
       "Batches:   0%|          | 0/1 [00:00<?, ?it/s]"
      ]
     },
     "metadata": {},
     "output_type": "display_data"
    },
    {
     "data": {
      "application/vnd.jupyter.widget-view+json": {
       "model_id": "06fdec1f10f5440ca53a226518f8818d",
       "version_major": 2,
       "version_minor": 0
      },
      "text/plain": [
       "Batches:   0%|          | 0/1 [00:00<?, ?it/s]"
      ]
     },
     "metadata": {},
     "output_type": "display_data"
    },
    {
     "data": {
      "application/vnd.jupyter.widget-view+json": {
       "model_id": "ecddde58b9394dc3a7213adcc90774a2",
       "version_major": 2,
       "version_minor": 0
      },
      "text/plain": [
       "Batches:   0%|          | 0/1 [00:00<?, ?it/s]"
      ]
     },
     "metadata": {},
     "output_type": "display_data"
    },
    {
     "data": {
      "application/vnd.jupyter.widget-view+json": {
       "model_id": "d1600555a05a4aef8c800e3e0c4e141a",
       "version_major": 2,
       "version_minor": 0
      },
      "text/plain": [
       "Batches:   0%|          | 0/1 [00:00<?, ?it/s]"
      ]
     },
     "metadata": {},
     "output_type": "display_data"
    },
    {
     "data": {
      "application/vnd.jupyter.widget-view+json": {
       "model_id": "957cd3041687449699eff97ca57b5d83",
       "version_major": 2,
       "version_minor": 0
      },
      "text/plain": [
       "Batches:   0%|          | 0/1 [00:00<?, ?it/s]"
      ]
     },
     "metadata": {},
     "output_type": "display_data"
    },
    {
     "data": {
      "application/vnd.jupyter.widget-view+json": {
       "model_id": "bcadea6e95a645a484b0a97b5f2cb949",
       "version_major": 2,
       "version_minor": 0
      },
      "text/plain": [
       "Batches:   0%|          | 0/1 [00:00<?, ?it/s]"
      ]
     },
     "metadata": {},
     "output_type": "display_data"
    },
    {
     "data": {
      "application/vnd.jupyter.widget-view+json": {
       "model_id": "65c9462a12bb47f8bf01b406caebfa63",
       "version_major": 2,
       "version_minor": 0
      },
      "text/plain": [
       "Batches:   0%|          | 0/1 [00:00<?, ?it/s]"
      ]
     },
     "metadata": {},
     "output_type": "display_data"
    },
    {
     "data": {
      "application/vnd.jupyter.widget-view+json": {
       "model_id": "a20fe9ea03024443b77fbb72d921b354",
       "version_major": 2,
       "version_minor": 0
      },
      "text/plain": [
       "Batches:   0%|          | 0/1 [00:00<?, ?it/s]"
      ]
     },
     "metadata": {},
     "output_type": "display_data"
    },
    {
     "data": {
      "application/vnd.jupyter.widget-view+json": {
       "model_id": "68b5fc344add4618a63ce835329d149e",
       "version_major": 2,
       "version_minor": 0
      },
      "text/plain": [
       "Batches:   0%|          | 0/1 [00:00<?, ?it/s]"
      ]
     },
     "metadata": {},
     "output_type": "display_data"
    },
    {
     "data": {
      "application/vnd.jupyter.widget-view+json": {
       "model_id": "bdf70a2ccd144855abf4eb1fa38fbcc8",
       "version_major": 2,
       "version_minor": 0
      },
      "text/plain": [
       "Batches:   0%|          | 0/1 [00:00<?, ?it/s]"
      ]
     },
     "metadata": {},
     "output_type": "display_data"
    },
    {
     "data": {
      "application/vnd.jupyter.widget-view+json": {
       "model_id": "1944697ea55841d9ba5e3f1761ee32c0",
       "version_major": 2,
       "version_minor": 0
      },
      "text/plain": [
       "Batches:   0%|          | 0/1 [00:00<?, ?it/s]"
      ]
     },
     "metadata": {},
     "output_type": "display_data"
    },
    {
     "data": {
      "application/vnd.jupyter.widget-view+json": {
       "model_id": "a060531e44b940d3971a27c34c36bff5",
       "version_major": 2,
       "version_minor": 0
      },
      "text/plain": [
       "Batches:   0%|          | 0/1 [00:00<?, ?it/s]"
      ]
     },
     "metadata": {},
     "output_type": "display_data"
    },
    {
     "data": {
      "application/vnd.jupyter.widget-view+json": {
       "model_id": "cf0c0dc803f04812abd31d6afd1a9d62",
       "version_major": 2,
       "version_minor": 0
      },
      "text/plain": [
       "Batches:   0%|          | 0/1 [00:00<?, ?it/s]"
      ]
     },
     "metadata": {},
     "output_type": "display_data"
    },
    {
     "data": {
      "application/vnd.jupyter.widget-view+json": {
       "model_id": "d8b15543a95c482ab285151607da2928",
       "version_major": 2,
       "version_minor": 0
      },
      "text/plain": [
       "Batches:   0%|          | 0/1 [00:00<?, ?it/s]"
      ]
     },
     "metadata": {},
     "output_type": "display_data"
    },
    {
     "data": {
      "application/vnd.jupyter.widget-view+json": {
       "model_id": "4f06c52838bd4f63994ab684647d6914",
       "version_major": 2,
       "version_minor": 0
      },
      "text/plain": [
       "Batches:   0%|          | 0/1 [00:00<?, ?it/s]"
      ]
     },
     "metadata": {},
     "output_type": "display_data"
    },
    {
     "data": {
      "application/vnd.jupyter.widget-view+json": {
       "model_id": "18ff1472a28d4de889fc1360098eddf9",
       "version_major": 2,
       "version_minor": 0
      },
      "text/plain": [
       "Batches:   0%|          | 0/1 [00:00<?, ?it/s]"
      ]
     },
     "metadata": {},
     "output_type": "display_data"
    },
    {
     "data": {
      "application/vnd.jupyter.widget-view+json": {
       "model_id": "c12ca339d9b54c02bcd552e46b1ed91b",
       "version_major": 2,
       "version_minor": 0
      },
      "text/plain": [
       "Batches:   0%|          | 0/1 [00:00<?, ?it/s]"
      ]
     },
     "metadata": {},
     "output_type": "display_data"
    },
    {
     "data": {
      "application/vnd.jupyter.widget-view+json": {
       "model_id": "8451b47df0214d88b31a9b0a88ea5189",
       "version_major": 2,
       "version_minor": 0
      },
      "text/plain": [
       "Batches:   0%|          | 0/1 [00:00<?, ?it/s]"
      ]
     },
     "metadata": {},
     "output_type": "display_data"
    },
    {
     "data": {
      "application/vnd.jupyter.widget-view+json": {
       "model_id": "a07a997e86f44316ab8c135eb9419cf4",
       "version_major": 2,
       "version_minor": 0
      },
      "text/plain": [
       "Batches:   0%|          | 0/1 [00:00<?, ?it/s]"
      ]
     },
     "metadata": {},
     "output_type": "display_data"
    },
    {
     "data": {
      "application/vnd.jupyter.widget-view+json": {
       "model_id": "9042093e6a6c44f692a634f70626411b",
       "version_major": 2,
       "version_minor": 0
      },
      "text/plain": [
       "Batches:   0%|          | 0/1 [00:00<?, ?it/s]"
      ]
     },
     "metadata": {},
     "output_type": "display_data"
    },
    {
     "data": {
      "application/vnd.jupyter.widget-view+json": {
       "model_id": "0e7601574dbe41ac800a4220fa13f852",
       "version_major": 2,
       "version_minor": 0
      },
      "text/plain": [
       "Batches:   0%|          | 0/1 [00:00<?, ?it/s]"
      ]
     },
     "metadata": {},
     "output_type": "display_data"
    },
    {
     "data": {
      "application/vnd.jupyter.widget-view+json": {
       "model_id": "faf9ca62dc5d43df92f898745a7de630",
       "version_major": 2,
       "version_minor": 0
      },
      "text/plain": [
       "Batches:   0%|          | 0/1 [00:00<?, ?it/s]"
      ]
     },
     "metadata": {},
     "output_type": "display_data"
    },
    {
     "data": {
      "application/vnd.jupyter.widget-view+json": {
       "model_id": "e6d27a381bf140dd9e84e0a3d75e2d59",
       "version_major": 2,
       "version_minor": 0
      },
      "text/plain": [
       "Batches:   0%|          | 0/1 [00:00<?, ?it/s]"
      ]
     },
     "metadata": {},
     "output_type": "display_data"
    },
    {
     "data": {
      "application/vnd.jupyter.widget-view+json": {
       "model_id": "3d8f031813244033b17f8e8712c6af38",
       "version_major": 2,
       "version_minor": 0
      },
      "text/plain": [
       "Batches:   0%|          | 0/1 [00:00<?, ?it/s]"
      ]
     },
     "metadata": {},
     "output_type": "display_data"
    },
    {
     "data": {
      "application/vnd.jupyter.widget-view+json": {
       "model_id": "774cfc931eda490daaae568672865578",
       "version_major": 2,
       "version_minor": 0
      },
      "text/plain": [
       "Batches:   0%|          | 0/1 [00:00<?, ?it/s]"
      ]
     },
     "metadata": {},
     "output_type": "display_data"
    },
    {
     "data": {
      "application/vnd.jupyter.widget-view+json": {
       "model_id": "5cd449f035424269801beac6ce7a0aa6",
       "version_major": 2,
       "version_minor": 0
      },
      "text/plain": [
       "Batches:   0%|          | 0/1 [00:00<?, ?it/s]"
      ]
     },
     "metadata": {},
     "output_type": "display_data"
    },
    {
     "data": {
      "application/vnd.jupyter.widget-view+json": {
       "model_id": "d3e4ca375cc04db49e358354199ff95a",
       "version_major": 2,
       "version_minor": 0
      },
      "text/plain": [
       "Batches:   0%|          | 0/1 [00:00<?, ?it/s]"
      ]
     },
     "metadata": {},
     "output_type": "display_data"
    },
    {
     "data": {
      "application/vnd.jupyter.widget-view+json": {
       "model_id": "77b46da919364e0e89aaf4e0251f5ff9",
       "version_major": 2,
       "version_minor": 0
      },
      "text/plain": [
       "Batches:   0%|          | 0/1 [00:00<?, ?it/s]"
      ]
     },
     "metadata": {},
     "output_type": "display_data"
    },
    {
     "data": {
      "application/vnd.jupyter.widget-view+json": {
       "model_id": "3945e4efbe1f4eac9410e705b8c6d67c",
       "version_major": 2,
       "version_minor": 0
      },
      "text/plain": [
       "Batches:   0%|          | 0/1 [00:00<?, ?it/s]"
      ]
     },
     "metadata": {},
     "output_type": "display_data"
    },
    {
     "data": {
      "application/vnd.jupyter.widget-view+json": {
       "model_id": "842a09d03a204e499a0419597d3d9a89",
       "version_major": 2,
       "version_minor": 0
      },
      "text/plain": [
       "Batches:   0%|          | 0/1 [00:00<?, ?it/s]"
      ]
     },
     "metadata": {},
     "output_type": "display_data"
    },
    {
     "data": {
      "application/vnd.jupyter.widget-view+json": {
       "model_id": "a38e29ef2c5942d49e766229ffd3a9d2",
       "version_major": 2,
       "version_minor": 0
      },
      "text/plain": [
       "Batches:   0%|          | 0/1 [00:00<?, ?it/s]"
      ]
     },
     "metadata": {},
     "output_type": "display_data"
    },
    {
     "data": {
      "application/vnd.jupyter.widget-view+json": {
       "model_id": "35dcd90ba91f438d84552b0d341e763c",
       "version_major": 2,
       "version_minor": 0
      },
      "text/plain": [
       "Batches:   0%|          | 0/1 [00:00<?, ?it/s]"
      ]
     },
     "metadata": {},
     "output_type": "display_data"
    },
    {
     "data": {
      "application/vnd.jupyter.widget-view+json": {
       "model_id": "f33c51928ffb482e83bb5f4b83dd71fa",
       "version_major": 2,
       "version_minor": 0
      },
      "text/plain": [
       "Batches:   0%|          | 0/1 [00:00<?, ?it/s]"
      ]
     },
     "metadata": {},
     "output_type": "display_data"
    },
    {
     "data": {
      "application/vnd.jupyter.widget-view+json": {
       "model_id": "e62de6f40e564a5ab77337e8b324cd92",
       "version_major": 2,
       "version_minor": 0
      },
      "text/plain": [
       "Batches:   0%|          | 0/1 [00:00<?, ?it/s]"
      ]
     },
     "metadata": {},
     "output_type": "display_data"
    },
    {
     "data": {
      "application/vnd.jupyter.widget-view+json": {
       "model_id": "45d5e38fd7b545268e5e2fb2e99ab59a",
       "version_major": 2,
       "version_minor": 0
      },
      "text/plain": [
       "Batches:   0%|          | 0/1 [00:00<?, ?it/s]"
      ]
     },
     "metadata": {},
     "output_type": "display_data"
    },
    {
     "data": {
      "application/vnd.jupyter.widget-view+json": {
       "model_id": "ad8fb0ff88884a0bb49c163c64b9a384",
       "version_major": 2,
       "version_minor": 0
      },
      "text/plain": [
       "Batches:   0%|          | 0/1 [00:00<?, ?it/s]"
      ]
     },
     "metadata": {},
     "output_type": "display_data"
    },
    {
     "data": {
      "application/vnd.jupyter.widget-view+json": {
       "model_id": "7f246bd19da44aa0a99877fb1e839678",
       "version_major": 2,
       "version_minor": 0
      },
      "text/plain": [
       "Batches:   0%|          | 0/1 [00:00<?, ?it/s]"
      ]
     },
     "metadata": {},
     "output_type": "display_data"
    },
    {
     "data": {
      "application/vnd.jupyter.widget-view+json": {
       "model_id": "f1171cb1c78043449bc2f7cc73ab85b4",
       "version_major": 2,
       "version_minor": 0
      },
      "text/plain": [
       "Batches:   0%|          | 0/1 [00:00<?, ?it/s]"
      ]
     },
     "metadata": {},
     "output_type": "display_data"
    },
    {
     "data": {
      "application/vnd.jupyter.widget-view+json": {
       "model_id": "6f8aebbe36bf4b53bbc5855220780854",
       "version_major": 2,
       "version_minor": 0
      },
      "text/plain": [
       "Batches:   0%|          | 0/1 [00:00<?, ?it/s]"
      ]
     },
     "metadata": {},
     "output_type": "display_data"
    },
    {
     "data": {
      "application/vnd.jupyter.widget-view+json": {
       "model_id": "6af4c51ca4644402b06d5627e8ae9a72",
       "version_major": 2,
       "version_minor": 0
      },
      "text/plain": [
       "Batches:   0%|          | 0/1 [00:00<?, ?it/s]"
      ]
     },
     "metadata": {},
     "output_type": "display_data"
    },
    {
     "data": {
      "application/vnd.jupyter.widget-view+json": {
       "model_id": "a91b5236c7384bd29db6bd0aae4af3c7",
       "version_major": 2,
       "version_minor": 0
      },
      "text/plain": [
       "Batches:   0%|          | 0/1 [00:00<?, ?it/s]"
      ]
     },
     "metadata": {},
     "output_type": "display_data"
    },
    {
     "data": {
      "application/vnd.jupyter.widget-view+json": {
       "model_id": "bc8f32ca10d44d43a205b35f5d87131d",
       "version_major": 2,
       "version_minor": 0
      },
      "text/plain": [
       "Batches:   0%|          | 0/1 [00:00<?, ?it/s]"
      ]
     },
     "metadata": {},
     "output_type": "display_data"
    },
    {
     "data": {
      "application/vnd.jupyter.widget-view+json": {
       "model_id": "6bcc7826d30b4a34b986c92a9f7646f9",
       "version_major": 2,
       "version_minor": 0
      },
      "text/plain": [
       "Batches:   0%|          | 0/1 [00:00<?, ?it/s]"
      ]
     },
     "metadata": {},
     "output_type": "display_data"
    },
    {
     "data": {
      "application/vnd.jupyter.widget-view+json": {
       "model_id": "73c6a57d7e824793bd94646ab8055560",
       "version_major": 2,
       "version_minor": 0
      },
      "text/plain": [
       "Batches:   0%|          | 0/1 [00:00<?, ?it/s]"
      ]
     },
     "metadata": {},
     "output_type": "display_data"
    },
    {
     "data": {
      "application/vnd.jupyter.widget-view+json": {
       "model_id": "f3ee8b166ffe4df58ea9481eecd7bcfc",
       "version_major": 2,
       "version_minor": 0
      },
      "text/plain": [
       "Batches:   0%|          | 0/1 [00:00<?, ?it/s]"
      ]
     },
     "metadata": {},
     "output_type": "display_data"
    },
    {
     "data": {
      "application/vnd.jupyter.widget-view+json": {
       "model_id": "d8d1a7a8278a4728b8d1a17bd6f7d416",
       "version_major": 2,
       "version_minor": 0
      },
      "text/plain": [
       "Batches:   0%|          | 0/1 [00:00<?, ?it/s]"
      ]
     },
     "metadata": {},
     "output_type": "display_data"
    },
    {
     "data": {
      "application/vnd.jupyter.widget-view+json": {
       "model_id": "a07cfbc9713e426e8b3522b6df71fdb5",
       "version_major": 2,
       "version_minor": 0
      },
      "text/plain": [
       "Batches:   0%|          | 0/1 [00:00<?, ?it/s]"
      ]
     },
     "metadata": {},
     "output_type": "display_data"
    },
    {
     "data": {
      "application/vnd.jupyter.widget-view+json": {
       "model_id": "9454bfce09084aaab295eb4038fdaa17",
       "version_major": 2,
       "version_minor": 0
      },
      "text/plain": [
       "Batches:   0%|          | 0/1 [00:00<?, ?it/s]"
      ]
     },
     "metadata": {},
     "output_type": "display_data"
    },
    {
     "data": {
      "application/vnd.jupyter.widget-view+json": {
       "model_id": "af8b8a033e3a41e298b33a5e5f0d2967",
       "version_major": 2,
       "version_minor": 0
      },
      "text/plain": [
       "Batches:   0%|          | 0/1 [00:00<?, ?it/s]"
      ]
     },
     "metadata": {},
     "output_type": "display_data"
    },
    {
     "data": {
      "application/vnd.jupyter.widget-view+json": {
       "model_id": "431b0e5885f84ee88323ed7343ea7e55",
       "version_major": 2,
       "version_minor": 0
      },
      "text/plain": [
       "Batches:   0%|          | 0/1 [00:00<?, ?it/s]"
      ]
     },
     "metadata": {},
     "output_type": "display_data"
    },
    {
     "data": {
      "application/vnd.jupyter.widget-view+json": {
       "model_id": "dd46e1818eff4389b187589bc43ee737",
       "version_major": 2,
       "version_minor": 0
      },
      "text/plain": [
       "Batches:   0%|          | 0/1 [00:00<?, ?it/s]"
      ]
     },
     "metadata": {},
     "output_type": "display_data"
    },
    {
     "data": {
      "application/vnd.jupyter.widget-view+json": {
       "model_id": "5a1ce750b3b74feba2974a82c88eb63b",
       "version_major": 2,
       "version_minor": 0
      },
      "text/plain": [
       "Batches:   0%|          | 0/1 [00:00<?, ?it/s]"
      ]
     },
     "metadata": {},
     "output_type": "display_data"
    },
    {
     "data": {
      "application/vnd.jupyter.widget-view+json": {
       "model_id": "80190710476545128fcc8a50c1b67aef",
       "version_major": 2,
       "version_minor": 0
      },
      "text/plain": [
       "Batches:   0%|          | 0/1 [00:00<?, ?it/s]"
      ]
     },
     "metadata": {},
     "output_type": "display_data"
    },
    {
     "data": {
      "application/vnd.jupyter.widget-view+json": {
       "model_id": "a009ab7ccac640d99dcfae94ae76a1e8",
       "version_major": 2,
       "version_minor": 0
      },
      "text/plain": [
       "Batches:   0%|          | 0/1 [00:00<?, ?it/s]"
      ]
     },
     "metadata": {},
     "output_type": "display_data"
    },
    {
     "data": {
      "application/vnd.jupyter.widget-view+json": {
       "model_id": "97e30246229f4ab684bdd29e9d2522f0",
       "version_major": 2,
       "version_minor": 0
      },
      "text/plain": [
       "Batches:   0%|          | 0/1 [00:00<?, ?it/s]"
      ]
     },
     "metadata": {},
     "output_type": "display_data"
    },
    {
     "data": {
      "application/vnd.jupyter.widget-view+json": {
       "model_id": "b66f0bc8fbd44bf6be53d92348e6d68b",
       "version_major": 2,
       "version_minor": 0
      },
      "text/plain": [
       "Batches:   0%|          | 0/1 [00:00<?, ?it/s]"
      ]
     },
     "metadata": {},
     "output_type": "display_data"
    },
    {
     "data": {
      "application/vnd.jupyter.widget-view+json": {
       "model_id": "e240389b2fc54d3285b8db7536144003",
       "version_major": 2,
       "version_minor": 0
      },
      "text/plain": [
       "Batches:   0%|          | 0/1 [00:00<?, ?it/s]"
      ]
     },
     "metadata": {},
     "output_type": "display_data"
    },
    {
     "data": {
      "application/vnd.jupyter.widget-view+json": {
       "model_id": "58c51bd0da624daeaed58a7fe1537f3a",
       "version_major": 2,
       "version_minor": 0
      },
      "text/plain": [
       "Batches:   0%|          | 0/1 [00:00<?, ?it/s]"
      ]
     },
     "metadata": {},
     "output_type": "display_data"
    },
    {
     "data": {
      "application/vnd.jupyter.widget-view+json": {
       "model_id": "07fffadc73ee4e2d91918026d1e735e7",
       "version_major": 2,
       "version_minor": 0
      },
      "text/plain": [
       "Batches:   0%|          | 0/1 [00:00<?, ?it/s]"
      ]
     },
     "metadata": {},
     "output_type": "display_data"
    },
    {
     "data": {
      "application/vnd.jupyter.widget-view+json": {
       "model_id": "fd98593638ec46e1bad850d03f320279",
       "version_major": 2,
       "version_minor": 0
      },
      "text/plain": [
       "Batches:   0%|          | 0/1 [00:00<?, ?it/s]"
      ]
     },
     "metadata": {},
     "output_type": "display_data"
    },
    {
     "data": {
      "application/vnd.jupyter.widget-view+json": {
       "model_id": "481c23226ecf41cd82af05749a8b18f8",
       "version_major": 2,
       "version_minor": 0
      },
      "text/plain": [
       "Batches:   0%|          | 0/1 [00:00<?, ?it/s]"
      ]
     },
     "metadata": {},
     "output_type": "display_data"
    },
    {
     "data": {
      "application/vnd.jupyter.widget-view+json": {
       "model_id": "a7147b1175a640a99284eeb6691e7487",
       "version_major": 2,
       "version_minor": 0
      },
      "text/plain": [
       "Batches:   0%|          | 0/1 [00:00<?, ?it/s]"
      ]
     },
     "metadata": {},
     "output_type": "display_data"
    },
    {
     "data": {
      "application/vnd.jupyter.widget-view+json": {
       "model_id": "3865ab9c87b64859b7a99f3d698fdd0c",
       "version_major": 2,
       "version_minor": 0
      },
      "text/plain": [
       "Batches:   0%|          | 0/1 [00:00<?, ?it/s]"
      ]
     },
     "metadata": {},
     "output_type": "display_data"
    },
    {
     "data": {
      "application/vnd.jupyter.widget-view+json": {
       "model_id": "6ca30a9df723448c92dc24a6fea21e51",
       "version_major": 2,
       "version_minor": 0
      },
      "text/plain": [
       "Batches:   0%|          | 0/1 [00:00<?, ?it/s]"
      ]
     },
     "metadata": {},
     "output_type": "display_data"
    },
    {
     "data": {
      "application/vnd.jupyter.widget-view+json": {
       "model_id": "15717a084f394aaca50bbde4823a7117",
       "version_major": 2,
       "version_minor": 0
      },
      "text/plain": [
       "Batches:   0%|          | 0/1 [00:00<?, ?it/s]"
      ]
     },
     "metadata": {},
     "output_type": "display_data"
    },
    {
     "data": {
      "application/vnd.jupyter.widget-view+json": {
       "model_id": "1af295e8990747b6a4a57256919ca169",
       "version_major": 2,
       "version_minor": 0
      },
      "text/plain": [
       "Batches:   0%|          | 0/1 [00:00<?, ?it/s]"
      ]
     },
     "metadata": {},
     "output_type": "display_data"
    },
    {
     "data": {
      "application/vnd.jupyter.widget-view+json": {
       "model_id": "66b071b0f160481985b9c9fb4eb86c1f",
       "version_major": 2,
       "version_minor": 0
      },
      "text/plain": [
       "Batches:   0%|          | 0/1 [00:00<?, ?it/s]"
      ]
     },
     "metadata": {},
     "output_type": "display_data"
    },
    {
     "data": {
      "application/vnd.jupyter.widget-view+json": {
       "model_id": "70145649143d423ebb52ff3d5dd5b4de",
       "version_major": 2,
       "version_minor": 0
      },
      "text/plain": [
       "Batches:   0%|          | 0/1 [00:00<?, ?it/s]"
      ]
     },
     "metadata": {},
     "output_type": "display_data"
    },
    {
     "data": {
      "application/vnd.jupyter.widget-view+json": {
       "model_id": "e6448d709fca4b099098fa5f5ec96792",
       "version_major": 2,
       "version_minor": 0
      },
      "text/plain": [
       "Batches:   0%|          | 0/1 [00:00<?, ?it/s]"
      ]
     },
     "metadata": {},
     "output_type": "display_data"
    },
    {
     "data": {
      "application/vnd.jupyter.widget-view+json": {
       "model_id": "5a8a17cbe96c4ceaa3f3bbc27e2a471b",
       "version_major": 2,
       "version_minor": 0
      },
      "text/plain": [
       "Batches:   0%|          | 0/1 [00:00<?, ?it/s]"
      ]
     },
     "metadata": {},
     "output_type": "display_data"
    },
    {
     "data": {
      "application/vnd.jupyter.widget-view+json": {
       "model_id": "5920a99d0ed1420e81825adb6c5d8b11",
       "version_major": 2,
       "version_minor": 0
      },
      "text/plain": [
       "Batches:   0%|          | 0/1 [00:00<?, ?it/s]"
      ]
     },
     "metadata": {},
     "output_type": "display_data"
    },
    {
     "data": {
      "application/vnd.jupyter.widget-view+json": {
       "model_id": "5b7915e1dc2a403da1609904e31cecd3",
       "version_major": 2,
       "version_minor": 0
      },
      "text/plain": [
       "Batches:   0%|          | 0/1 [00:00<?, ?it/s]"
      ]
     },
     "metadata": {},
     "output_type": "display_data"
    },
    {
     "data": {
      "application/vnd.jupyter.widget-view+json": {
       "model_id": "7f354c3bcf3b4c079de146df3c73358a",
       "version_major": 2,
       "version_minor": 0
      },
      "text/plain": [
       "Batches:   0%|          | 0/1 [00:00<?, ?it/s]"
      ]
     },
     "metadata": {},
     "output_type": "display_data"
    },
    {
     "data": {
      "application/vnd.jupyter.widget-view+json": {
       "model_id": "c3d245f2312b46a8a65e8b1687630be0",
       "version_major": 2,
       "version_minor": 0
      },
      "text/plain": [
       "Batches:   0%|          | 0/1 [00:00<?, ?it/s]"
      ]
     },
     "metadata": {},
     "output_type": "display_data"
    },
    {
     "data": {
      "application/vnd.jupyter.widget-view+json": {
       "model_id": "9a2c134ca9034ead9d863fcb384369c8",
       "version_major": 2,
       "version_minor": 0
      },
      "text/plain": [
       "Batches:   0%|          | 0/1 [00:00<?, ?it/s]"
      ]
     },
     "metadata": {},
     "output_type": "display_data"
    },
    {
     "data": {
      "application/vnd.jupyter.widget-view+json": {
       "model_id": "748cb3c4948646c1afbaf97ff05de333",
       "version_major": 2,
       "version_minor": 0
      },
      "text/plain": [
       "Batches:   0%|          | 0/1 [00:00<?, ?it/s]"
      ]
     },
     "metadata": {},
     "output_type": "display_data"
    },
    {
     "data": {
      "application/vnd.jupyter.widget-view+json": {
       "model_id": "9a1aa837fe7f4ce39a3dd4b8fa4f49c6",
       "version_major": 2,
       "version_minor": 0
      },
      "text/plain": [
       "Batches:   0%|          | 0/1 [00:00<?, ?it/s]"
      ]
     },
     "metadata": {},
     "output_type": "display_data"
    },
    {
     "data": {
      "application/vnd.jupyter.widget-view+json": {
       "model_id": "9f4afa72d5864a758e5aa38d4fc8f84a",
       "version_major": 2,
       "version_minor": 0
      },
      "text/plain": [
       "Batches:   0%|          | 0/1 [00:00<?, ?it/s]"
      ]
     },
     "metadata": {},
     "output_type": "display_data"
    },
    {
     "data": {
      "application/vnd.jupyter.widget-view+json": {
       "model_id": "27f017243e334cba85e2cc701eb8b2e3",
       "version_major": 2,
       "version_minor": 0
      },
      "text/plain": [
       "Batches:   0%|          | 0/1 [00:00<?, ?it/s]"
      ]
     },
     "metadata": {},
     "output_type": "display_data"
    },
    {
     "data": {
      "application/vnd.jupyter.widget-view+json": {
       "model_id": "79820350369d4668a8a3fb9597812f31",
       "version_major": 2,
       "version_minor": 0
      },
      "text/plain": [
       "Batches:   0%|          | 0/1 [00:00<?, ?it/s]"
      ]
     },
     "metadata": {},
     "output_type": "display_data"
    },
    {
     "data": {
      "application/vnd.jupyter.widget-view+json": {
       "model_id": "6e88da63f8f9422bbb4c247d4c466a5d",
       "version_major": 2,
       "version_minor": 0
      },
      "text/plain": [
       "Batches:   0%|          | 0/1 [00:00<?, ?it/s]"
      ]
     },
     "metadata": {},
     "output_type": "display_data"
    },
    {
     "data": {
      "application/vnd.jupyter.widget-view+json": {
       "model_id": "c18864072f2c4fdfa974032b9ad241d7",
       "version_major": 2,
       "version_minor": 0
      },
      "text/plain": [
       "Batches:   0%|          | 0/1 [00:00<?, ?it/s]"
      ]
     },
     "metadata": {},
     "output_type": "display_data"
    },
    {
     "data": {
      "application/vnd.jupyter.widget-view+json": {
       "model_id": "3251a7b60cb0484c9a1c22cf0d204223",
       "version_major": 2,
       "version_minor": 0
      },
      "text/plain": [
       "Batches:   0%|          | 0/1 [00:00<?, ?it/s]"
      ]
     },
     "metadata": {},
     "output_type": "display_data"
    },
    {
     "data": {
      "application/vnd.jupyter.widget-view+json": {
       "model_id": "6be00b541eb74512b633b8993713378d",
       "version_major": 2,
       "version_minor": 0
      },
      "text/plain": [
       "config.json:   0%|          | 0.00/557 [00:00<?, ?B/s]"
      ]
     },
     "metadata": {},
     "output_type": "display_data"
    },
    {
     "data": {
      "application/vnd.jupyter.widget-view+json": {
       "model_id": "110cf69298174e1a8a03d720403888fe",
       "version_major": 2,
       "version_minor": 0
      },
      "text/plain": [
       "pytorch_model.bin:   0%|          | 0.00/543M [00:00<?, ?B/s]"
      ]
     },
     "metadata": {},
     "output_type": "display_data"
    },
    {
     "data": {
      "application/vnd.jupyter.widget-view+json": {
       "model_id": "29e442b5d8d945a1a4bb4601b4314e65",
       "version_major": 2,
       "version_minor": 0
      },
      "text/plain": [
       "model.safetensors:   0%|          | 0.00/543M [00:00<?, ?B/s]"
      ]
     },
     "metadata": {},
     "output_type": "display_data"
    },
    {
     "data": {
      "application/vnd.jupyter.widget-view+json": {
       "model_id": "582d0f291fa54f59b3435b544efdef84",
       "version_major": 2,
       "version_minor": 0
      },
      "text/plain": [
       "vocab.txt:   0%|          | 0.00/895k [00:00<?, ?B/s]"
      ]
     },
     "metadata": {},
     "output_type": "display_data"
    },
    {
     "data": {
      "application/vnd.jupyter.widget-view+json": {
       "model_id": "7f4f4e944313477e8de15ea937f30e28",
       "version_major": 2,
       "version_minor": 0
      },
      "text/plain": [
       "bpe.codes:   0%|          | 0.00/1.14M [00:00<?, ?B/s]"
      ]
     },
     "metadata": {},
     "output_type": "display_data"
    },
    {
     "data": {
      "application/vnd.jupyter.widget-view+json": {
       "model_id": "bad5d21ce340401a8bb3e5ee5a3bad6e",
       "version_major": 2,
       "version_minor": 0
      },
      "text/plain": [
       "tokenizer.json:   0%|          | 0.00/3.13M [00:00<?, ?B/s]"
      ]
     },
     "metadata": {},
     "output_type": "display_data"
    }
   ],
   "source": [
    "# Data transforms with augmentation\n",
    "transform = transforms.Compose([\n",
    "    transforms.Resize((224, 224)),\n",
    "    transforms.RandomHorizontalFlip(p=0.5),\n",
    "    transforms.RandomRotation(10),\n",
    "    transforms.ColorJitter(brightness=0.2, contrast=0.2, saturation=0.2),\n",
    "    transforms.ToTensor(),\n",
    "    transforms.Normalize(mean=[0.485, 0.456, 0.406], std=[0.229, 0.224, 0.225])\n",
    "])\n",
    "\n",
    "# Load test dataset\n",
    "test_dataset = ImageCaptionDataset('/kaggle/input/capydata-ic/data/test/images', \n",
    "                                   '/kaggle/input/capydata-ic/data/test/captions.txt', \n",
    "                                   vocab, transform)\n",
    "test_loader = DataLoader(test_dataset, batch_size=1, shuffle=False, collate_fn=collate_fn)\n",
    "\n",
    "# Model setup\n",
    "device = torch.device('cuda' if torch.cuda.is_available() else 'cpu')\n",
    "model = ImageCaptionModel(encoded_size=256, embed_size=256, hidden_size=512, vocab_size=len(vocab)).to(device)\n",
    "\n",
    "# Load trained model\n",
    "model.load_state_dict(torch.load('/kaggle/input/base-resnet50-lstm/pytorch/default/1/best_base_resnet50_lstm.pth', weights_only=True, map_location=device))\n",
    "model.eval()\n",
    "\n",
    "# Initialize PhoBERT for BERTScore\n",
    "phobert = AutoModel.from_pretrained(\"vinai/phobert-base\")\n",
    "tokenizer = AutoTokenizer.from_pretrained(\"vinai/phobert-base\")\n",
    "\n",
    "# Register PhoBERT model with bert_score\n",
    "from bert_score.utils import model2layers\n",
    "if \"vinai/phobert-base\" not in model2layers:\n",
    "    model2layers[\"vinai/phobert-base\"] = 12  # PhoBERT-base has 12 layers\n",
    "\n",
    "# Initialize ROUGE scorer\n",
    "from rouge_score import rouge_scorer\n",
    "scorer = rouge_scorer.RougeScorer(['rougeL'], use_stemmer=False)\n",
    "\n",
    "# Evaluation function\n",
    "def evaluate_model(model, test_loader, vocab, idx_to_word):\n",
    "    bleu4_scores = []\n",
    "    rouge_l_scores = []\n",
    "    bert_p_scores = []\n",
    "    bert_r_scores = []\n",
    "    bert_f1_scores = []\n",
    "\n",
    "    smoothing = SmoothingFunction().method1  # For BLEU smoothing\n",
    "\n",
    "    for images, _, img_names, raw_tokens in tqdm(test_loader, desc=\"Evaluating\"):\n",
    "        image = images[0].to(device)\n",
    "        ground_truth = [' '.join(tokens) for tokens in raw_tokens]  # List of reference captions\n",
    "\n",
    "        # Generate captions (take the top-1 caption from beam search)\n",
    "        generated_captions = model.generate_caption(image, vocab, idx_to_word, max_length=20, beam_width=5)\n",
    "        generated_caption = generated_captions[0]  # Use the highest-scoring caption\n",
    "\n",
    "        # BLEU-4\n",
    "        reference_tokens = [tokens for tokens in raw_tokens]\n",
    "        generated_tokens = generated_caption.split()\n",
    "        bleu4 = sentence_bleu(reference_tokens, generated_tokens, weights=(0.25, 0.25, 0.25, 0.25), smoothing_function=smoothing)\n",
    "        bleu4_scores.append(bleu4)\n",
    "\n",
    "        # ROUGE-L\n",
    "        rouge_scores = scorer.score(ground_truth[0], generated_caption)\n",
    "        rouge_l_scores.append(rouge_scores['rougeL'].fmeasure)\n",
    "\n",
    "        # BERTScore with PhoBERT\n",
    "        P, R, F1 = bert_score(\n",
    "            [generated_caption],\n",
    "            ground_truth,\n",
    "            model_type=\"vinai/phobert-base\",\n",
    "            lang=\"vi\",\n",
    "            device=device,\n",
    "            use_fast_tokenizer=True\n",
    "        )\n",
    "        bert_p_scores.append(P.item())\n",
    "        bert_r_scores.append(R.item())\n",
    "        bert_f1_scores.append(F1.item())\n",
    "\n",
    "    # Compute average scores\n",
    "    avg_bleu4 = np.mean(bleu4_scores)\n",
    "    avg_rouge_l = np.mean(rouge_l_scores)\n",
    "    avg_bert_p = np.mean(bert_p_scores)\n",
    "    avg_bert_r = np.mean(bert_r_scores)\n",
    "    avg_bert_f1 = np.mean(bert_f1_scores)\n",
    "\n",
    "    print(f\"\\nEvaluation Results:\")\n",
    "    print(f\"Average BLEU-4: {avg_bleu4:.4f}\")\n",
    "    print(f\"Average ROUGE-L: {avg_rouge_l:.4f}\")\n",
    "    print(f\"Average BERTScore Precision: {avg_bert_p:.4f}\")\n",
    "    print(f\"Average BERTScore Recall: {avg_bert_r:.4f}\")\n",
    "    print(f\"Average BERTScore F1: {avg_bert_f1:.4f}\")\n",
    "\n",
    "    return {\n",
    "        \"BLEU-4\": avg_bleu4,\n",
    "        \"ROUGE-L\": avg_rouge_l,\n",
    "        \"BERTScore_P\": avg_bert_p,\n",
    "        \"BERTScore_R\": avg_bert_r,\n",
    "        \"BERTScore_F1\": avg_bert_f1\n",
    "    }"
   ]
  },
  {
   "cell_type": "code",
   "execution_count": 10,
   "metadata": {
    "execution": {
     "iopub.execute_input": "2025-04-29T13:57:11.414707Z",
     "iopub.status.busy": "2025-04-29T13:57:11.414414Z",
     "iopub.status.idle": "2025-04-29T14:32:45.381204Z",
     "shell.execute_reply": "2025-04-29T14:32:45.379928Z",
     "shell.execute_reply.started": "2025-04-29T13:57:11.414686Z"
    },
    "trusted": true
   },
   "outputs": [
    {
     "name": "stdout",
     "output_type": "stream",
     "text": [
      "Evaluating on device: cpu\n"
     ]
    },
    {
     "name": "stderr",
     "output_type": "stream",
     "text": [
      "\n",
      "Evaluating:   0%|          | 0/1395 [00:00<?, ?it/s]\u001b[A\n",
      "Evaluating:   0%|          | 1/1395 [00:02<53:22,  2.30s/it]\u001b[A\n",
      "Evaluating:   0%|          | 2/1395 [00:04<45:17,  1.95s/it]\u001b[A\n",
      "Evaluating:   0%|          | 3/1395 [00:05<39:33,  1.71s/it]\u001b[A\n",
      "Evaluating:   0%|          | 4/1395 [00:07<40:15,  1.74s/it]\u001b[A\n",
      "Evaluating:   0%|          | 5/1395 [00:08<38:17,  1.65s/it]\u001b[A\n",
      "Evaluating:   0%|          | 6/1395 [00:10<37:52,  1.64s/it]\u001b[A\n",
      "Evaluating:   1%|          | 7/1395 [00:12<38:36,  1.67s/it]\u001b[A\n",
      "Evaluating:   1%|          | 8/1395 [00:13<37:37,  1.63s/it]\u001b[A\n",
      "Evaluating:   1%|          | 9/1395 [00:15<36:58,  1.60s/it]\u001b[A\n",
      "Evaluating:   1%|          | 10/1395 [00:16<36:51,  1.60s/it]\u001b[A\n",
      "Evaluating:   1%|          | 11/1395 [00:18<36:20,  1.58s/it]\u001b[A\n",
      "Evaluating:   1%|          | 12/1395 [00:19<35:49,  1.55s/it]\u001b[A\n",
      "Evaluating:   1%|          | 13/1395 [00:21<35:15,  1.53s/it]\u001b[A\n",
      "Evaluating:   1%|          | 14/1395 [00:22<35:45,  1.55s/it]\u001b[A\n",
      "Evaluating:   1%|          | 15/1395 [00:24<36:51,  1.60s/it]\u001b[A\n",
      "Evaluating:   1%|          | 16/1395 [00:26<36:06,  1.57s/it]\u001b[A\n",
      "Evaluating:   1%|          | 17/1395 [00:27<35:50,  1.56s/it]\u001b[A\n",
      "Evaluating:   1%|▏         | 18/1395 [00:29<35:42,  1.56s/it]\u001b[A\n",
      "Evaluating:   1%|▏         | 19/1395 [00:30<34:56,  1.52s/it]\u001b[A\n",
      "Evaluating:   1%|▏         | 20/1395 [00:32<34:18,  1.50s/it]\u001b[A\n",
      "Evaluating:   2%|▏         | 21/1395 [00:33<34:47,  1.52s/it]\u001b[A\n",
      "Evaluating:   2%|▏         | 22/1395 [00:35<34:37,  1.51s/it]\u001b[A\n",
      "Evaluating:   2%|▏         | 23/1395 [00:36<34:19,  1.50s/it]\u001b[A\n",
      "Evaluating:   2%|▏         | 24/1395 [00:38<34:03,  1.49s/it]\u001b[A\n",
      "Evaluating:   2%|▏         | 25/1395 [00:39<35:00,  1.53s/it]\u001b[A\n",
      "Evaluating:   2%|▏         | 26/1395 [00:41<34:49,  1.53s/it]\u001b[A\n",
      "Evaluating:   2%|▏         | 27/1395 [00:42<34:21,  1.51s/it]\u001b[A\n",
      "Evaluating:   2%|▏         | 28/1395 [00:44<34:24,  1.51s/it]\u001b[A\n",
      "Evaluating:   2%|▏         | 29/1395 [00:45<34:55,  1.53s/it]\u001b[A\n",
      "Evaluating:   2%|▏         | 30/1395 [00:47<34:20,  1.51s/it]\u001b[A\n",
      "Evaluating:   2%|▏         | 31/1395 [00:49<36:32,  1.61s/it]\u001b[A\n",
      "Evaluating:   2%|▏         | 32/1395 [00:50<35:36,  1.57s/it]\u001b[A\n",
      "Evaluating:   2%|▏         | 33/1395 [00:51<34:47,  1.53s/it]\u001b[A\n",
      "Evaluating:   2%|▏         | 34/1395 [00:53<34:51,  1.54s/it]\u001b[A\n",
      "Evaluating:   3%|▎         | 35/1395 [00:55<35:29,  1.57s/it]\u001b[A\n",
      "Evaluating:   3%|▎         | 36/1395 [00:56<34:17,  1.51s/it]\u001b[A\n",
      "Evaluating:   3%|▎         | 37/1395 [00:57<32:43,  1.45s/it]\u001b[A\n",
      "Evaluating:   3%|▎         | 38/1395 [00:59<31:56,  1.41s/it]\u001b[A\n",
      "Evaluating:   3%|▎         | 39/1395 [01:00<31:05,  1.38s/it]\u001b[A\n",
      "Evaluating:   3%|▎         | 40/1395 [01:01<30:53,  1.37s/it]\u001b[A\n",
      "Evaluating:   3%|▎         | 41/1395 [01:03<30:25,  1.35s/it]\u001b[A\n",
      "Evaluating:   3%|▎         | 42/1395 [01:04<30:13,  1.34s/it]\u001b[A\n",
      "Evaluating:   3%|▎         | 43/1395 [01:05<29:55,  1.33s/it]\u001b[A\n",
      "Evaluating:   3%|▎         | 44/1395 [01:07<29:44,  1.32s/it]\u001b[A\n",
      "Evaluating:   3%|▎         | 45/1395 [01:08<29:29,  1.31s/it]\u001b[A\n",
      "Evaluating:   3%|▎         | 46/1395 [01:09<29:31,  1.31s/it]\u001b[A\n",
      "Evaluating:   3%|▎         | 47/1395 [01:10<29:23,  1.31s/it]\u001b[A\n",
      "Evaluating:   3%|▎         | 48/1395 [01:12<29:10,  1.30s/it]\u001b[A\n",
      "Evaluating:   4%|▎         | 49/1395 [01:13<29:01,  1.29s/it]\u001b[A\n",
      "Evaluating:   4%|▎         | 50/1395 [01:14<29:01,  1.29s/it]\u001b[A\n",
      "Evaluating:   4%|▎         | 51/1395 [01:16<29:07,  1.30s/it]\u001b[A\n",
      "Evaluating:   4%|▎         | 52/1395 [01:17<29:01,  1.30s/it]\u001b[A\n",
      "Evaluating:   4%|▍         | 53/1395 [01:18<28:48,  1.29s/it]\u001b[A\n",
      "Evaluating:   4%|▍         | 54/1395 [01:19<28:42,  1.28s/it]\u001b[A\n",
      "Evaluating:   4%|▍         | 55/1395 [01:21<28:34,  1.28s/it]\u001b[A\n",
      "Evaluating:   4%|▍         | 56/1395 [01:22<29:03,  1.30s/it]\u001b[A\n",
      "Evaluating:   4%|▍         | 57/1395 [01:23<29:37,  1.33s/it]\u001b[A\n",
      "Evaluating:   4%|▍         | 58/1395 [01:25<29:45,  1.34s/it]\u001b[A\n",
      "Evaluating:   4%|▍         | 59/1395 [01:26<30:24,  1.37s/it]\u001b[A\n",
      "Evaluating:   4%|▍         | 60/1395 [01:28<30:55,  1.39s/it]\u001b[A\n",
      "Evaluating:   4%|▍         | 61/1395 [01:29<31:42,  1.43s/it]\u001b[A\n",
      "Evaluating:   4%|▍         | 62/1395 [01:31<31:09,  1.40s/it]\u001b[A\n",
      "Evaluating:   5%|▍         | 63/1395 [01:33<35:15,  1.59s/it]\u001b[A\n",
      "Evaluating:   5%|▍         | 64/1395 [01:34<33:58,  1.53s/it]\u001b[A\n",
      "Evaluating:   5%|▍         | 65/1395 [01:35<33:07,  1.49s/it]\u001b[A\n",
      "Evaluating:   5%|▍         | 66/1395 [01:37<32:07,  1.45s/it]\u001b[A\n",
      "Evaluating:   5%|▍         | 67/1395 [01:38<31:04,  1.40s/it]\u001b[A\n",
      "Evaluating:   5%|▍         | 68/1395 [01:39<30:38,  1.39s/it]\u001b[A\n",
      "Evaluating:   5%|▍         | 69/1395 [01:41<30:16,  1.37s/it]\u001b[A\n",
      "Evaluating:   5%|▌         | 70/1395 [01:42<29:38,  1.34s/it]\u001b[A\n",
      "Evaluating:   5%|▌         | 71/1395 [01:43<29:37,  1.34s/it]\u001b[A\n",
      "Evaluating:   5%|▌         | 72/1395 [01:45<29:08,  1.32s/it]\u001b[A\n",
      "Evaluating:   5%|▌         | 73/1395 [01:46<28:45,  1.31s/it]\u001b[A\n",
      "Evaluating:   5%|▌         | 74/1395 [01:47<28:37,  1.30s/it]\u001b[A\n",
      "Evaluating:   5%|▌         | 75/1395 [01:48<28:23,  1.29s/it]\u001b[A\n",
      "Evaluating:   5%|▌         | 76/1395 [01:50<28:17,  1.29s/it]\u001b[A\n",
      "Evaluating:   6%|▌         | 77/1395 [01:51<28:29,  1.30s/it]\u001b[A\n",
      "Evaluating:   6%|▌         | 78/1395 [01:52<28:14,  1.29s/it]\u001b[A\n",
      "Evaluating:   6%|▌         | 79/1395 [01:54<28:05,  1.28s/it]\u001b[A\n",
      "Evaluating:   6%|▌         | 80/1395 [01:55<28:10,  1.29s/it]\u001b[A\n",
      "Evaluating:   6%|▌         | 81/1395 [01:56<28:13,  1.29s/it]\u001b[A\n",
      "Evaluating:   6%|▌         | 82/1395 [01:57<28:35,  1.31s/it]\u001b[A\n",
      "Evaluating:   6%|▌         | 83/1395 [01:59<29:11,  1.33s/it]\u001b[A\n",
      "Evaluating:   6%|▌         | 84/1395 [02:00<28:40,  1.31s/it]\u001b[A\n",
      "Evaluating:   6%|▌         | 85/1395 [02:01<28:17,  1.30s/it]\u001b[A\n",
      "Evaluating:   6%|▌         | 86/1395 [02:03<28:31,  1.31s/it]\u001b[A\n",
      "Evaluating:   6%|▌         | 87/1395 [02:04<28:32,  1.31s/it]\u001b[A\n",
      "Evaluating:   6%|▋         | 88/1395 [02:05<28:41,  1.32s/it]\u001b[A\n",
      "Evaluating:   6%|▋         | 89/1395 [02:07<28:19,  1.30s/it]\u001b[A\n",
      "Evaluating:   6%|▋         | 90/1395 [02:08<28:05,  1.29s/it]\u001b[A\n",
      "Evaluating:   7%|▋         | 91/1395 [02:09<28:07,  1.29s/it]\u001b[A\n",
      "Evaluating:   7%|▋         | 92/1395 [02:10<28:12,  1.30s/it]\u001b[A\n",
      "Evaluating:   7%|▋         | 93/1395 [02:12<27:55,  1.29s/it]\u001b[A\n",
      "Evaluating:   7%|▋         | 94/1395 [02:13<28:06,  1.30s/it]\u001b[A\n",
      "Evaluating:   7%|▋         | 95/1395 [02:14<28:23,  1.31s/it]\u001b[A\n",
      "Evaluating:   7%|▋         | 96/1395 [02:16<28:18,  1.31s/it]\u001b[A\n",
      "Evaluating:   7%|▋         | 97/1395 [02:17<28:30,  1.32s/it]\u001b[A\n",
      "Evaluating:   7%|▋         | 98/1395 [02:18<28:39,  1.33s/it]\u001b[A\n",
      "Evaluating:   7%|▋         | 99/1395 [02:20<28:22,  1.31s/it]\u001b[A\n",
      "Evaluating:   7%|▋         | 100/1395 [02:21<28:20,  1.31s/it]\u001b[A\n",
      "Evaluating:   7%|▋         | 101/1395 [02:22<28:19,  1.31s/it]\u001b[A\n",
      "Evaluating:   7%|▋         | 102/1395 [02:24<28:19,  1.31s/it]\u001b[A\n",
      "Evaluating:   7%|▋         | 103/1395 [02:25<28:16,  1.31s/it]\u001b[A\n",
      "Evaluating:   7%|▋         | 104/1395 [02:26<28:28,  1.32s/it]\u001b[A\n",
      "Evaluating:   8%|▊         | 105/1395 [02:28<28:15,  1.31s/it]\u001b[A\n",
      "Evaluating:   8%|▊         | 106/1395 [02:29<28:44,  1.34s/it]\u001b[A\n",
      "Evaluating:   8%|▊         | 107/1395 [02:30<29:42,  1.38s/it]\u001b[A\n",
      "Evaluating:   8%|▊         | 108/1395 [02:32<29:29,  1.37s/it]\u001b[A\n",
      "Evaluating:   8%|▊         | 109/1395 [02:33<29:35,  1.38s/it]\u001b[A\n",
      "Evaluating:   8%|▊         | 110/1395 [02:35<29:17,  1.37s/it]\u001b[A\n",
      "Evaluating:   8%|▊         | 111/1395 [02:36<29:07,  1.36s/it]\u001b[A\n",
      "Evaluating:   8%|▊         | 112/1395 [02:37<28:32,  1.33s/it]\u001b[A\n",
      "Evaluating:   8%|▊         | 113/1395 [02:38<28:17,  1.32s/it]\u001b[A\n",
      "Evaluating:   8%|▊         | 114/1395 [02:40<27:55,  1.31s/it]\u001b[A\n",
      "Evaluating:   8%|▊         | 115/1395 [02:41<27:56,  1.31s/it]\u001b[A\n",
      "Evaluating:   8%|▊         | 116/1395 [02:43<28:52,  1.35s/it]\u001b[A\n",
      "Evaluating:   8%|▊         | 117/1395 [02:44<29:28,  1.38s/it]\u001b[A\n",
      "Evaluating:   8%|▊         | 118/1395 [02:45<29:58,  1.41s/it]\u001b[A\n",
      "Evaluating:   9%|▊         | 119/1395 [02:47<30:45,  1.45s/it]\u001b[A\n",
      "Evaluating:   9%|▊         | 120/1395 [02:48<30:43,  1.45s/it]\u001b[A\n",
      "Evaluating:   9%|▊         | 121/1395 [02:50<29:53,  1.41s/it]\u001b[A\n",
      "Evaluating:   9%|▊         | 122/1395 [02:51<29:37,  1.40s/it]\u001b[A\n",
      "Evaluating:   9%|▉         | 123/1395 [02:52<29:12,  1.38s/it]\u001b[A\n",
      "Evaluating:   9%|▉         | 124/1395 [02:54<29:12,  1.38s/it]\u001b[A\n",
      "Evaluating:   9%|▉         | 125/1395 [02:55<29:01,  1.37s/it]\u001b[A\n",
      "Evaluating:   9%|▉         | 126/1395 [02:57<28:55,  1.37s/it]\u001b[A\n",
      "Evaluating:   9%|▉         | 127/1395 [02:58<28:38,  1.36s/it]\u001b[A\n",
      "Evaluating:   9%|▉         | 128/1395 [02:59<28:22,  1.34s/it]\u001b[A\n",
      "Evaluating:   9%|▉         | 129/1395 [03:00<28:02,  1.33s/it]\u001b[A\n",
      "Evaluating:   9%|▉         | 130/1395 [03:02<28:10,  1.34s/it]\u001b[A\n",
      "Evaluating:   9%|▉         | 131/1395 [03:05<39:48,  1.89s/it]\u001b[A\n",
      "Evaluating:   9%|▉         | 132/1395 [03:09<53:05,  2.52s/it]\u001b[A\n",
      "Evaluating:  10%|▉         | 133/1395 [03:12<55:23,  2.63s/it]\u001b[A\n",
      "Evaluating:  10%|▉         | 134/1395 [03:15<57:45,  2.75s/it]\u001b[A\n",
      "Evaluating:  10%|▉         | 135/1395 [03:18<1:02:47,  2.99s/it]\u001b[A\n",
      "Evaluating:  10%|▉         | 136/1395 [03:20<55:49,  2.66s/it]  \u001b[A\n",
      "Evaluating:  10%|▉         | 137/1395 [03:22<49:19,  2.35s/it]\u001b[A\n",
      "Evaluating:  10%|▉         | 138/1395 [03:24<44:26,  2.12s/it]\u001b[A\n",
      "Evaluating:  10%|▉         | 139/1395 [03:25<41:13,  1.97s/it]\u001b[A\n",
      "Evaluating:  10%|█         | 140/1395 [03:27<39:08,  1.87s/it]\u001b[A\n",
      "Evaluating:  10%|█         | 141/1395 [03:28<37:37,  1.80s/it]\u001b[A\n",
      "Evaluating:  10%|█         | 142/1395 [03:30<36:04,  1.73s/it]\u001b[A\n",
      "Evaluating:  10%|█         | 143/1395 [03:32<36:06,  1.73s/it]\u001b[A\n",
      "Evaluating:  10%|█         | 144/1395 [03:33<35:29,  1.70s/it]\u001b[A\n",
      "Evaluating:  10%|█         | 145/1395 [03:35<34:45,  1.67s/it]\u001b[A\n",
      "Evaluating:  10%|█         | 146/1395 [03:37<37:40,  1.81s/it]\u001b[A\n",
      "Evaluating:  11%|█         | 147/1395 [03:39<37:27,  1.80s/it]\u001b[A\n",
      "Evaluating:  11%|█         | 148/1395 [03:41<37:18,  1.80s/it]\u001b[A\n",
      "Evaluating:  11%|█         | 149/1395 [03:43<37:37,  1.81s/it]\u001b[A\n",
      "Evaluating:  11%|█         | 150/1395 [03:44<36:53,  1.78s/it]\u001b[A\n",
      "Evaluating:  11%|█         | 151/1395 [03:46<35:34,  1.72s/it]\u001b[A\n",
      "Evaluating:  11%|█         | 152/1395 [03:47<34:18,  1.66s/it]\u001b[A\n",
      "Evaluating:  11%|█         | 153/1395 [03:49<33:28,  1.62s/it]\u001b[A\n",
      "Evaluating:  11%|█         | 154/1395 [03:50<32:36,  1.58s/it]\u001b[A\n",
      "Evaluating:  11%|█         | 155/1395 [03:52<31:37,  1.53s/it]\u001b[A\n",
      "Evaluating:  11%|█         | 156/1395 [03:53<31:54,  1.55s/it]\u001b[A\n",
      "Evaluating:  11%|█▏        | 157/1395 [03:55<32:12,  1.56s/it]\u001b[A\n",
      "Evaluating:  11%|█▏        | 158/1395 [03:56<31:56,  1.55s/it]\u001b[A\n",
      "Evaluating:  11%|█▏        | 159/1395 [03:58<31:54,  1.55s/it]\u001b[A\n",
      "Evaluating:  11%|█▏        | 160/1395 [03:59<31:29,  1.53s/it]\u001b[A\n",
      "Evaluating:  12%|█▏        | 161/1395 [04:01<32:32,  1.58s/it]\u001b[A\n",
      "Evaluating:  12%|█▏        | 162/1395 [04:03<31:59,  1.56s/it]\u001b[A\n",
      "Evaluating:  12%|█▏        | 163/1395 [04:04<32:05,  1.56s/it]\u001b[A\n",
      "Evaluating:  12%|█▏        | 164/1395 [04:06<31:15,  1.52s/it]\u001b[A\n",
      "Evaluating:  12%|█▏        | 165/1395 [04:07<30:45,  1.50s/it]\u001b[A\n",
      "Evaluating:  12%|█▏        | 166/1395 [04:08<29:39,  1.45s/it]\u001b[A\n",
      "Evaluating:  12%|█▏        | 167/1395 [04:10<29:00,  1.42s/it]\u001b[A\n",
      "Evaluating:  12%|█▏        | 168/1395 [04:11<28:32,  1.40s/it]\u001b[A\n",
      "Evaluating:  12%|█▏        | 169/1395 [04:12<28:05,  1.37s/it]\u001b[A\n",
      "Evaluating:  12%|█▏        | 170/1395 [04:14<27:56,  1.37s/it]\u001b[A\n",
      "Evaluating:  12%|█▏        | 172/1395 [04:17<27:47,  1.36s/it]\u001b[A\n",
      "Evaluating:  12%|█▏        | 173/1395 [04:18<27:31,  1.35s/it]\u001b[A\n",
      "Evaluating:  12%|█▏        | 174/1395 [04:19<27:20,  1.34s/it]\u001b[A\n",
      "Evaluating:  13%|█▎        | 175/1395 [04:20<26:58,  1.33s/it]\u001b[A\n",
      "Evaluating:  13%|█▎        | 176/1395 [04:22<26:50,  1.32s/it]\u001b[A\n",
      "Evaluating:  13%|█▎        | 177/1395 [04:23<27:27,  1.35s/it]\u001b[A\n",
      "Evaluating:  13%|█▎        | 178/1395 [04:25<27:44,  1.37s/it]\u001b[A\n",
      "Evaluating:  13%|█▎        | 179/1395 [04:26<27:21,  1.35s/it]\u001b[A\n",
      "Evaluating:  13%|█▎        | 180/1395 [04:27<27:09,  1.34s/it]\u001b[A\n",
      "Evaluating:  13%|█▎        | 181/1395 [04:29<27:25,  1.36s/it]\u001b[A\n",
      "Evaluating:  13%|█▎        | 182/1395 [04:30<27:22,  1.35s/it]\u001b[A\n",
      "Evaluating:  13%|█▎        | 183/1395 [04:31<27:16,  1.35s/it]\u001b[A\n",
      "Evaluating:  13%|█▎        | 184/1395 [04:33<27:06,  1.34s/it]\u001b[A\n",
      "Evaluating:  13%|█▎        | 185/1395 [04:34<27:10,  1.35s/it]\u001b[A\n",
      "Evaluating:  13%|█▎        | 186/1395 [04:35<27:24,  1.36s/it]\u001b[A\n",
      "Evaluating:  13%|█▎        | 187/1395 [04:37<27:27,  1.36s/it]\u001b[A\n",
      "Evaluating:  13%|█▎        | 188/1395 [04:38<27:56,  1.39s/it]\u001b[A\n",
      "Evaluating:  14%|█▎        | 189/1395 [04:40<27:25,  1.36s/it]\u001b[A\n",
      "Evaluating:  14%|█▎        | 190/1395 [04:41<27:15,  1.36s/it]\u001b[A\n",
      "Evaluating:  14%|█▎        | 191/1395 [04:42<28:16,  1.41s/it]\u001b[A\n",
      "Evaluating:  14%|█▍        | 192/1395 [04:44<27:57,  1.39s/it]\u001b[A\n",
      "Evaluating:  14%|█▍        | 193/1395 [04:45<27:22,  1.37s/it]\u001b[A\n",
      "Evaluating:  14%|█▍        | 194/1395 [04:46<27:24,  1.37s/it]\u001b[A\n",
      "Evaluating:  14%|█▍        | 195/1395 [04:48<27:08,  1.36s/it]\u001b[A\n",
      "Evaluating:  14%|█▍        | 196/1395 [04:49<27:10,  1.36s/it]\u001b[A\n",
      "Evaluating:  14%|█▍        | 197/1395 [04:50<27:00,  1.35s/it]\u001b[A\n",
      "Evaluating:  14%|█▍        | 198/1395 [04:52<27:02,  1.36s/it]\u001b[A\n",
      "Evaluating:  14%|█▍        | 199/1395 [04:53<27:01,  1.36s/it]\u001b[A\n",
      "Evaluating:  14%|█▍        | 200/1395 [04:55<26:57,  1.35s/it]\u001b[A\n",
      "Evaluating:  14%|█▍        | 201/1395 [04:56<27:05,  1.36s/it]\u001b[A\n",
      "Evaluating:  14%|█▍        | 202/1395 [04:57<27:44,  1.40s/it]\u001b[A\n",
      "Evaluating:  15%|█▍        | 203/1395 [04:59<27:32,  1.39s/it]\u001b[A\n",
      "Evaluating:  15%|█▍        | 204/1395 [05:00<27:35,  1.39s/it]\u001b[A\n",
      "Evaluating:  15%|█▍        | 205/1395 [05:02<28:00,  1.41s/it]\u001b[A\n",
      "Evaluating:  15%|█▍        | 206/1395 [05:03<28:00,  1.41s/it]\u001b[A\n",
      "Evaluating:  15%|█▍        | 207/1395 [05:05<28:49,  1.46s/it]\u001b[A\n",
      "Evaluating:  15%|█▍        | 208/1395 [05:06<28:33,  1.44s/it]\u001b[A\n",
      "Evaluating:  15%|█▍        | 209/1395 [05:07<28:47,  1.46s/it]\u001b[A\n",
      "Evaluating:  15%|█▌        | 210/1395 [05:09<28:51,  1.46s/it]\u001b[A\n",
      "Evaluating:  15%|█▌        | 211/1395 [05:10<28:32,  1.45s/it]\u001b[A\n",
      "Evaluating:  15%|█▌        | 212/1395 [05:12<27:50,  1.41s/it]\u001b[A\n",
      "Evaluating:  15%|█▌        | 213/1395 [05:13<27:28,  1.39s/it]\u001b[A\n",
      "Evaluating:  15%|█▌        | 214/1395 [05:14<27:38,  1.40s/it]\u001b[A\n",
      "Evaluating:  15%|█▌        | 215/1395 [05:16<27:40,  1.41s/it]\u001b[A\n",
      "Evaluating:  15%|█▌        | 216/1395 [05:17<27:44,  1.41s/it]\u001b[A\n",
      "Evaluating:  16%|█▌        | 217/1395 [05:19<31:53,  1.62s/it]\u001b[A\n",
      "Evaluating:  16%|█▌        | 218/1395 [05:21<30:13,  1.54s/it]\u001b[A\n",
      "Evaluating:  16%|█▌        | 219/1395 [05:22<28:42,  1.46s/it]\u001b[A\n",
      "Evaluating:  16%|█▌        | 220/1395 [05:23<27:59,  1.43s/it]\u001b[A\n",
      "Evaluating:  16%|█▌        | 221/1395 [05:25<27:33,  1.41s/it]\u001b[A\n",
      "Evaluating:  16%|█▌        | 222/1395 [05:26<27:10,  1.39s/it]\u001b[A\n",
      "Evaluating:  16%|█▌        | 223/1395 [05:27<26:43,  1.37s/it]\u001b[A\n",
      "Evaluating:  16%|█▌        | 224/1395 [05:29<26:12,  1.34s/it]\u001b[A\n",
      "Evaluating:  16%|█▌        | 225/1395 [05:30<26:05,  1.34s/it]\u001b[A\n",
      "Evaluating:  16%|█▌        | 226/1395 [05:31<25:44,  1.32s/it]\u001b[A\n",
      "Evaluating:  16%|█▋        | 227/1395 [05:33<25:45,  1.32s/it]\u001b[A\n",
      "Evaluating:  16%|█▋        | 228/1395 [05:34<25:38,  1.32s/it]\u001b[A\n",
      "Evaluating:  16%|█▋        | 229/1395 [05:36<27:47,  1.43s/it]\u001b[A\n",
      "Evaluating:  16%|█▋        | 230/1395 [05:37<27:59,  1.44s/it]\u001b[A\n",
      "Evaluating:  17%|█▋        | 231/1395 [05:39<28:46,  1.48s/it]\u001b[A\n",
      "Evaluating:  17%|█▋        | 232/1395 [05:40<29:52,  1.54s/it]\u001b[A\n",
      "Evaluating:  17%|█▋        | 233/1395 [05:42<31:19,  1.62s/it]\u001b[A\n",
      "Evaluating:  17%|█▋        | 234/1395 [05:44<32:07,  1.66s/it]\u001b[A\n",
      "Evaluating:  17%|█▋        | 235/1395 [05:45<31:03,  1.61s/it]\u001b[A\n",
      "Evaluating:  17%|█▋        | 236/1395 [05:47<30:13,  1.57s/it]\u001b[A\n",
      "Evaluating:  17%|█▋        | 237/1395 [05:48<29:50,  1.55s/it]\u001b[A\n",
      "Evaluating:  17%|█▋        | 238/1395 [05:50<29:25,  1.53s/it]\u001b[A\n",
      "Evaluating:  17%|█▋        | 239/1395 [05:51<29:44,  1.54s/it]\u001b[A\n",
      "Evaluating:  17%|█▋        | 240/1395 [05:53<29:28,  1.53s/it]\u001b[A\n",
      "Evaluating:  17%|█▋        | 241/1395 [05:55<29:42,  1.54s/it]\u001b[A\n",
      "Evaluating:  17%|█▋        | 242/1395 [05:56<28:45,  1.50s/it]\u001b[A\n",
      "Evaluating:  17%|█▋        | 243/1395 [05:57<28:24,  1.48s/it]\u001b[A\n",
      "Evaluating:  17%|█▋        | 244/1395 [05:59<28:17,  1.47s/it]\u001b[A\n",
      "Evaluating:  18%|█▊        | 245/1395 [06:00<27:47,  1.45s/it]\u001b[A\n",
      "Evaluating:  18%|█▊        | 246/1395 [06:02<27:34,  1.44s/it]\u001b[A\n",
      "Evaluating:  18%|█▊        | 247/1395 [06:03<27:25,  1.43s/it]\u001b[A\n",
      "Evaluating:  18%|█▊        | 248/1395 [06:04<27:25,  1.43s/it]\u001b[A\n",
      "Evaluating:  18%|█▊        | 249/1395 [06:06<27:09,  1.42s/it]\u001b[A\n",
      "Evaluating:  18%|█▊        | 250/1395 [06:07<26:46,  1.40s/it]\u001b[A\n",
      "Evaluating:  18%|█▊        | 251/1395 [06:09<26:25,  1.39s/it]\u001b[A\n",
      "Evaluating:  18%|█▊        | 252/1395 [06:10<26:12,  1.38s/it]\u001b[A\n",
      "Evaluating:  18%|█▊        | 253/1395 [06:11<25:47,  1.35s/it]\u001b[A\n",
      "Evaluating:  18%|█▊        | 254/1395 [06:13<26:12,  1.38s/it]\u001b[A\n",
      "Evaluating:  18%|█▊        | 255/1395 [06:14<26:55,  1.42s/it]\u001b[A\n",
      "Evaluating:  18%|█▊        | 256/1395 [06:16<26:34,  1.40s/it]\u001b[A\n",
      "Evaluating:  18%|█▊        | 257/1395 [06:17<26:43,  1.41s/it]\u001b[A\n",
      "Evaluating:  18%|█▊        | 258/1395 [06:18<26:30,  1.40s/it]\u001b[A\n",
      "Evaluating:  19%|█▊        | 259/1395 [06:20<26:05,  1.38s/it]\u001b[A\n",
      "Evaluating:  19%|█▊        | 260/1395 [06:21<25:56,  1.37s/it]\u001b[A\n",
      "Evaluating:  19%|█▊        | 261/1395 [06:22<25:55,  1.37s/it]\u001b[A\n",
      "Evaluating:  19%|█▉        | 262/1395 [06:24<25:43,  1.36s/it]\u001b[A\n",
      "Evaluating:  19%|█▉        | 263/1395 [06:25<25:48,  1.37s/it]\u001b[A\n",
      "Evaluating:  19%|█▉        | 264/1395 [06:27<26:17,  1.39s/it]\u001b[A\n",
      "Evaluating:  19%|█▉        | 265/1395 [06:28<26:18,  1.40s/it]\u001b[A\n",
      "Evaluating:  19%|█▉        | 266/1395 [06:29<25:58,  1.38s/it]\u001b[A\n",
      "Evaluating:  19%|█▉        | 267/1395 [06:31<25:37,  1.36s/it]\u001b[A\n",
      "Evaluating:  19%|█▉        | 268/1395 [06:32<25:41,  1.37s/it]\u001b[A\n",
      "Evaluating:  19%|█▉        | 269/1395 [06:33<25:29,  1.36s/it]\u001b[A\n",
      "Evaluating:  19%|█▉        | 270/1395 [06:35<25:30,  1.36s/it]\u001b[A\n",
      "Evaluating:  19%|█▉        | 271/1395 [06:36<25:51,  1.38s/it]\u001b[A\n",
      "Evaluating:  19%|█▉        | 272/1395 [06:38<25:49,  1.38s/it]\u001b[A\n",
      "Evaluating:  20%|█▉        | 273/1395 [06:39<25:32,  1.37s/it]\u001b[A\n",
      "Evaluating:  20%|█▉        | 274/1395 [06:40<25:43,  1.38s/it]\u001b[A\n",
      "Evaluating:  20%|█▉        | 275/1395 [06:42<25:26,  1.36s/it]\u001b[A\n",
      "Evaluating:  20%|█▉        | 276/1395 [06:43<25:06,  1.35s/it]\u001b[A\n",
      "Evaluating:  20%|█▉        | 277/1395 [06:44<25:46,  1.38s/it]\u001b[A\n",
      "Evaluating:  20%|█▉        | 278/1395 [06:46<25:58,  1.40s/it]\u001b[A\n",
      "Evaluating:  20%|██        | 279/1395 [06:47<25:40,  1.38s/it]\u001b[A\n",
      "Evaluating:  20%|██        | 280/1395 [06:49<25:44,  1.39s/it]\u001b[A\n",
      "Evaluating:  20%|██        | 281/1395 [06:50<25:37,  1.38s/it]\u001b[A\n",
      "Evaluating:  20%|██        | 282/1395 [06:51<25:19,  1.37s/it]\u001b[A\n",
      "Evaluating:  20%|██        | 283/1395 [06:53<25:19,  1.37s/it]\u001b[A\n",
      "Evaluating:  20%|██        | 284/1395 [06:54<25:16,  1.36s/it]\u001b[A\n",
      "Evaluating:  20%|██        | 285/1395 [06:55<25:06,  1.36s/it]\u001b[A\n",
      "Evaluating:  21%|██        | 286/1395 [06:57<25:07,  1.36s/it]\u001b[A\n",
      "Evaluating:  21%|██        | 287/1395 [06:58<24:52,  1.35s/it]\u001b[A\n",
      "Evaluating:  21%|██        | 288/1395 [06:59<24:58,  1.35s/it]\u001b[A\n",
      "Evaluating:  21%|██        | 289/1395 [07:01<25:00,  1.36s/it]\u001b[A\n",
      "Evaluating:  21%|██        | 290/1395 [07:02<25:17,  1.37s/it]\u001b[A\n",
      "Evaluating:  21%|██        | 291/1395 [07:04<25:20,  1.38s/it]\u001b[A\n",
      "Evaluating:  21%|██        | 292/1395 [07:05<25:28,  1.39s/it]\u001b[A\n",
      "Evaluating:  21%|██        | 293/1395 [07:06<25:17,  1.38s/it]\u001b[A\n",
      "Evaluating:  21%|██        | 294/1395 [07:08<24:54,  1.36s/it]\u001b[A\n",
      "Evaluating:  21%|██        | 295/1395 [07:09<24:35,  1.34s/it]\u001b[A\n",
      "Evaluating:  21%|██        | 296/1395 [07:10<25:51,  1.41s/it]\u001b[A\n",
      "Evaluating:  21%|██▏       | 297/1395 [07:12<26:54,  1.47s/it]\u001b[A\n",
      "Evaluating:  21%|██▏       | 298/1395 [07:14<27:35,  1.51s/it]\u001b[A\n",
      "Evaluating:  21%|██▏       | 299/1395 [07:15<28:12,  1.54s/it]\u001b[A\n",
      "Evaluating:  22%|██▏       | 300/1395 [07:17<28:56,  1.59s/it]\u001b[A\n",
      "Evaluating:  22%|██▏       | 301/1395 [07:19<29:08,  1.60s/it]\u001b[A\n",
      "Evaluating:  22%|██▏       | 302/1395 [07:20<28:52,  1.59s/it]\u001b[A\n",
      "Evaluating:  22%|██▏       | 303/1395 [07:22<29:48,  1.64s/it]\u001b[A\n",
      "Evaluating:  22%|██▏       | 304/1395 [07:24<29:47,  1.64s/it]\u001b[A\n",
      "Evaluating:  22%|██▏       | 305/1395 [07:25<29:00,  1.60s/it]\u001b[A\n",
      "Evaluating:  22%|██▏       | 306/1395 [07:26<27:48,  1.53s/it]\u001b[A\n",
      "Evaluating:  22%|██▏       | 307/1395 [07:28<27:10,  1.50s/it]\u001b[A\n",
      "Evaluating:  22%|██▏       | 308/1395 [07:29<26:26,  1.46s/it]\u001b[A\n",
      "Evaluating:  22%|██▏       | 309/1395 [07:31<25:39,  1.42s/it]\u001b[A\n",
      "Evaluating:  22%|██▏       | 310/1395 [07:32<25:42,  1.42s/it]\u001b[A\n",
      "Evaluating:  22%|██▏       | 311/1395 [07:33<25:25,  1.41s/it]\u001b[A\n",
      "Evaluating:  22%|██▏       | 312/1395 [07:35<25:27,  1.41s/it]\u001b[A\n",
      "Evaluating:  22%|██▏       | 313/1395 [07:36<25:25,  1.41s/it]\u001b[A\n",
      "Evaluating:  23%|██▎       | 314/1395 [07:38<25:09,  1.40s/it]\u001b[A\n",
      "Evaluating:  23%|██▎       | 315/1395 [07:39<24:55,  1.39s/it]\u001b[A\n",
      "Evaluating:  23%|██▎       | 316/1395 [07:40<24:34,  1.37s/it]\u001b[A\n",
      "Evaluating:  23%|██▎       | 317/1395 [07:42<24:35,  1.37s/it]\u001b[A\n",
      "Evaluating:  23%|██▎       | 318/1395 [07:43<24:28,  1.36s/it]\u001b[A\n",
      "Evaluating:  23%|██▎       | 319/1395 [07:44<24:22,  1.36s/it]\u001b[A\n",
      "Evaluating:  23%|██▎       | 320/1395 [07:46<24:11,  1.35s/it]\u001b[A\n",
      "Evaluating:  23%|██▎       | 321/1395 [07:47<24:16,  1.36s/it]\u001b[A\n",
      "Evaluating:  23%|██▎       | 322/1395 [07:48<24:39,  1.38s/it]\u001b[A\n",
      "Evaluating:  23%|██▎       | 323/1395 [07:50<24:59,  1.40s/it]\u001b[A\n",
      "Evaluating:  23%|██▎       | 324/1395 [07:51<24:37,  1.38s/it]\u001b[A\n",
      "Evaluating:  23%|██▎       | 325/1395 [07:53<24:16,  1.36s/it]\u001b[A\n",
      "Evaluating:  23%|██▎       | 326/1395 [07:54<24:14,  1.36s/it]\u001b[A\n",
      "Evaluating:  23%|██▎       | 327/1395 [07:55<24:11,  1.36s/it]\u001b[A\n",
      "Evaluating:  24%|██▎       | 328/1395 [07:57<24:20,  1.37s/it]\u001b[A\n",
      "Evaluating:  24%|██▎       | 329/1395 [07:58<24:26,  1.38s/it]\u001b[A\n",
      "Evaluating:  24%|██▎       | 330/1395 [07:59<24:21,  1.37s/it]\u001b[A\n",
      "Evaluating:  24%|██▎       | 331/1395 [08:01<24:23,  1.38s/it]\u001b[A\n",
      "Evaluating:  24%|██▍       | 332/1395 [08:02<24:08,  1.36s/it]\u001b[A\n",
      "Evaluating:  24%|██▍       | 333/1395 [08:03<23:58,  1.35s/it]\u001b[A\n",
      "Evaluating:  24%|██▍       | 334/1395 [08:05<23:42,  1.34s/it]\u001b[A\n",
      "Evaluating:  24%|██▍       | 335/1395 [08:06<23:41,  1.34s/it]\u001b[A\n",
      "Evaluating:  24%|██▍       | 336/1395 [08:07<23:28,  1.33s/it]\u001b[A\n",
      "Evaluating:  24%|██▍       | 337/1395 [08:09<23:24,  1.33s/it]\u001b[A\n",
      "Evaluating:  24%|██▍       | 338/1395 [08:10<23:28,  1.33s/it]\u001b[A\n",
      "Evaluating:  24%|██▍       | 339/1395 [08:11<23:27,  1.33s/it]\u001b[A\n",
      "Evaluating:  24%|██▍       | 340/1395 [08:13<23:22,  1.33s/it]\u001b[A\n",
      "Evaluating:  24%|██▍       | 341/1395 [08:14<23:28,  1.34s/it]\u001b[A\n",
      "Evaluating:  25%|██▍       | 342/1395 [08:15<23:39,  1.35s/it]\u001b[A\n",
      "Evaluating:  25%|██▍       | 343/1395 [08:17<23:49,  1.36s/it]\u001b[A\n",
      "Evaluating:  25%|██▍       | 344/1395 [08:18<23:43,  1.35s/it]\u001b[A\n",
      "Evaluating:  25%|██▍       | 345/1395 [08:20<24:31,  1.40s/it]\u001b[A\n",
      "Evaluating:  25%|██▍       | 346/1395 [08:21<24:55,  1.43s/it]\u001b[A\n",
      "Evaluating:  25%|██▍       | 347/1395 [08:23<24:43,  1.42s/it]\u001b[A\n",
      "Evaluating:  25%|██▍       | 348/1395 [08:24<24:31,  1.41s/it]\u001b[A\n",
      "Evaluating:  25%|██▌       | 349/1395 [08:25<24:30,  1.41s/it]\u001b[A\n",
      "Evaluating:  25%|██▌       | 350/1395 [08:27<24:22,  1.40s/it]\u001b[A\n",
      "Evaluating:  25%|██▌       | 351/1395 [08:28<23:47,  1.37s/it]\u001b[A\n",
      "Evaluating:  25%|██▌       | 352/1395 [08:29<23:25,  1.35s/it]\u001b[A\n",
      "Evaluating:  25%|██▌       | 353/1395 [08:31<23:17,  1.34s/it]\u001b[A\n",
      "Evaluating:  25%|██▌       | 354/1395 [08:32<23:05,  1.33s/it]\u001b[A\n",
      "Evaluating:  25%|██▌       | 355/1395 [08:33<23:01,  1.33s/it]\u001b[A\n",
      "Evaluating:  26%|██▌       | 356/1395 [08:35<24:16,  1.40s/it]\u001b[A\n",
      "Evaluating:  26%|██▌       | 357/1395 [08:37<25:21,  1.47s/it]\u001b[A\n",
      "Evaluating:  26%|██▌       | 358/1395 [08:38<25:46,  1.49s/it]\u001b[A\n",
      "Evaluating:  26%|██▌       | 359/1395 [08:40<26:01,  1.51s/it]\u001b[A\n",
      "Evaluating:  26%|██▌       | 360/1395 [08:41<26:18,  1.53s/it]\u001b[A\n",
      "Evaluating:  26%|██▌       | 361/1395 [08:43<28:47,  1.67s/it]\u001b[A\n",
      "Evaluating:  26%|██▌       | 362/1395 [08:45<30:23,  1.76s/it]\u001b[A\n",
      "Evaluating:  26%|██▌       | 363/1395 [08:47<31:35,  1.84s/it]\u001b[A\n",
      "Evaluating:  26%|██▌       | 364/1395 [08:49<32:16,  1.88s/it]\u001b[A\n",
      "Evaluating:  26%|██▌       | 365/1395 [08:52<34:47,  2.03s/it]\u001b[A\n",
      "Evaluating:  26%|██▌       | 366/1395 [08:53<32:50,  1.91s/it]\u001b[A\n",
      "Evaluating:  26%|██▋       | 367/1395 [08:55<30:54,  1.80s/it]\u001b[A\n",
      "Evaluating:  26%|██▋       | 368/1395 [08:56<29:19,  1.71s/it]\u001b[A\n",
      "Evaluating:  26%|██▋       | 369/1395 [08:58<28:18,  1.66s/it]\u001b[A\n",
      "Evaluating:  27%|██▋       | 370/1395 [08:59<27:25,  1.61s/it]\u001b[A\n",
      "Evaluating:  27%|██▋       | 371/1395 [09:01<26:59,  1.58s/it]\u001b[A\n",
      "Evaluating:  27%|██▋       | 372/1395 [09:02<26:50,  1.57s/it]\u001b[A\n",
      "Evaluating:  27%|██▋       | 373/1395 [09:04<27:38,  1.62s/it]\u001b[A\n",
      "Evaluating:  27%|██▋       | 374/1395 [09:06<26:54,  1.58s/it]\u001b[A\n",
      "Evaluating:  27%|██▋       | 375/1395 [09:07<26:40,  1.57s/it]\u001b[A\n",
      "Evaluating:  27%|██▋       | 376/1395 [09:09<26:26,  1.56s/it]\u001b[A\n",
      "Evaluating:  27%|██▋       | 377/1395 [09:11<29:44,  1.75s/it]\u001b[A\n",
      "Evaluating:  27%|██▋       | 378/1395 [09:12<28:57,  1.71s/it]\u001b[A\n",
      "Evaluating:  27%|██▋       | 379/1395 [09:14<28:37,  1.69s/it]\u001b[A\n",
      "Evaluating:  27%|██▋       | 380/1395 [09:15<27:00,  1.60s/it]\u001b[A\n",
      "Evaluating:  27%|██▋       | 381/1395 [09:17<25:55,  1.53s/it]\u001b[A\n",
      "Evaluating:  27%|██▋       | 382/1395 [09:18<25:01,  1.48s/it]\u001b[A\n",
      "Evaluating:  27%|██▋       | 383/1395 [09:20<24:42,  1.46s/it]\u001b[A\n",
      "Evaluating:  28%|██▊       | 384/1395 [09:21<24:19,  1.44s/it]\u001b[A\n",
      "Evaluating:  28%|██▊       | 385/1395 [09:22<24:05,  1.43s/it]\u001b[A\n",
      "Evaluating:  28%|██▊       | 386/1395 [09:24<24:05,  1.43s/it]\u001b[A\n",
      "Evaluating:  28%|██▊       | 387/1395 [09:25<23:47,  1.42s/it]\u001b[A\n",
      "Evaluating:  28%|██▊       | 388/1395 [09:27<23:24,  1.39s/it]\u001b[A\n",
      "Evaluating:  28%|██▊       | 389/1395 [09:28<22:56,  1.37s/it]\u001b[A\n",
      "Evaluating:  28%|██▊       | 390/1395 [09:29<22:46,  1.36s/it]\u001b[A\n",
      "Evaluating:  28%|██▊       | 391/1395 [09:31<22:54,  1.37s/it]\u001b[A\n",
      "Evaluating:  28%|██▊       | 392/1395 [09:32<23:07,  1.38s/it]\u001b[A\n",
      "Evaluating:  28%|██▊       | 393/1395 [09:33<23:24,  1.40s/it]\u001b[A\n",
      "Evaluating:  28%|██▊       | 394/1395 [09:35<23:38,  1.42s/it]\u001b[A\n",
      "Evaluating:  28%|██▊       | 395/1395 [09:36<23:31,  1.41s/it]\u001b[A\n",
      "Evaluating:  28%|██▊       | 396/1395 [09:38<23:03,  1.39s/it]\u001b[A\n",
      "Evaluating:  28%|██▊       | 397/1395 [09:39<22:45,  1.37s/it]\u001b[A\n",
      "Evaluating:  29%|██▊       | 398/1395 [09:40<22:34,  1.36s/it]\u001b[A\n",
      "Evaluating:  29%|██▊       | 399/1395 [09:42<22:41,  1.37s/it]\u001b[A\n",
      "Evaluating:  29%|██▊       | 400/1395 [09:43<22:42,  1.37s/it]\u001b[A\n",
      "Evaluating:  29%|██▊       | 401/1395 [09:44<22:45,  1.37s/it]\u001b[A\n",
      "Evaluating:  29%|██▉       | 402/1395 [09:46<22:34,  1.36s/it]\u001b[A\n",
      "Evaluating:  29%|██▉       | 403/1395 [09:47<22:37,  1.37s/it]\u001b[A\n",
      "Evaluating:  29%|██▉       | 404/1395 [09:48<22:17,  1.35s/it]\u001b[A\n",
      "Evaluating:  29%|██▉       | 405/1395 [09:50<22:13,  1.35s/it]\u001b[A\n",
      "Evaluating:  29%|██▉       | 406/1395 [09:51<22:14,  1.35s/it]\u001b[A\n",
      "Evaluating:  29%|██▉       | 407/1395 [09:52<22:06,  1.34s/it]\u001b[A\n",
      "Evaluating:  29%|██▉       | 408/1395 [09:54<21:57,  1.33s/it]\u001b[A\n",
      "Evaluating:  29%|██▉       | 409/1395 [09:55<22:15,  1.35s/it]\u001b[A\n",
      "Evaluating:  29%|██▉       | 410/1395 [09:57<22:34,  1.38s/it]\u001b[A\n",
      "Evaluating:  29%|██▉       | 411/1395 [09:58<22:33,  1.38s/it]\u001b[A\n",
      "Evaluating:  30%|██▉       | 412/1395 [09:59<22:27,  1.37s/it]\u001b[A\n",
      "Evaluating:  30%|██▉       | 413/1395 [10:01<22:21,  1.37s/it]\u001b[A\n",
      "Evaluating:  30%|██▉       | 414/1395 [10:02<22:34,  1.38s/it]\u001b[A\n",
      "Evaluating:  30%|██▉       | 415/1395 [10:04<22:50,  1.40s/it]\u001b[A\n",
      "Evaluating:  30%|██▉       | 416/1395 [10:05<22:39,  1.39s/it]\u001b[A\n",
      "Evaluating:  30%|██▉       | 417/1395 [10:06<22:37,  1.39s/it]\u001b[A\n",
      "Evaluating:  30%|██▉       | 418/1395 [10:08<22:25,  1.38s/it]\u001b[A\n",
      "Evaluating:  30%|███       | 419/1395 [10:09<22:10,  1.36s/it]\u001b[A\n",
      "Evaluating:  30%|███       | 420/1395 [10:10<22:11,  1.37s/it]\u001b[A\n",
      "Evaluating:  30%|███       | 421/1395 [10:12<22:03,  1.36s/it]\u001b[A\n",
      "Evaluating:  30%|███       | 422/1395 [10:13<21:56,  1.35s/it]\u001b[A\n",
      "Evaluating:  30%|███       | 423/1395 [10:14<22:05,  1.36s/it]\u001b[A\n",
      "Evaluating:  30%|███       | 424/1395 [10:16<22:05,  1.36s/it]\u001b[A\n",
      "Evaluating:  30%|███       | 425/1395 [10:17<21:54,  1.35s/it]\u001b[A\n",
      "Evaluating:  31%|███       | 426/1395 [10:19<21:49,  1.35s/it]\u001b[A\n",
      "Evaluating:  31%|███       | 427/1395 [10:20<21:49,  1.35s/it]\u001b[A\n",
      "Evaluating:  31%|███       | 428/1395 [10:21<21:48,  1.35s/it]\u001b[A\n",
      "Evaluating:  31%|███       | 429/1395 [10:23<21:38,  1.34s/it]\u001b[A\n",
      "Evaluating:  31%|███       | 430/1395 [10:24<21:44,  1.35s/it]\u001b[A\n",
      "Evaluating:  31%|███       | 431/1395 [10:25<21:55,  1.36s/it]\u001b[A\n",
      "Evaluating:  31%|███       | 432/1395 [10:27<22:08,  1.38s/it]\u001b[A\n",
      "Evaluating:  31%|███       | 433/1395 [10:28<22:53,  1.43s/it]\u001b[A\n",
      "Evaluating:  31%|███       | 434/1395 [10:30<22:31,  1.41s/it]\u001b[A\n",
      "Evaluating:  31%|███       | 435/1395 [10:31<22:32,  1.41s/it]\u001b[A\n",
      "Evaluating:  31%|███▏      | 436/1395 [10:33<23:45,  1.49s/it]\u001b[A\n",
      "Evaluating:  31%|███▏      | 437/1395 [10:34<24:27,  1.53s/it]\u001b[A\n",
      "Evaluating:  31%|███▏      | 438/1395 [10:36<24:37,  1.54s/it]\u001b[A\n",
      "Evaluating:  31%|███▏      | 439/1395 [10:37<24:43,  1.55s/it]\u001b[A\n",
      "Evaluating:  32%|███▏      | 440/1395 [10:39<24:56,  1.57s/it]\u001b[A\n",
      "Evaluating:  32%|███▏      | 441/1395 [10:41<24:33,  1.54s/it]\u001b[A\n",
      "Evaluating:  32%|███▏      | 442/1395 [10:42<24:30,  1.54s/it]\u001b[A\n",
      "Evaluating:  32%|███▏      | 443/1395 [10:44<24:35,  1.55s/it]\u001b[A\n",
      "Evaluating:  32%|███▏      | 444/1395 [10:45<23:49,  1.50s/it]\u001b[A\n",
      "Evaluating:  32%|███▏      | 445/1395 [10:46<23:11,  1.46s/it]\u001b[A\n",
      "Evaluating:  32%|███▏      | 446/1395 [10:48<22:40,  1.43s/it]\u001b[A\n",
      "Evaluating:  32%|███▏      | 447/1395 [10:49<22:16,  1.41s/it]\u001b[A\n",
      "Evaluating:  32%|███▏      | 448/1395 [10:51<22:07,  1.40s/it]\u001b[A\n",
      "Evaluating:  32%|███▏      | 449/1395 [10:52<21:43,  1.38s/it]\u001b[A\n",
      "Evaluating:  32%|███▏      | 450/1395 [10:53<22:01,  1.40s/it]\u001b[A\n",
      "Evaluating:  32%|███▏      | 451/1395 [10:55<21:46,  1.38s/it]\u001b[A\n",
      "Evaluating:  32%|███▏      | 452/1395 [10:56<21:46,  1.39s/it]\u001b[A\n",
      "Evaluating:  32%|███▏      | 453/1395 [10:57<21:43,  1.38s/it]\u001b[A\n",
      "Evaluating:  33%|███▎      | 454/1395 [10:59<21:55,  1.40s/it]\u001b[A\n",
      "Evaluating:  33%|███▎      | 455/1395 [11:00<23:01,  1.47s/it]\u001b[A\n",
      "Evaluating:  33%|███▎      | 456/1395 [11:02<23:35,  1.51s/it]\u001b[A\n",
      "Evaluating:  33%|███▎      | 457/1395 [11:04<24:02,  1.54s/it]\u001b[A\n",
      "Evaluating:  33%|███▎      | 458/1395 [11:05<23:21,  1.50s/it]\u001b[A\n",
      "Evaluating:  33%|███▎      | 459/1395 [11:07<22:56,  1.47s/it]\u001b[A\n",
      "Evaluating:  33%|███▎      | 460/1395 [11:08<22:40,  1.45s/it]\u001b[A\n",
      "Evaluating:  33%|███▎      | 461/1395 [11:09<22:21,  1.44s/it]\u001b[A\n",
      "Evaluating:  33%|███▎      | 462/1395 [11:11<21:59,  1.41s/it]\u001b[A\n",
      "Evaluating:  33%|███▎      | 463/1395 [11:12<21:33,  1.39s/it]\u001b[A\n",
      "Evaluating:  33%|███▎      | 464/1395 [11:13<21:34,  1.39s/it]\u001b[A\n",
      "Evaluating:  33%|███▎      | 465/1395 [11:15<21:17,  1.37s/it]\u001b[A\n",
      "Evaluating:  33%|███▎      | 466/1395 [11:16<21:04,  1.36s/it]\u001b[A\n",
      "Evaluating:  33%|███▎      | 467/1395 [11:17<20:49,  1.35s/it]\u001b[A\n",
      "Evaluating:  34%|███▎      | 468/1395 [11:19<20:56,  1.36s/it]\u001b[A\n",
      "Evaluating:  34%|███▎      | 469/1395 [11:20<21:02,  1.36s/it]\u001b[A\n",
      "Evaluating:  34%|███▎      | 470/1395 [11:21<20:58,  1.36s/it]\u001b[A\n",
      "Evaluating:  34%|███▍      | 471/1395 [11:23<21:09,  1.37s/it]\u001b[A\n",
      "Evaluating:  34%|███▍      | 472/1395 [11:24<21:22,  1.39s/it]\u001b[A\n",
      "Evaluating:  34%|███▍      | 473/1395 [11:26<21:30,  1.40s/it]\u001b[A\n",
      "Evaluating:  34%|███▍      | 474/1395 [11:27<21:27,  1.40s/it]\u001b[A\n",
      "Evaluating:  34%|███▍      | 475/1395 [11:29<21:28,  1.40s/it]\u001b[A\n",
      "Evaluating:  34%|███▍      | 476/1395 [11:30<21:18,  1.39s/it]\u001b[A\n",
      "Evaluating:  34%|███▍      | 477/1395 [11:31<21:43,  1.42s/it]\u001b[A\n",
      "Evaluating:  34%|███▍      | 478/1395 [11:33<22:04,  1.44s/it]\u001b[A\n",
      "Evaluating:  34%|███▍      | 479/1395 [11:34<22:03,  1.44s/it]\u001b[A\n",
      "Evaluating:  34%|███▍      | 480/1395 [11:36<22:01,  1.44s/it]\u001b[A\n",
      "Evaluating:  34%|███▍      | 481/1395 [11:37<21:23,  1.40s/it]\u001b[A\n",
      "Evaluating:  35%|███▍      | 482/1395 [11:38<21:05,  1.39s/it]\u001b[A\n",
      "Evaluating:  35%|███▍      | 483/1395 [11:40<20:57,  1.38s/it]\u001b[A\n",
      "Evaluating:  35%|███▍      | 484/1395 [11:41<20:44,  1.37s/it]\u001b[A\n",
      "Evaluating:  35%|███▍      | 485/1395 [11:42<20:36,  1.36s/it]\u001b[A\n",
      "Evaluating:  35%|███▍      | 486/1395 [11:44<20:45,  1.37s/it]\u001b[A\n",
      "Evaluating:  35%|███▍      | 487/1395 [11:45<20:34,  1.36s/it]\u001b[A\n",
      "Evaluating:  35%|███▍      | 488/1395 [11:47<20:36,  1.36s/it]\u001b[A\n",
      "Evaluating:  35%|███▌      | 489/1395 [11:48<20:26,  1.35s/it]\u001b[A\n",
      "Evaluating:  35%|███▌      | 490/1395 [11:49<20:22,  1.35s/it]\u001b[A\n",
      "Evaluating:  35%|███▌      | 491/1395 [11:51<20:25,  1.36s/it]\u001b[A\n",
      "Evaluating:  35%|███▌      | 492/1395 [11:52<20:20,  1.35s/it]\u001b[A\n",
      "Evaluating:  35%|███▌      | 493/1395 [11:53<20:19,  1.35s/it]\u001b[A\n",
      "Evaluating:  35%|███▌      | 494/1395 [11:55<20:39,  1.38s/it]\u001b[A\n",
      "Evaluating:  35%|███▌      | 495/1395 [11:56<20:41,  1.38s/it]\u001b[A\n",
      "Evaluating:  36%|███▌      | 496/1395 [11:57<20:30,  1.37s/it]\u001b[A\n",
      "Evaluating:  36%|███▌      | 497/1395 [11:59<20:24,  1.36s/it]\u001b[A\n",
      "Evaluating:  36%|███▌      | 498/1395 [12:00<20:20,  1.36s/it]\u001b[A\n",
      "Evaluating:  36%|███▌      | 499/1395 [12:02<20:22,  1.36s/it]\u001b[A\n",
      "Evaluating:  36%|███▌      | 500/1395 [12:03<20:30,  1.37s/it]\u001b[A\n",
      "Evaluating:  36%|███▌      | 501/1395 [12:04<21:00,  1.41s/it]\u001b[A\n",
      "Evaluating:  36%|███▌      | 502/1395 [12:06<20:53,  1.40s/it]\u001b[A\n",
      "Evaluating:  36%|███▌      | 503/1395 [12:07<20:37,  1.39s/it]\u001b[A\n",
      "Evaluating:  36%|███▌      | 504/1395 [12:09<20:29,  1.38s/it]\u001b[A\n",
      "Evaluating:  36%|███▌      | 505/1395 [12:10<20:27,  1.38s/it]\u001b[A\n",
      "Evaluating:  36%|███▋      | 506/1395 [12:11<20:30,  1.38s/it]\u001b[A\n",
      "Evaluating:  36%|███▋      | 507/1395 [12:13<20:21,  1.38s/it]\u001b[A\n",
      "Evaluating:  36%|███▋      | 508/1395 [12:14<20:25,  1.38s/it]\u001b[A\n",
      "Evaluating:  36%|███▋      | 509/1395 [12:16<21:38,  1.47s/it]\u001b[A\n",
      "Evaluating:  37%|███▋      | 510/1395 [12:17<21:56,  1.49s/it]\u001b[A\n",
      "Evaluating:  37%|███▋      | 511/1395 [12:19<22:40,  1.54s/it]\u001b[A\n",
      "Evaluating:  37%|███▋      | 512/1395 [12:21<22:56,  1.56s/it]\u001b[A\n",
      "Evaluating:  37%|███▋      | 513/1395 [12:22<22:48,  1.55s/it]\u001b[A\n",
      "Evaluating:  37%|███▋      | 514/1395 [12:24<22:45,  1.55s/it]\u001b[A\n",
      "Evaluating:  37%|███▋      | 515/1395 [12:25<22:45,  1.55s/it]\u001b[A\n",
      "Evaluating:  37%|███▋      | 516/1395 [12:27<22:55,  1.56s/it]\u001b[A\n",
      "Evaluating:  37%|███▋      | 517/1395 [12:28<22:28,  1.54s/it]\u001b[A\n",
      "Evaluating:  37%|███▋      | 518/1395 [12:30<22:28,  1.54s/it]\u001b[A\n",
      "Evaluating:  37%|███▋      | 519/1395 [12:31<22:27,  1.54s/it]\u001b[A\n",
      "Evaluating:  37%|███▋      | 520/1395 [12:33<22:48,  1.56s/it]\u001b[A\n",
      "Evaluating:  37%|███▋      | 521/1395 [12:35<23:28,  1.61s/it]\u001b[A\n",
      "Evaluating:  37%|███▋      | 522/1395 [12:36<24:13,  1.67s/it]\u001b[A\n",
      "Evaluating:  37%|███▋      | 523/1395 [12:38<23:46,  1.64s/it]\u001b[A\n",
      "Evaluating:  38%|███▊      | 524/1395 [12:40<25:55,  1.79s/it]\u001b[A\n",
      "Evaluating:  38%|███▊      | 525/1395 [12:42<24:05,  1.66s/it]\u001b[A\n",
      "Evaluating:  38%|███▊      | 526/1395 [12:43<23:12,  1.60s/it]\u001b[A\n",
      "Evaluating:  38%|███▊      | 527/1395 [12:44<22:33,  1.56s/it]\u001b[A\n",
      "Evaluating:  38%|███▊      | 528/1395 [12:46<22:28,  1.56s/it]\u001b[A\n",
      "Evaluating:  38%|███▊      | 529/1395 [12:48<22:09,  1.53s/it]\u001b[A\n",
      "Evaluating:  38%|███▊      | 530/1395 [12:49<21:42,  1.51s/it]\u001b[A\n",
      "Evaluating:  38%|███▊      | 531/1395 [12:50<21:37,  1.50s/it]\u001b[A\n",
      "Evaluating:  38%|███▊      | 532/1395 [12:52<21:04,  1.47s/it]\u001b[A\n",
      "Evaluating:  38%|███▊      | 533/1395 [12:53<20:50,  1.45s/it]\u001b[A\n",
      "Evaluating:  38%|███▊      | 534/1395 [12:55<20:26,  1.42s/it]\u001b[A\n",
      "Evaluating:  38%|███▊      | 535/1395 [12:56<20:16,  1.41s/it]\u001b[A\n",
      "Evaluating:  38%|███▊      | 536/1395 [12:57<20:28,  1.43s/it]\u001b[A\n",
      "Evaluating:  38%|███▊      | 537/1395 [12:59<20:19,  1.42s/it]\u001b[A\n",
      "Evaluating:  39%|███▊      | 538/1395 [13:00<20:25,  1.43s/it]\u001b[A\n",
      "Evaluating:  39%|███▊      | 539/1395 [13:02<23:12,  1.63s/it]\u001b[A\n",
      "Evaluating:  39%|███▊      | 540/1395 [13:04<22:36,  1.59s/it]\u001b[A\n",
      "Evaluating:  39%|███▉      | 541/1395 [13:05<21:37,  1.52s/it]\u001b[A\n",
      "Evaluating:  39%|███▉      | 542/1395 [13:07<21:25,  1.51s/it]\u001b[A\n",
      "Evaluating:  39%|███▉      | 543/1395 [13:08<20:58,  1.48s/it]\u001b[A\n",
      "Evaluating:  39%|███▉      | 544/1395 [13:10<20:43,  1.46s/it]\u001b[A\n",
      "Evaluating:  39%|███▉      | 545/1395 [13:11<20:20,  1.44s/it]\u001b[A\n",
      "Evaluating:  39%|███▉      | 546/1395 [13:12<20:04,  1.42s/it]\u001b[A\n",
      "Evaluating:  39%|███▉      | 547/1395 [13:14<20:04,  1.42s/it]\u001b[A\n",
      "Evaluating:  39%|███▉      | 548/1395 [13:15<20:11,  1.43s/it]\u001b[A\n",
      "Evaluating:  39%|███▉      | 549/1395 [13:17<20:07,  1.43s/it]\u001b[A\n",
      "Evaluating:  39%|███▉      | 550/1395 [13:18<19:44,  1.40s/it]\u001b[A\n",
      "Evaluating:  39%|███▉      | 551/1395 [13:20<20:43,  1.47s/it]\u001b[A\n",
      "Evaluating:  40%|███▉      | 552/1395 [13:23<28:31,  2.03s/it]\u001b[A\n",
      "Evaluating:  40%|███▉      | 553/1395 [13:26<34:10,  2.44s/it]\u001b[A\n",
      "Evaluating:  40%|███▉      | 554/1395 [13:29<36:10,  2.58s/it]\u001b[A\n",
      "Evaluating:  40%|███▉      | 555/1395 [13:33<40:14,  2.87s/it]\u001b[A\n",
      "Evaluating:  40%|███▉      | 556/1395 [13:36<40:46,  2.92s/it]\u001b[A\n",
      "Evaluating:  40%|███▉      | 557/1395 [13:39<41:42,  2.99s/it]\u001b[A\n",
      "Evaluating:  40%|████      | 558/1395 [13:43<45:56,  3.29s/it]\u001b[A\n",
      "Evaluating:  40%|████      | 559/1395 [13:45<41:09,  2.95s/it]\u001b[A\n",
      "Evaluating:  40%|████      | 560/1395 [13:47<35:48,  2.57s/it]\u001b[A\n",
      "Evaluating:  40%|████      | 561/1395 [13:48<31:26,  2.26s/it]\u001b[A\n",
      "Evaluating:  40%|████      | 562/1395 [13:50<28:22,  2.04s/it]\u001b[A\n",
      "Evaluating:  40%|████      | 563/1395 [13:51<26:26,  1.91s/it]\u001b[A\n",
      "Evaluating:  40%|████      | 564/1395 [13:53<25:23,  1.83s/it]\u001b[A\n",
      "Evaluating:  41%|████      | 565/1395 [13:55<24:53,  1.80s/it]\u001b[A\n",
      "Evaluating:  41%|████      | 566/1395 [13:57<24:26,  1.77s/it]\u001b[A\n",
      "Evaluating:  41%|████      | 567/1395 [13:58<24:42,  1.79s/it]\u001b[A\n",
      "Evaluating:  41%|████      | 568/1395 [14:00<23:41,  1.72s/it]\u001b[A\n",
      "Evaluating:  41%|████      | 569/1395 [14:03<28:56,  2.10s/it]\u001b[A\n",
      "Evaluating:  41%|████      | 570/1395 [14:05<27:18,  1.99s/it]\u001b[A\n",
      "Evaluating:  41%|████      | 571/1395 [14:06<25:29,  1.86s/it]\u001b[A\n",
      "Evaluating:  41%|████      | 572/1395 [14:08<24:09,  1.76s/it]\u001b[A\n",
      "Evaluating:  41%|████      | 573/1395 [14:09<23:30,  1.72s/it]\u001b[A\n",
      "Evaluating:  41%|████      | 574/1395 [14:11<23:01,  1.68s/it]\u001b[A\n",
      "Evaluating:  41%|████      | 575/1395 [14:13<24:57,  1.83s/it]\u001b[A\n",
      "Evaluating:  41%|████▏     | 576/1395 [14:15<24:07,  1.77s/it]\u001b[A\n",
      "Evaluating:  41%|████▏     | 577/1395 [14:16<23:17,  1.71s/it]\u001b[A\n",
      "Evaluating:  41%|████▏     | 578/1395 [14:18<22:40,  1.66s/it]\u001b[A\n",
      "Evaluating:  42%|████▏     | 579/1395 [14:19<22:20,  1.64s/it]\u001b[A\n",
      "Evaluating:  42%|████▏     | 580/1395 [14:21<21:55,  1.61s/it]\u001b[A\n",
      "Evaluating:  42%|████▏     | 581/1395 [14:23<22:12,  1.64s/it]\u001b[A\n",
      "Evaluating:  42%|████▏     | 582/1395 [14:24<21:47,  1.61s/it]\u001b[A\n",
      "Evaluating:  42%|████▏     | 583/1395 [14:26<21:59,  1.63s/it]\u001b[A\n",
      "Evaluating:  42%|████▏     | 584/1395 [14:28<22:00,  1.63s/it]\u001b[A\n",
      "Evaluating:  42%|████▏     | 585/1395 [14:29<21:41,  1.61s/it]\u001b[A\n",
      "Evaluating:  42%|████▏     | 586/1395 [14:31<21:40,  1.61s/it]\u001b[A\n",
      "Evaluating:  42%|████▏     | 587/1395 [14:32<22:08,  1.64s/it]\u001b[A\n",
      "Evaluating:  42%|████▏     | 588/1395 [14:34<22:13,  1.65s/it]\u001b[A\n",
      "Evaluating:  42%|████▏     | 589/1395 [14:35<21:03,  1.57s/it]\u001b[A\n",
      "Evaluating:  42%|████▏     | 590/1395 [14:37<20:21,  1.52s/it]\u001b[A\n",
      "Evaluating:  42%|████▏     | 591/1395 [14:38<19:40,  1.47s/it]\u001b[A\n",
      "Evaluating:  42%|████▏     | 592/1395 [14:40<19:22,  1.45s/it]\u001b[A\n",
      "Evaluating:  43%|████▎     | 593/1395 [14:41<19:13,  1.44s/it]\u001b[A\n",
      "Evaluating:  43%|████▎     | 594/1395 [14:42<18:48,  1.41s/it]\u001b[A\n",
      "Evaluating:  43%|████▎     | 595/1395 [14:44<19:24,  1.46s/it]\u001b[A\n",
      "Evaluating:  43%|████▎     | 596/1395 [14:45<19:18,  1.45s/it]\u001b[A\n",
      "Evaluating:  43%|████▎     | 597/1395 [14:47<19:08,  1.44s/it]\u001b[A\n",
      "Evaluating:  43%|████▎     | 598/1395 [14:48<19:00,  1.43s/it]\u001b[A\n",
      "Evaluating:  43%|████▎     | 599/1395 [14:50<18:40,  1.41s/it]\u001b[A\n",
      "Evaluating:  43%|████▎     | 600/1395 [14:51<18:47,  1.42s/it]\u001b[A\n",
      "Evaluating:  43%|████▎     | 601/1395 [14:53<19:15,  1.46s/it]\u001b[A\n",
      "Evaluating:  43%|████▎     | 602/1395 [14:54<19:35,  1.48s/it]\u001b[A\n",
      "Evaluating:  43%|████▎     | 603/1395 [14:56<19:40,  1.49s/it]\u001b[A\n",
      "Evaluating:  43%|████▎     | 604/1395 [14:57<19:55,  1.51s/it]\u001b[A\n",
      "Evaluating:  43%|████▎     | 605/1395 [14:59<19:58,  1.52s/it]\u001b[A\n",
      "Evaluating:  43%|████▎     | 606/1395 [15:00<19:31,  1.48s/it]\u001b[A\n",
      "Evaluating:  44%|████▎     | 607/1395 [15:01<19:05,  1.45s/it]\u001b[A\n",
      "Evaluating:  44%|████▎     | 608/1395 [15:03<18:32,  1.41s/it]\u001b[A\n",
      "Evaluating:  44%|████▎     | 609/1395 [15:04<18:24,  1.40s/it]\u001b[A\n",
      "Evaluating:  44%|████▎     | 610/1395 [15:06<18:10,  1.39s/it]\u001b[A\n",
      "Evaluating:  44%|████▍     | 611/1395 [15:07<17:56,  1.37s/it]\u001b[A\n",
      "Evaluating:  44%|████▍     | 612/1395 [15:08<17:53,  1.37s/it]\u001b[A\n",
      "Evaluating:  44%|████▍     | 613/1395 [15:10<17:59,  1.38s/it]\u001b[A\n",
      "Evaluating:  44%|████▍     | 614/1395 [15:11<17:41,  1.36s/it]\u001b[A\n",
      "Evaluating:  44%|████▍     | 615/1395 [15:12<17:39,  1.36s/it]\u001b[A\n",
      "Evaluating:  44%|████▍     | 616/1395 [15:14<17:46,  1.37s/it]\u001b[A\n",
      "Evaluating:  44%|████▍     | 617/1395 [15:15<17:53,  1.38s/it]\u001b[A\n",
      "Evaluating:  44%|████▍     | 618/1395 [15:17<18:14,  1.41s/it]\u001b[A\n",
      "Evaluating:  44%|████▍     | 619/1395 [15:18<18:03,  1.40s/it]\u001b[A\n",
      "Evaluating:  44%|████▍     | 620/1395 [15:19<17:58,  1.39s/it]\u001b[A\n",
      "Evaluating:  45%|████▍     | 621/1395 [15:21<18:11,  1.41s/it]\u001b[A\n",
      "Evaluating:  45%|████▍     | 622/1395 [15:22<18:02,  1.40s/it]\u001b[A\n",
      "Evaluating:  45%|████▍     | 623/1395 [15:24<18:05,  1.41s/it]\u001b[A\n",
      "Evaluating:  45%|████▍     | 624/1395 [15:25<18:09,  1.41s/it]\u001b[A\n",
      "Evaluating:  45%|████▍     | 625/1395 [15:26<18:07,  1.41s/it]\u001b[A\n",
      "Evaluating:  45%|████▍     | 626/1395 [15:28<17:59,  1.40s/it]\u001b[A\n",
      "Evaluating:  45%|████▍     | 627/1395 [15:29<17:52,  1.40s/it]\u001b[A\n",
      "Evaluating:  45%|████▌     | 628/1395 [15:31<17:37,  1.38s/it]\u001b[A\n",
      "Evaluating:  45%|████▌     | 629/1395 [15:32<17:32,  1.37s/it]\u001b[A\n",
      "Evaluating:  45%|████▌     | 630/1395 [15:33<17:41,  1.39s/it]\u001b[A\n",
      "Evaluating:  45%|████▌     | 631/1395 [15:35<17:24,  1.37s/it]\u001b[A\n",
      "Evaluating:  45%|████▌     | 632/1395 [15:36<17:19,  1.36s/it]\u001b[A\n",
      "Evaluating:  45%|████▌     | 633/1395 [15:37<17:15,  1.36s/it]\u001b[A\n",
      "Evaluating:  45%|████▌     | 634/1395 [15:39<17:18,  1.37s/it]\u001b[A\n",
      "Evaluating:  46%|████▌     | 635/1395 [15:40<18:22,  1.45s/it]\u001b[A\n",
      "Evaluating:  46%|████▌     | 636/1395 [15:42<18:54,  1.49s/it]\u001b[A\n",
      "Evaluating:  46%|████▌     | 637/1395 [15:44<19:07,  1.51s/it]\u001b[A\n",
      "Evaluating:  46%|████▌     | 638/1395 [15:45<20:33,  1.63s/it]\u001b[A\n",
      "Evaluating:  46%|████▌     | 639/1395 [15:47<20:21,  1.62s/it]\u001b[A\n",
      "Evaluating:  46%|████▌     | 640/1395 [15:49<20:06,  1.60s/it]\u001b[A\n",
      "Evaluating:  46%|████▌     | 641/1395 [15:50<19:42,  1.57s/it]\u001b[A\n",
      "Evaluating:  46%|████▌     | 642/1395 [15:52<20:03,  1.60s/it]\u001b[A\n",
      "Evaluating:  46%|████▌     | 643/1395 [15:53<19:53,  1.59s/it]\u001b[A\n",
      "Evaluating:  46%|████▌     | 644/1395 [15:55<19:59,  1.60s/it]\u001b[A\n",
      "Evaluating:  46%|████▌     | 645/1395 [15:57<20:46,  1.66s/it]\u001b[A\n",
      "Evaluating:  46%|████▋     | 646/1395 [15:58<20:24,  1.63s/it]\u001b[A\n",
      "Evaluating:  46%|████▋     | 647/1395 [16:00<20:11,  1.62s/it]\u001b[A\n",
      "Evaluating:  46%|████▋     | 648/1395 [16:02<20:51,  1.68s/it]\u001b[A\n",
      "Evaluating:  47%|████▋     | 649/1395 [16:03<20:35,  1.66s/it]\u001b[A\n",
      "Evaluating:  47%|████▋     | 650/1395 [16:05<20:15,  1.63s/it]\u001b[A\n",
      "Evaluating:  47%|████▋     | 651/1395 [16:06<20:10,  1.63s/it]\u001b[A\n",
      "Evaluating:  47%|████▋     | 652/1395 [16:08<20:23,  1.65s/it]\u001b[A\n",
      "Evaluating:  47%|████▋     | 653/1395 [16:10<20:51,  1.69s/it]\u001b[A\n",
      "Evaluating:  47%|████▋     | 654/1395 [16:11<19:40,  1.59s/it]\u001b[A\n",
      "Evaluating:  47%|████▋     | 655/1395 [16:13<18:49,  1.53s/it]\u001b[A\n",
      "Evaluating:  47%|████▋     | 656/1395 [16:14<18:16,  1.48s/it]\u001b[A\n",
      "Evaluating:  47%|████▋     | 657/1395 [16:15<17:42,  1.44s/it]\u001b[A\n",
      "Evaluating:  47%|████▋     | 658/1395 [16:17<17:31,  1.43s/it]\u001b[A\n",
      "Evaluating:  47%|████▋     | 659/1395 [16:18<17:19,  1.41s/it]\u001b[A\n",
      "Evaluating:  47%|████▋     | 660/1395 [16:20<17:47,  1.45s/it]\u001b[A\n",
      "Evaluating:  47%|████▋     | 661/1395 [16:21<17:22,  1.42s/it]\u001b[A\n",
      "Evaluating:  47%|████▋     | 662/1395 [16:22<17:01,  1.39s/it]\u001b[A\n",
      "Evaluating:  48%|████▊     | 663/1395 [16:24<16:47,  1.38s/it]\u001b[A\n",
      "Evaluating:  48%|████▊     | 664/1395 [16:25<16:44,  1.37s/it]\u001b[A\n",
      "Evaluating:  48%|████▊     | 665/1395 [16:27<16:52,  1.39s/it]\u001b[A\n",
      "Evaluating:  48%|████▊     | 666/1395 [16:28<16:49,  1.38s/it]\u001b[A\n",
      "Evaluating:  48%|████▊     | 667/1395 [16:29<16:45,  1.38s/it]\u001b[A\n",
      "Evaluating:  48%|████▊     | 668/1395 [16:31<16:32,  1.36s/it]\u001b[A\n",
      "Evaluating:  48%|████▊     | 669/1395 [16:32<16:26,  1.36s/it]\u001b[A\n",
      "Evaluating:  48%|████▊     | 670/1395 [16:33<16:26,  1.36s/it]\u001b[A\n",
      "Evaluating:  48%|████▊     | 671/1395 [16:35<16:22,  1.36s/it]\u001b[A\n",
      "Evaluating:  48%|████▊     | 672/1395 [16:36<16:14,  1.35s/it]\u001b[A\n",
      "Evaluating:  48%|████▊     | 673/1395 [16:37<16:09,  1.34s/it]\u001b[A\n",
      "Evaluating:  48%|████▊     | 674/1395 [16:39<16:05,  1.34s/it]\u001b[A\n",
      "Evaluating:  48%|████▊     | 675/1395 [16:40<16:19,  1.36s/it]\u001b[A\n",
      "Evaluating:  48%|████▊     | 676/1395 [16:41<16:23,  1.37s/it]\u001b[A\n",
      "Evaluating:  49%|████▊     | 677/1395 [16:43<16:16,  1.36s/it]\u001b[A\n",
      "Evaluating:  49%|████▊     | 678/1395 [16:44<16:10,  1.35s/it]\u001b[A\n",
      "Evaluating:  49%|████▊     | 679/1395 [16:46<16:23,  1.37s/it]\u001b[A\n",
      "Evaluating:  49%|████▊     | 680/1395 [16:47<16:23,  1.38s/it]\u001b[A\n",
      "Evaluating:  49%|████▉     | 681/1395 [16:48<16:09,  1.36s/it]\u001b[A\n",
      "Evaluating:  49%|████▉     | 682/1395 [16:50<16:05,  1.35s/it]\u001b[A\n",
      "Evaluating:  49%|████▉     | 683/1395 [16:51<16:21,  1.38s/it]\u001b[A\n",
      "Evaluating:  49%|████▉     | 684/1395 [16:52<16:18,  1.38s/it]\u001b[A\n",
      "Evaluating:  49%|████▉     | 685/1395 [16:54<16:23,  1.38s/it]\u001b[A\n",
      "Evaluating:  49%|████▉     | 686/1395 [16:55<16:16,  1.38s/it]\u001b[A\n",
      "Evaluating:  49%|████▉     | 687/1395 [16:57<16:16,  1.38s/it]\u001b[A\n",
      "Evaluating:  49%|████▉     | 688/1395 [16:58<16:13,  1.38s/it]\u001b[A\n",
      "Evaluating:  49%|████▉     | 689/1395 [16:59<16:08,  1.37s/it]\u001b[A\n",
      "Evaluating:  49%|████▉     | 690/1395 [17:01<15:58,  1.36s/it]\u001b[A\n",
      "Evaluating:  50%|████▉     | 691/1395 [17:02<16:15,  1.39s/it]\u001b[A\n",
      "Evaluating:  50%|████▉     | 692/1395 [17:03<16:12,  1.38s/it]\u001b[A\n",
      "Evaluating:  50%|████▉     | 693/1395 [17:05<16:07,  1.38s/it]\u001b[A\n",
      "Evaluating:  50%|████▉     | 694/1395 [17:06<16:05,  1.38s/it]\u001b[A\n",
      "Evaluating:  50%|████▉     | 695/1395 [17:08<15:55,  1.36s/it]\u001b[A\n",
      "Evaluating:  50%|████▉     | 696/1395 [17:10<18:24,  1.58s/it]\u001b[A\n",
      "Evaluating:  50%|████▉     | 697/1395 [17:11<17:44,  1.52s/it]\u001b[A\n",
      "Evaluating:  50%|█████     | 698/1395 [17:12<17:21,  1.49s/it]\u001b[A\n",
      "Evaluating:  50%|█████     | 699/1395 [17:14<17:00,  1.47s/it]\u001b[A\n",
      "Evaluating:  50%|█████     | 700/1395 [17:15<16:53,  1.46s/it]\u001b[A\n",
      "Evaluating:  50%|█████     | 701/1395 [17:17<16:48,  1.45s/it]\u001b[A\n",
      "Evaluating:  50%|█████     | 702/1395 [17:18<16:36,  1.44s/it]\u001b[A\n",
      "Evaluating:  50%|█████     | 703/1395 [17:20<16:30,  1.43s/it]\u001b[A\n",
      "Evaluating:  50%|█████     | 704/1395 [17:21<16:27,  1.43s/it]\u001b[A\n",
      "Evaluating:  51%|█████     | 705/1395 [17:22<16:45,  1.46s/it]\u001b[A\n",
      "Evaluating:  51%|█████     | 706/1395 [17:24<16:52,  1.47s/it]\u001b[A\n",
      "Evaluating:  51%|█████     | 707/1395 [17:26<17:35,  1.53s/it]\u001b[A\n",
      "Evaluating:  51%|█████     | 708/1395 [17:28<18:55,  1.65s/it]\u001b[A\n",
      "Evaluating:  51%|█████     | 709/1395 [17:29<18:39,  1.63s/it]\u001b[A\n",
      "Evaluating:  51%|█████     | 710/1395 [17:31<18:48,  1.65s/it]\u001b[A\n",
      "Evaluating:  51%|█████     | 711/1395 [17:32<18:28,  1.62s/it]\u001b[A\n",
      "Evaluating:  51%|█████     | 712/1395 [17:34<18:19,  1.61s/it]\u001b[A\n",
      "Evaluating:  51%|█████     | 713/1395 [17:36<17:57,  1.58s/it]\u001b[A\n",
      "Evaluating:  51%|█████     | 714/1395 [17:37<17:50,  1.57s/it]\u001b[A\n",
      "Evaluating:  51%|█████▏    | 715/1395 [17:39<18:05,  1.60s/it]\u001b[A\n",
      "Evaluating:  51%|█████▏    | 716/1395 [17:41<19:30,  1.72s/it]\u001b[A\n",
      "Evaluating:  51%|█████▏    | 717/1395 [17:42<19:21,  1.71s/it]\u001b[A\n",
      "Evaluating:  51%|█████▏    | 718/1395 [17:44<18:53,  1.67s/it]\u001b[A\n",
      "Evaluating:  52%|█████▏    | 719/1395 [17:45<17:56,  1.59s/it]\u001b[A\n",
      "Evaluating:  52%|█████▏    | 720/1395 [17:47<17:12,  1.53s/it]\u001b[A\n",
      "Evaluating:  52%|█████▏    | 721/1395 [17:48<16:53,  1.50s/it]\u001b[A\n",
      "Evaluating:  52%|█████▏    | 722/1395 [17:50<16:40,  1.49s/it]\u001b[A\n",
      "Evaluating:  52%|█████▏    | 723/1395 [17:51<16:30,  1.47s/it]\u001b[A\n",
      "Evaluating:  52%|█████▏    | 724/1395 [17:53<16:20,  1.46s/it]\u001b[A\n",
      "Evaluating:  52%|█████▏    | 725/1395 [17:54<16:18,  1.46s/it]\u001b[A\n",
      "Evaluating:  52%|█████▏    | 726/1395 [17:56<17:49,  1.60s/it]\u001b[A\n",
      "Evaluating:  52%|█████▏    | 727/1395 [17:58<18:41,  1.68s/it]\u001b[A\n",
      "Evaluating:  52%|█████▏    | 728/1395 [18:00<18:59,  1.71s/it]\u001b[A\n",
      "Evaluating:  52%|█████▏    | 729/1395 [18:01<19:12,  1.73s/it]\u001b[A\n",
      "Evaluating:  52%|█████▏    | 730/1395 [18:03<19:16,  1.74s/it]\u001b[A\n",
      "Evaluating:  52%|█████▏    | 731/1395 [18:05<18:07,  1.64s/it]\u001b[A\n",
      "Evaluating:  52%|█████▏    | 732/1395 [18:06<17:06,  1.55s/it]\u001b[A\n",
      "Evaluating:  53%|█████▎    | 733/1395 [18:07<16:25,  1.49s/it]\u001b[A\n",
      "Evaluating:  53%|█████▎    | 734/1395 [18:09<15:58,  1.45s/it]\u001b[A\n",
      "Evaluating:  53%|█████▎    | 735/1395 [18:10<15:46,  1.43s/it]\u001b[A\n",
      "Evaluating:  53%|█████▎    | 736/1395 [18:11<15:33,  1.42s/it]\u001b[A\n",
      "Evaluating:  53%|█████▎    | 737/1395 [18:13<15:27,  1.41s/it]\u001b[A\n",
      "Evaluating:  53%|█████▎    | 738/1395 [18:14<15:22,  1.40s/it]\u001b[A\n",
      "Evaluating:  53%|█████▎    | 739/1395 [18:15<15:06,  1.38s/it]\u001b[A\n",
      "Evaluating:  53%|█████▎    | 740/1395 [18:17<15:07,  1.39s/it]\u001b[A\n",
      "Evaluating:  53%|█████▎    | 741/1395 [18:18<15:29,  1.42s/it]\u001b[A\n",
      "Evaluating:  53%|█████▎    | 742/1395 [18:20<15:44,  1.45s/it]\u001b[A\n",
      "Evaluating:  53%|█████▎    | 743/1395 [18:21<15:49,  1.46s/it]\u001b[A\n",
      "Evaluating:  53%|█████▎    | 744/1395 [18:23<15:55,  1.47s/it]\u001b[A\n",
      "Evaluating:  53%|█████▎    | 745/1395 [18:24<15:55,  1.47s/it]\u001b[A\n",
      "Evaluating:  53%|█████▎    | 746/1395 [18:26<15:33,  1.44s/it]\u001b[A\n",
      "Evaluating:  54%|█████▎    | 747/1395 [18:27<15:45,  1.46s/it]\u001b[A\n",
      "Evaluating:  54%|█████▎    | 748/1395 [18:29<15:33,  1.44s/it]\u001b[A\n",
      "Evaluating:  54%|█████▎    | 749/1395 [18:30<15:21,  1.43s/it]\u001b[A\n",
      "Evaluating:  54%|█████▍    | 750/1395 [18:31<15:15,  1.42s/it]\u001b[A\n",
      "Evaluating:  54%|█████▍    | 751/1395 [18:33<15:16,  1.42s/it]\u001b[A\n",
      "Evaluating:  54%|█████▍    | 752/1395 [18:34<15:24,  1.44s/it]\u001b[A\n",
      "Evaluating:  54%|█████▍    | 753/1395 [18:36<15:18,  1.43s/it]\u001b[A\n",
      "Evaluating:  54%|█████▍    | 754/1395 [18:37<15:08,  1.42s/it]\u001b[A\n",
      "Evaluating:  54%|█████▍    | 755/1395 [18:38<15:03,  1.41s/it]\u001b[A\n",
      "Evaluating:  54%|█████▍    | 756/1395 [18:40<15:01,  1.41s/it]\u001b[A\n",
      "Evaluating:  54%|█████▍    | 757/1395 [18:41<14:52,  1.40s/it]\u001b[A\n",
      "Evaluating:  54%|█████▍    | 758/1395 [18:43<15:12,  1.43s/it]\u001b[A\n",
      "Evaluating:  54%|█████▍    | 759/1395 [18:44<15:08,  1.43s/it]\u001b[A\n",
      "Evaluating:  54%|█████▍    | 760/1395 [18:46<15:04,  1.42s/it]\u001b[A\n",
      "Evaluating:  55%|█████▍    | 761/1395 [18:47<15:06,  1.43s/it]\u001b[A\n",
      "Evaluating:  55%|█████▍    | 762/1395 [18:48<15:01,  1.42s/it]\u001b[A\n",
      "Evaluating:  55%|█████▍    | 763/1395 [18:50<15:17,  1.45s/it]\u001b[A\n",
      "Evaluating:  55%|█████▍    | 764/1395 [18:52<16:22,  1.56s/it]\u001b[A\n",
      "Evaluating:  55%|█████▍    | 765/1395 [18:53<16:40,  1.59s/it]\u001b[A\n",
      "Evaluating:  55%|█████▍    | 766/1395 [18:55<16:57,  1.62s/it]\u001b[A\n",
      "Evaluating:  55%|█████▍    | 767/1395 [18:57<16:53,  1.61s/it]\u001b[A\n",
      "Evaluating:  55%|█████▌    | 768/1395 [18:58<17:10,  1.64s/it]\u001b[A\n",
      "Evaluating:  55%|█████▌    | 769/1395 [19:00<17:25,  1.67s/it]\u001b[A\n",
      "Evaluating:  55%|█████▌    | 770/1395 [19:02<17:07,  1.64s/it]\u001b[A\n",
      "Evaluating:  55%|█████▌    | 771/1395 [19:04<17:48,  1.71s/it]\u001b[A\n",
      "Evaluating:  55%|█████▌    | 772/1395 [19:05<17:27,  1.68s/it]\u001b[A\n",
      "Evaluating:  55%|█████▌    | 773/1395 [19:07<16:54,  1.63s/it]\u001b[A\n",
      "Evaluating:  55%|█████▌    | 774/1395 [19:08<16:40,  1.61s/it]\u001b[A\n",
      "Evaluating:  56%|█████▌    | 775/1395 [19:10<16:24,  1.59s/it]\u001b[A\n",
      "Evaluating:  56%|█████▌    | 776/1395 [19:11<16:25,  1.59s/it]\u001b[A\n",
      "Evaluating:  56%|█████▌    | 777/1395 [19:13<16:19,  1.58s/it]\u001b[A\n",
      "Evaluating:  56%|█████▌    | 778/1395 [19:15<16:17,  1.58s/it]\u001b[A\n",
      "Evaluating:  56%|█████▌    | 779/1395 [19:16<16:12,  1.58s/it]\u001b[A\n",
      "Evaluating:  56%|█████▌    | 780/1395 [19:18<16:04,  1.57s/it]\u001b[A\n",
      "Evaluating:  56%|█████▌    | 781/1395 [19:19<15:54,  1.55s/it]\u001b[A\n",
      "Evaluating:  56%|█████▌    | 782/1395 [19:21<15:25,  1.51s/it]\u001b[A\n",
      "Evaluating:  56%|█████▌    | 783/1395 [19:22<14:56,  1.46s/it]\u001b[A\n",
      "Evaluating:  56%|█████▌    | 784/1395 [19:23<14:52,  1.46s/it]\u001b[A\n",
      "Evaluating:  56%|█████▋    | 785/1395 [19:25<14:39,  1.44s/it]\u001b[A\n",
      "Evaluating:  56%|█████▋    | 786/1395 [19:26<14:26,  1.42s/it]\u001b[A\n",
      "Evaluating:  56%|█████▋    | 787/1395 [19:28<14:16,  1.41s/it]\u001b[A\n",
      "Evaluating:  56%|█████▋    | 788/1395 [19:29<14:10,  1.40s/it]\u001b[A\n",
      "Evaluating:  57%|█████▋    | 789/1395 [19:30<14:12,  1.41s/it]\u001b[A\n",
      "Evaluating:  57%|█████▋    | 790/1395 [19:32<14:13,  1.41s/it]\u001b[A\n",
      "Evaluating:  57%|█████▋    | 791/1395 [19:33<14:15,  1.42s/it]\u001b[A\n",
      "Evaluating:  57%|█████▋    | 792/1395 [19:35<14:16,  1.42s/it]\u001b[A\n",
      "Evaluating:  57%|█████▋    | 793/1395 [19:36<14:07,  1.41s/it]\u001b[A\n",
      "Evaluating:  57%|█████▋    | 794/1395 [19:37<13:59,  1.40s/it]\u001b[A\n",
      "Evaluating:  57%|█████▋    | 795/1395 [19:39<14:01,  1.40s/it]\u001b[A\n",
      "Evaluating:  57%|█████▋    | 796/1395 [19:40<13:50,  1.39s/it]\u001b[A\n",
      "Evaluating:  57%|█████▋    | 797/1395 [19:42<13:49,  1.39s/it]\u001b[A\n",
      "Evaluating:  57%|█████▋    | 798/1395 [19:43<13:46,  1.38s/it]\u001b[A\n",
      "Evaluating:  57%|█████▋    | 799/1395 [19:44<13:47,  1.39s/it]\u001b[A\n",
      "Evaluating:  57%|█████▋    | 800/1395 [19:46<13:42,  1.38s/it]\u001b[A\n",
      "Evaluating:  57%|█████▋    | 801/1395 [19:47<13:52,  1.40s/it]\u001b[A\n",
      "Evaluating:  57%|█████▋    | 802/1395 [19:49<13:48,  1.40s/it]\u001b[A\n",
      "Evaluating:  58%|█████▊    | 803/1395 [19:50<13:52,  1.41s/it]\u001b[A\n",
      "Evaluating:  58%|█████▊    | 804/1395 [19:51<13:52,  1.41s/it]\u001b[A\n",
      "Evaluating:  58%|█████▊    | 805/1395 [19:53<13:42,  1.39s/it]\u001b[A\n",
      "Evaluating:  58%|█████▊    | 806/1395 [19:54<13:55,  1.42s/it]\u001b[A\n",
      "Evaluating:  58%|█████▊    | 807/1395 [19:56<14:02,  1.43s/it]\u001b[A\n",
      "Evaluating:  58%|█████▊    | 808/1395 [19:57<13:56,  1.42s/it]\u001b[A\n",
      "Evaluating:  58%|█████▊    | 809/1395 [19:59<13:54,  1.42s/it]\u001b[A\n",
      "Evaluating:  58%|█████▊    | 810/1395 [20:00<13:50,  1.42s/it]\u001b[A\n",
      "Evaluating:  58%|█████▊    | 811/1395 [20:01<13:47,  1.42s/it]\u001b[A\n",
      "Evaluating:  58%|█████▊    | 812/1395 [20:03<14:13,  1.46s/it]\u001b[A\n",
      "Evaluating:  58%|█████▊    | 813/1395 [20:04<14:17,  1.47s/it]\u001b[A\n",
      "Evaluating:  58%|█████▊    | 814/1395 [20:06<13:57,  1.44s/it]\u001b[A\n",
      "Evaluating:  58%|█████▊    | 815/1395 [20:07<13:45,  1.42s/it]\u001b[A\n",
      "Evaluating:  58%|█████▊    | 816/1395 [20:09<13:34,  1.41s/it]\u001b[A\n",
      "Evaluating:  59%|█████▊    | 817/1395 [20:10<13:32,  1.41s/it]\u001b[A\n",
      "Evaluating:  59%|█████▊    | 818/1395 [20:11<13:24,  1.39s/it]\u001b[A\n",
      "Evaluating:  59%|█████▊    | 819/1395 [20:13<13:19,  1.39s/it]\u001b[A\n",
      "Evaluating:  59%|█████▉    | 820/1395 [20:14<13:28,  1.41s/it]\u001b[A\n",
      "Evaluating:  59%|█████▉    | 821/1395 [20:16<13:38,  1.43s/it]\u001b[A\n",
      "Evaluating:  59%|█████▉    | 822/1395 [20:17<13:25,  1.41s/it]\u001b[A\n",
      "Evaluating:  59%|█████▉    | 823/1395 [20:18<13:19,  1.40s/it]\u001b[A\n",
      "Evaluating:  59%|█████▉    | 824/1395 [20:20<13:10,  1.38s/it]\u001b[A\n",
      "Evaluating:  59%|█████▉    | 825/1395 [20:21<12:58,  1.37s/it]\u001b[A\n",
      "Evaluating:  59%|█████▉    | 826/1395 [20:22<13:12,  1.39s/it]\u001b[A\n",
      "Evaluating:  59%|█████▉    | 827/1395 [20:24<13:24,  1.42s/it]\u001b[A\n",
      "Evaluating:  59%|█████▉    | 828/1395 [20:26<13:59,  1.48s/it]\u001b[A\n",
      "Evaluating:  59%|█████▉    | 829/1395 [20:27<14:47,  1.57s/it]\u001b[A\n",
      "Evaluating:  59%|█████▉    | 830/1395 [20:29<15:04,  1.60s/it]\u001b[A\n",
      "Evaluating:  60%|█████▉    | 831/1395 [20:31<15:02,  1.60s/it]\u001b[A\n",
      "Evaluating:  60%|█████▉    | 832/1395 [20:33<15:49,  1.69s/it]\u001b[A\n",
      "Evaluating:  60%|█████▉    | 833/1395 [20:34<15:50,  1.69s/it]\u001b[A\n",
      "Evaluating:  60%|█████▉    | 834/1395 [20:36<15:45,  1.69s/it]\u001b[A\n",
      "Evaluating:  60%|█████▉    | 835/1395 [20:38<15:36,  1.67s/it]\u001b[A\n",
      "Evaluating:  60%|█████▉    | 836/1395 [20:39<15:49,  1.70s/it]\u001b[A\n",
      "Evaluating:  60%|██████    | 837/1395 [20:41<15:20,  1.65s/it]\u001b[A\n",
      "Evaluating:  60%|██████    | 838/1395 [20:42<15:11,  1.64s/it]\u001b[A\n",
      "Evaluating:  60%|██████    | 839/1395 [20:44<14:46,  1.59s/it]\u001b[A\n",
      "Evaluating:  60%|██████    | 840/1395 [20:45<14:36,  1.58s/it]\u001b[A\n",
      "Evaluating:  60%|██████    | 841/1395 [20:47<14:29,  1.57s/it]\u001b[A\n",
      "Evaluating:  60%|██████    | 842/1395 [20:49<14:18,  1.55s/it]\u001b[A\n",
      "Evaluating:  60%|██████    | 843/1395 [20:50<14:08,  1.54s/it]\u001b[A\n",
      "Evaluating:  61%|██████    | 844/1395 [20:51<13:32,  1.47s/it]\u001b[A\n",
      "Evaluating:  61%|██████    | 845/1395 [20:53<13:11,  1.44s/it]\u001b[A\n",
      "Evaluating:  61%|██████    | 846/1395 [20:54<13:13,  1.45s/it]\u001b[A\n",
      "Evaluating:  61%|██████    | 847/1395 [20:56<13:00,  1.42s/it]\u001b[A\n",
      "Evaluating:  61%|██████    | 848/1395 [20:57<13:07,  1.44s/it]\u001b[A\n",
      "Evaluating:  61%|██████    | 849/1395 [20:58<13:07,  1.44s/it]\u001b[A\n",
      "Evaluating:  61%|██████    | 850/1395 [21:00<12:52,  1.42s/it]\u001b[A\n",
      "Evaluating:  61%|██████    | 851/1395 [21:01<13:12,  1.46s/it]\u001b[A\n",
      "Evaluating:  61%|██████    | 852/1395 [21:03<13:21,  1.48s/it]\u001b[A\n",
      "Evaluating:  61%|██████    | 853/1395 [21:04<13:31,  1.50s/it]\u001b[A\n",
      "Evaluating:  61%|██████    | 854/1395 [21:07<15:45,  1.75s/it]\u001b[A\n",
      "Evaluating:  61%|██████▏   | 855/1395 [21:08<14:58,  1.66s/it]\u001b[A\n",
      "Evaluating:  61%|██████▏   | 856/1395 [21:10<14:18,  1.59s/it]\u001b[A\n",
      "Evaluating:  61%|██████▏   | 857/1395 [21:11<13:42,  1.53s/it]\u001b[A\n",
      "Evaluating:  62%|██████▏   | 858/1395 [21:12<13:18,  1.49s/it]\u001b[A\n",
      "Evaluating:  62%|██████▏   | 859/1395 [21:14<12:59,  1.45s/it]\u001b[A\n",
      "Evaluating:  62%|██████▏   | 860/1395 [21:15<12:40,  1.42s/it]\u001b[A\n",
      "Evaluating:  62%|██████▏   | 861/1395 [21:17<12:28,  1.40s/it]\u001b[A\n",
      "Evaluating:  62%|██████▏   | 862/1395 [21:18<12:24,  1.40s/it]\u001b[A\n",
      "Evaluating:  62%|██████▏   | 863/1395 [21:19<12:17,  1.39s/it]\u001b[A\n",
      "Evaluating:  62%|██████▏   | 864/1395 [21:21<12:21,  1.40s/it]\u001b[A\n",
      "Evaluating:  62%|██████▏   | 865/1395 [21:22<12:23,  1.40s/it]\u001b[A\n",
      "Evaluating:  62%|██████▏   | 866/1395 [21:24<12:25,  1.41s/it]\u001b[A\n",
      "Evaluating:  62%|██████▏   | 867/1395 [21:25<12:30,  1.42s/it]\u001b[A\n",
      "Evaluating:  62%|██████▏   | 868/1395 [21:26<12:25,  1.42s/it]\u001b[A\n",
      "Evaluating:  62%|██████▏   | 869/1395 [21:28<12:19,  1.41s/it]\u001b[A\n",
      "Evaluating:  62%|██████▏   | 870/1395 [21:29<12:14,  1.40s/it]\u001b[A\n",
      "Evaluating:  62%|██████▏   | 871/1395 [21:31<12:07,  1.39s/it]\u001b[A\n",
      "Evaluating:  63%|██████▎   | 872/1395 [21:32<12:01,  1.38s/it]\u001b[A\n",
      "Evaluating:  63%|██████▎   | 873/1395 [21:33<12:10,  1.40s/it]\u001b[A\n",
      "Evaluating:  63%|██████▎   | 874/1395 [21:35<12:10,  1.40s/it]\u001b[A\n",
      "Evaluating:  63%|██████▎   | 875/1395 [21:36<12:04,  1.39s/it]\u001b[A\n",
      "Evaluating:  63%|██████▎   | 876/1395 [21:38<12:17,  1.42s/it]\u001b[A\n",
      "Evaluating:  63%|██████▎   | 877/1395 [21:39<12:27,  1.44s/it]\u001b[A\n",
      "Evaluating:  63%|██████▎   | 878/1395 [21:40<12:16,  1.42s/it]\u001b[A\n",
      "Evaluating:  63%|██████▎   | 879/1395 [21:42<12:01,  1.40s/it]\u001b[A\n",
      "Evaluating:  63%|██████▎   | 880/1395 [21:43<12:00,  1.40s/it]\u001b[A\n",
      "Evaluating:  63%|██████▎   | 881/1395 [21:45<11:57,  1.40s/it]\u001b[A\n",
      "Evaluating:  63%|██████▎   | 882/1395 [21:46<11:49,  1.38s/it]\u001b[A\n",
      "Evaluating:  63%|██████▎   | 883/1395 [21:47<11:47,  1.38s/it]\u001b[A\n",
      "Evaluating:  63%|██████▎   | 884/1395 [21:49<11:47,  1.38s/it]\u001b[A\n",
      "Evaluating:  63%|██████▎   | 885/1395 [21:50<11:48,  1.39s/it]\u001b[A\n",
      "Evaluating:  64%|██████▎   | 886/1395 [21:51<11:38,  1.37s/it]\u001b[A\n",
      "Evaluating:  64%|██████▎   | 887/1395 [21:53<11:36,  1.37s/it]\u001b[A\n",
      "Evaluating:  64%|██████▎   | 888/1395 [21:54<11:42,  1.39s/it]\u001b[A\n",
      "Evaluating:  64%|██████▎   | 889/1395 [21:56<11:36,  1.38s/it]\u001b[A\n",
      "Evaluating:  64%|██████▍   | 890/1395 [21:57<11:38,  1.38s/it]\u001b[A\n",
      "Evaluating:  64%|██████▍   | 891/1395 [21:58<11:31,  1.37s/it]\u001b[A\n",
      "Evaluating:  64%|██████▍   | 892/1395 [22:00<11:24,  1.36s/it]\u001b[A\n",
      "Evaluating:  64%|██████▍   | 893/1395 [22:01<11:48,  1.41s/it]\u001b[A\n",
      "Evaluating:  64%|██████▍   | 894/1395 [22:03<12:13,  1.46s/it]\u001b[A\n",
      "Evaluating:  64%|██████▍   | 895/1395 [22:04<12:23,  1.49s/it]\u001b[A\n",
      "Evaluating:  64%|██████▍   | 896/1395 [22:06<12:18,  1.48s/it]\u001b[A\n",
      "Evaluating:  64%|██████▍   | 897/1395 [22:07<12:35,  1.52s/it]\u001b[A\n",
      "Evaluating:  64%|██████▍   | 898/1395 [22:09<12:32,  1.51s/it]\u001b[A\n",
      "Evaluating:  64%|██████▍   | 899/1395 [22:11<13:00,  1.57s/it]\u001b[A\n",
      "Evaluating:  65%|██████▍   | 900/1395 [22:12<12:57,  1.57s/it]\u001b[A\n",
      "Evaluating:  65%|██████▍   | 901/1395 [22:14<12:56,  1.57s/it]\u001b[A\n",
      "Evaluating:  65%|██████▍   | 902/1395 [22:15<12:54,  1.57s/it]\u001b[A\n",
      "Evaluating:  65%|██████▍   | 903/1395 [22:17<12:53,  1.57s/it]\u001b[A\n",
      "Evaluating:  65%|██████▍   | 904/1395 [22:18<12:47,  1.56s/it]\u001b[A\n",
      "Evaluating:  65%|██████▍   | 905/1395 [22:20<12:46,  1.56s/it]\u001b[A\n",
      "Evaluating:  65%|██████▍   | 906/1395 [22:21<12:16,  1.51s/it]\u001b[A\n",
      "Evaluating:  65%|██████▌   | 907/1395 [22:23<11:48,  1.45s/it]\u001b[A\n",
      "Evaluating:  65%|██████▌   | 908/1395 [22:24<11:34,  1.43s/it]\u001b[A\n",
      "Evaluating:  65%|██████▌   | 909/1395 [22:25<11:23,  1.41s/it]\u001b[A\n",
      "Evaluating:  65%|██████▌   | 910/1395 [22:27<11:11,  1.38s/it]\u001b[A\n",
      "Evaluating:  65%|██████▌   | 911/1395 [22:28<11:02,  1.37s/it]\u001b[A\n",
      "Evaluating:  65%|██████▌   | 912/1395 [22:29<10:59,  1.37s/it]\u001b[A\n",
      "Evaluating:  65%|██████▌   | 913/1395 [22:31<10:52,  1.35s/it]\u001b[A\n",
      "Evaluating:  66%|██████▌   | 914/1395 [22:32<10:51,  1.36s/it]\u001b[A\n",
      "Evaluating:  66%|██████▌   | 915/1395 [22:34<10:51,  1.36s/it]\u001b[A\n",
      "Evaluating:  66%|██████▌   | 916/1395 [22:35<10:52,  1.36s/it]\u001b[A\n",
      "Evaluating:  66%|██████▌   | 917/1395 [22:36<10:54,  1.37s/it]\u001b[A\n",
      "Evaluating:  66%|██████▌   | 918/1395 [22:38<11:00,  1.38s/it]\u001b[A\n",
      "Evaluating:  66%|██████▌   | 919/1395 [22:39<10:50,  1.37s/it]\u001b[A\n",
      "Evaluating:  66%|██████▌   | 920/1395 [22:40<10:48,  1.37s/it]\u001b[A\n",
      "Evaluating:  66%|██████▌   | 921/1395 [22:42<11:07,  1.41s/it]\u001b[A\n",
      "Evaluating:  66%|██████▌   | 922/1395 [22:43<11:10,  1.42s/it]\u001b[A\n",
      "Evaluating:  66%|██████▌   | 923/1395 [22:45<10:59,  1.40s/it]\u001b[A\n",
      "Evaluating:  66%|██████▌   | 924/1395 [22:46<10:52,  1.39s/it]\u001b[A\n",
      "Evaluating:  66%|██████▋   | 925/1395 [22:47<10:57,  1.40s/it]\u001b[A\n",
      "Evaluating:  66%|██████▋   | 926/1395 [22:49<11:06,  1.42s/it]\u001b[A\n",
      "Evaluating:  66%|██████▋   | 927/1395 [22:50<11:10,  1.43s/it]\u001b[A\n",
      "Evaluating:  67%|██████▋   | 928/1395 [22:52<11:03,  1.42s/it]\u001b[A\n",
      "Evaluating:  67%|██████▋   | 929/1395 [22:53<11:10,  1.44s/it]\u001b[A\n",
      "Evaluating:  67%|██████▋   | 930/1395 [22:55<11:03,  1.43s/it]\u001b[A\n",
      "Evaluating:  67%|██████▋   | 931/1395 [22:56<11:04,  1.43s/it]\u001b[A\n",
      "Evaluating:  67%|██████▋   | 932/1395 [22:58<11:07,  1.44s/it]\u001b[A\n",
      "Evaluating:  67%|██████▋   | 933/1395 [22:59<10:57,  1.42s/it]\u001b[A\n",
      "Evaluating:  67%|██████▋   | 934/1395 [23:00<10:53,  1.42s/it]\u001b[A\n",
      "Evaluating:  67%|██████▋   | 935/1395 [23:02<10:47,  1.41s/it]\u001b[A\n",
      "Evaluating:  67%|██████▋   | 936/1395 [23:03<10:51,  1.42s/it]\u001b[A\n",
      "Evaluating:  67%|██████▋   | 937/1395 [23:05<10:42,  1.40s/it]\u001b[A\n",
      "Evaluating:  67%|██████▋   | 938/1395 [23:06<10:37,  1.39s/it]\u001b[A\n",
      "Evaluating:  67%|██████▋   | 939/1395 [23:07<10:39,  1.40s/it]\u001b[A\n",
      "Evaluating:  67%|██████▋   | 940/1395 [23:09<10:39,  1.41s/it]\u001b[A\n",
      "Evaluating:  67%|██████▋   | 941/1395 [23:10<11:05,  1.47s/it]\u001b[A\n",
      "Evaluating:  68%|██████▊   | 942/1395 [23:12<11:02,  1.46s/it]\u001b[A\n",
      "Evaluating:  68%|██████▊   | 943/1395 [23:14<11:34,  1.54s/it]\u001b[A\n",
      "Evaluating:  68%|██████▊   | 944/1395 [23:15<11:39,  1.55s/it]\u001b[A\n",
      "Evaluating:  68%|██████▊   | 945/1395 [23:17<11:44,  1.57s/it]\u001b[A\n",
      "Evaluating:  68%|██████▊   | 946/1395 [23:18<11:27,  1.53s/it]\u001b[A\n",
      "Evaluating:  68%|██████▊   | 947/1395 [23:20<11:08,  1.49s/it]\u001b[A\n",
      "Evaluating:  68%|██████▊   | 948/1395 [23:21<11:00,  1.48s/it]\u001b[A\n",
      "Evaluating:  68%|██████▊   | 949/1395 [23:22<10:49,  1.46s/it]\u001b[A\n",
      "Evaluating:  68%|██████▊   | 950/1395 [23:24<10:53,  1.47s/it]\u001b[A\n",
      "Evaluating:  68%|██████▊   | 951/1395 [23:25<10:39,  1.44s/it]\u001b[A\n",
      "Evaluating:  68%|██████▊   | 952/1395 [23:27<10:34,  1.43s/it]\u001b[A\n",
      "Evaluating:  68%|██████▊   | 953/1395 [23:28<10:30,  1.43s/it]\u001b[A\n",
      "Evaluating:  68%|██████▊   | 954/1395 [23:30<10:36,  1.44s/it]\u001b[A\n",
      "Evaluating:  68%|██████▊   | 955/1395 [23:31<11:25,  1.56s/it]\u001b[A\n",
      "Evaluating:  69%|██████▊   | 956/1395 [23:33<11:24,  1.56s/it]\u001b[A\n",
      "Evaluating:  69%|██████▊   | 957/1395 [23:35<12:04,  1.65s/it]\u001b[A\n",
      "Evaluating:  69%|██████▊   | 958/1395 [23:37<12:06,  1.66s/it]\u001b[A\n",
      "Evaluating:  69%|██████▊   | 959/1395 [23:38<11:46,  1.62s/it]\u001b[A\n",
      "Evaluating:  69%|██████▉   | 960/1395 [23:40<12:41,  1.75s/it]\u001b[A\n",
      "Evaluating:  69%|██████▉   | 961/1395 [23:42<12:37,  1.74s/it]\u001b[A\n",
      "Evaluating:  69%|██████▉   | 962/1395 [23:44<14:20,  1.99s/it]\u001b[A\n",
      "Evaluating:  69%|██████▉   | 963/1395 [23:48<18:08,  2.52s/it]\u001b[A\n",
      "Evaluating:  69%|██████▉   | 964/1395 [23:52<20:24,  2.84s/it]\u001b[A\n",
      "Evaluating:  69%|██████▉   | 965/1395 [23:55<20:47,  2.90s/it]\u001b[A\n",
      "Evaluating:  69%|██████▉   | 966/1395 [23:59<23:19,  3.26s/it]\u001b[A\n",
      "Evaluating:  69%|██████▉   | 967/1395 [24:02<22:56,  3.22s/it]\u001b[A\n",
      "Evaluating:  69%|██████▉   | 968/1395 [24:05<22:34,  3.17s/it]\u001b[A\n",
      "Evaluating:  69%|██████▉   | 969/1395 [24:08<22:39,  3.19s/it]\u001b[A\n",
      "Evaluating:  70%|██████▉   | 970/1395 [24:12<23:42,  3.35s/it]\u001b[A\n",
      "Evaluating:  70%|██████▉   | 971/1395 [24:15<23:07,  3.27s/it]\u001b[A\n",
      "Evaluating:  70%|██████▉   | 972/1395 [24:17<20:59,  2.98s/it]\u001b[A\n",
      "Evaluating:  70%|██████▉   | 973/1395 [24:19<18:30,  2.63s/it]\u001b[A\n",
      "Evaluating:  70%|██████▉   | 974/1395 [24:21<16:19,  2.33s/it]\u001b[A\n",
      "Evaluating:  70%|██████▉   | 975/1395 [24:22<14:37,  2.09s/it]\u001b[A\n",
      "Evaluating:  70%|██████▉   | 976/1395 [24:24<13:43,  1.97s/it]\u001b[A\n",
      "Evaluating:  70%|███████   | 977/1395 [24:26<12:54,  1.85s/it]\u001b[A\n",
      "Evaluating:  70%|███████   | 978/1395 [24:27<12:19,  1.77s/it]\u001b[A\n",
      "Evaluating:  70%|███████   | 979/1395 [24:29<12:29,  1.80s/it]\u001b[A\n",
      "Evaluating:  70%|███████   | 980/1395 [24:31<12:21,  1.79s/it]\u001b[A\n",
      "Evaluating:  70%|███████   | 981/1395 [24:32<11:54,  1.73s/it]\u001b[A\n",
      "Evaluating:  70%|███████   | 982/1395 [24:34<12:30,  1.82s/it]\u001b[A\n",
      "Evaluating:  70%|███████   | 983/1395 [24:36<12:34,  1.83s/it]\u001b[A\n",
      "Evaluating:  71%|███████   | 984/1395 [24:38<12:16,  1.79s/it]\u001b[A\n",
      "Evaluating:  71%|███████   | 985/1395 [24:40<11:46,  1.72s/it]\u001b[A\n",
      "Evaluating:  71%|███████   | 986/1395 [24:42<12:25,  1.82s/it]\u001b[A\n",
      "Evaluating:  71%|███████   | 987/1395 [24:43<12:16,  1.80s/it]\u001b[A\n",
      "Evaluating:  71%|███████   | 988/1395 [24:45<11:52,  1.75s/it]\u001b[A\n",
      "Evaluating:  71%|███████   | 989/1395 [24:47<11:40,  1.73s/it]\u001b[A\n",
      "Evaluating:  71%|███████   | 990/1395 [24:48<11:38,  1.72s/it]\u001b[A\n",
      "Evaluating:  71%|███████   | 991/1395 [24:50<11:24,  1.69s/it]\u001b[A\n",
      "Evaluating:  71%|███████   | 992/1395 [24:52<11:29,  1.71s/it]\u001b[A\n",
      "Evaluating:  71%|███████   | 993/1395 [24:54<11:58,  1.79s/it]\u001b[A\n",
      "Evaluating:  71%|███████▏  | 994/1395 [24:55<11:39,  1.74s/it]\u001b[A\n",
      "Evaluating:  71%|███████▏  | 995/1395 [24:57<11:25,  1.71s/it]\u001b[A\n",
      "Evaluating:  71%|███████▏  | 996/1395 [24:59<11:29,  1.73s/it]\u001b[A\n",
      "Evaluating:  71%|███████▏  | 997/1395 [25:00<11:07,  1.68s/it]\u001b[A\n",
      "Evaluating:  72%|███████▏  | 998/1395 [25:02<11:00,  1.66s/it]\u001b[A\n",
      "Evaluating:  72%|███████▏  | 999/1395 [25:04<11:00,  1.67s/it]\u001b[A\n",
      "Evaluating:  72%|███████▏  | 1000/1395 [25:05<10:30,  1.60s/it]\u001b[A\n",
      "Evaluating:  72%|███████▏  | 1001/1395 [25:07<10:04,  1.53s/it]\u001b[A\n",
      "Evaluating:  72%|███████▏  | 1002/1395 [25:08<09:45,  1.49s/it]\u001b[A\n",
      "Evaluating:  72%|███████▏  | 1003/1395 [25:09<09:35,  1.47s/it]\u001b[A\n",
      "Evaluating:  72%|███████▏  | 1004/1395 [25:11<09:40,  1.48s/it]\u001b[A\n",
      "Evaluating:  72%|███████▏  | 1005/1395 [25:12<09:25,  1.45s/it]\u001b[A\n",
      "Evaluating:  72%|███████▏  | 1006/1395 [25:14<09:20,  1.44s/it]\u001b[A\n",
      "Evaluating:  72%|███████▏  | 1007/1395 [25:15<09:22,  1.45s/it]\u001b[A\n",
      "Evaluating:  72%|███████▏  | 1008/1395 [25:17<09:15,  1.44s/it]\u001b[A\n",
      "Evaluating:  72%|███████▏  | 1009/1395 [25:18<09:13,  1.43s/it]\u001b[A\n",
      "Evaluating:  72%|███████▏  | 1010/1395 [25:19<09:18,  1.45s/it]\u001b[A\n",
      "Evaluating:  72%|███████▏  | 1011/1395 [25:22<10:38,  1.66s/it]\u001b[A\n",
      "Evaluating:  73%|███████▎  | 1012/1395 [25:23<10:21,  1.62s/it]\u001b[A\n",
      "Evaluating:  73%|███████▎  | 1013/1395 [25:25<09:59,  1.57s/it]\u001b[A\n",
      "Evaluating:  73%|███████▎  | 1014/1395 [25:26<09:37,  1.52s/it]\u001b[A\n",
      "Evaluating:  73%|███████▎  | 1015/1395 [25:27<09:22,  1.48s/it]\u001b[A\n",
      "Evaluating:  73%|███████▎  | 1016/1395 [25:29<09:14,  1.46s/it]\u001b[A\n",
      "Evaluating:  73%|███████▎  | 1017/1395 [25:30<09:02,  1.43s/it]\u001b[A\n",
      "Evaluating:  73%|███████▎  | 1018/1395 [25:32<09:01,  1.44s/it]\u001b[A\n",
      "Evaluating:  73%|███████▎  | 1019/1395 [25:33<09:00,  1.44s/it]\u001b[A\n",
      "Evaluating:  73%|███████▎  | 1020/1395 [25:34<08:57,  1.43s/it]\u001b[A\n",
      "Evaluating:  73%|███████▎  | 1021/1395 [25:36<08:57,  1.44s/it]\u001b[A\n",
      "Evaluating:  73%|███████▎  | 1022/1395 [25:37<08:52,  1.43s/it]\u001b[A\n",
      "Evaluating:  73%|███████▎  | 1023/1395 [25:39<08:46,  1.42s/it]\u001b[A\n",
      "Evaluating:  73%|███████▎  | 1024/1395 [25:40<08:56,  1.45s/it]\u001b[A\n",
      "Evaluating:  73%|███████▎  | 1025/1395 [25:42<08:50,  1.44s/it]\u001b[A\n",
      "Evaluating:  74%|███████▎  | 1026/1395 [25:43<08:45,  1.43s/it]\u001b[A\n",
      "Evaluating:  74%|███████▎  | 1027/1395 [25:44<08:48,  1.44s/it]\u001b[A\n",
      "Evaluating:  74%|███████▎  | 1028/1395 [25:46<08:44,  1.43s/it]\u001b[A\n",
      "Evaluating:  74%|███████▍  | 1029/1395 [25:47<08:39,  1.42s/it]\u001b[A\n",
      "Evaluating:  74%|███████▍  | 1030/1395 [25:49<08:48,  1.45s/it]\u001b[A\n",
      "Evaluating:  74%|███████▍  | 1031/1395 [25:50<09:12,  1.52s/it]\u001b[A\n",
      "Evaluating:  74%|███████▍  | 1032/1395 [25:52<09:24,  1.56s/it]\u001b[A\n",
      "Evaluating:  74%|███████▍  | 1033/1395 [25:54<09:45,  1.62s/it]\u001b[A\n",
      "Evaluating:  74%|███████▍  | 1034/1395 [25:56<09:56,  1.65s/it]\u001b[A\n",
      "Evaluating:  74%|███████▍  | 1035/1395 [25:57<09:49,  1.64s/it]\u001b[A\n",
      "Evaluating:  74%|███████▍  | 1036/1395 [25:59<09:23,  1.57s/it]\u001b[A\n",
      "Evaluating:  74%|███████▍  | 1037/1395 [26:00<09:01,  1.51s/it]\u001b[A\n",
      "Evaluating:  74%|███████▍  | 1038/1395 [26:01<08:40,  1.46s/it]\u001b[A\n",
      "Evaluating:  74%|███████▍  | 1039/1395 [26:03<08:27,  1.43s/it]\u001b[A\n",
      "Evaluating:  75%|███████▍  | 1040/1395 [26:04<08:23,  1.42s/it]\u001b[A\n",
      "Evaluating:  75%|███████▍  | 1041/1395 [26:06<08:23,  1.42s/it]\u001b[A\n",
      "Evaluating:  75%|███████▍  | 1042/1395 [26:07<08:19,  1.41s/it]\u001b[A\n",
      "Evaluating:  75%|███████▍  | 1043/1395 [26:08<08:19,  1.42s/it]\u001b[A\n",
      "Evaluating:  75%|███████▍  | 1044/1395 [26:10<08:14,  1.41s/it]\u001b[A\n",
      "Evaluating:  75%|███████▍  | 1045/1395 [26:11<08:30,  1.46s/it]\u001b[A\n",
      "Evaluating:  75%|███████▍  | 1046/1395 [26:13<08:41,  1.49s/it]\u001b[A\n",
      "Evaluating:  75%|███████▌  | 1047/1395 [26:14<08:47,  1.52s/it]\u001b[A\n",
      "Evaluating:  75%|███████▌  | 1048/1395 [26:16<08:59,  1.55s/it]\u001b[A\n",
      "Evaluating:  75%|███████▌  | 1049/1395 [26:18<08:58,  1.56s/it]\u001b[A\n",
      "Evaluating:  75%|███████▌  | 1050/1395 [26:19<08:59,  1.56s/it]\u001b[A\n",
      "Evaluating:  75%|███████▌  | 1051/1395 [26:21<08:49,  1.54s/it]\u001b[A\n",
      "Evaluating:  75%|███████▌  | 1052/1395 [26:22<08:55,  1.56s/it]\u001b[A\n",
      "Evaluating:  75%|███████▌  | 1053/1395 [26:24<09:25,  1.65s/it]\u001b[A\n",
      "Evaluating:  76%|███████▌  | 1054/1395 [26:26<09:25,  1.66s/it]\u001b[A\n",
      "Evaluating:  76%|███████▌  | 1055/1395 [26:28<10:04,  1.78s/it]\u001b[A\n",
      "Evaluating:  76%|███████▌  | 1056/1395 [26:30<09:49,  1.74s/it]\u001b[A\n",
      "Evaluating:  76%|███████▌  | 1057/1395 [26:31<09:48,  1.74s/it]\u001b[A\n",
      "Evaluating:  76%|███████▌  | 1058/1395 [26:33<09:30,  1.69s/it]\u001b[A\n",
      "Evaluating:  76%|███████▌  | 1059/1395 [26:35<09:35,  1.71s/it]\u001b[A\n",
      "Evaluating:  76%|███████▌  | 1060/1395 [26:36<09:03,  1.62s/it]\u001b[A\n",
      "Evaluating:  76%|███████▌  | 1061/1395 [26:37<08:42,  1.56s/it]\u001b[A\n",
      "Evaluating:  76%|███████▌  | 1062/1395 [26:39<08:28,  1.53s/it]\u001b[A\n",
      "Evaluating:  76%|███████▌  | 1063/1395 [26:40<08:19,  1.51s/it]\u001b[A\n",
      "Evaluating:  76%|███████▋  | 1064/1395 [26:42<08:07,  1.47s/it]\u001b[A\n",
      "Evaluating:  76%|███████▋  | 1065/1395 [26:43<07:55,  1.44s/it]\u001b[A\n",
      "Evaluating:  76%|███████▋  | 1066/1395 [26:45<07:57,  1.45s/it]\u001b[A\n",
      "Evaluating:  76%|███████▋  | 1067/1395 [26:46<07:48,  1.43s/it]\u001b[A\n",
      "Evaluating:  77%|███████▋  | 1068/1395 [26:47<07:47,  1.43s/it]\u001b[A\n",
      "Evaluating:  77%|███████▋  | 1069/1395 [26:49<07:40,  1.41s/it]\u001b[A\n",
      "Evaluating:  77%|███████▋  | 1070/1395 [26:50<07:31,  1.39s/it]\u001b[A\n",
      "Evaluating:  77%|███████▋  | 1071/1395 [26:52<07:31,  1.39s/it]\u001b[A\n",
      "Evaluating:  77%|███████▋  | 1072/1395 [26:53<07:29,  1.39s/it]\u001b[A\n",
      "Evaluating:  77%|███████▋  | 1073/1395 [26:54<07:38,  1.42s/it]\u001b[A\n",
      "Evaluating:  77%|███████▋  | 1074/1395 [26:56<07:43,  1.44s/it]\u001b[A\n",
      "Evaluating:  77%|███████▋  | 1075/1395 [26:57<07:52,  1.48s/it]\u001b[A\n",
      "Evaluating:  77%|███████▋  | 1076/1395 [26:59<08:01,  1.51s/it]\u001b[A\n",
      "Evaluating:  77%|███████▋  | 1077/1395 [27:00<07:48,  1.47s/it]\u001b[A\n",
      "Evaluating:  77%|███████▋  | 1078/1395 [27:02<07:35,  1.44s/it]\u001b[A\n",
      "Evaluating:  77%|███████▋  | 1079/1395 [27:03<07:36,  1.45s/it]\u001b[A\n",
      "Evaluating:  77%|███████▋  | 1080/1395 [27:05<07:28,  1.43s/it]\u001b[A\n",
      "Evaluating:  77%|███████▋  | 1081/1395 [27:06<07:22,  1.41s/it]\u001b[A\n",
      "Evaluating:  78%|███████▊  | 1082/1395 [27:08<07:27,  1.43s/it]\u001b[A\n",
      "Evaluating:  78%|███████▊  | 1083/1395 [27:09<07:18,  1.41s/it]\u001b[A\n",
      "Evaluating:  78%|███████▊  | 1084/1395 [27:10<07:13,  1.39s/it]\u001b[A\n",
      "Evaluating:  78%|███████▊  | 1085/1395 [27:12<07:07,  1.38s/it]\u001b[A\n",
      "Evaluating:  78%|███████▊  | 1086/1395 [27:13<07:03,  1.37s/it]\u001b[A\n",
      "Evaluating:  78%|███████▊  | 1087/1395 [27:14<07:00,  1.37s/it]\u001b[A\n",
      "Evaluating:  78%|███████▊  | 1088/1395 [27:16<06:57,  1.36s/it]\u001b[A\n",
      "Evaluating:  78%|███████▊  | 1089/1395 [27:17<06:56,  1.36s/it]\u001b[A\n",
      "Evaluating:  78%|███████▊  | 1090/1395 [27:18<06:55,  1.36s/it]\u001b[A\n",
      "Evaluating:  78%|███████▊  | 1091/1395 [27:20<06:56,  1.37s/it]\u001b[A\n",
      "Evaluating:  78%|███████▊  | 1092/1395 [27:21<06:52,  1.36s/it]\u001b[A\n",
      "Evaluating:  78%|███████▊  | 1093/1395 [27:22<06:53,  1.37s/it]\u001b[A\n",
      "Evaluating:  78%|███████▊  | 1094/1395 [27:24<06:56,  1.38s/it]\u001b[A\n",
      "Evaluating:  78%|███████▊  | 1095/1395 [27:25<06:59,  1.40s/it]\u001b[A\n",
      "Evaluating:  79%|███████▊  | 1096/1395 [27:27<07:01,  1.41s/it]\u001b[A\n",
      "Evaluating:  79%|███████▊  | 1097/1395 [27:28<06:57,  1.40s/it]\u001b[A\n",
      "Evaluating:  79%|███████▊  | 1098/1395 [27:30<07:01,  1.42s/it]\u001b[A\n",
      "Evaluating:  79%|███████▉  | 1099/1395 [27:31<07:04,  1.43s/it]\u001b[A\n",
      "Evaluating:  79%|███████▉  | 1100/1395 [27:32<07:01,  1.43s/it]\u001b[A\n",
      "Evaluating:  79%|███████▉  | 1101/1395 [27:34<07:02,  1.44s/it]\u001b[A\n",
      "Evaluating:  79%|███████▉  | 1102/1395 [27:35<07:01,  1.44s/it]\u001b[A\n",
      "Evaluating:  79%|███████▉  | 1103/1395 [27:37<06:58,  1.43s/it]\u001b[A\n",
      "Evaluating:  79%|███████▉  | 1104/1395 [27:38<06:58,  1.44s/it]\u001b[A\n",
      "Evaluating:  79%|███████▉  | 1105/1395 [27:40<06:56,  1.44s/it]\u001b[A\n",
      "Evaluating:  79%|███████▉  | 1106/1395 [27:45<12:19,  2.56s/it]\u001b[A\n",
      "Evaluating:  79%|███████▉  | 1107/1395 [27:46<10:51,  2.26s/it]\u001b[A\n",
      "Evaluating:  79%|███████▉  | 1108/1395 [27:48<09:48,  2.05s/it]\u001b[A\n",
      "Evaluating:  79%|███████▉  | 1109/1395 [27:50<09:10,  1.93s/it]\u001b[A\n",
      "Evaluating:  80%|███████▉  | 1110/1395 [27:51<08:36,  1.81s/it]\u001b[A\n",
      "Evaluating:  80%|███████▉  | 1111/1395 [27:53<08:20,  1.76s/it]\u001b[A\n",
      "Evaluating:  80%|███████▉  | 1112/1395 [27:54<08:04,  1.71s/it]\u001b[A\n",
      "Evaluating:  80%|███████▉  | 1113/1395 [27:56<07:54,  1.68s/it]\u001b[A\n",
      "Evaluating:  80%|███████▉  | 1114/1395 [27:58<07:40,  1.64s/it]\u001b[A\n",
      "Evaluating:  80%|███████▉  | 1115/1395 [27:59<07:32,  1.62s/it]\u001b[A\n",
      "Evaluating:  80%|████████  | 1116/1395 [28:01<07:36,  1.63s/it]\u001b[A\n",
      "Evaluating:  80%|████████  | 1117/1395 [28:03<07:45,  1.67s/it]\u001b[A\n",
      "Evaluating:  80%|████████  | 1118/1395 [28:04<07:45,  1.68s/it]\u001b[A\n",
      "Evaluating:  80%|████████  | 1119/1395 [28:06<07:45,  1.69s/it]\u001b[A\n",
      "Evaluating:  80%|████████  | 1120/1395 [28:08<07:57,  1.74s/it]\u001b[A\n",
      "Evaluating:  80%|████████  | 1121/1395 [28:09<07:41,  1.68s/it]\u001b[A\n",
      "Evaluating:  80%|████████  | 1122/1395 [28:11<07:31,  1.65s/it]\u001b[A\n",
      "Evaluating:  81%|████████  | 1123/1395 [28:13<07:26,  1.64s/it]\u001b[A\n",
      "Evaluating:  81%|████████  | 1124/1395 [28:14<07:22,  1.63s/it]\u001b[A\n",
      "Evaluating:  81%|████████  | 1125/1395 [28:16<07:02,  1.57s/it]\u001b[A\n",
      "Evaluating:  81%|████████  | 1126/1395 [28:17<06:50,  1.53s/it]\u001b[A\n",
      "Evaluating:  81%|████████  | 1127/1395 [28:18<06:38,  1.49s/it]\u001b[A\n",
      "Evaluating:  81%|████████  | 1128/1395 [28:20<06:27,  1.45s/it]\u001b[A\n",
      "Evaluating:  81%|████████  | 1129/1395 [28:21<06:22,  1.44s/it]\u001b[A\n",
      "Evaluating:  81%|████████  | 1130/1395 [28:23<06:16,  1.42s/it]\u001b[A\n",
      "Evaluating:  81%|████████  | 1131/1395 [28:24<06:23,  1.45s/it]\u001b[A\n",
      "Evaluating:  81%|████████  | 1132/1395 [28:26<06:19,  1.44s/it]\u001b[A\n",
      "Evaluating:  81%|████████  | 1133/1395 [28:27<06:19,  1.45s/it]\u001b[A\n",
      "Evaluating:  81%|████████▏ | 1134/1395 [28:28<06:14,  1.43s/it]\u001b[A\n",
      "Evaluating:  81%|████████▏ | 1135/1395 [28:30<06:11,  1.43s/it]\u001b[A\n",
      "Evaluating:  81%|████████▏ | 1136/1395 [28:31<06:10,  1.43s/it]\u001b[A\n",
      "Evaluating:  82%|████████▏ | 1137/1395 [28:33<06:08,  1.43s/it]\u001b[A\n",
      "Evaluating:  82%|████████▏ | 1138/1395 [28:34<06:22,  1.49s/it]\u001b[A\n",
      "Evaluating:  82%|████████▏ | 1139/1395 [28:36<06:16,  1.47s/it]\u001b[A\n",
      "Evaluating:  82%|████████▏ | 1140/1395 [28:37<06:12,  1.46s/it]\u001b[A\n",
      "Evaluating:  82%|████████▏ | 1141/1395 [28:39<06:07,  1.45s/it]\u001b[A\n",
      "Evaluating:  82%|████████▏ | 1142/1395 [28:40<05:58,  1.42s/it]\u001b[A\n",
      "Evaluating:  82%|████████▏ | 1143/1395 [28:41<06:00,  1.43s/it]\u001b[A\n",
      "Evaluating:  82%|████████▏ | 1144/1395 [28:43<05:56,  1.42s/it]\u001b[A\n",
      "Evaluating:  82%|████████▏ | 1145/1395 [28:44<05:50,  1.40s/it]\u001b[A\n",
      "Evaluating:  82%|████████▏ | 1146/1395 [28:46<05:47,  1.40s/it]\u001b[A\n",
      "Evaluating:  82%|████████▏ | 1147/1395 [28:47<05:47,  1.40s/it]\u001b[A\n",
      "Evaluating:  82%|████████▏ | 1148/1395 [28:48<05:46,  1.40s/it]\u001b[A\n",
      "Evaluating:  82%|████████▏ | 1149/1395 [28:50<05:53,  1.44s/it]\u001b[A\n",
      "Evaluating:  82%|████████▏ | 1150/1395 [28:51<05:49,  1.43s/it]\u001b[A\n",
      "Evaluating:  83%|████████▎ | 1151/1395 [28:53<05:44,  1.41s/it]\u001b[A\n",
      "Evaluating:  83%|████████▎ | 1152/1395 [28:54<05:55,  1.46s/it]\u001b[A\n",
      "Evaluating:  83%|████████▎ | 1153/1395 [28:56<05:49,  1.44s/it]\u001b[A\n",
      "Evaluating:  83%|████████▎ | 1154/1395 [28:57<05:45,  1.43s/it]\u001b[A\n",
      "Evaluating:  83%|████████▎ | 1155/1395 [28:58<05:42,  1.43s/it]\u001b[A\n",
      "Evaluating:  83%|████████▎ | 1156/1395 [29:00<05:44,  1.44s/it]\u001b[A\n",
      "Evaluating:  83%|████████▎ | 1157/1395 [29:01<05:37,  1.42s/it]\u001b[A\n",
      "Evaluating:  83%|████████▎ | 1158/1395 [29:03<05:41,  1.44s/it]\u001b[A\n",
      "Evaluating:  83%|████████▎ | 1159/1395 [29:04<05:46,  1.47s/it]\u001b[A\n",
      "Evaluating:  83%|████████▎ | 1160/1395 [29:06<05:52,  1.50s/it]\u001b[A\n",
      "Evaluating:  83%|████████▎ | 1161/1395 [29:07<05:46,  1.48s/it]\u001b[A\n",
      "Evaluating:  83%|████████▎ | 1162/1395 [29:09<05:36,  1.44s/it]\u001b[A\n",
      "Evaluating:  83%|████████▎ | 1163/1395 [29:10<05:39,  1.46s/it]\u001b[A\n",
      "Evaluating:  83%|████████▎ | 1164/1395 [29:12<05:35,  1.45s/it]\u001b[A\n",
      "Evaluating:  84%|████████▎ | 1165/1395 [29:13<05:32,  1.44s/it]\u001b[A\n",
      "Evaluating:  84%|████████▎ | 1166/1395 [29:15<05:35,  1.47s/it]\u001b[A\n",
      "Evaluating:  84%|████████▎ | 1167/1395 [29:16<05:27,  1.44s/it]\u001b[A\n",
      "Evaluating:  84%|████████▎ | 1168/1395 [29:17<05:19,  1.41s/it]\u001b[A\n",
      "Evaluating:  84%|████████▍ | 1169/1395 [29:19<05:19,  1.41s/it]\u001b[A\n",
      "Evaluating:  84%|████████▍ | 1170/1395 [29:20<05:12,  1.39s/it]\u001b[A\n",
      "Evaluating:  84%|████████▍ | 1171/1395 [29:21<05:16,  1.41s/it]\u001b[A\n",
      "Evaluating:  84%|████████▍ | 1172/1395 [29:23<05:17,  1.42s/it]\u001b[A\n",
      "Evaluating:  84%|████████▍ | 1173/1395 [29:24<05:20,  1.44s/it]\u001b[A\n",
      "Evaluating:  84%|████████▍ | 1174/1395 [29:26<05:35,  1.52s/it]\u001b[A\n",
      "Evaluating:  84%|████████▍ | 1175/1395 [29:28<05:54,  1.61s/it]\u001b[A\n",
      "Evaluating:  84%|████████▍ | 1176/1395 [29:30<06:33,  1.80s/it]\u001b[A\n",
      "Evaluating:  84%|████████▍ | 1177/1395 [29:32<06:19,  1.74s/it]\u001b[A\n",
      "Evaluating:  84%|████████▍ | 1178/1395 [29:33<06:13,  1.72s/it]\u001b[A\n",
      "Evaluating:  85%|████████▍ | 1179/1395 [29:35<06:31,  1.81s/it]\u001b[A\n",
      "Evaluating:  85%|████████▍ | 1180/1395 [29:37<06:37,  1.85s/it]\u001b[A\n",
      "Evaluating:  85%|████████▍ | 1181/1395 [29:39<06:27,  1.81s/it]\u001b[A\n",
      "Evaluating:  85%|████████▍ | 1182/1395 [29:41<06:12,  1.75s/it]\u001b[A\n",
      "Evaluating:  85%|████████▍ | 1183/1395 [29:42<06:02,  1.71s/it]\u001b[A\n",
      "Evaluating:  85%|████████▍ | 1184/1395 [29:44<05:55,  1.68s/it]\u001b[A\n",
      "Evaluating:  85%|████████▍ | 1185/1395 [29:46<05:45,  1.64s/it]\u001b[A\n",
      "Evaluating:  85%|████████▌ | 1186/1395 [29:47<05:50,  1.67s/it]\u001b[A\n",
      "Evaluating:  85%|████████▌ | 1187/1395 [29:49<05:38,  1.63s/it]\u001b[A\n",
      "Evaluating:  85%|████████▌ | 1188/1395 [29:50<05:21,  1.55s/it]\u001b[A\n",
      "Evaluating:  85%|████████▌ | 1189/1395 [29:52<05:09,  1.50s/it]\u001b[A\n",
      "Evaluating:  85%|████████▌ | 1190/1395 [29:53<05:00,  1.47s/it]\u001b[A\n",
      "Evaluating:  85%|████████▌ | 1191/1395 [29:54<04:58,  1.46s/it]\u001b[A\n",
      "Evaluating:  85%|████████▌ | 1192/1395 [29:56<04:59,  1.48s/it]\u001b[A\n",
      "Evaluating:  86%|████████▌ | 1193/1395 [29:57<04:53,  1.46s/it]\u001b[A\n",
      "Evaluating:  86%|████████▌ | 1194/1395 [29:59<05:30,  1.65s/it]\u001b[A\n",
      "Evaluating:  86%|████████▌ | 1195/1395 [30:01<05:14,  1.57s/it]\u001b[A\n",
      "Evaluating:  86%|████████▌ | 1196/1395 [30:02<05:01,  1.52s/it]\u001b[A\n",
      "Evaluating:  86%|████████▌ | 1197/1395 [30:04<04:53,  1.48s/it]\u001b[A\n",
      "Evaluating:  86%|████████▌ | 1198/1395 [30:05<04:45,  1.45s/it]\u001b[A\n",
      "Evaluating:  86%|████████▌ | 1199/1395 [30:06<04:38,  1.42s/it]\u001b[A\n",
      "Evaluating:  86%|████████▌ | 1200/1395 [30:08<04:34,  1.41s/it]\u001b[A\n",
      "Evaluating:  86%|████████▌ | 1201/1395 [30:09<04:40,  1.45s/it]\u001b[A\n",
      "Evaluating:  86%|████████▌ | 1202/1395 [30:11<04:44,  1.48s/it]\u001b[A\n",
      "Evaluating:  86%|████████▌ | 1203/1395 [30:12<04:38,  1.45s/it]\u001b[A\n",
      "Evaluating:  86%|████████▋ | 1204/1395 [30:14<04:32,  1.43s/it]\u001b[A\n",
      "Evaluating:  86%|████████▋ | 1205/1395 [30:15<04:31,  1.43s/it]\u001b[A\n",
      "Evaluating:  86%|████████▋ | 1206/1395 [30:16<04:26,  1.41s/it]\u001b[A\n",
      "Evaluating:  87%|████████▋ | 1207/1395 [30:18<04:21,  1.39s/it]\u001b[A\n",
      "Evaluating:  87%|████████▋ | 1208/1395 [30:19<04:18,  1.38s/it]\u001b[A\n",
      "Evaluating:  87%|████████▋ | 1209/1395 [30:20<04:13,  1.36s/it]\u001b[A\n",
      "Evaluating:  87%|████████▋ | 1210/1395 [30:22<04:10,  1.36s/it]\u001b[A\n",
      "Evaluating:  87%|████████▋ | 1211/1395 [30:23<04:13,  1.38s/it]\u001b[A\n",
      "Evaluating:  87%|████████▋ | 1212/1395 [30:25<04:15,  1.39s/it]\u001b[A\n",
      "Evaluating:  87%|████████▋ | 1213/1395 [30:26<04:16,  1.41s/it]\u001b[A\n",
      "Evaluating:  87%|████████▋ | 1214/1395 [30:27<04:17,  1.42s/it]\u001b[A\n",
      "Evaluating:  87%|████████▋ | 1215/1395 [30:29<04:14,  1.41s/it]\u001b[A\n",
      "Evaluating:  87%|████████▋ | 1216/1395 [30:30<04:12,  1.41s/it]\u001b[A\n",
      "Evaluating:  87%|████████▋ | 1217/1395 [30:32<04:10,  1.41s/it]\u001b[A\n",
      "Evaluating:  87%|████████▋ | 1218/1395 [30:33<04:10,  1.42s/it]\u001b[A\n",
      "Evaluating:  87%|████████▋ | 1219/1395 [30:35<04:08,  1.41s/it]\u001b[A\n",
      "Evaluating:  87%|████████▋ | 1220/1395 [30:36<04:08,  1.42s/it]\u001b[A\n",
      "Evaluating:  88%|████████▊ | 1221/1395 [30:38<04:44,  1.64s/it]\u001b[A\n",
      "Evaluating:  88%|████████▊ | 1222/1395 [30:40<05:21,  1.86s/it]\u001b[A\n",
      "Evaluating:  88%|████████▊ | 1223/1395 [30:43<05:41,  1.98s/it]\u001b[A\n",
      "Evaluating:  88%|████████▊ | 1224/1395 [30:45<05:55,  2.08s/it]\u001b[A\n",
      "Evaluating:  88%|████████▊ | 1225/1395 [30:47<05:57,  2.10s/it]\u001b[A\n",
      "Evaluating:  88%|████████▊ | 1226/1395 [30:49<05:23,  1.91s/it]\u001b[A\n",
      "Evaluating:  88%|████████▊ | 1227/1395 [30:50<05:00,  1.79s/it]\u001b[A\n",
      "Evaluating:  88%|████████▊ | 1228/1395 [30:52<04:42,  1.69s/it]\u001b[A\n",
      "Evaluating:  88%|████████▊ | 1229/1395 [30:53<04:28,  1.62s/it]\u001b[A\n",
      "Evaluating:  88%|████████▊ | 1230/1395 [30:55<04:20,  1.58s/it]\u001b[A\n",
      "Evaluating:  88%|████████▊ | 1231/1395 [30:56<04:22,  1.60s/it]\u001b[A\n",
      "Evaluating:  88%|████████▊ | 1232/1395 [30:58<04:22,  1.61s/it]\u001b[A\n",
      "Evaluating:  88%|████████▊ | 1233/1395 [30:59<04:21,  1.61s/it]\u001b[A\n",
      "Evaluating:  88%|████████▊ | 1234/1395 [31:01<04:27,  1.66s/it]\u001b[A\n",
      "Evaluating:  89%|████████▊ | 1235/1395 [31:03<04:25,  1.66s/it]\u001b[A\n",
      "Evaluating:  89%|████████▊ | 1236/1395 [31:05<04:25,  1.67s/it]\u001b[A\n",
      "Evaluating:  89%|████████▊ | 1237/1395 [31:06<04:19,  1.64s/it]\u001b[A\n",
      "Evaluating:  89%|████████▊ | 1238/1395 [31:08<04:14,  1.62s/it]\u001b[A\n",
      "Evaluating:  89%|████████▉ | 1239/1395 [31:09<04:14,  1.63s/it]\u001b[A\n",
      "Evaluating:  89%|████████▉ | 1240/1395 [31:11<04:16,  1.65s/it]\u001b[A\n",
      "Evaluating:  89%|████████▉ | 1241/1395 [31:13<04:13,  1.65s/it]\u001b[A\n",
      "Evaluating:  89%|████████▉ | 1242/1395 [31:15<04:18,  1.69s/it]\u001b[A\n",
      "Evaluating:  89%|████████▉ | 1243/1395 [31:16<04:16,  1.68s/it]\u001b[A\n",
      "Evaluating:  89%|████████▉ | 1244/1395 [31:18<04:09,  1.65s/it]\u001b[A\n",
      "Evaluating:  89%|████████▉ | 1245/1395 [31:19<04:04,  1.63s/it]\u001b[A\n",
      "Evaluating:  89%|████████▉ | 1246/1395 [31:21<03:56,  1.59s/it]\u001b[A\n",
      "Evaluating:  89%|████████▉ | 1247/1395 [31:22<03:54,  1.59s/it]\u001b[A\n",
      "Evaluating:  89%|████████▉ | 1248/1395 [31:24<03:51,  1.58s/it]\u001b[A\n",
      "Evaluating:  90%|████████▉ | 1249/1395 [31:26<03:48,  1.57s/it]\u001b[A\n",
      "Evaluating:  90%|████████▉ | 1250/1395 [31:27<03:59,  1.65s/it]\u001b[A\n",
      "Evaluating:  90%|████████▉ | 1251/1395 [31:29<03:52,  1.61s/it]\u001b[A\n",
      "Evaluating:  90%|████████▉ | 1252/1395 [31:30<03:43,  1.57s/it]\u001b[A\n",
      "Evaluating:  90%|████████▉ | 1253/1395 [31:32<03:35,  1.52s/it]\u001b[A\n",
      "Evaluating:  90%|████████▉ | 1254/1395 [31:33<03:27,  1.47s/it]\u001b[A\n",
      "Evaluating:  90%|████████▉ | 1255/1395 [31:35<03:27,  1.48s/it]\u001b[A\n",
      "Evaluating:  90%|█████████ | 1256/1395 [31:36<03:23,  1.46s/it]\u001b[A\n",
      "Evaluating:  90%|█████████ | 1257/1395 [31:37<03:20,  1.45s/it]\u001b[A\n",
      "Evaluating:  90%|█████████ | 1258/1395 [31:39<03:18,  1.45s/it]\u001b[A\n",
      "Evaluating:  90%|█████████ | 1259/1395 [31:40<03:16,  1.44s/it]\u001b[A\n",
      "Evaluating:  90%|█████████ | 1260/1395 [31:42<03:13,  1.43s/it]\u001b[A\n",
      "Evaluating:  90%|█████████ | 1261/1395 [31:43<03:13,  1.44s/it]\u001b[A\n",
      "Evaluating:  90%|█████████ | 1262/1395 [31:45<03:11,  1.44s/it]\u001b[A\n",
      "Evaluating:  91%|█████████ | 1263/1395 [31:46<03:11,  1.45s/it]\u001b[A\n",
      "Evaluating:  91%|█████████ | 1264/1395 [31:48<03:07,  1.43s/it]\u001b[A\n",
      "Evaluating:  91%|█████████ | 1265/1395 [31:49<03:03,  1.41s/it]\u001b[A\n",
      "Evaluating:  91%|█████████ | 1266/1395 [31:50<02:59,  1.39s/it]\u001b[A\n",
      "Evaluating:  91%|█████████ | 1267/1395 [31:52<02:55,  1.37s/it]\u001b[A\n",
      "Evaluating:  91%|█████████ | 1268/1395 [31:53<02:52,  1.36s/it]\u001b[A\n",
      "Evaluating:  91%|█████████ | 1269/1395 [31:54<02:51,  1.36s/it]\u001b[A\n",
      "Evaluating:  91%|█████████ | 1270/1395 [31:56<02:50,  1.37s/it]\u001b[A\n",
      "Evaluating:  91%|█████████ | 1271/1395 [31:57<02:52,  1.39s/it]\u001b[A\n",
      "Evaluating:  91%|█████████ | 1272/1395 [31:58<02:51,  1.39s/it]\u001b[A\n",
      "Evaluating:  91%|█████████▏| 1273/1395 [32:00<02:51,  1.40s/it]\u001b[A\n",
      "Evaluating:  91%|█████████▏| 1274/1395 [32:01<02:49,  1.40s/it]\u001b[A\n",
      "Evaluating:  91%|█████████▏| 1275/1395 [32:03<02:49,  1.41s/it]\u001b[A\n",
      "Evaluating:  91%|█████████▏| 1276/1395 [32:05<03:13,  1.63s/it]\u001b[A\n",
      "Evaluating:  92%|█████████▏| 1277/1395 [32:07<03:32,  1.80s/it]\u001b[A\n",
      "Evaluating:  92%|█████████▏| 1278/1395 [32:09<03:41,  1.89s/it]\u001b[A\n",
      "Evaluating:  92%|█████████▏| 1279/1395 [32:11<03:50,  1.99s/it]\u001b[A\n",
      "Evaluating:  92%|█████████▏| 1280/1395 [32:14<03:55,  2.05s/it]\u001b[A\n",
      "Evaluating:  92%|█████████▏| 1281/1395 [32:15<03:31,  1.85s/it]\u001b[A\n",
      "Evaluating:  92%|█████████▏| 1282/1395 [32:16<03:13,  1.72s/it]\u001b[A\n",
      "Evaluating:  92%|█████████▏| 1283/1395 [32:18<03:07,  1.67s/it]\u001b[A\n",
      "Evaluating:  92%|█████████▏| 1284/1395 [32:19<02:55,  1.58s/it]\u001b[A\n",
      "Evaluating:  92%|█████████▏| 1285/1395 [32:21<02:46,  1.51s/it]\u001b[A\n",
      "Evaluating:  92%|█████████▏| 1286/1395 [32:22<02:39,  1.46s/it]\u001b[A\n",
      "Evaluating:  92%|█████████▏| 1287/1395 [32:23<02:35,  1.44s/it]\u001b[A\n",
      "Evaluating:  92%|█████████▏| 1288/1395 [32:25<02:31,  1.41s/it]\u001b[A\n",
      "Evaluating:  92%|█████████▏| 1289/1395 [32:26<02:29,  1.41s/it]\u001b[A\n",
      "Evaluating:  92%|█████████▏| 1290/1395 [32:28<02:29,  1.43s/it]\u001b[A\n",
      "Evaluating:  93%|█████████▎| 1291/1395 [32:29<02:28,  1.43s/it]\u001b[A\n",
      "Evaluating:  93%|█████████▎| 1292/1395 [32:30<02:28,  1.44s/it]\u001b[A\n",
      "Evaluating:  93%|█████████▎| 1293/1395 [32:32<02:24,  1.42s/it]\u001b[A\n",
      "Evaluating:  93%|█████████▎| 1294/1395 [32:33<02:23,  1.42s/it]\u001b[A\n",
      "Evaluating:  93%|█████████▎| 1295/1395 [32:35<02:22,  1.42s/it]\u001b[A\n",
      "Evaluating:  93%|█████████▎| 1296/1395 [32:36<02:27,  1.49s/it]\u001b[A\n",
      "Evaluating:  93%|█████████▎| 1297/1395 [32:38<02:38,  1.62s/it]\u001b[A\n",
      "Evaluating:  93%|█████████▎| 1298/1395 [32:40<02:48,  1.74s/it]\u001b[A\n",
      "Evaluating:  93%|█████████▎| 1299/1395 [32:42<02:43,  1.71s/it]\u001b[A\n",
      "Evaluating:  93%|█████████▎| 1300/1395 [32:44<02:40,  1.69s/it]\u001b[A\n",
      "Evaluating:  93%|█████████▎| 1301/1395 [32:45<02:36,  1.67s/it]\u001b[A\n",
      "Evaluating:  93%|█████████▎| 1302/1395 [32:47<02:33,  1.65s/it]\u001b[A\n",
      "Evaluating:  93%|█████████▎| 1303/1395 [32:49<02:39,  1.73s/it]\u001b[A\n",
      "Evaluating:  93%|█████████▎| 1304/1395 [32:51<02:48,  1.85s/it]\u001b[A\n",
      "Evaluating:  94%|█████████▎| 1305/1395 [32:53<02:43,  1.82s/it]\u001b[A\n",
      "Evaluating:  94%|█████████▎| 1306/1395 [32:54<02:41,  1.81s/it]\u001b[A\n",
      "Evaluating:  94%|█████████▎| 1307/1395 [32:56<02:37,  1.79s/it]\u001b[A\n",
      "Evaluating:  94%|█████████▍| 1308/1395 [32:58<02:30,  1.73s/it]\u001b[A\n",
      "Evaluating:  94%|█████████▍| 1309/1395 [32:59<02:24,  1.68s/it]\u001b[A\n",
      "Evaluating:  94%|█████████▍| 1310/1395 [33:01<02:18,  1.63s/it]\u001b[A\n",
      "Evaluating:  94%|█████████▍| 1311/1395 [33:02<02:14,  1.61s/it]\u001b[A\n",
      "Evaluating:  94%|█████████▍| 1312/1395 [33:04<02:16,  1.65s/it]\u001b[A\n",
      "Evaluating:  94%|█████████▍| 1313/1395 [33:06<02:15,  1.65s/it]\u001b[A\n",
      "Evaluating:  94%|█████████▍| 1314/1395 [33:08<02:17,  1.69s/it]\u001b[A\n",
      "Evaluating:  94%|█████████▍| 1315/1395 [33:09<02:12,  1.66s/it]\u001b[A\n",
      "Evaluating:  94%|█████████▍| 1316/1395 [33:11<02:08,  1.63s/it]\u001b[A\n",
      "Evaluating:  94%|█████████▍| 1317/1395 [33:12<02:09,  1.66s/it]\u001b[A\n",
      "Evaluating:  94%|█████████▍| 1318/1395 [33:14<02:06,  1.65s/it]\u001b[A\n",
      "Evaluating:  95%|█████████▍| 1319/1395 [33:15<01:59,  1.57s/it]\u001b[A\n",
      "Evaluating:  95%|█████████▍| 1320/1395 [33:17<01:53,  1.52s/it]\u001b[A\n",
      "Evaluating:  95%|█████████▍| 1321/1395 [33:18<01:49,  1.48s/it]\u001b[A\n",
      "Evaluating:  95%|█████████▍| 1322/1395 [33:20<01:46,  1.46s/it]\u001b[A\n",
      "Evaluating:  95%|█████████▍| 1323/1395 [33:21<01:44,  1.45s/it]\u001b[A\n",
      "Evaluating:  95%|█████████▍| 1324/1395 [33:23<01:43,  1.46s/it]\u001b[A\n",
      "Evaluating:  95%|█████████▍| 1325/1395 [33:24<01:42,  1.47s/it]\u001b[A\n",
      "Evaluating:  95%|█████████▌| 1326/1395 [33:26<01:42,  1.49s/it]\u001b[A\n",
      "Evaluating:  95%|█████████▌| 1327/1395 [33:27<01:41,  1.50s/it]\u001b[A\n",
      "Evaluating:  95%|█████████▌| 1328/1395 [33:29<01:39,  1.49s/it]\u001b[A\n",
      "Evaluating:  95%|█████████▌| 1329/1395 [33:30<01:37,  1.48s/it]\u001b[A\n",
      "Evaluating:  95%|█████████▌| 1330/1395 [33:31<01:34,  1.46s/it]\u001b[A\n",
      "Evaluating:  95%|█████████▌| 1331/1395 [33:33<01:33,  1.47s/it]\u001b[A\n",
      "Evaluating:  95%|█████████▌| 1332/1395 [33:35<01:45,  1.68s/it]\u001b[A\n",
      "Evaluating:  96%|█████████▌| 1333/1395 [33:37<01:41,  1.64s/it]\u001b[A\n",
      "Evaluating:  96%|█████████▌| 1334/1395 [33:38<01:36,  1.59s/it]\u001b[A\n",
      "Evaluating:  96%|█████████▌| 1335/1395 [33:39<01:31,  1.53s/it]\u001b[A\n",
      "Evaluating:  96%|█████████▌| 1336/1395 [33:41<01:28,  1.50s/it]\u001b[A\n",
      "Evaluating:  96%|█████████▌| 1337/1395 [33:42<01:25,  1.47s/it]\u001b[A\n",
      "Evaluating:  96%|█████████▌| 1338/1395 [33:44<01:22,  1.45s/it]\u001b[A\n",
      "Evaluating:  96%|█████████▌| 1339/1395 [33:45<01:20,  1.43s/it]\u001b[A\n",
      "Evaluating:  96%|█████████▌| 1340/1395 [33:47<01:18,  1.42s/it]\u001b[A\n",
      "Evaluating:  96%|█████████▌| 1341/1395 [33:48<01:16,  1.42s/it]\u001b[A\n",
      "Evaluating:  96%|█████████▌| 1342/1395 [33:49<01:15,  1.42s/it]\u001b[A\n",
      "Evaluating:  96%|█████████▋| 1343/1395 [33:51<01:15,  1.45s/it]\u001b[A\n",
      "Evaluating:  96%|█████████▋| 1344/1395 [33:52<01:14,  1.47s/it]\u001b[A\n",
      "Evaluating:  96%|█████████▋| 1345/1395 [33:54<01:15,  1.50s/it]\u001b[A\n",
      "Evaluating:  96%|█████████▋| 1346/1395 [33:55<01:12,  1.48s/it]\u001b[A\n",
      "Evaluating:  97%|█████████▋| 1347/1395 [33:57<01:09,  1.44s/it]\u001b[A\n",
      "Evaluating:  97%|█████████▋| 1348/1395 [33:58<01:06,  1.42s/it]\u001b[A\n",
      "Evaluating:  97%|█████████▋| 1349/1395 [33:59<01:04,  1.41s/it]\u001b[A\n",
      "Evaluating:  97%|█████████▋| 1350/1395 [34:01<01:02,  1.39s/it]\u001b[A\n",
      "Evaluating:  97%|█████████▋| 1351/1395 [34:02<01:01,  1.39s/it]\u001b[A\n",
      "Evaluating:  97%|█████████▋| 1352/1395 [34:04<00:59,  1.39s/it]\u001b[A\n",
      "Evaluating:  97%|█████████▋| 1353/1395 [34:05<00:58,  1.38s/it]\u001b[A\n",
      "Evaluating:  97%|█████████▋| 1354/1395 [34:06<00:56,  1.38s/it]\u001b[A\n",
      "Evaluating:  97%|█████████▋| 1355/1395 [34:08<00:54,  1.37s/it]\u001b[A\n",
      "Evaluating:  97%|█████████▋| 1356/1395 [34:09<00:53,  1.37s/it]\u001b[A\n",
      "Evaluating:  97%|█████████▋| 1357/1395 [34:10<00:52,  1.38s/it]\u001b[A\n",
      "Evaluating:  97%|█████████▋| 1358/1395 [34:12<00:51,  1.39s/it]\u001b[A\n",
      "Evaluating:  97%|█████████▋| 1359/1395 [34:13<00:50,  1.39s/it]\u001b[A\n",
      "Evaluating:  97%|█████████▋| 1360/1395 [34:15<00:48,  1.38s/it]\u001b[A\n",
      "Evaluating:  98%|█████████▊| 1361/1395 [34:17<00:52,  1.56s/it]\u001b[A\n",
      "Evaluating:  98%|█████████▊| 1362/1395 [34:20<01:10,  2.13s/it]\u001b[A\n",
      "Evaluating:  98%|█████████▊| 1363/1395 [34:23<01:20,  2.51s/it]\u001b[A\n",
      "Evaluating:  98%|█████████▊| 1364/1395 [34:27<01:28,  2.86s/it]\u001b[A\n",
      "Evaluating:  98%|█████████▊| 1365/1395 [34:31<01:34,  3.13s/it]\u001b[A\n",
      "Evaluating:  98%|█████████▊| 1366/1395 [34:35<01:35,  3.29s/it]\u001b[A\n",
      "Evaluating:  98%|█████████▊| 1367/1395 [34:38<01:36,  3.43s/it]\u001b[A\n",
      "Evaluating:  98%|█████████▊| 1368/1395 [34:42<01:35,  3.53s/it]\u001b[A\n",
      "Evaluating:  98%|█████████▊| 1369/1395 [34:46<01:34,  3.63s/it]\u001b[A\n",
      "Evaluating:  98%|█████████▊| 1370/1395 [34:50<01:30,  3.63s/it]\u001b[A\n",
      "Evaluating:  98%|█████████▊| 1371/1395 [34:52<01:19,  3.30s/it]\u001b[A\n",
      "Evaluating:  98%|█████████▊| 1372/1395 [34:54<01:05,  2.84s/it]\u001b[A\n",
      "Evaluating:  98%|█████████▊| 1373/1395 [34:56<00:57,  2.62s/it]\u001b[A\n",
      "Evaluating:  98%|█████████▊| 1374/1395 [34:58<00:49,  2.38s/it]\u001b[A\n",
      "Evaluating:  99%|█████████▊| 1375/1395 [35:00<00:45,  2.26s/it]\u001b[A\n",
      "Evaluating:  99%|█████████▊| 1376/1395 [35:02<00:40,  2.11s/it]\u001b[A\n",
      "Evaluating:  99%|█████████▊| 1377/1395 [35:03<00:35,  1.99s/it]\u001b[A\n",
      "Evaluating:  99%|█████████▉| 1378/1395 [35:05<00:33,  1.94s/it]\u001b[A\n",
      "Evaluating:  99%|█████████▉| 1379/1395 [35:07<00:29,  1.83s/it]\u001b[A\n",
      "Evaluating:  99%|█████████▉| 1380/1395 [35:08<00:26,  1.75s/it]\u001b[A\n",
      "Evaluating:  99%|█████████▉| 1381/1395 [35:10<00:23,  1.71s/it]\u001b[A\n",
      "Evaluating:  99%|█████████▉| 1382/1395 [35:12<00:23,  1.83s/it]\u001b[A\n",
      "Evaluating:  99%|█████████▉| 1383/1395 [35:14<00:21,  1.77s/it]\u001b[A\n",
      "Evaluating:  99%|█████████▉| 1384/1395 [35:15<00:19,  1.74s/it]\u001b[A\n",
      "Evaluating:  99%|█████████▉| 1385/1395 [35:17<00:17,  1.71s/it]\u001b[A\n",
      "Evaluating:  99%|█████████▉| 1386/1395 [35:18<00:15,  1.67s/it]\u001b[A\n",
      "Evaluating:  99%|█████████▉| 1387/1395 [35:20<00:13,  1.65s/it]\u001b[A\n",
      "Evaluating:  99%|█████████▉| 1388/1395 [35:22<00:11,  1.62s/it]\u001b[A\n",
      "Evaluating: 100%|█████████▉| 1389/1395 [35:23<00:09,  1.66s/it]\u001b[A\n",
      "Evaluating: 100%|█████████▉| 1390/1395 [35:25<00:08,  1.64s/it]\u001b[A\n",
      "Evaluating: 100%|█████████▉| 1391/1395 [35:27<00:06,  1.64s/it]\u001b[A\n",
      "Evaluating: 100%|█████████▉| 1392/1395 [35:28<00:04,  1.60s/it]\u001b[A\n",
      "Evaluating: 100%|█████████▉| 1393/1395 [35:30<00:03,  1.67s/it]\u001b[A\n",
      "Evaluating: 100%|█████████▉| 1394/1395 [35:32<00:01,  1.71s/it]\u001b[A\n",
      "Evaluating: 100%|██████████| 1395/1395 [35:33<00:00,  1.53s/it]\u001b[A"
     ]
    },
    {
     "name": "stdout",
     "output_type": "stream",
     "text": [
      "\n",
      "Evaluation Results:\n",
      "Average BLEU-4: 0.0388\n",
      "Average ROUGE-L: 0.3519\n",
      "Average BERTScore Precision: 0.4814\n",
      "Average BERTScore Recall: 0.4711\n",
      "Average BERTScore F1: 0.4757\n"
     ]
    },
    {
     "name": "stderr",
     "output_type": "stream",
     "text": [
      "\n"
     ]
    }
   ],
   "source": [
    "# Run evaluation\n",
    "print(f\"Evaluating on device: {device}\")\n",
    "results = evaluate_model(model, test_loader, vocab, inv_vocab)"
   ]
  }
 ],
 "metadata": {
  "kaggle": {
   "accelerator": "none",
   "dataSources": [
    {
     "datasetId": 7285253,
     "sourceId": 11614120,
     "sourceType": "datasetVersion"
    },
    {
     "isSourceIdPinned": true,
     "modelId": 322868,
     "modelInstanceId": 302373,
     "sourceId": 364427,
     "sourceType": "modelInstanceVersion"
    }
   ],
   "dockerImageVersionId": 31012,
   "isGpuEnabled": false,
   "isInternetEnabled": true,
   "language": "python",
   "sourceType": "notebook"
  },
  "kernelspec": {
   "display_name": "us-capydata-visportic",
   "language": "python",
   "name": "python3"
  },
  "language_info": {
   "codemirror_mode": {
    "name": "ipython",
    "version": 3
   },
   "file_extension": ".py",
   "mimetype": "text/x-python",
   "name": "python",
   "nbconvert_exporter": "python",
   "pygments_lexer": "ipython3",
   "version": "3.10.17"
  }
 },
 "nbformat": 4,
 "nbformat_minor": 4
}
